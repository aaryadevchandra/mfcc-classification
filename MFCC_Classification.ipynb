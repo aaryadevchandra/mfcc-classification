{
  "nbformat": 4,
  "nbformat_minor": 0,
  "metadata": {
    "colab": {
      "provenance": [],
      "machine_shape": "hm",
      "gpuType": "V28"
    },
    "kernelspec": {
      "name": "python3",
      "display_name": "Python 3"
    },
    "language_info": {
      "name": "python"
    },
    "accelerator": "TPU"
  },
  "cells": [
    {
      "cell_type": "code",
      "execution_count": 2,
      "metadata": {
        "id": "-GHlZrWxgTt-"
      },
      "outputs": [],
      "source": [
        "import torch\n",
        "from torch import nn\n",
        "import numpy as np\n",
        "import matplotlib.pyplot as plt\n",
        "import pandas as pd\n",
        "import glob\n",
        "import librosa"
      ]
    },
    {
      "cell_type": "code",
      "source": [
        "from google.colab import drive\n",
        "drive.mount('/content/drive')"
      ],
      "metadata": {
        "colab": {
          "base_uri": "https://localhost:8080/"
        },
        "id": "EeE27vixgXYS",
        "outputId": "75fae125-ec9c-4830-bab0-06e7db8c69df"
      },
      "execution_count": 3,
      "outputs": [
        {
          "output_type": "stream",
          "name": "stdout",
          "text": [
            "Mounted at /content/drive\n"
          ]
        }
      ]
    },
    {
      "cell_type": "code",
      "source": [
        "# prompt: unzip file named Animals.zip\n",
        "\n",
        "!unzip /content/drive/MyDrive/learning\\ machine\\ learning/Animals.zip\n"
      ],
      "metadata": {
        "colab": {
          "base_uri": "https://localhost:8080/"
        },
        "collapsed": true,
        "id": "ub7v-nnGgY6o",
        "outputId": "4f0433b8-792a-442c-a273-3a948e45895e"
      },
      "execution_count": 4,
      "outputs": [
        {
          "output_type": "stream",
          "name": "stdout",
          "text": [
            "Archive:  /content/drive/MyDrive/learning machine learning/Animals.zip\n",
            "   creating: Animals/\n",
            "  inflating: __MACOSX/._Animals      \n",
            "   creating: Animals/cat/\n",
            "  inflating: __MACOSX/Animals/._cat  \n",
            "  inflating: Animals/audio.ipynb     \n",
            "  inflating: __MACOSX/Animals/._audio.ipynb  \n",
            "  inflating: Animals/.DS_Store       \n",
            "  inflating: __MACOSX/Animals/._.DS_Store  \n",
            "   creating: Animals/dog/\n",
            "  inflating: __MACOSX/Animals/._dog  \n",
            "   creating: Animals/bird/\n",
            "  inflating: __MACOSX/Animals/._bird  \n",
            "   creating: Animals/.ipynb_checkpoints/\n",
            "  inflating: __MACOSX/Animals/._.ipynb_checkpoints  \n",
            "  inflating: Animals/cat/e3e49931_nohash_0.wav  \n",
            "  inflating: __MACOSX/Animals/cat/._e3e49931_nohash_0.wav  \n",
            "  inflating: Animals/cat/69f609ec_nohash_0.wav  \n",
            "  inflating: __MACOSX/Animals/cat/._69f609ec_nohash_0.wav  \n",
            "  inflating: Animals/cat/5c8af87a_nohash_0.wav  \n",
            "  inflating: __MACOSX/Animals/cat/._5c8af87a_nohash_0.wav  \n",
            "  inflating: Animals/cat/84bf12ff_nohash_0.wav  \n",
            "  inflating: __MACOSX/Animals/cat/._84bf12ff_nohash_0.wav  \n",
            "  inflating: Animals/cat/64f83f0e_nohash_0.wav  \n",
            "  inflating: __MACOSX/Animals/cat/._64f83f0e_nohash_0.wav  \n",
            "  inflating: Animals/cat/c08e5058_nohash_2.wav  \n",
            "  inflating: __MACOSX/Animals/cat/._c08e5058_nohash_2.wav  \n",
            "  inflating: Animals/cat/850e2222_nohash_0.wav  \n",
            "  inflating: __MACOSX/Animals/cat/._850e2222_nohash_0.wav  \n",
            "  inflating: Animals/cat/ce9410da_nohash_0.wav  \n",
            "  inflating: __MACOSX/Animals/cat/._ce9410da_nohash_0.wav  \n",
            "  inflating: Animals/cat/ae04cdbe_nohash_0.wav  \n",
            "  inflating: __MACOSX/Animals/cat/._ae04cdbe_nohash_0.wav  \n",
            "  inflating: Animals/cat/bf4af1af_nohash_0.wav  \n",
            "  inflating: __MACOSX/Animals/cat/._bf4af1af_nohash_0.wav  \n",
            "  inflating: Animals/cat/e57abea3_nohash_1.wav  \n",
            "  inflating: __MACOSX/Animals/cat/._e57abea3_nohash_1.wav  \n",
            "  inflating: Animals/cat/dd086776_nohash_0.wav  \n",
            "  inflating: __MACOSX/Animals/cat/._dd086776_nohash_0.wav  \n",
            "  inflating: Animals/cat/a5609cce_nohash_1.wav  \n",
            "  inflating: __MACOSX/Animals/cat/._a5609cce_nohash_1.wav  \n",
            "  inflating: Animals/cat/409c962a_nohash_0.wav  \n",
            "  inflating: __MACOSX/Animals/cat/._409c962a_nohash_0.wav  \n",
            "  inflating: Animals/cat/2a0b413e_nohash_0.wav  \n",
            "  inflating: __MACOSX/Animals/cat/._2a0b413e_nohash_0.wav  \n",
            "  inflating: Animals/cat/325a0c39_nohash_1.wav  \n",
            "  inflating: __MACOSX/Animals/cat/._325a0c39_nohash_1.wav  \n",
            "  inflating: Animals/cat/b8872c20_nohash_0.wav  \n",
            "  inflating: __MACOSX/Animals/cat/._b8872c20_nohash_0.wav  \n",
            "  inflating: Animals/cat/f4386675_nohash_1.wav  \n",
            "  inflating: __MACOSX/Animals/cat/._f4386675_nohash_1.wav  \n",
            "  inflating: Animals/cat/171b56dc_nohash_0.wav  \n",
            "  inflating: __MACOSX/Animals/cat/._171b56dc_nohash_0.wav  \n",
            "  inflating: Animals/cat/fb24c826_nohash_0.wav  \n",
            "  inflating: __MACOSX/Animals/cat/._fb24c826_nohash_0.wav  \n",
            "  inflating: Animals/cat/6794a793_nohash_0.wav  \n",
            "  inflating: __MACOSX/Animals/cat/._6794a793_nohash_0.wav  \n",
            "  inflating: Animals/cat/b36c27c2_nohash_0.wav  \n",
            "  inflating: __MACOSX/Animals/cat/._b36c27c2_nohash_0.wav  \n",
            "  inflating: Animals/cat/bc065a17_nohash_0.wav  \n",
            "  inflating: __MACOSX/Animals/cat/._bc065a17_nohash_0.wav  \n",
            "  inflating: Animals/cat/e9287461_nohash_1.wav  \n",
            "  inflating: __MACOSX/Animals/cat/._e9287461_nohash_1.wav  \n",
            "  inflating: Animals/cat/d6360b32_nohash_1.wav  \n",
            "  inflating: __MACOSX/Animals/cat/._d6360b32_nohash_1.wav  \n",
            "  inflating: Animals/cat/4422e51d_nohash_1.wav  \n",
            "  inflating: __MACOSX/Animals/cat/._4422e51d_nohash_1.wav  \n",
            "  inflating: Animals/cat/af130f12_nohash_1.wav  \n",
            "  inflating: __MACOSX/Animals/cat/._af130f12_nohash_1.wav  \n",
            "  inflating: Animals/cat/095847e4_nohash_0.wav  \n",
            "  inflating: __MACOSX/Animals/cat/._095847e4_nohash_0.wav  \n",
            "  inflating: Animals/cat/afe0b87d_nohash_0.wav  \n",
            "  inflating: __MACOSX/Animals/cat/._afe0b87d_nohash_0.wav  \n",
            "  inflating: Animals/cat/5e3b7a84_nohash_1.wav  \n",
            "  inflating: __MACOSX/Animals/cat/._5e3b7a84_nohash_1.wav  \n",
            "  inflating: Animals/cat/d57febf0_nohash_2.wav  \n",
            "  inflating: __MACOSX/Animals/cat/._d57febf0_nohash_2.wav  \n",
            "  inflating: Animals/cat/f8ad3941_nohash_0.wav  \n",
            "  inflating: __MACOSX/Animals/cat/._f8ad3941_nohash_0.wav  \n",
            "  inflating: Animals/cat/89865a6f_nohash_1.wav  \n",
            "  inflating: __MACOSX/Animals/cat/._89865a6f_nohash_1.wav  \n",
            "  inflating: Animals/cat/22aa3665_nohash_0.wav  \n",
            "  inflating: __MACOSX/Animals/cat/._22aa3665_nohash_0.wav  \n",
            "  inflating: Animals/cat/8335f893_nohash_0.wav  \n",
            "  inflating: __MACOSX/Animals/cat/._8335f893_nohash_0.wav  \n",
            "  inflating: Animals/cat/e71b4ce6_nohash_1.wav  \n",
            "  inflating: __MACOSX/Animals/cat/._e71b4ce6_nohash_1.wav  \n",
            "  inflating: Animals/cat/ba676390_nohash_1.wav  \n",
            "  inflating: __MACOSX/Animals/cat/._ba676390_nohash_1.wav  \n",
            "  inflating: Animals/cat/99081f4d_nohash_1.wav  \n",
            "  inflating: __MACOSX/Animals/cat/._99081f4d_nohash_1.wav  \n",
            "  inflating: Animals/cat/6cf5459b_nohash_1.wav  \n",
            "  inflating: __MACOSX/Animals/cat/._6cf5459b_nohash_1.wav  \n",
            "  inflating: Animals/cat/efbc3952_nohash_0.wav  \n",
            "  inflating: __MACOSX/Animals/cat/._efbc3952_nohash_0.wav  \n",
            "  inflating: Animals/cat/471a0925_nohash_0.wav  \n",
            "  inflating: __MACOSX/Animals/cat/._471a0925_nohash_0.wav  \n",
            "  inflating: Animals/cat/fbf3dd31_nohash_1.wav  \n",
            "  inflating: __MACOSX/Animals/cat/._fbf3dd31_nohash_1.wav  \n",
            "  inflating: Animals/cat/39a6b995_nohash_0.wav  \n",
            "  inflating: __MACOSX/Animals/cat/._39a6b995_nohash_0.wav  \n",
            "  inflating: Animals/cat/3a182c98_nohash_0.wav  \n",
            "  inflating: __MACOSX/Animals/cat/._3a182c98_nohash_0.wav  \n",
            "  inflating: Animals/cat/2903efb3_nohash_0.wav  \n",
            "  inflating: __MACOSX/Animals/cat/._2903efb3_nohash_0.wav  \n",
            "  inflating: Animals/cat/cb802c63_nohash_0.wav  \n",
            "  inflating: __MACOSX/Animals/cat/._cb802c63_nohash_0.wav  \n",
            "  inflating: Animals/cat/888a0c49_nohash_0.wav  \n",
            "  inflating: __MACOSX/Animals/cat/._888a0c49_nohash_0.wav  \n",
            "  inflating: Animals/cat/981e2a16_nohash_0.wav  \n",
            "  inflating: __MACOSX/Animals/cat/._981e2a16_nohash_0.wav  \n",
            "  inflating: Animals/cat/4bb1244f_nohash_0.wav  \n",
            "  inflating: __MACOSX/Animals/cat/._4bb1244f_nohash_0.wav  \n",
            "  inflating: Animals/cat/89f680f3_nohash_0.wav  \n",
            "  inflating: __MACOSX/Animals/cat/._89f680f3_nohash_0.wav  \n",
            "  inflating: Animals/cat/4c4d2526_nohash_1.wav  \n",
            "  inflating: __MACOSX/Animals/cat/._4c4d2526_nohash_1.wav  \n",
            "  inflating: Animals/cat/c103a2d5_nohash_2.wav  \n",
            "  inflating: __MACOSX/Animals/cat/._c103a2d5_nohash_2.wav  \n",
            "  inflating: Animals/cat/53458368_nohash_0.wav  \n",
            "  inflating: __MACOSX/Animals/cat/._53458368_nohash_0.wav  \n",
            "  inflating: Animals/cat/78102205_nohash_0.wav  \n",
            "  inflating: __MACOSX/Animals/cat/._78102205_nohash_0.wav  \n",
            "  inflating: Animals/cat/e14d3db8_nohash_0.wav  \n",
            "  inflating: __MACOSX/Animals/cat/._e14d3db8_nohash_0.wav  \n",
            "  inflating: Animals/cat/b59fe16d_nohash_1.wav  \n",
            "  inflating: __MACOSX/Animals/cat/._b59fe16d_nohash_1.wav  \n",
            "  inflating: Animals/cat/682e1687_nohash_0.wav  \n",
            "  inflating: __MACOSX/Animals/cat/._682e1687_nohash_0.wav  \n",
            "  inflating: Animals/cat/518588b6_nohash_0.wav  \n",
            "  inflating: __MACOSX/Animals/cat/._518588b6_nohash_0.wav  \n",
            "  inflating: Animals/cat/32561e9e_nohash_0.wav  \n",
            "  inflating: __MACOSX/Animals/cat/._32561e9e_nohash_0.wav  \n",
            "  inflating: Animals/cat/97e0c576_nohash_1.wav  \n",
            "  inflating: __MACOSX/Animals/cat/._97e0c576_nohash_1.wav  \n",
            "  inflating: Animals/cat/1bc45db9_nohash_1.wav  \n",
            "  inflating: __MACOSX/Animals/cat/._1bc45db9_nohash_1.wav  \n",
            "  inflating: Animals/cat/364f979f_nohash_0.wav  \n",
            "  inflating: __MACOSX/Animals/cat/._364f979f_nohash_0.wav  \n",
            "  inflating: Animals/cat/f17be97f_nohash_0.wav  \n",
            "  inflating: __MACOSX/Animals/cat/._f17be97f_nohash_0.wav  \n",
            "  inflating: Animals/cat/9f7079fe_nohash_1.wav  \n",
            "  inflating: __MACOSX/Animals/cat/._9f7079fe_nohash_1.wav  \n",
            "  inflating: Animals/cat/11860c84_nohash_0.wav  \n",
            "  inflating: __MACOSX/Animals/cat/._11860c84_nohash_0.wav  \n",
            "  inflating: Animals/cat/bfa63751_nohash_0.wav  \n",
            "  inflating: __MACOSX/Animals/cat/._bfa63751_nohash_0.wav  \n",
            "  inflating: Animals/cat/9c06a3f3_nohash_0.wav  \n",
            "  inflating: __MACOSX/Animals/cat/._9c06a3f3_nohash_0.wav  \n",
            "  inflating: Animals/cat/d9ae8983_nohash_0.wav  \n",
            "  inflating: __MACOSX/Animals/cat/._d9ae8983_nohash_0.wav  \n",
            "  inflating: Animals/cat/ed3c2d05_nohash_0.wav  \n",
            "  inflating: __MACOSX/Animals/cat/._ed3c2d05_nohash_0.wav  \n",
            "  inflating: Animals/cat/1bc45db9_nohash_0.wav  \n",
            "  inflating: __MACOSX/Animals/cat/._1bc45db9_nohash_0.wav  \n",
            "  inflating: Animals/cat/66cff190_nohash_0.wav  \n",
            "  inflating: __MACOSX/Animals/cat/._66cff190_nohash_0.wav  \n",
            "  inflating: Animals/cat/d933bf5e_nohash_2.wav  \n",
            "  inflating: __MACOSX/Animals/cat/._d933bf5e_nohash_2.wav  \n",
            "  inflating: Animals/cat/dce5041a_nohash_0.wav  \n",
            "  inflating: __MACOSX/Animals/cat/._dce5041a_nohash_0.wav  \n",
            "  inflating: Animals/cat/95218ce8_nohash_0.wav  \n",
            "  inflating: __MACOSX/Animals/cat/._95218ce8_nohash_0.wav  \n",
            "  inflating: Animals/cat/bbd0bbd0_nohash_0.wav  \n",
            "  inflating: __MACOSX/Animals/cat/._bbd0bbd0_nohash_0.wav  \n",
            "  inflating: Animals/cat/db9d52d2_nohash_0.wav  \n",
            "  inflating: __MACOSX/Animals/cat/._db9d52d2_nohash_0.wav  \n",
            "  inflating: Animals/cat/b3bdded5_nohash_0.wav  \n",
            "  inflating: __MACOSX/Animals/cat/._b3bdded5_nohash_0.wav  \n",
            "  inflating: Animals/cat/571c044e_nohash_0.wav  \n",
            "  inflating: __MACOSX/Animals/cat/._571c044e_nohash_0.wav  \n",
            "  inflating: Animals/cat/4ca37738_nohash_0.wav  \n",
            "  inflating: __MACOSX/Animals/cat/._4ca37738_nohash_0.wav  \n",
            "  inflating: Animals/cat/a996cf66_nohash_0.wav  \n",
            "  inflating: __MACOSX/Animals/cat/._a996cf66_nohash_0.wav  \n",
            "  inflating: Animals/cat/62ef962d_nohash_0.wav  \n",
            "  inflating: __MACOSX/Animals/cat/._62ef962d_nohash_0.wav  \n",
            "  inflating: Animals/cat/d71ad617_nohash_0.wav  \n",
            "  inflating: __MACOSX/Animals/cat/._d71ad617_nohash_0.wav  \n",
            "  inflating: Animals/cat/00f0204f_nohash_2.wav  \n",
            "  inflating: __MACOSX/Animals/cat/._00f0204f_nohash_2.wav  \n",
            "  inflating: Animals/cat/29fb33da_nohash_0.wav  \n",
            "  inflating: __MACOSX/Animals/cat/._29fb33da_nohash_0.wav  \n",
            "  inflating: Animals/cat/6c2dd2d5_nohash_0.wav  \n",
            "  inflating: __MACOSX/Animals/cat/._6c2dd2d5_nohash_0.wav  \n",
            "  inflating: Animals/cat/90b94017_nohash_0.wav  \n",
            "  inflating: __MACOSX/Animals/cat/._90b94017_nohash_0.wav  \n",
            "  inflating: Animals/cat/b21f0fa4_nohash_1.wav  \n",
            "  inflating: __MACOSX/Animals/cat/._b21f0fa4_nohash_1.wav  \n",
            "  inflating: Animals/cat/a1dd919f_nohash_0.wav  \n",
            "  inflating: __MACOSX/Animals/cat/._a1dd919f_nohash_0.wav  \n",
            "  inflating: Animals/cat/3cbd76a3_nohash_0.wav  \n",
            "  inflating: __MACOSX/Animals/cat/._3cbd76a3_nohash_0.wav  \n",
            "  inflating: Animals/cat/2a89ad5c_nohash_0.wav  \n",
            "  inflating: __MACOSX/Animals/cat/._2a89ad5c_nohash_0.wav  \n",
            "  inflating: Animals/cat/b93528e3_nohash_0.wav  \n",
            "  inflating: __MACOSX/Animals/cat/._b93528e3_nohash_0.wav  \n",
            "  inflating: Animals/cat/d5c41d6a_nohash_0.wav  \n",
            "  inflating: __MACOSX/Animals/cat/._d5c41d6a_nohash_0.wav  \n",
            "  inflating: Animals/cat/9f869f70_nohash_1.wav  \n",
            "  inflating: __MACOSX/Animals/cat/._9f869f70_nohash_1.wav  \n",
            "  inflating: Animals/cat/172dc2b0_nohash_0.wav  \n",
            "  inflating: __MACOSX/Animals/cat/._172dc2b0_nohash_0.wav  \n",
            "  inflating: Animals/cat/a4b21cbc_nohash_1.wav  \n",
            "  inflating: __MACOSX/Animals/cat/._a4b21cbc_nohash_1.wav  \n",
            "  inflating: Animals/cat/bcdaa7a9_nohash_2.wav  \n",
            "  inflating: __MACOSX/Animals/cat/._bcdaa7a9_nohash_2.wav  \n",
            "  inflating: Animals/cat/dabd70c2_nohash_0.wav  \n",
            "  inflating: __MACOSX/Animals/cat/._dabd70c2_nohash_0.wav  \n",
            "  inflating: Animals/cat/863880b7_nohash_1.wav  \n",
            "  inflating: __MACOSX/Animals/cat/._863880b7_nohash_1.wav  \n",
            "  inflating: Animals/cat/0f7dc557_nohash_0.wav  \n",
            "  inflating: __MACOSX/Animals/cat/._0f7dc557_nohash_0.wav  \n",
            "  inflating: Animals/cat/03cf93b1_nohash_0.wav  \n",
            "  inflating: __MACOSX/Animals/cat/._03cf93b1_nohash_0.wav  \n",
            "  inflating: Animals/cat/ee4a907f_nohash_1.wav  \n",
            "  inflating: __MACOSX/Animals/cat/._ee4a907f_nohash_1.wav  \n",
            "  inflating: Animals/cat/ad1429cf_nohash_0.wav  \n",
            "  inflating: __MACOSX/Animals/cat/._ad1429cf_nohash_0.wav  \n",
            "  inflating: Animals/cat/ce49cb60_nohash_0.wav  \n",
            "  inflating: __MACOSX/Animals/cat/._ce49cb60_nohash_0.wav  \n",
            "  inflating: Animals/cat/f632210f_nohash_1.wav  \n",
            "  inflating: __MACOSX/Animals/cat/._f632210f_nohash_1.wav  \n",
            "  inflating: Animals/cat/3bc21161_nohash_0.wav  \n",
            "  inflating: __MACOSX/Animals/cat/._3bc21161_nohash_0.wav  \n",
            "  inflating: Animals/cat/c120e80e_nohash_0.wav  \n",
            "  inflating: __MACOSX/Animals/cat/._c120e80e_nohash_0.wav  \n",
            "  inflating: Animals/cat/4249c833_nohash_1.wav  \n",
            "  inflating: __MACOSX/Animals/cat/._4249c833_nohash_1.wav  \n",
            "  inflating: Animals/cat/c120e80e_nohash_1.wav  \n",
            "  inflating: __MACOSX/Animals/cat/._c120e80e_nohash_1.wav  \n",
            "  inflating: Animals/cat/f2a90886_nohash_0.wav  \n",
            "  inflating: __MACOSX/Animals/cat/._f2a90886_nohash_0.wav  \n",
            "  inflating: Animals/cat/bca56796_nohash_0.wav  \n",
            "  inflating: __MACOSX/Animals/cat/._bca56796_nohash_0.wav  \n",
            "  inflating: Animals/cat/a8cf01bc_nohash_1.wav  \n",
            "  inflating: __MACOSX/Animals/cat/._a8cf01bc_nohash_1.wav  \n",
            "  inflating: Animals/cat/e7117d00_nohash_0.wav  \n",
            "  inflating: __MACOSX/Animals/cat/._e7117d00_nohash_0.wav  \n",
            "  inflating: Animals/cat/748cb308_nohash_0.wav  \n",
            "  inflating: __MACOSX/Animals/cat/._748cb308_nohash_0.wav  \n",
            "  inflating: Animals/cat/784e281a_nohash_0.wav  \n",
            "  inflating: __MACOSX/Animals/cat/._784e281a_nohash_0.wav  \n",
            "  inflating: Animals/cat/7ff4fc72_nohash_1.wav  \n",
            "  inflating: __MACOSX/Animals/cat/._7ff4fc72_nohash_1.wav  \n",
            "  inflating: Animals/cat/72aa7259_nohash_0.wav  \n",
            "  inflating: __MACOSX/Animals/cat/._72aa7259_nohash_0.wav  \n",
            "  inflating: Animals/cat/5a3712c9_nohash_2.wav  \n",
            "  inflating: __MACOSX/Animals/cat/._5a3712c9_nohash_2.wav  \n",
            "  inflating: Animals/cat/86cb59b2_nohash_0.wav  \n",
            "  inflating: __MACOSX/Animals/cat/._86cb59b2_nohash_0.wav  \n",
            "  inflating: Animals/cat/3ac2e76f_nohash_0.wav  \n",
            "  inflating: __MACOSX/Animals/cat/._3ac2e76f_nohash_0.wav  \n",
            "  inflating: Animals/cat/7fa5fa1f_nohash_0.wav  \n",
            "  inflating: __MACOSX/Animals/cat/._7fa5fa1f_nohash_0.wav  \n",
            "  inflating: Animals/cat/48e8b82a_nohash_0.wav  \n",
            "  inflating: __MACOSX/Animals/cat/._48e8b82a_nohash_0.wav  \n",
            "  inflating: Animals/cat/89ed36ab_nohash_0.wav  \n",
            "  inflating: __MACOSX/Animals/cat/._89ed36ab_nohash_0.wav  \n",
            "  inflating: Animals/cat/096456f9_nohash_0.wav  \n",
            "  inflating: __MACOSX/Animals/cat/._096456f9_nohash_0.wav  \n",
            "  inflating: Animals/cat/f5733968_nohash_0.wav  \n",
            "  inflating: __MACOSX/Animals/cat/._f5733968_nohash_0.wav  \n",
            "  inflating: Animals/cat/8bbd98d0_nohash_0.wav  \n",
            "  inflating: __MACOSX/Animals/cat/._8bbd98d0_nohash_0.wav  \n",
            "  inflating: Animals/cat/1657c9fa_nohash_0.wav  \n",
            "  inflating: __MACOSX/Animals/cat/._1657c9fa_nohash_0.wav  \n",
            "  inflating: Animals/cat/16db1582_nohash_1.wav  \n",
            "  inflating: __MACOSX/Animals/cat/._16db1582_nohash_1.wav  \n",
            "  inflating: Animals/cat/65d14087_nohash_0.wav  \n",
            "  inflating: __MACOSX/Animals/cat/._65d14087_nohash_0.wav  \n",
            "  inflating: Animals/cat/5aac2efa_nohash_0.wav  \n",
            "  inflating: __MACOSX/Animals/cat/._5aac2efa_nohash_0.wav  \n",
            "  inflating: Animals/cat/cd85758f_nohash_0.wav  \n",
            "  inflating: __MACOSX/Animals/cat/._cd85758f_nohash_0.wav  \n",
            "  inflating: Animals/cat/7c9b43f0_nohash_1.wav  \n",
            "  inflating: __MACOSX/Animals/cat/._7c9b43f0_nohash_1.wav  \n",
            "  inflating: Animals/cat/5d0ab165_nohash_0.wav  \n",
            "  inflating: __MACOSX/Animals/cat/._5d0ab165_nohash_0.wav  \n",
            "  inflating: Animals/cat/7f17667c_nohash_3.wav  \n",
            "  inflating: __MACOSX/Animals/cat/._7f17667c_nohash_3.wav  \n",
            "  inflating: Animals/cat/b00dff7e_nohash_1.wav  \n",
            "  inflating: __MACOSX/Animals/cat/._b00dff7e_nohash_1.wav  \n",
            "  inflating: Animals/cat/87014d40_nohash_2.wav  \n",
            "  inflating: __MACOSX/Animals/cat/._87014d40_nohash_2.wav  \n",
            "  inflating: Animals/cat/38c30a4a_nohash_0.wav  \n",
            "  inflating: __MACOSX/Animals/cat/._38c30a4a_nohash_0.wav  \n",
            "  inflating: Animals/cat/34805883_nohash_1.wav  \n",
            "  inflating: __MACOSX/Animals/cat/._34805883_nohash_1.wav  \n",
            "  inflating: Animals/cat/4abefdf5_nohash_0.wav  \n",
            "  inflating: __MACOSX/Animals/cat/._4abefdf5_nohash_0.wav  \n",
            "  inflating: Animals/cat/d0426d63_nohash_0.wav  \n",
            "  inflating: __MACOSX/Animals/cat/._d0426d63_nohash_0.wav  \n",
            "  inflating: Animals/cat/e53139ad_nohash_0.wav  \n",
            "  inflating: __MACOSX/Animals/cat/._e53139ad_nohash_0.wav  \n",
            "  inflating: Animals/cat/fa446c16_nohash_0.wav  \n",
            "  inflating: __MACOSX/Animals/cat/._fa446c16_nohash_0.wav  \n",
            "  inflating: Animals/cat/be7a5b2d_nohash_0.wav  \n",
            "  inflating: __MACOSX/Animals/cat/._be7a5b2d_nohash_0.wav  \n",
            "  inflating: Animals/cat/a13e0a74_nohash_0.wav  \n",
            "  inflating: __MACOSX/Animals/cat/._a13e0a74_nohash_0.wav  \n",
            "  inflating: Animals/cat/8c7c9168_nohash_2.wav  \n",
            "  inflating: __MACOSX/Animals/cat/._8c7c9168_nohash_2.wav  \n",
            "  inflating: Animals/cat/1a9afd33_nohash_0.wav  \n",
            "  inflating: __MACOSX/Animals/cat/._1a9afd33_nohash_0.wav  \n",
            "  inflating: Animals/cat/650daf8e_nohash_1.wav  \n",
            "  inflating: __MACOSX/Animals/cat/._650daf8e_nohash_1.wav  \n",
            "  inflating: Animals/cat/fe1916ba_nohash_0.wav  \n",
            "  inflating: __MACOSX/Animals/cat/._fe1916ba_nohash_0.wav  \n",
            "  inflating: Animals/cat/81a345a3_nohash_0.wav  \n",
            "  inflating: __MACOSX/Animals/cat/._81a345a3_nohash_0.wav  \n",
            "  inflating: Animals/cat/ab5ae445_nohash_1.wav  \n",
            "  inflating: __MACOSX/Animals/cat/._ab5ae445_nohash_1.wav  \n",
            "  inflating: Animals/cat/cc3d1613_nohash_3.wav  \n",
            "  inflating: __MACOSX/Animals/cat/._cc3d1613_nohash_3.wav  \n",
            "  inflating: Animals/cat/0e5193e6_nohash_0.wav  \n",
            "  inflating: __MACOSX/Animals/cat/._0e5193e6_nohash_0.wav  \n",
            "  inflating: Animals/cat/35c8fa78_nohash_1.wav  \n",
            "  inflating: __MACOSX/Animals/cat/._35c8fa78_nohash_1.wav  \n",
            "  inflating: Animals/cat/9d171fee_nohash_0.wav  \n",
            "  inflating: __MACOSX/Animals/cat/._9d171fee_nohash_0.wav  \n",
            "  inflating: Animals/cat/bfdb9801_nohash_0.wav  \n",
            "  inflating: __MACOSX/Animals/cat/._bfdb9801_nohash_0.wav  \n",
            "  inflating: Animals/cat/2da58b32_nohash_0.wav  \n",
            "  inflating: __MACOSX/Animals/cat/._2da58b32_nohash_0.wav  \n",
            "  inflating: Animals/cat/99a9b015_nohash_0.wav  \n",
            "  inflating: __MACOSX/Animals/cat/._99a9b015_nohash_0.wav  \n",
            "  inflating: Animals/cat/2aa787cf_nohash_2.wav  \n",
            "  inflating: __MACOSX/Animals/cat/._2aa787cf_nohash_2.wav  \n",
            "  inflating: Animals/cat/ffbb695d_nohash_0.wav  \n",
            "  inflating: __MACOSX/Animals/cat/._ffbb695d_nohash_0.wav  \n",
            "  inflating: Animals/cat/96c66ab7_nohash_2.wav  \n",
            "  inflating: __MACOSX/Animals/cat/._96c66ab7_nohash_2.wav  \n",
            "  inflating: Animals/cat/33b5516a_nohash_0.wav  \n",
            "  inflating: __MACOSX/Animals/cat/._33b5516a_nohash_0.wav  \n",
            "  inflating: Animals/cat/66774579_nohash_0.wav  \n",
            "  inflating: __MACOSX/Animals/cat/._66774579_nohash_0.wav  \n",
            "  inflating: Animals/cat/83957201_nohash_1.wav  \n",
            "  inflating: __MACOSX/Animals/cat/._83957201_nohash_1.wav  \n",
            "  inflating: Animals/cat/380abbad_nohash_0.wav  \n",
            "  inflating: __MACOSX/Animals/cat/._380abbad_nohash_0.wav  \n",
            "  inflating: Animals/cat/4620dc14_nohash_0.wav  \n",
            "  inflating: __MACOSX/Animals/cat/._4620dc14_nohash_0.wav  \n",
            "  inflating: Animals/cat/a902ce9b_nohash_0.wav  \n",
            "  inflating: __MACOSX/Animals/cat/._a902ce9b_nohash_0.wav  \n",
            "  inflating: Animals/cat/13199b79_nohash_1.wav  \n",
            "  inflating: __MACOSX/Animals/cat/._13199b79_nohash_1.wav  \n",
            "  inflating: Animals/cat/57b68383_nohash_0.wav  \n",
            "  inflating: __MACOSX/Animals/cat/._57b68383_nohash_0.wav  \n",
            "  inflating: Animals/cat/179a61b7_nohash_0.wav  \n",
            "  inflating: __MACOSX/Animals/cat/._179a61b7_nohash_0.wav  \n",
            "  inflating: Animals/cat/b12bef84_nohash_0.wav  \n",
            "  inflating: __MACOSX/Animals/cat/._b12bef84_nohash_0.wav  \n",
            "  inflating: Animals/cat/b2fbe484_nohash_1.wav  \n",
            "  inflating: __MACOSX/Animals/cat/._b2fbe484_nohash_1.wav  \n",
            "  inflating: Animals/cat/73f0c1f7_nohash_1.wav  \n",
            "  inflating: __MACOSX/Animals/cat/._73f0c1f7_nohash_1.wav  \n",
            "  inflating: Animals/cat/f6617a86_nohash_0.wav  \n",
            "  inflating: __MACOSX/Animals/cat/._f6617a86_nohash_0.wav  \n",
            "  inflating: Animals/cat/c53b335a_nohash_0.wav  \n",
            "  inflating: __MACOSX/Animals/cat/._c53b335a_nohash_0.wav  \n",
            "  inflating: Animals/cat/9f6fbdb4_nohash_0.wav  \n",
            "  inflating: __MACOSX/Animals/cat/._9f6fbdb4_nohash_0.wav  \n",
            "  inflating: Animals/cat/dc2222d7_nohash_1.wav  \n",
            "  inflating: __MACOSX/Animals/cat/._dc2222d7_nohash_1.wav  \n",
            "  inflating: Animals/cat/187af8be_nohash_0.wav  \n",
            "  inflating: __MACOSX/Animals/cat/._187af8be_nohash_0.wav  \n",
            "  inflating: Animals/cat/f804cbb3_nohash_0.wav  \n",
            "  inflating: __MACOSX/Animals/cat/._f804cbb3_nohash_0.wav  \n",
            "  inflating: Animals/cat/953fe1ad_nohash_0.wav  \n",
            "  inflating: __MACOSX/Animals/cat/._953fe1ad_nohash_0.wav  \n",
            "  inflating: Animals/cat/eb67fcbc_nohash_0.wav  \n",
            "  inflating: __MACOSX/Animals/cat/._eb67fcbc_nohash_0.wav  \n",
            "  inflating: Animals/cat/1e9b215e_nohash_1.wav  \n",
            "  inflating: __MACOSX/Animals/cat/._1e9b215e_nohash_1.wav  \n",
            "  inflating: Animals/cat/9f6fbdb4_nohash_1.wav  \n",
            "  inflating: __MACOSX/Animals/cat/._9f6fbdb4_nohash_1.wav  \n",
            "  inflating: Animals/cat/73f0c1f7_nohash_0.wav  \n",
            "  inflating: __MACOSX/Animals/cat/._73f0c1f7_nohash_0.wav  \n",
            "  inflating: Animals/cat/da2c5f1b_nohash_0.wav  \n",
            "  inflating: __MACOSX/Animals/cat/._da2c5f1b_nohash_0.wav  \n",
            "  inflating: Animals/cat/a3502f15_nohash_0.wav  \n",
            "  inflating: __MACOSX/Animals/cat/._a3502f15_nohash_0.wav  \n",
            "  inflating: Animals/cat/1f3bece8_nohash_0.wav  \n",
            "  inflating: __MACOSX/Animals/cat/._1f3bece8_nohash_0.wav  \n",
            "  inflating: Animals/cat/e5e54cee_nohash_0.wav  \n",
            "  inflating: __MACOSX/Animals/cat/._e5e54cee_nohash_0.wav  \n",
            "  inflating: Animals/cat/95ba4996_nohash_1.wav  \n",
            "  inflating: __MACOSX/Animals/cat/._95ba4996_nohash_1.wav  \n",
            "  inflating: Animals/cat/479e64cc_nohash_0.wav  \n",
            "  inflating: __MACOSX/Animals/cat/._479e64cc_nohash_0.wav  \n",
            "  inflating: Animals/cat/747e69fd_nohash_1.wav  \n",
            "  inflating: __MACOSX/Animals/cat/._747e69fd_nohash_1.wav  \n",
            "  inflating: Animals/cat/6205088b_nohash_0.wav  \n",
            "  inflating: __MACOSX/Animals/cat/._6205088b_nohash_0.wav  \n",
            "  inflating: Animals/cat/af7a8296_nohash_0.wav  \n",
            "  inflating: __MACOSX/Animals/cat/._af7a8296_nohash_0.wav  \n",
            "  inflating: Animals/cat/f216055e_nohash_1.wav  \n",
            "  inflating: __MACOSX/Animals/cat/._f216055e_nohash_1.wav  \n",
            "  inflating: Animals/cat/93f30cc4_nohash_0.wav  \n",
            "  inflating: __MACOSX/Animals/cat/._93f30cc4_nohash_0.wav  \n",
            "  inflating: Animals/cat/10c6d873_nohash_1.wav  \n",
            "  inflating: __MACOSX/Animals/cat/._10c6d873_nohash_1.wav  \n",
            "  inflating: Animals/cat/a4e8a997_nohash_0.wav  \n",
            "  inflating: __MACOSX/Animals/cat/._a4e8a997_nohash_0.wav  \n",
            "  inflating: Animals/cat/b7a0754f_nohash_0.wav  \n",
            "  inflating: __MACOSX/Animals/cat/._b7a0754f_nohash_0.wav  \n",
            "  inflating: Animals/cat/66aa0f29_nohash_0.wav  \n",
            "  inflating: __MACOSX/Animals/cat/._66aa0f29_nohash_0.wav  \n",
            "  inflating: Animals/cat/ead2934a_nohash_1.wav  \n",
            "  inflating: __MACOSX/Animals/cat/._ead2934a_nohash_1.wav  \n",
            "  inflating: Animals/cat/f264e0df_nohash_0.wav  \n",
            "  inflating: __MACOSX/Animals/cat/._f264e0df_nohash_0.wav  \n",
            "  inflating: Animals/cat/1dce06e8_nohash_1.wav  \n",
            "  inflating: __MACOSX/Animals/cat/._1dce06e8_nohash_1.wav  \n",
            "  inflating: Animals/cat/1ffd513b_nohash_1.wav  \n",
            "  inflating: __MACOSX/Animals/cat/._1ffd513b_nohash_1.wav  \n",
            "  inflating: Animals/cat/2ad772d6_nohash_1.wav  \n",
            "  inflating: __MACOSX/Animals/cat/._2ad772d6_nohash_1.wav  \n",
            "  inflating: Animals/cat/4fd4d073_nohash_0.wav  \n",
            "  inflating: __MACOSX/Animals/cat/._4fd4d073_nohash_0.wav  \n",
            "  inflating: Animals/cat/7c75a504_nohash_0.wav  \n",
            "  inflating: __MACOSX/Animals/cat/._7c75a504_nohash_0.wav  \n",
            "  inflating: Animals/cat/d0faf7e4_nohash_0.wav  \n",
            "  inflating: __MACOSX/Animals/cat/._d0faf7e4_nohash_0.wav  \n",
            "  inflating: Animals/cat/83f9c4ab_nohash_0.wav  \n",
            "  inflating: __MACOSX/Animals/cat/._83f9c4ab_nohash_0.wav  \n",
            "  inflating: Animals/cat/25132942_nohash_0.wav  \n",
            "  inflating: __MACOSX/Animals/cat/._25132942_nohash_0.wav  \n",
            "  inflating: Animals/dog/62581901_nohash_0.wav  \n",
            "  inflating: __MACOSX/Animals/dog/._62581901_nohash_0.wav  \n",
            "  inflating: Animals/dog/fb7cfe0e_nohash_2.wav  \n",
            "  inflating: __MACOSX/Animals/dog/._fb7cfe0e_nohash_2.wav  \n",
            "  inflating: Animals/dog/b544d4fd_nohash_1.wav  \n",
            "  inflating: __MACOSX/Animals/dog/._b544d4fd_nohash_1.wav  \n",
            "  inflating: Animals/dog/f810e799_nohash_0.wav  \n",
            "  inflating: __MACOSX/Animals/dog/._f810e799_nohash_0.wav  \n",
            "  inflating: Animals/dog/0e17f595_nohash_0.wav  \n",
            "  inflating: __MACOSX/Animals/dog/._0e17f595_nohash_0.wav  \n",
            "  inflating: Animals/dog/9a8d8d34_nohash_1.wav  \n",
            "  inflating: __MACOSX/Animals/dog/._9a8d8d34_nohash_1.wav  \n",
            "  inflating: Animals/dog/a9abc695_nohash_0.wav  \n",
            "  inflating: __MACOSX/Animals/dog/._a9abc695_nohash_0.wav  \n",
            "  inflating: Animals/dog/b87bdb22_nohash_0.wav  \n",
            "  inflating: __MACOSX/Animals/dog/._b87bdb22_nohash_0.wav  \n",
            "  inflating: Animals/dog/a7545b9f_nohash_0.wav  \n",
            "  inflating: __MACOSX/Animals/dog/._a7545b9f_nohash_0.wav  \n",
            "  inflating: Animals/dog/50928b05_nohash_1.wav  \n",
            "  inflating: __MACOSX/Animals/dog/._50928b05_nohash_1.wav  \n",
            "  inflating: Animals/dog/f5e5e8b0_nohash_1.wav  \n",
            "  inflating: __MACOSX/Animals/dog/._f5e5e8b0_nohash_1.wav  \n",
            "  inflating: Animals/dog/c4500713_nohash_0.wav  \n",
            "  inflating: __MACOSX/Animals/dog/._c4500713_nohash_0.wav  \n",
            "  inflating: Animals/dog/f0ae7203_nohash_0.wav  \n",
            "  inflating: __MACOSX/Animals/dog/._f0ae7203_nohash_0.wav  \n",
            "  inflating: Animals/dog/3f2b358d_nohash_0.wav  \n",
            "  inflating: __MACOSX/Animals/dog/._3f2b358d_nohash_0.wav  \n",
            "  inflating: Animals/dog/f5e5e8b0_nohash_0.wav  \n",
            "  inflating: __MACOSX/Animals/dog/._f5e5e8b0_nohash_0.wav  \n",
            "  inflating: Animals/dog/fb7cfe0e_nohash_0.wav  \n",
            "  inflating: __MACOSX/Animals/dog/._fb7cfe0e_nohash_0.wav  \n",
            "  inflating: Animals/dog/50928b05_nohash_0.wav  \n",
            "  inflating: __MACOSX/Animals/dog/._50928b05_nohash_0.wav  \n",
            "  inflating: Animals/dog/171b56dc_nohash_1.wav  \n",
            "  inflating: __MACOSX/Animals/dog/._171b56dc_nohash_1.wav  \n",
            "  inflating: Animals/dog/f9af823e_nohash_0.wav  \n",
            "  inflating: __MACOSX/Animals/dog/._f9af823e_nohash_0.wav  \n",
            "  inflating: Animals/dog/c0e8f5a1_nohash_0.wav  \n",
            "  inflating: __MACOSX/Animals/dog/._c0e8f5a1_nohash_0.wav  \n",
            "  inflating: Animals/dog/44f68a83_nohash_0.wav  \n",
            "  inflating: __MACOSX/Animals/dog/._44f68a83_nohash_0.wav  \n",
            "  inflating: Animals/dog/adebe223_nohash_1.wav  \n",
            "  inflating: __MACOSX/Animals/dog/._adebe223_nohash_1.wav  \n",
            "  inflating: Animals/dog/acfd3bc3_nohash_1.wav  \n",
            "  inflating: __MACOSX/Animals/dog/._acfd3bc3_nohash_1.wav  \n",
            "  inflating: Animals/dog/6a700f9d_nohash_0.wav  \n",
            "  inflating: __MACOSX/Animals/dog/._6a700f9d_nohash_0.wav  \n",
            "  inflating: Animals/dog/1f653d27_nohash_0.wav  \n",
            "  inflating: __MACOSX/Animals/dog/._1f653d27_nohash_0.wav  \n",
            "  inflating: Animals/dog/49af4432_nohash_0.wav  \n",
            "  inflating: __MACOSX/Animals/dog/._49af4432_nohash_0.wav  \n",
            "  inflating: Animals/dog/037c445a_nohash_0.wav  \n",
            "  inflating: __MACOSX/Animals/dog/._037c445a_nohash_0.wav  \n",
            "  inflating: Animals/dog/eb609143_nohash_0.wav  \n",
            "  inflating: __MACOSX/Animals/dog/._eb609143_nohash_0.wav  \n",
            "  inflating: Animals/dog/72be9202_nohash_3.wav  \n",
            "  inflating: __MACOSX/Animals/dog/._72be9202_nohash_3.wav  \n",
            "  inflating: Animals/dog/99081f4d_nohash_0.wav  \n",
            "  inflating: __MACOSX/Animals/dog/._99081f4d_nohash_0.wav  \n",
            "  inflating: Animals/dog/10ace7eb_nohash_0.wav  \n",
            "  inflating: __MACOSX/Animals/dog/._10ace7eb_nohash_0.wav  \n",
            "  inflating: Animals/dog/2039b9c1_nohash_1.wav  \n",
            "  inflating: __MACOSX/Animals/dog/._2039b9c1_nohash_1.wav  \n",
            "  inflating: Animals/dog/7fc74fbe_nohash_0.wav  \n",
            "  inflating: __MACOSX/Animals/dog/._7fc74fbe_nohash_0.wav  \n",
            "  inflating: Animals/dog/74551073_nohash_1.wav  \n",
            "  inflating: __MACOSX/Animals/dog/._74551073_nohash_1.wav  \n",
            "  inflating: Animals/dog/01d22d03_nohash_0.wav  \n",
            "  inflating: __MACOSX/Animals/dog/._01d22d03_nohash_0.wav  \n",
            "  inflating: Animals/dog/c7aa72e6_nohash_0.wav  \n",
            "  inflating: __MACOSX/Animals/dog/._c7aa72e6_nohash_0.wav  \n",
            "  inflating: Animals/dog/6f7724f5_nohash_3.wav  \n",
            "  inflating: __MACOSX/Animals/dog/._6f7724f5_nohash_3.wav  \n",
            "  inflating: Animals/dog/2dcb6848_nohash_0.wav  \n",
            "  inflating: __MACOSX/Animals/dog/._2dcb6848_nohash_0.wav  \n",
            "  inflating: Animals/dog/3777c08e_nohash_1.wav  \n",
            "  inflating: __MACOSX/Animals/dog/._3777c08e_nohash_1.wav  \n",
            "  inflating: Animals/dog/530306f5_nohash_0.wav  \n",
            "  inflating: __MACOSX/Animals/dog/._530306f5_nohash_0.wav  \n",
            "  inflating: Animals/dog/e8e960fd_nohash_0.wav  \n",
            "  inflating: __MACOSX/Animals/dog/._e8e960fd_nohash_0.wav  \n",
            "  inflating: Animals/dog/acfd3bc3_nohash_0.wav  \n",
            "  inflating: __MACOSX/Animals/dog/._acfd3bc3_nohash_0.wav  \n",
            "  inflating: Animals/dog/ffb86d3c_nohash_1.wav  \n",
            "  inflating: __MACOSX/Animals/dog/._ffb86d3c_nohash_1.wav  \n",
            "  inflating: Animals/dog/86fa2dcd_nohash_2.wav  \n",
            "  inflating: __MACOSX/Animals/dog/._86fa2dcd_nohash_2.wav  \n",
            "  inflating: Animals/dog/b1df80c0_nohash_1.wav  \n",
            "  inflating: __MACOSX/Animals/dog/._b1df80c0_nohash_1.wav  \n",
            "  inflating: Animals/dog/46a153d8_nohash_0.wav  \n",
            "  inflating: __MACOSX/Animals/dog/._46a153d8_nohash_0.wav  \n",
            "  inflating: Animals/dog/5b09db89_nohash_0.wav  \n",
            "  inflating: __MACOSX/Animals/dog/._5b09db89_nohash_0.wav  \n",
            "  inflating: Animals/dog/5236848b_nohash_0.wav  \n",
            "  inflating: __MACOSX/Animals/dog/._5236848b_nohash_0.wav  \n",
            "  inflating: Animals/dog/cb802c63_nohash_1.wav  \n",
            "  inflating: __MACOSX/Animals/dog/._cb802c63_nohash_1.wav  \n",
            "  inflating: Animals/dog/5165cf0a_nohash_0.wav  \n",
            "  inflating: __MACOSX/Animals/dog/._5165cf0a_nohash_0.wav  \n",
            "  inflating: Animals/dog/91223b83_nohash_1.wav  \n",
            "  inflating: __MACOSX/Animals/dog/._91223b83_nohash_1.wav  \n",
            "  inflating: Animals/dog/eb6dab4a_nohash_2.wav  \n",
            "  inflating: __MACOSX/Animals/dog/._eb6dab4a_nohash_2.wav  \n",
            "  inflating: Animals/dog/fbf3dd31_nohash_0.wav  \n",
            "  inflating: __MACOSX/Animals/dog/._fbf3dd31_nohash_0.wav  \n",
            "  inflating: Animals/dog/e9b61425_nohash_0.wav  \n",
            "  inflating: __MACOSX/Animals/dog/._e9b61425_nohash_0.wav  \n",
            "  inflating: Animals/dog/7cb5c0b7_nohash_0.wav  \n",
            "  inflating: __MACOSX/Animals/dog/._7cb5c0b7_nohash_0.wav  \n",
            "  inflating: Animals/dog/6f7724f5_nohash_0.wav  \n",
            "  inflating: __MACOSX/Animals/dog/._6f7724f5_nohash_0.wav  \n",
            "  inflating: Animals/dog/f35eedd7_nohash_0.wav  \n",
            "  inflating: __MACOSX/Animals/dog/._f35eedd7_nohash_0.wav  \n",
            "  inflating: Animals/dog/98447c43_nohash_0.wav  \n",
            "  inflating: __MACOSX/Animals/dog/._98447c43_nohash_0.wav  \n",
            "  inflating: Animals/dog/1746d7b6_nohash_0.wav  \n",
            "  inflating: __MACOSX/Animals/dog/._1746d7b6_nohash_0.wav  \n",
            "  inflating: Animals/dog/17cc40ee_nohash_0.wav  \n",
            "  inflating: __MACOSX/Animals/dog/._17cc40ee_nohash_0.wav  \n",
            "  inflating: Animals/dog/483e2a6f_nohash_0.wav  \n",
            "  inflating: __MACOSX/Animals/dog/._483e2a6f_nohash_0.wav  \n",
            "  inflating: Animals/dog/9ff2d2f4_nohash_0.wav  \n",
            "  inflating: __MACOSX/Animals/dog/._9ff2d2f4_nohash_0.wav  \n",
            "  inflating: Animals/dog/b9cccd01_nohash_0.wav  \n",
            "  inflating: __MACOSX/Animals/dog/._b9cccd01_nohash_0.wav  \n",
            "  inflating: Animals/dog/83c9e7e6_nohash_1.wav  \n",
            "  inflating: __MACOSX/Animals/dog/._83c9e7e6_nohash_1.wav  \n",
            "  inflating: Animals/dog/cd7f8c1b_nohash_0.wav  \n",
            "  inflating: __MACOSX/Animals/dog/._cd7f8c1b_nohash_0.wav  \n",
            "  inflating: Animals/dog/364c0853_nohash_0.wav  \n",
            "  inflating: __MACOSX/Animals/dog/._364c0853_nohash_0.wav  \n",
            "  inflating: Animals/dog/9799379a_nohash_0.wav  \n",
            "  inflating: __MACOSX/Animals/dog/._9799379a_nohash_0.wav  \n",
            "  inflating: Animals/dog/88f8a99c_nohash_0.wav  \n",
            "  inflating: __MACOSX/Animals/dog/._88f8a99c_nohash_0.wav  \n",
            "  inflating: Animals/dog/0ac15fe9_nohash_0.wav  \n",
            "  inflating: __MACOSX/Animals/dog/._0ac15fe9_nohash_0.wav  \n",
            "  inflating: Animals/dog/3e2ba5f7_nohash_0.wav  \n",
            "  inflating: __MACOSX/Animals/dog/._3e2ba5f7_nohash_0.wav  \n",
            "  inflating: Animals/dog/0ac15fe9_nohash_1.wav  \n",
            "  inflating: __MACOSX/Animals/dog/._0ac15fe9_nohash_1.wav  \n",
            "  inflating: Animals/dog/a8e25ebb_nohash_0.wav  \n",
            "  inflating: __MACOSX/Animals/dog/._a8e25ebb_nohash_0.wav  \n",
            "  inflating: Animals/dog/435f9f9e_nohash_0.wav  \n",
            "  inflating: __MACOSX/Animals/dog/._435f9f9e_nohash_0.wav  \n",
            "  inflating: Animals/dog/437455be_nohash_1.wav  \n",
            "  inflating: __MACOSX/Animals/dog/._437455be_nohash_1.wav  \n",
            "  inflating: Animals/dog/4845bb10_nohash_0.wav  \n",
            "  inflating: __MACOSX/Animals/dog/._4845bb10_nohash_0.wav  \n",
            "  inflating: Animals/dog/b41a92a3_nohash_0.wav  \n",
            "  inflating: __MACOSX/Animals/dog/._b41a92a3_nohash_0.wav  \n",
            "  inflating: Animals/dog/b575b5fb_nohash_0.wav  \n",
            "  inflating: __MACOSX/Animals/dog/._b575b5fb_nohash_0.wav  \n",
            "  inflating: Animals/dog/7e2d5caf_nohash_1.wav  \n",
            "  inflating: __MACOSX/Animals/dog/._7e2d5caf_nohash_1.wav  \n",
            "  inflating: Animals/dog/f1b35ace_nohash_0.wav  \n",
            "  inflating: __MACOSX/Animals/dog/._f1b35ace_nohash_0.wav  \n",
            "  inflating: Animals/dog/1625acd8_nohash_0.wav  \n",
            "  inflating: __MACOSX/Animals/dog/._1625acd8_nohash_0.wav  \n",
            "  inflating: Animals/dog/fda46b78_nohash_0.wav  \n",
            "  inflating: __MACOSX/Animals/dog/._fda46b78_nohash_0.wav  \n",
            "  inflating: Animals/dog/0d53e045_nohash_0.wav  \n",
            "  inflating: __MACOSX/Animals/dog/._0d53e045_nohash_0.wav  \n",
            "  inflating: Animals/dog/283d7a53_nohash_0.wav  \n",
            "  inflating: __MACOSX/Animals/dog/._283d7a53_nohash_0.wav  \n",
            "  inflating: Animals/dog/d5356b9a_nohash_0.wav  \n",
            "  inflating: __MACOSX/Animals/dog/._d5356b9a_nohash_0.wav  \n",
            "  inflating: Animals/dog/026290a7_nohash_0.wav  \n",
            "  inflating: __MACOSX/Animals/dog/._026290a7_nohash_0.wav  \n",
            "  inflating: Animals/dog/d312f481_nohash_1.wav  \n",
            "  inflating: __MACOSX/Animals/dog/._d312f481_nohash_1.wav  \n",
            "  inflating: Animals/dog/66cbe2b3_nohash_1.wav  \n",
            "  inflating: __MACOSX/Animals/dog/._66cbe2b3_nohash_1.wav  \n",
            "  inflating: Animals/dog/2f0a410b_nohash_0.wav  \n",
            "  inflating: __MACOSX/Animals/dog/._2f0a410b_nohash_0.wav  \n",
            "  inflating: Animals/dog/a4b21cbc_nohash_2.wav  \n",
            "  inflating: __MACOSX/Animals/dog/._a4b21cbc_nohash_2.wav  \n",
            "  inflating: Animals/dog/3ca784ec_nohash_1.wav  \n",
            "  inflating: __MACOSX/Animals/dog/._3ca784ec_nohash_1.wav  \n",
            "  inflating: Animals/dog/cee22275_nohash_0.wav  \n",
            "  inflating: __MACOSX/Animals/dog/._cee22275_nohash_0.wav  \n",
            "  inflating: Animals/dog/3efa7ec4_nohash_0.wav  \n",
            "  inflating: __MACOSX/Animals/dog/._3efa7ec4_nohash_0.wav  \n",
            "  inflating: Animals/dog/1c3f4fac_nohash_1.wav  \n",
            "  inflating: __MACOSX/Animals/dog/._1c3f4fac_nohash_1.wav  \n",
            "  inflating: Animals/dog/ad89eb1e_nohash_0.wav  \n",
            "  inflating: __MACOSX/Animals/dog/._ad89eb1e_nohash_0.wav  \n",
            "  inflating: Animals/dog/e54a0f16_nohash_0.wav  \n",
            "  inflating: __MACOSX/Animals/dog/._e54a0f16_nohash_0.wav  \n",
            "  inflating: Animals/dog/4a803e67_nohash_0.wav  \n",
            "  inflating: __MACOSX/Animals/dog/._4a803e67_nohash_0.wav  \n",
            "  inflating: Animals/dog/d7467392_nohash_1.wav  \n",
            "  inflating: __MACOSX/Animals/dog/._d7467392_nohash_1.wav  \n",
            "  inflating: Animals/dog/f5c3de1b_nohash_1.wav  \n",
            "  inflating: __MACOSX/Animals/dog/._f5c3de1b_nohash_1.wav  \n",
            "  inflating: Animals/dog/b21f0fa4_nohash_0.wav  \n",
            "  inflating: __MACOSX/Animals/dog/._b21f0fa4_nohash_0.wav  \n",
            "  inflating: Animals/dog/7195ffa6_nohash_0.wav  \n",
            "  inflating: __MACOSX/Animals/dog/._7195ffa6_nohash_0.wav  \n",
            "  inflating: Animals/dog/caf9fceb_nohash_0.wav  \n",
            "  inflating: __MACOSX/Animals/dog/._caf9fceb_nohash_0.wav  \n",
            "  inflating: Animals/dog/f9273a21_nohash_0.wav  \n",
            "  inflating: __MACOSX/Animals/dog/._f9273a21_nohash_0.wav  \n",
            "  inflating: Animals/dog/8ed25ef8_nohash_0.wav  \n",
            "  inflating: __MACOSX/Animals/dog/._8ed25ef8_nohash_0.wav  \n",
            "  inflating: Animals/dog/5744b6a7_nohash_1.wav  \n",
            "  inflating: __MACOSX/Animals/dog/._5744b6a7_nohash_1.wav  \n",
            "  inflating: Animals/dog/66a412a7_nohash_0.wav  \n",
            "  inflating: __MACOSX/Animals/dog/._66a412a7_nohash_0.wav  \n",
            "  inflating: Animals/dog/8a0457c9_nohash_0.wav  \n",
            "  inflating: __MACOSX/Animals/dog/._8a0457c9_nohash_0.wav  \n",
            "  inflating: Animals/dog/a42a88ff_nohash_2.wav  \n",
            "  inflating: __MACOSX/Animals/dog/._a42a88ff_nohash_2.wav  \n",
            "  inflating: Animals/dog/863880b7_nohash_0.wav  \n",
            "  inflating: __MACOSX/Animals/dog/._863880b7_nohash_0.wav  \n",
            "  inflating: Animals/dog/41dce6f5_nohash_0.wav  \n",
            "  inflating: __MACOSX/Animals/dog/._41dce6f5_nohash_0.wav  \n",
            "  inflating: Animals/dog/4f256313_nohash_0.wav  \n",
            "  inflating: __MACOSX/Animals/dog/._4f256313_nohash_0.wav  \n",
            "  inflating: Animals/dog/4f2ab70c_nohash_1.wav  \n",
            "  inflating: __MACOSX/Animals/dog/._4f2ab70c_nohash_1.wav  \n",
            "  inflating: Animals/dog/8dd24423_nohash_0.wav  \n",
            "  inflating: __MACOSX/Animals/dog/._8dd24423_nohash_0.wav  \n",
            "  inflating: Animals/dog/31e686d2_nohash_2.wav  \n",
            "  inflating: __MACOSX/Animals/dog/._31e686d2_nohash_2.wav  \n",
            "  inflating: Animals/dog/b843de62_nohash_1.wav  \n",
            "  inflating: __MACOSX/Animals/dog/._b843de62_nohash_1.wav  \n",
            "  inflating: Animals/dog/a518d1cf_nohash_0.wav  \n",
            "  inflating: __MACOSX/Animals/dog/._a518d1cf_nohash_0.wav  \n",
            "  inflating: Animals/dog/72198b96_nohash_1.wav  \n",
            "  inflating: __MACOSX/Animals/dog/._72198b96_nohash_1.wav  \n",
            "  inflating: Animals/dog/b4bef564_nohash_0.wav  \n",
            "  inflating: __MACOSX/Animals/dog/._b4bef564_nohash_0.wav  \n",
            "  inflating: Animals/dog/a42a88ff_nohash_1.wav  \n",
            "  inflating: __MACOSX/Animals/dog/._a42a88ff_nohash_1.wav  \n",
            "  inflating: Animals/dog/b01c8f61_nohash_0.wav  \n",
            "  inflating: __MACOSX/Animals/dog/._b01c8f61_nohash_0.wav  \n",
            "  inflating: Animals/dog/cf68fad2_nohash_0.wav  \n",
            "  inflating: __MACOSX/Animals/dog/._cf68fad2_nohash_0.wav  \n",
            "  inflating: Animals/dog/0f3f64d5_nohash_1.wav  \n",
            "  inflating: __MACOSX/Animals/dog/._0f3f64d5_nohash_1.wav  \n",
            "  inflating: Animals/dog/413997c1_nohash_0.wav  \n",
            "  inflating: __MACOSX/Animals/dog/._413997c1_nohash_0.wav  \n",
            "  inflating: Animals/dog/0132a06d_nohash_0.wav  \n",
            "  inflating: __MACOSX/Animals/dog/._0132a06d_nohash_0.wav  \n",
            "  inflating: Animals/dog/825f450d_nohash_0.wav  \n",
            "  inflating: __MACOSX/Animals/dog/._825f450d_nohash_0.wav  \n",
            "  inflating: Animals/dog/d2eae23d_nohash_1.wav  \n",
            "  inflating: __MACOSX/Animals/dog/._d2eae23d_nohash_1.wav  \n",
            "  inflating: Animals/dog/1c3f50ad_nohash_1.wav  \n",
            "  inflating: __MACOSX/Animals/dog/._1c3f50ad_nohash_1.wav  \n",
            "  inflating: Animals/dog/aff582a1_nohash_0.wav  \n",
            "  inflating: __MACOSX/Animals/dog/._aff582a1_nohash_0.wav  \n",
            "  inflating: Animals/dog/1338a799_nohash_1.wav  \n",
            "  inflating: __MACOSX/Animals/dog/._1338a799_nohash_1.wav  \n",
            "  inflating: Animals/dog/31e686d2_nohash_3.wav  \n",
            "  inflating: __MACOSX/Animals/dog/._31e686d2_nohash_3.wav  \n",
            "  inflating: Animals/dog/54d9ccb5_nohash_0.wav  \n",
            "  inflating: __MACOSX/Animals/dog/._54d9ccb5_nohash_0.wav  \n",
            "  inflating: Animals/dog/96d5276f_nohash_1.wav  \n",
            "  inflating: __MACOSX/Animals/dog/._96d5276f_nohash_1.wav  \n",
            "  inflating: Animals/dog/a1a59b72_nohash_0.wav  \n",
            "  inflating: __MACOSX/Animals/dog/._a1a59b72_nohash_0.wav  \n",
            "  inflating: Animals/dog/bd11c654_nohash_0.wav  \n",
            "  inflating: __MACOSX/Animals/dog/._bd11c654_nohash_0.wav  \n",
            "  inflating: Animals/dog/10f2bb12_nohash_1.wav  \n",
            "  inflating: __MACOSX/Animals/dog/._10f2bb12_nohash_1.wav  \n",
            "  inflating: Animals/dog/d7a58714_nohash_1.wav  \n",
            "  inflating: __MACOSX/Animals/dog/._d7a58714_nohash_1.wav  \n",
            "  inflating: Animals/dog/97101ef3_nohash_0.wav  \n",
            "  inflating: __MACOSX/Animals/dog/._97101ef3_nohash_0.wav  \n",
            "  inflating: Animals/dog/3d53244b_nohash_0.wav  \n",
            "  inflating: __MACOSX/Animals/dog/._3d53244b_nohash_0.wav  \n",
            "  inflating: Animals/dog/d7559b2d_nohash_1.wav  \n",
            "  inflating: __MACOSX/Animals/dog/._d7559b2d_nohash_1.wav  \n",
            "  inflating: Animals/dog/0ab3b47d_nohash_0.wav  \n",
            "  inflating: __MACOSX/Animals/dog/._0ab3b47d_nohash_0.wav  \n",
            "  inflating: Animals/dog/f3d06008_nohash_0.wav  \n",
            "  inflating: __MACOSX/Animals/dog/._f3d06008_nohash_0.wav  \n",
            "  inflating: Animals/dog/bd11c654_nohash_1.wav  \n",
            "  inflating: __MACOSX/Animals/dog/._bd11c654_nohash_1.wav  \n",
            "  inflating: Animals/dog/b06c19b0_nohash_0.wav  \n",
            "  inflating: __MACOSX/Animals/dog/._b06c19b0_nohash_0.wav  \n",
            "  inflating: Animals/dog/96d5276f_nohash_0.wav  \n",
            "  inflating: __MACOSX/Animals/dog/._96d5276f_nohash_0.wav  \n",
            "  inflating: Animals/dog/cc6bae0d_nohash_0.wav  \n",
            "  inflating: __MACOSX/Animals/dog/._cc6bae0d_nohash_0.wav  \n",
            "  inflating: Animals/dog/d7529c0c_nohash_0.wav  \n",
            "  inflating: __MACOSX/Animals/dog/._d7529c0c_nohash_0.wav  \n",
            "  inflating: Animals/dog/6a203e0e_nohash_0.wav  \n",
            "  inflating: __MACOSX/Animals/dog/._6a203e0e_nohash_0.wav  \n",
            "  inflating: Animals/dog/7add4c5f_nohash_1.wav  \n",
            "  inflating: __MACOSX/Animals/dog/._7add4c5f_nohash_1.wav  \n",
            "  inflating: Animals/dog/b00c4c53_nohash_1.wav  \n",
            "  inflating: __MACOSX/Animals/dog/._b00c4c53_nohash_1.wav  \n",
            "  inflating: Animals/dog/a24cf51c_nohash_1.wav  \n",
            "  inflating: __MACOSX/Animals/dog/._a24cf51c_nohash_1.wav  \n",
            "  inflating: Animals/dog/f84762e5_nohash_0.wav  \n",
            "  inflating: __MACOSX/Animals/dog/._f84762e5_nohash_0.wav  \n",
            "  inflating: Animals/dog/eb0676ec_nohash_0.wav  \n",
            "  inflating: __MACOSX/Animals/dog/._eb0676ec_nohash_0.wav  \n",
            "  inflating: Animals/dog/5188de0d_nohash_0.wav  \n",
            "  inflating: __MACOSX/Animals/dog/._5188de0d_nohash_0.wav  \n",
            "  inflating: Animals/dog/096456f9_nohash_2.wav  \n",
            "  inflating: __MACOSX/Animals/dog/._096456f9_nohash_2.wav  \n",
            "  inflating: Animals/dog/cd8b1781_nohash_0.wav  \n",
            "  inflating: __MACOSX/Animals/dog/._cd8b1781_nohash_0.wav  \n",
            "  inflating: Animals/dog/84999496_nohash_0.wav  \n",
            "  inflating: __MACOSX/Animals/dog/._84999496_nohash_0.wav  \n",
            "  inflating: Animals/dog/adc216c5_nohash_0.wav  \n",
            "  inflating: __MACOSX/Animals/dog/._adc216c5_nohash_0.wav  \n",
            "  inflating: Animals/dog/34805883_nohash_0.wav  \n",
            "  inflating: __MACOSX/Animals/dog/._34805883_nohash_0.wav  \n",
            "  inflating: Animals/dog/e96a5020_nohash_0.wav  \n",
            "  inflating: __MACOSX/Animals/dog/._e96a5020_nohash_0.wav  \n",
            "  inflating: Animals/dog/a24cf51c_nohash_0.wav  \n",
            "  inflating: __MACOSX/Animals/dog/._a24cf51c_nohash_0.wav  \n",
            "  inflating: Animals/dog/eb3d8eb1_nohash_0.wav  \n",
            "  inflating: __MACOSX/Animals/dog/._eb3d8eb1_nohash_0.wav  \n",
            "  inflating: Animals/dog/748cb308_nohash_2.wav  \n",
            "  inflating: __MACOSX/Animals/dog/._748cb308_nohash_2.wav  \n",
            "  inflating: Animals/dog/6e41a77e_nohash_0.wav  \n",
            "  inflating: __MACOSX/Animals/dog/._6e41a77e_nohash_0.wav  \n",
            "  inflating: Animals/dog/d0858dce_nohash_1.wav  \n",
            "  inflating: __MACOSX/Animals/dog/._d0858dce_nohash_1.wav  \n",
            "  inflating: Animals/dog/c3538de1_nohash_0.wav  \n",
            "  inflating: __MACOSX/Animals/dog/._c3538de1_nohash_0.wav  \n",
            "  inflating: Animals/dog/48a9f771_nohash_1.wav  \n",
            "  inflating: __MACOSX/Animals/dog/._48a9f771_nohash_1.wav  \n",
            "  inflating: Animals/dog/da584bc0_nohash_0.wav  \n",
            "  inflating: __MACOSX/Animals/dog/._da584bc0_nohash_0.wav  \n",
            "  inflating: Animals/dog/72d75d96_nohash_1.wav  \n",
            "  inflating: __MACOSX/Animals/dog/._72d75d96_nohash_1.wav  \n",
            "  inflating: Animals/dog/48a9f771_nohash_0.wav  \n",
            "  inflating: __MACOSX/Animals/dog/._48a9f771_nohash_0.wav  \n",
            "  inflating: Animals/dog/b737ee80_nohash_2.wav  \n",
            "  inflating: __MACOSX/Animals/dog/._b737ee80_nohash_2.wav  \n",
            "  inflating: Animals/dog/6940f7f3_nohash_0.wav  \n",
            "  inflating: __MACOSX/Animals/dog/._6940f7f3_nohash_0.wav  \n",
            "  inflating: Animals/dog/5a0bc987_nohash_0.wav  \n",
            "  inflating: __MACOSX/Animals/dog/._5a0bc987_nohash_0.wav  \n",
            "  inflating: Animals/dog/012c8314_nohash_0.wav  \n",
            "  inflating: __MACOSX/Animals/dog/._012c8314_nohash_0.wav  \n",
            "  inflating: Animals/dog/637c702a_nohash_0.wav  \n",
            "  inflating: __MACOSX/Animals/dog/._637c702a_nohash_0.wav  \n",
            "  inflating: Animals/dog/abbfc3b4_nohash_0.wav  \n",
            "  inflating: __MACOSX/Animals/dog/._abbfc3b4_nohash_0.wav  \n",
            "  inflating: Animals/dog/2ce7534c_nohash_0.wav  \n",
            "  inflating: __MACOSX/Animals/dog/._2ce7534c_nohash_0.wav  \n",
            "  inflating: Animals/dog/151bfb79_nohash_0.wav  \n",
            "  inflating: __MACOSX/Animals/dog/._151bfb79_nohash_0.wav  \n",
            "  inflating: Animals/dog/0fa1e7a9_nohash_0.wav  \n",
            "  inflating: __MACOSX/Animals/dog/._0fa1e7a9_nohash_0.wav  \n",
            "  inflating: Animals/dog/187af8be_nohash_1.wav  \n",
            "  inflating: __MACOSX/Animals/dog/._187af8be_nohash_1.wav  \n",
            "  inflating: Animals/dog/7c1d8533_nohash_0.wav  \n",
            "  inflating: __MACOSX/Animals/dog/._7c1d8533_nohash_0.wav  \n",
            "  inflating: Animals/dog/190821dc_nohash_0.wav  \n",
            "  inflating: __MACOSX/Animals/dog/._190821dc_nohash_0.wav  \n",
            "  inflating: Animals/dog/fc28c8d8_nohash_0.wav  \n",
            "  inflating: __MACOSX/Animals/dog/._fc28c8d8_nohash_0.wav  \n",
            "  inflating: Animals/dog/11a022ba_nohash_0.wav  \n",
            "  inflating: __MACOSX/Animals/dog/._11a022ba_nohash_0.wav  \n",
            "  inflating: Animals/dog/b2fbe484_nohash_0.wav  \n",
            "  inflating: __MACOSX/Animals/dog/._b2fbe484_nohash_0.wav  \n",
            "  inflating: Animals/dog/d4d898d7_nohash_0.wav  \n",
            "  inflating: __MACOSX/Animals/dog/._d4d898d7_nohash_0.wav  \n",
            "  inflating: Animals/dog/d107dc42_nohash_2.wav  \n",
            "  inflating: __MACOSX/Animals/dog/._d107dc42_nohash_2.wav  \n",
            "  inflating: Animals/dog/617de221_nohash_0.wav  \n",
            "  inflating: __MACOSX/Animals/dog/._617de221_nohash_0.wav  \n",
            "  inflating: Animals/dog/82b99576_nohash_0.wav  \n",
            "  inflating: __MACOSX/Animals/dog/._82b99576_nohash_0.wav  \n",
            "  inflating: Animals/dog/3bdf05d3_nohash_1.wav  \n",
            "  inflating: __MACOSX/Animals/dog/._3bdf05d3_nohash_1.wav  \n",
            "  inflating: Animals/dog/3c165869_nohash_0.wav  \n",
            "  inflating: __MACOSX/Animals/dog/._3c165869_nohash_0.wav  \n",
            "  inflating: Animals/dog/c4f875a9_nohash_0.wav  \n",
            "  inflating: __MACOSX/Animals/dog/._c4f875a9_nohash_0.wav  \n",
            "  inflating: Animals/dog/81dc4a94_nohash_0.wav  \n",
            "  inflating: __MACOSX/Animals/dog/._81dc4a94_nohash_0.wav  \n",
            "  inflating: Animals/dog/11321027_nohash_1.wav  \n",
            "  inflating: __MACOSX/Animals/dog/._11321027_nohash_1.wav  \n",
            "  inflating: Animals/dog/099d52ad_nohash_0.wav  \n",
            "  inflating: __MACOSX/Animals/dog/._099d52ad_nohash_0.wav  \n",
            "  inflating: Animals/dog/541120c7_nohash_0.wav  \n",
            "  inflating: __MACOSX/Animals/dog/._541120c7_nohash_0.wav  \n",
            "  inflating: Animals/dog/9b027ecf_nohash_0.wav  \n",
            "  inflating: __MACOSX/Animals/dog/._9b027ecf_nohash_0.wav  \n",
            "  inflating: Animals/dog/3ffa3457_nohash_1.wav  \n",
            "  inflating: __MACOSX/Animals/dog/._3ffa3457_nohash_1.wav  \n",
            "  inflating: Animals/dog/493392c6_nohash_0.wav  \n",
            "  inflating: __MACOSX/Animals/dog/._493392c6_nohash_0.wav  \n",
            "  inflating: Animals/dog/f297e878_nohash_0.wav  \n",
            "  inflating: __MACOSX/Animals/dog/._f297e878_nohash_0.wav  \n",
            "  inflating: Animals/dog/51995cea_nohash_3.wav  \n",
            "  inflating: __MACOSX/Animals/dog/._51995cea_nohash_3.wav  \n",
            "  inflating: Animals/dog/e18b3705_nohash_0.wav  \n",
            "  inflating: __MACOSX/Animals/dog/._e18b3705_nohash_0.wav  \n",
            "  inflating: Animals/dog/7a5530c9_nohash_1.wav  \n",
            "  inflating: __MACOSX/Animals/dog/._7a5530c9_nohash_1.wav  \n",
            "  inflating: Animals/dog/50f55535_nohash_0.wav  \n",
            "  inflating: __MACOSX/Animals/dog/._50f55535_nohash_0.wav  \n",
            "  inflating: Animals/dog/19785c4e_nohash_0.wav  \n",
            "  inflating: __MACOSX/Animals/dog/._19785c4e_nohash_0.wav  \n",
            "  inflating: Animals/dog/ed0720f1_nohash_0.wav  \n",
            "  inflating: __MACOSX/Animals/dog/._ed0720f1_nohash_0.wav  \n",
            "  inflating: Animals/dog/e48a80ed_nohash_0.wav  \n",
            "  inflating: __MACOSX/Animals/dog/._e48a80ed_nohash_0.wav  \n",
            "  inflating: Animals/dog/8494fba8_nohash_0.wav  \n",
            "  inflating: __MACOSX/Animals/dog/._8494fba8_nohash_0.wav  \n",
            "  inflating: Animals/dog/d85270c1_nohash_0.wav  \n",
            "  inflating: __MACOSX/Animals/dog/._d85270c1_nohash_0.wav  \n",
            "  inflating: Animals/dog/3dfd6c23_nohash_1.wav  \n",
            "  inflating: __MACOSX/Animals/dog/._3dfd6c23_nohash_1.wav  \n",
            "  inflating: Animals/dog/d107dc42_nohash_0.wav  \n",
            "  inflating: __MACOSX/Animals/dog/._d107dc42_nohash_0.wav  \n",
            "  inflating: Animals/dog/f216055e_nohash_0.wav  \n",
            "  inflating: __MACOSX/Animals/dog/._f216055e_nohash_0.wav  \n",
            "  inflating: Animals/bird/6a27a9bf_nohash_0.wav  \n",
            "  inflating: __MACOSX/Animals/bird/._6a27a9bf_nohash_0.wav  \n",
            "  inflating: Animals/bird/e77d88fc_nohash_1.wav  \n",
            "  inflating: __MACOSX/Animals/bird/._e77d88fc_nohash_1.wav  \n",
            "  inflating: Animals/bird/d9d6559e_nohash_0.wav  \n",
            "  inflating: __MACOSX/Animals/bird/._d9d6559e_nohash_0.wav  \n",
            "  inflating: Animals/bird/84bf12ff_nohash_0.wav  \n",
            "  inflating: __MACOSX/Animals/bird/._84bf12ff_nohash_0.wav  \n",
            "  inflating: Animals/bird/ae04cdbe_nohash_0.wav  \n",
            "  inflating: __MACOSX/Animals/bird/._ae04cdbe_nohash_0.wav  \n",
            "  inflating: Animals/bird/00b01445_nohash_0.wav  \n",
            "  inflating: __MACOSX/Animals/bird/._00b01445_nohash_0.wav  \n",
            "  inflating: Animals/bird/56f78b7e_nohash_0.wav  \n",
            "  inflating: __MACOSX/Animals/bird/._56f78b7e_nohash_0.wav  \n",
            "  inflating: Animals/bird/b43c8f2f_nohash_0.wav  \n",
            "  inflating: __MACOSX/Animals/bird/._b43c8f2f_nohash_0.wav  \n",
            "  inflating: Animals/bird/6272b231_nohash_0.wav  \n",
            "  inflating: __MACOSX/Animals/bird/._6272b231_nohash_0.wav  \n",
            "  inflating: Animals/bird/988e2f9a_nohash_1.wav  \n",
            "  inflating: __MACOSX/Animals/bird/._988e2f9a_nohash_1.wav  \n",
            "  inflating: Animals/bird/d9b50b8b_nohash_2.wav  \n",
            "  inflating: __MACOSX/Animals/bird/._d9b50b8b_nohash_2.wav  \n",
            "  inflating: Animals/bird/8a28231e_nohash_0.wav  \n",
            "  inflating: __MACOSX/Animals/bird/._8a28231e_nohash_0.wav  \n",
            "  inflating: Animals/bird/92b2bf59_nohash_0.wav  \n",
            "  inflating: __MACOSX/Animals/bird/._92b2bf59_nohash_0.wav  \n",
            "  inflating: Animals/bird/4cb874bb_nohash_2.wav  \n",
            "  inflating: __MACOSX/Animals/bird/._4cb874bb_nohash_2.wav  \n",
            "  inflating: Animals/bird/881583a6_nohash_0.wav  \n",
            "  inflating: __MACOSX/Animals/bird/._881583a6_nohash_0.wav  \n",
            "  inflating: Animals/bird/095847e4_nohash_0.wav  \n",
            "  inflating: __MACOSX/Animals/bird/._095847e4_nohash_0.wav  \n",
            "  inflating: Animals/bird/5f8e50a0_nohash_0.wav  \n",
            "  inflating: __MACOSX/Animals/bird/._5f8e50a0_nohash_0.wav  \n",
            "  inflating: Animals/bird/ffb86d3c_nohash_0.wav  \n",
            "  inflating: __MACOSX/Animals/bird/._ffb86d3c_nohash_0.wav  \n",
            "  inflating: Animals/bird/6cf5459b_nohash_0.wav  \n",
            "  inflating: __MACOSX/Animals/bird/._6cf5459b_nohash_0.wav  \n",
            "  inflating: Animals/bird/2b42e7a2_nohash_0.wav  \n",
            "  inflating: __MACOSX/Animals/bird/._2b42e7a2_nohash_0.wav  \n",
            "  inflating: Animals/bird/9d32f10a_nohash_0.wav  \n",
            "  inflating: __MACOSX/Animals/bird/._9d32f10a_nohash_0.wav  \n",
            "  inflating: Animals/bird/e71b4ce6_nohash_0.wav  \n",
            "  inflating: __MACOSX/Animals/bird/._e71b4ce6_nohash_0.wav  \n",
            "  inflating: Animals/bird/541e4079_nohash_1.wav  \n",
            "  inflating: __MACOSX/Animals/bird/._541e4079_nohash_1.wav  \n",
            "  inflating: Animals/bird/e6e29c47_nohash_0.wav  \n",
            "  inflating: __MACOSX/Animals/bird/._e6e29c47_nohash_0.wav  \n",
            "  inflating: Animals/bird/d4082f3e_nohash_0.wav  \n",
            "  inflating: __MACOSX/Animals/bird/._d4082f3e_nohash_0.wav  \n",
            "  inflating: Animals/bird/e652590d_nohash_1.wav  \n",
            "  inflating: __MACOSX/Animals/bird/._e652590d_nohash_1.wav  \n",
            "  inflating: Animals/bird/f88f97a7_nohash_0.wav  \n",
            "  inflating: __MACOSX/Animals/bird/._f88f97a7_nohash_0.wav  \n",
            "  inflating: Animals/bird/c103a2d5_nohash_1.wav  \n",
            "  inflating: __MACOSX/Animals/bird/._c103a2d5_nohash_1.wav  \n",
            "  inflating: Animals/bird/e04d7130_nohash_0.wav  \n",
            "  inflating: __MACOSX/Animals/bird/._e04d7130_nohash_0.wav  \n",
            "  inflating: Animals/bird/1d1fe0a0_nohash_0.wav  \n",
            "  inflating: __MACOSX/Animals/bird/._1d1fe0a0_nohash_0.wav  \n",
            "  inflating: Animals/bird/402e2977_nohash_1.wav  \n",
            "  inflating: __MACOSX/Animals/bird/._402e2977_nohash_1.wav  \n",
            "  inflating: Animals/bird/9e2ce5e3_nohash_0.wav  \n",
            "  inflating: __MACOSX/Animals/bird/._9e2ce5e3_nohash_0.wav  \n",
            "  inflating: Animals/bird/1ed557b9_nohash_0.wav  \n",
            "  inflating: __MACOSX/Animals/bird/._1ed557b9_nohash_0.wav  \n",
            "  inflating: Animals/bird/638548d5_nohash_2.wav  \n",
            "  inflating: __MACOSX/Animals/bird/._638548d5_nohash_2.wav  \n",
            "  inflating: Animals/bird/7e783e3f_nohash_0.wav  \n",
            "  inflating: __MACOSX/Animals/bird/._7e783e3f_nohash_0.wav  \n",
            "  inflating: Animals/bird/50d1c8e3_nohash_1.wav  \n",
            "  inflating: __MACOSX/Animals/bird/._50d1c8e3_nohash_1.wav  \n",
            "  inflating: Animals/bird/0b40aa8e_nohash_0.wav  \n",
            "  inflating: __MACOSX/Animals/bird/._0b40aa8e_nohash_0.wav  \n",
            "  inflating: Animals/bird/a84dee7b_nohash_0.wav  \n",
            "  inflating: __MACOSX/Animals/bird/._a84dee7b_nohash_0.wav  \n",
            "  inflating: Animals/bird/c0445658_nohash_0.wav  \n",
            "  inflating: __MACOSX/Animals/bird/._c0445658_nohash_0.wav  \n",
            "  inflating: Animals/bird/78102205_nohash_0.wav  \n",
            "  inflating: __MACOSX/Animals/bird/._78102205_nohash_0.wav  \n",
            "  inflating: Animals/bird/7b2e879e_nohash_0.wav  \n",
            "  inflating: __MACOSX/Animals/bird/._7b2e879e_nohash_0.wav  \n",
            "  inflating: Animals/bird/8281a2a8_nohash_0.wav  \n",
            "  inflating: __MACOSX/Animals/bird/._8281a2a8_nohash_0.wav  \n",
            "  inflating: Animals/bird/531a5b8a_nohash_0.wav  \n",
            "  inflating: __MACOSX/Animals/bird/._531a5b8a_nohash_0.wav  \n",
            "  inflating: Animals/bird/44fb4274_nohash_0.wav  \n",
            "  inflating: __MACOSX/Animals/bird/._44fb4274_nohash_0.wav  \n",
            "  inflating: Animals/bird/4954abe8_nohash_2.wav  \n",
            "  inflating: __MACOSX/Animals/bird/._4954abe8_nohash_2.wav  \n",
            "  inflating: Animals/bird/520b2c17_nohash_0.wav  \n",
            "  inflating: __MACOSX/Animals/bird/._520b2c17_nohash_0.wav  \n",
            "  inflating: Animals/bird/f6af2457_nohash_0.wav  \n",
            "  inflating: __MACOSX/Animals/bird/._f6af2457_nohash_0.wav  \n",
            "  inflating: Animals/bird/6cb6eee7_nohash_0.wav  \n",
            "  inflating: __MACOSX/Animals/bird/._6cb6eee7_nohash_0.wav  \n",
            "  inflating: Animals/bird/743edf9d_nohash_0.wav  \n",
            "  inflating: __MACOSX/Animals/bird/._743edf9d_nohash_0.wav  \n",
            "  inflating: Animals/bird/a5d485dc_nohash_2.wav  \n",
            "  inflating: __MACOSX/Animals/bird/._a5d485dc_nohash_2.wav  \n",
            "  inflating: Animals/bird/de08912f_nohash_0.wav  \n",
            "  inflating: __MACOSX/Animals/bird/._de08912f_nohash_0.wav  \n",
            "  inflating: Animals/bird/09bcdc9d_nohash_0.wav  \n",
            "  inflating: __MACOSX/Animals/bird/._09bcdc9d_nohash_0.wav  \n",
            "  inflating: Animals/bird/215699ff_nohash_1.wav  \n",
            "  inflating: __MACOSX/Animals/bird/._215699ff_nohash_1.wav  \n",
            "  inflating: Animals/bird/ccb1266b_nohash_0.wav  \n",
            "  inflating: __MACOSX/Animals/bird/._ccb1266b_nohash_0.wav  \n",
            "  inflating: Animals/bird/4c13fe25_nohash_1.wav  \n",
            "  inflating: __MACOSX/Animals/bird/._4c13fe25_nohash_1.wav  \n",
            "  inflating: Animals/bird/f0edc767_nohash_2.wav  \n",
            "  inflating: __MACOSX/Animals/bird/._f0edc767_nohash_2.wav  \n",
            "  inflating: Animals/bird/c661be6e_nohash_0.wav  \n",
            "  inflating: __MACOSX/Animals/bird/._c661be6e_nohash_0.wav  \n",
            "  inflating: Animals/bird/1bc45db9_nohash_1.wav  \n",
            "  inflating: __MACOSX/Animals/bird/._1bc45db9_nohash_1.wav  \n",
            "  inflating: Animals/bird/ae927455_nohash_0.wav  \n",
            "  inflating: __MACOSX/Animals/bird/._ae927455_nohash_0.wav  \n",
            "  inflating: Animals/bird/7f74626f_nohash_0.wav  \n",
            "  inflating: __MACOSX/Animals/bird/._7f74626f_nohash_0.wav  \n",
            "  inflating: Animals/bird/0474c92a_nohash_0.wav  \n",
            "  inflating: __MACOSX/Animals/bird/._0474c92a_nohash_0.wav  \n",
            "  inflating: Animals/bird/c948d727_nohash_0.wav  \n",
            "  inflating: __MACOSX/Animals/bird/._c948d727_nohash_0.wav  \n",
            "  inflating: Animals/bird/a5d485dc_nohash_0.wav  \n",
            "  inflating: __MACOSX/Animals/bird/._a5d485dc_nohash_0.wav  \n",
            "  inflating: Animals/bird/e2008f39_nohash_0.wav  \n",
            "  inflating: __MACOSX/Animals/bird/._e2008f39_nohash_0.wav  \n",
            "  inflating: Animals/bird/8f3f252c_nohash_0.wav  \n",
            "  inflating: __MACOSX/Animals/bird/._8f3f252c_nohash_0.wav  \n",
            "  inflating: Animals/bird/750e3e75_nohash_0.wav  \n",
            "  inflating: __MACOSX/Animals/bird/._750e3e75_nohash_0.wav  \n",
            "  inflating: Animals/bird/91cdef62_nohash_1.wav  \n",
            "  inflating: __MACOSX/Animals/bird/._91cdef62_nohash_1.wav  \n",
            "  inflating: Animals/bird/0a7c2a8d_nohash_0.wav  \n",
            "  inflating: __MACOSX/Animals/bird/._0a7c2a8d_nohash_0.wav  \n",
            "  inflating: Animals/bird/e5dadd24_nohash_0.wav  \n",
            "  inflating: __MACOSX/Animals/bird/._e5dadd24_nohash_0.wav  \n",
            "  inflating: Animals/bird/b17f5ba0_nohash_1.wav  \n",
            "  inflating: __MACOSX/Animals/bird/._b17f5ba0_nohash_1.wav  \n",
            "  inflating: Animals/bird/ed3c2d05_nohash_0.wav  \n",
            "  inflating: __MACOSX/Animals/bird/._ed3c2d05_nohash_0.wav  \n",
            "  inflating: Animals/bird/1bc45db9_nohash_0.wav  \n",
            "  inflating: __MACOSX/Animals/bird/._1bc45db9_nohash_0.wav  \n",
            "  inflating: Animals/bird/8549f25d_nohash_0.wav  \n",
            "  inflating: __MACOSX/Animals/bird/._8549f25d_nohash_0.wav  \n",
            "  inflating: Animals/bird/dce5041a_nohash_0.wav  \n",
            "  inflating: __MACOSX/Animals/bird/._dce5041a_nohash_0.wav  \n",
            "  inflating: Animals/bird/3c8836dc_nohash_0.wav  \n",
            "  inflating: __MACOSX/Animals/bird/._3c8836dc_nohash_0.wav  \n",
            "  inflating: Animals/bird/00f0204f_nohash_3.wav  \n",
            "  inflating: __MACOSX/Animals/bird/._00f0204f_nohash_3.wav  \n",
            "  inflating: Animals/bird/ab76ac76_nohash_0.wav  \n",
            "  inflating: __MACOSX/Animals/bird/._ab76ac76_nohash_0.wav  \n",
            "  inflating: Animals/bird/876c84d6_nohash_0.wav  \n",
            "  inflating: __MACOSX/Animals/bird/._876c84d6_nohash_0.wav  \n",
            "  inflating: Animals/bird/7e1054e7_nohash_2.wav  \n",
            "  inflating: __MACOSX/Animals/bird/._7e1054e7_nohash_2.wav  \n",
            "  inflating: Animals/bird/39dce8cc_nohash_0.wav  \n",
            "  inflating: __MACOSX/Animals/bird/._39dce8cc_nohash_0.wav  \n",
            "  inflating: Animals/bird/c2d15ea5_nohash_0.wav  \n",
            "  inflating: __MACOSX/Animals/bird/._c2d15ea5_nohash_0.wav  \n",
            "  inflating: Animals/bird/6a014b29_nohash_1.wav  \n",
            "  inflating: __MACOSX/Animals/bird/._6a014b29_nohash_1.wav  \n",
            "  inflating: Animals/bird/73cccfaf_nohash_1.wav  \n",
            "  inflating: __MACOSX/Animals/bird/._73cccfaf_nohash_1.wav  \n",
            "  inflating: Animals/bird/f839238a_nohash_1.wav  \n",
            "  inflating: __MACOSX/Animals/bird/._f839238a_nohash_1.wav  \n",
            "  inflating: Animals/bird/ab76ac76_nohash_1.wav  \n",
            "  inflating: __MACOSX/Animals/bird/._ab76ac76_nohash_1.wav  \n",
            "  inflating: Animals/bird/29fb33da_nohash_0.wav  \n",
            "  inflating: __MACOSX/Animals/bird/._29fb33da_nohash_0.wav  \n",
            "  inflating: Animals/bird/7910d292_nohash_0.wav  \n",
            "  inflating: __MACOSX/Animals/bird/._7910d292_nohash_0.wav  \n",
            "  inflating: Animals/bird/44dad20e_nohash_0.wav  \n",
            "  inflating: __MACOSX/Animals/bird/._44dad20e_nohash_0.wav  \n",
            "  inflating: Animals/bird/4f5c0b28_nohash_1.wav  \n",
            "  inflating: __MACOSX/Animals/bird/._4f5c0b28_nohash_1.wav  \n",
            "  inflating: Animals/bird/48a8a69d_nohash_2.wav  \n",
            "  inflating: __MACOSX/Animals/bird/._48a8a69d_nohash_2.wav  \n",
            "  inflating: Animals/bird/31270cb2_nohash_0.wav  \n",
            "  inflating: __MACOSX/Animals/bird/._31270cb2_nohash_0.wav  \n",
            "  inflating: Animals/bird/7cfb1618_nohash_1.wav  \n",
            "  inflating: __MACOSX/Animals/bird/._7cfb1618_nohash_1.wav  \n",
            "  inflating: Animals/bird/d069e6ff_nohash_1.wav  \n",
            "  inflating: __MACOSX/Animals/bird/._d069e6ff_nohash_1.wav  \n",
            "  inflating: Animals/bird/da7689f1_nohash_0.wav  \n",
            "  inflating: __MACOSX/Animals/bird/._da7689f1_nohash_0.wav  \n",
            "  inflating: Animals/bird/e0322f2c_nohash_0.wav  \n",
            "  inflating: __MACOSX/Animals/bird/._e0322f2c_nohash_0.wav  \n",
            "  inflating: Animals/bird/9f869f70_nohash_1.wav  \n",
            "  inflating: __MACOSX/Animals/bird/._9f869f70_nohash_1.wav  \n",
            "  inflating: Animals/bird/4f5c0b28_nohash_0.wav  \n",
            "  inflating: __MACOSX/Animals/bird/._4f5c0b28_nohash_0.wav  \n",
            "  inflating: Animals/bird/00f0204f_nohash_1.wav  \n",
            "  inflating: __MACOSX/Animals/bird/._00f0204f_nohash_1.wav  \n",
            "  inflating: Animals/bird/a4b21cbc_nohash_1.wav  \n",
            "  inflating: __MACOSX/Animals/bird/._a4b21cbc_nohash_1.wav  \n",
            "  inflating: Animals/bird/3ca784ec_nohash_0.wav  \n",
            "  inflating: __MACOSX/Animals/bird/._3ca784ec_nohash_0.wav  \n",
            "  inflating: Animals/bird/b6091c84_nohash_0.wav  \n",
            "  inflating: __MACOSX/Animals/bird/._b6091c84_nohash_0.wav  \n",
            "  inflating: Animals/bird/ee4a907f_nohash_0.wav  \n",
            "  inflating: __MACOSX/Animals/bird/._ee4a907f_nohash_0.wav  \n",
            "  inflating: Animals/bird/3565ca83_nohash_0.wav  \n",
            "  inflating: __MACOSX/Animals/bird/._3565ca83_nohash_0.wav  \n",
            "  inflating: Animals/bird/aa109cfb_nohash_0.wav  \n",
            "  inflating: __MACOSX/Animals/bird/._aa109cfb_nohash_0.wav  \n",
            "  inflating: Animals/bird/caf1803e_nohash_0.wav  \n",
            "  inflating: __MACOSX/Animals/bird/._caf1803e_nohash_0.wav  \n",
            "  inflating: Animals/bird/5744b6a7_nohash_0.wav  \n",
            "  inflating: __MACOSX/Animals/bird/._5744b6a7_nohash_0.wav  \n",
            "  inflating: Animals/bird/0f7dc557_nohash_0.wav  \n",
            "  inflating: __MACOSX/Animals/bird/._0f7dc557_nohash_0.wav  \n",
            "  inflating: Animals/bird/1942abd7_nohash_0.wav  \n",
            "  inflating: __MACOSX/Animals/bird/._1942abd7_nohash_0.wav  \n",
            "  inflating: Animals/bird/01bcfc0c_nohash_1.wav  \n",
            "  inflating: __MACOSX/Animals/bird/._01bcfc0c_nohash_1.wav  \n",
            "  inflating: Animals/bird/3e31dffe_nohash_0.wav  \n",
            "  inflating: __MACOSX/Animals/bird/._3e31dffe_nohash_0.wav  \n",
            "  inflating: Animals/bird/59c3a7f2_nohash_2.wav  \n",
            "  inflating: __MACOSX/Animals/bird/._59c3a7f2_nohash_2.wav  \n",
            "  inflating: Animals/bird/a8cf01bc_nohash_0.wav  \n",
            "  inflating: __MACOSX/Animals/bird/._a8cf01bc_nohash_0.wav  \n",
            "  inflating: Animals/bird/f42e234b_nohash_0.wav  \n",
            "  inflating: __MACOSX/Animals/bird/._f42e234b_nohash_0.wav  \n",
            "  inflating: Animals/bird/6b889021_nohash_1.wav  \n",
            "  inflating: __MACOSX/Animals/bird/._6b889021_nohash_1.wav  \n",
            "  inflating: Animals/bird/214ccb20_nohash_0.wav  \n",
            "  inflating: __MACOSX/Animals/bird/._214ccb20_nohash_0.wav  \n",
            "  inflating: Animals/bird/b9db6e42_nohash_0.wav  \n",
            "  inflating: __MACOSX/Animals/bird/._b9db6e42_nohash_0.wav  \n",
            "  inflating: Animals/bird/d8521ea0_nohash_0.wav  \n",
            "  inflating: __MACOSX/Animals/bird/._d8521ea0_nohash_0.wav  \n",
            "  inflating: Animals/bird/12c206ea_nohash_0.wav  \n",
            "  inflating: __MACOSX/Animals/bird/._12c206ea_nohash_0.wav  \n",
            "  inflating: Animals/bird/44715c1c_nohash_0.wav  \n",
            "  inflating: __MACOSX/Animals/bird/._44715c1c_nohash_0.wav  \n",
            "  inflating: Animals/bird/43691f67_nohash_1.wav  \n",
            "  inflating: __MACOSX/Animals/bird/._43691f67_nohash_1.wav  \n",
            "  inflating: Animals/bird/214ccb20_nohash_1.wav  \n",
            "  inflating: __MACOSX/Animals/bird/._214ccb20_nohash_1.wav  \n",
            "  inflating: Animals/bird/bf70feda_nohash_0.wav  \n",
            "  inflating: __MACOSX/Animals/bird/._bf70feda_nohash_0.wav  \n",
            "  inflating: Animals/bird/659b7fae_nohash_2.wav  \n",
            "  inflating: __MACOSX/Animals/bird/._659b7fae_nohash_2.wav  \n",
            "  inflating: Animals/bird/edd8bfe3_nohash_0.wav  \n",
            "  inflating: __MACOSX/Animals/bird/._edd8bfe3_nohash_0.wav  \n",
            "  inflating: Animals/bird/ffa76c4a_nohash_0.wav  \n",
            "  inflating: __MACOSX/Animals/bird/._ffa76c4a_nohash_0.wav  \n",
            "  inflating: Animals/bird/72aa7259_nohash_0.wav  \n",
            "  inflating: __MACOSX/Animals/bird/._72aa7259_nohash_0.wav  \n",
            "  inflating: Animals/bird/43691f67_nohash_4.wav  \n",
            "  inflating: __MACOSX/Animals/bird/._43691f67_nohash_4.wav  \n",
            "  inflating: Animals/bird/096456f9_nohash_0.wav  \n",
            "  inflating: __MACOSX/Animals/bird/._096456f9_nohash_0.wav  \n",
            "  inflating: Animals/bird/f5733968_nohash_0.wav  \n",
            "  inflating: __MACOSX/Animals/bird/._f5733968_nohash_0.wav  \n",
            "  inflating: Animals/bird/0b56bcfe_nohash_0.wav  \n",
            "  inflating: __MACOSX/Animals/bird/._0b56bcfe_nohash_0.wav  \n",
            "  inflating: Animals/bird/cdbd6969_nohash_1.wav  \n",
            "  inflating: __MACOSX/Animals/bird/._cdbd6969_nohash_1.wav  \n",
            "  inflating: Animals/bird/cd85758f_nohash_0.wav  \n",
            "  inflating: __MACOSX/Animals/bird/._cd85758f_nohash_0.wav  \n",
            "  inflating: Animals/bird/257e17e0_nohash_0.wav  \n",
            "  inflating: __MACOSX/Animals/bird/._257e17e0_nohash_0.wav  \n",
            "  inflating: Animals/bird/529eda42_nohash_1.wav  \n",
            "  inflating: __MACOSX/Animals/bird/._529eda42_nohash_1.wav  \n",
            "  inflating: Animals/bird/6e2ef3d5_nohash_1.wav  \n",
            "  inflating: __MACOSX/Animals/bird/._6e2ef3d5_nohash_1.wav  \n",
            "  inflating: Animals/bird/65d81c54_nohash_0.wav  \n",
            "  inflating: __MACOSX/Animals/bird/._65d81c54_nohash_0.wav  \n",
            "  inflating: Animals/bird/78622c2b_nohash_0.wav  \n",
            "  inflating: __MACOSX/Animals/bird/._78622c2b_nohash_0.wav  \n",
            "  inflating: Animals/bird/650daf8e_nohash_0.wav  \n",
            "  inflating: __MACOSX/Animals/bird/._650daf8e_nohash_0.wav  \n",
            "  inflating: Animals/bird/34881b10_nohash_0.wav  \n",
            "  inflating: __MACOSX/Animals/bird/._34881b10_nohash_0.wav  \n",
            "  inflating: Animals/bird/be7a5b2d_nohash_0.wav  \n",
            "  inflating: __MACOSX/Animals/bird/._be7a5b2d_nohash_0.wav  \n",
            "  inflating: Animals/bird/d8c52371_nohash_1.wav  \n",
            "  inflating: __MACOSX/Animals/bird/._d8c52371_nohash_1.wav  \n",
            "  inflating: Animals/bird/422d3197_nohash_0.wav  \n",
            "  inflating: __MACOSX/Animals/bird/._422d3197_nohash_0.wav  \n",
            "  inflating: Animals/bird/650daf8e_nohash_1.wav  \n",
            "  inflating: __MACOSX/Animals/bird/._650daf8e_nohash_1.wav  \n",
            "  inflating: Animals/bird/626e323f_nohash_1.wav  \n",
            "  inflating: __MACOSX/Animals/bird/._626e323f_nohash_1.wav  \n",
            "  inflating: Animals/bird/4f781a59_nohash_1.wav  \n",
            "  inflating: __MACOSX/Animals/bird/._4f781a59_nohash_1.wav  \n",
            "  inflating: Animals/bird/1a6eca98_nohash_0.wav  \n",
            "  inflating: __MACOSX/Animals/bird/._1a6eca98_nohash_0.wav  \n",
            "  inflating: Animals/bird/5c39594f_nohash_0.wav  \n",
            "  inflating: __MACOSX/Animals/bird/._5c39594f_nohash_0.wav  \n",
            "  inflating: Animals/bird/7add4c5f_nohash_0.wav  \n",
            "  inflating: __MACOSX/Animals/bird/._7add4c5f_nohash_0.wav  \n",
            "  inflating: Animals/bird/d53e25ba_nohash_0.wav  \n",
            "  inflating: __MACOSX/Animals/bird/._d53e25ba_nohash_0.wav  \n",
            "  inflating: Animals/bird/aa233654_nohash_0.wav  \n",
            "  inflating: __MACOSX/Animals/bird/._aa233654_nohash_0.wav  \n",
            "  inflating: Animals/bird/5828dfa2_nohash_0.wav  \n",
            "  inflating: __MACOSX/Animals/bird/._5828dfa2_nohash_0.wav  \n",
            "  inflating: Animals/bird/92a9c5e6_nohash_0.wav  \n",
            "  inflating: __MACOSX/Animals/bird/._92a9c5e6_nohash_0.wav  \n",
            "  inflating: Animals/bird/97f493b9_nohash_0.wav  \n",
            "  inflating: __MACOSX/Animals/bird/._97f493b9_nohash_0.wav  \n",
            "  inflating: Animals/bird/13199b79_nohash_1.wav  \n",
            "  inflating: __MACOSX/Animals/bird/._13199b79_nohash_1.wav  \n",
            "  inflating: Animals/bird/1b4c9b89_nohash_0.wav  \n",
            "  inflating: __MACOSX/Animals/bird/._1b4c9b89_nohash_0.wav  \n",
            "  inflating: Animals/bird/ceaadb24_nohash_0.wav  \n",
            "  inflating: __MACOSX/Animals/bird/._ceaadb24_nohash_0.wav  \n",
            "  inflating: Animals/bird/f6617a86_nohash_0.wav  \n",
            "  inflating: __MACOSX/Animals/bird/._f6617a86_nohash_0.wav  \n",
            "  inflating: Animals/bird/c53b335a_nohash_0.wav  \n",
            "  inflating: __MACOSX/Animals/bird/._c53b335a_nohash_0.wav  \n",
            "  inflating: Animals/bird/7bae88ed_nohash_0.wav  \n",
            "  inflating: __MACOSX/Animals/bird/._7bae88ed_nohash_0.wav  \n",
            "  inflating: Animals/bird/9f6fbdb4_nohash_0.wav  \n",
            "  inflating: __MACOSX/Animals/bird/._9f6fbdb4_nohash_0.wav  \n",
            "  inflating: Animals/bird/96c66ab7_nohash_0.wav  \n",
            "  inflating: __MACOSX/Animals/bird/._96c66ab7_nohash_0.wav  \n",
            "  inflating: Animals/bird/64da5281_nohash_1.wav  \n",
            "  inflating: __MACOSX/Animals/bird/._64da5281_nohash_1.wav  \n",
            "  inflating: Animals/bird/f804cbb3_nohash_0.wav  \n",
            "  inflating: __MACOSX/Animals/bird/._f804cbb3_nohash_0.wav  \n",
            "  inflating: Animals/bird/27b03931_nohash_0.wav  \n",
            "  inflating: __MACOSX/Animals/bird/._27b03931_nohash_0.wav  \n",
            "  inflating: Animals/bird/0bde966a_nohash_0.wav  \n",
            "  inflating: __MACOSX/Animals/bird/._0bde966a_nohash_0.wav  \n",
            "  inflating: Animals/bird/64da5281_nohash_0.wav  \n",
            "  inflating: __MACOSX/Animals/bird/._64da5281_nohash_0.wav  \n",
            "  inflating: Animals/bird/e55a2b20_nohash_0.wav  \n",
            "  inflating: __MACOSX/Animals/bird/._e55a2b20_nohash_0.wav  \n",
            "  inflating: Animals/bird/f6581345_nohash_1.wav  \n",
            "  inflating: __MACOSX/Animals/bird/._f6581345_nohash_1.wav  \n",
            "  inflating: Animals/bird/7bae88ed_nohash_1.wav  \n",
            "  inflating: __MACOSX/Animals/bird/._7bae88ed_nohash_1.wav  \n",
            "  inflating: Animals/bird/73f0c1f7_nohash_0.wav  \n",
            "  inflating: __MACOSX/Animals/bird/._73f0c1f7_nohash_0.wav  \n",
            "  inflating: Animals/bird/30a09789_nohash_1.wav  \n",
            "  inflating: __MACOSX/Animals/bird/._30a09789_nohash_1.wav  \n",
            "  inflating: Animals/bird/e32ff49d_nohash_0.wav  \n",
            "  inflating: __MACOSX/Animals/bird/._e32ff49d_nohash_0.wav  \n",
            "  inflating: Animals/bird/01648c51_nohash_0.wav  \n",
            "  inflating: __MACOSX/Animals/bird/._01648c51_nohash_0.wav  \n",
            "  inflating: Animals/bird/2296b1af_nohash_1.wav  \n",
            "  inflating: __MACOSX/Animals/bird/._2296b1af_nohash_1.wav  \n",
            "  inflating: Animals/bird/61a9f72a_nohash_0.wav  \n",
            "  inflating: __MACOSX/Animals/bird/._61a9f72a_nohash_0.wav  \n",
            "  inflating: Animals/bird/cce17a61_nohash_1.wav  \n",
            "  inflating: __MACOSX/Animals/bird/._cce17a61_nohash_1.wav  \n",
            "  inflating: Animals/bird/1f3bece8_nohash_0.wav  \n",
            "  inflating: __MACOSX/Animals/bird/._1f3bece8_nohash_0.wav  \n",
            "  inflating: Animals/bird/31267b59_nohash_0.wav  \n",
            "  inflating: __MACOSX/Animals/bird/._31267b59_nohash_0.wav  \n",
            "  inflating: Animals/bird/b97c9f77_nohash_0.wav  \n",
            "  inflating: __MACOSX/Animals/bird/._b97c9f77_nohash_0.wav  \n",
            "  inflating: Animals/bird/24c9f572_nohash_1.wav  \n",
            "  inflating: __MACOSX/Animals/bird/._24c9f572_nohash_1.wav  \n",
            "  inflating: Animals/bird/af7a8296_nohash_0.wav  \n",
            "  inflating: __MACOSX/Animals/bird/._af7a8296_nohash_0.wav  \n",
            "  inflating: Animals/bird/a60a09cf_nohash_0.wav  \n",
            "  inflating: __MACOSX/Animals/bird/._a60a09cf_nohash_0.wav  \n",
            "  inflating: Animals/bird/b7a0754f_nohash_0.wav  \n",
            "  inflating: __MACOSX/Animals/bird/._b7a0754f_nohash_0.wav  \n",
            "  inflating: Animals/bird/f1d36c53_nohash_0.wav  \n",
            "  inflating: __MACOSX/Animals/bird/._f1d36c53_nohash_0.wav  \n",
            "  inflating: Animals/bird/28ed6bc9_nohash_0.wav  \n",
            "  inflating: __MACOSX/Animals/bird/._28ed6bc9_nohash_0.wav  \n",
            "  inflating: Animals/bird/270bfa52_nohash_0.wav  \n",
            "  inflating: __MACOSX/Animals/bird/._270bfa52_nohash_0.wav  \n",
            "  inflating: Animals/bird/a0f93943_nohash_1.wav  \n",
            "  inflating: __MACOSX/Animals/bird/._a0f93943_nohash_1.wav  \n",
            "  inflating: Animals/bird/7c75a504_nohash_0.wav  \n",
            "  inflating: __MACOSX/Animals/bird/._7c75a504_nohash_0.wav  \n",
            "  inflating: Animals/bird/b71ebf79_nohash_1.wav  \n",
            "  inflating: __MACOSX/Animals/bird/._b71ebf79_nohash_1.wav  \n",
            "  inflating: Animals/bird/ead2934a_nohash_0.wav  \n",
            "  inflating: __MACOSX/Animals/bird/._ead2934a_nohash_0.wav  \n",
            "  inflating: Animals/bird/7799c9cd_nohash_0.wav  \n",
            "  inflating: __MACOSX/Animals/bird/._7799c9cd_nohash_0.wav  \n",
            "  inflating: Animals/bird/2c7c33e8_nohash_0.wav  \n",
            "  inflating: __MACOSX/Animals/bird/._2c7c33e8_nohash_0.wav  \n",
            "  inflating: Animals/bird/540d8427_nohash_0.wav  \n",
            "  inflating: __MACOSX/Animals/bird/._540d8427_nohash_0.wav  \n",
            "  inflating: Animals/.ipynb_checkpoints/audio-checkpoint.ipynb  \n",
            "  inflating: __MACOSX/Animals/.ipynb_checkpoints/._audio-checkpoint.ipynb  \n"
          ]
        }
      ]
    },
    {
      "cell_type": "code",
      "source": [
        "cat_audio_filenames = glob.glob('./Animals/cat/*.wav')\n",
        "bird_audio_filenames = glob.glob('./Animals/bird/*.wav')\n",
        "dog_audio_filenames = glob.glob('./Animals/dog/*.wav')"
      ],
      "metadata": {
        "id": "yzvkDbw_gaUY"
      },
      "execution_count": 5,
      "outputs": []
    },
    {
      "cell_type": "markdown",
      "source": [
        "## Function for audio feature extraction"
      ],
      "metadata": {
        "id": "f-qHsEwHHp-h"
      }
    },
    {
      "cell_type": "code",
      "source": [
        "def load_audio(file_path):\n",
        "\n",
        "    # Load audio file\n",
        "    y, sr = librosa.load(file_path, sr=None)\n",
        "\n",
        "    # mel-frequency cepstral coefficients\n",
        "    # choosing 20 coefficients instead of the usual 13\n",
        "    mfccs = librosa.feature.mfcc(y=y, sr=sr, n_mfcc=20)\n",
        "\n",
        "    # loading the first and second order derivatives of the\n",
        "    # mel-frequency cepstral coefficients\n",
        "    delta_mfccs = librosa.feature.delta(mfccs)\n",
        "    delta2_mfccs = librosa.feature.delta(mfccs, order=2)\n",
        "\n",
        "    # combining to form a single feature vector\n",
        "    combined = np.vstack([mfccs, delta_mfccs, delta2_mfccs])\n",
        "    return combined"
      ],
      "metadata": {
        "id": "O07jNhU1ggIK"
      },
      "execution_count": 6,
      "outputs": []
    },
    {
      "cell_type": "markdown",
      "source": [
        "## Preprocessing and Loading the feature vectors"
      ],
      "metadata": {
        "id": "Ur08C2W7Hl22"
      }
    },
    {
      "cell_type": "code",
      "source": [
        "cat_audios = []\n",
        "bird_audios = []\n",
        "dog_audios = []\n",
        "\n",
        "\n",
        "# loading the audio files in their respective lists\n",
        "for cat_audio_filename in cat_audio_filenames:\n",
        "  cat_audio = load_audio(cat_audio_filename)\n",
        "  cat_audios.append(cat_audio.reshape(-1, 60))\n",
        "\n",
        "for dog_audio_filename in dog_audio_filenames:\n",
        "  dog_audio = load_audio(dog_audio_filename)\n",
        "  dog_audios.append(dog_audio.reshape(-1, 60))\n",
        "\n",
        "for bird_audio_filename in bird_audio_filenames:\n",
        "  bird_audio = load_audio(bird_audio_filename)\n",
        "  bird_audios.append(bird_audio.reshape(-1, 60))\n",
        "\n",
        "# getting the max sequence length for padding for each word\n",
        "cat_audio_max_len = np.max([_.shape[0] for _ in cat_audios])\n",
        "bird_audio_max_len = np.max([_.shape[0] for _ in bird_audios])\n",
        "dog_audio_max_len = np.max([_.shape[0] for _ in dog_audios])\n",
        "\n",
        "\n",
        "# padding and storing the audio feature vectors\n",
        "# the feature vectors are 2D in nature\n",
        "\n",
        "padded_cat_audios = []\n",
        "padded_dog_audios = []\n",
        "padded_bird_audios = []\n",
        "\n",
        "Y = []\n",
        "for cat_audio in cat_audios:\n",
        "  padded_cat_audios.append(torch.concatenate((torch.from_numpy(cat_audio), torch.zeros(cat_audio_max_len - cat_audio.shape[0], 60)), dim=0))\n",
        "  Y.append(0)\n",
        "\n",
        "for dog_audio in dog_audios:\n",
        "  padded_dog_audios.append(torch.concatenate((torch.from_numpy(dog_audio), torch.zeros(dog_audio_max_len - dog_audio.shape[0], 60)), dim=0))\n",
        "  Y.append(1)\n",
        "\n",
        "for bird_audio in bird_audios:\n",
        "  padded_bird_audios.append(torch.concatenate((torch.from_numpy(bird_audio), torch.zeros(bird_audio_max_len - bird_audio.shape[0], 60)), dim=0))\n",
        "  Y.append(2)"
      ],
      "metadata": {
        "id": "zGa_-68LrwfA"
      },
      "execution_count": 7,
      "outputs": []
    },
    {
      "cell_type": "code",
      "source": [
        "padded_cat_audios = torch.from_numpy(np.array(padded_cat_audios))\n",
        "padded_dog_audios = torch.from_numpy(np.array(padded_dog_audios))\n",
        "padded_bird_audios = torch.from_numpy(np.array(padded_bird_audios))"
      ],
      "metadata": {
        "id": "sruNtByEr_SZ"
      },
      "execution_count": 8,
      "outputs": []
    },
    {
      "cell_type": "code",
      "source": [
        "X = torch.cat((padded_cat_audios, padded_dog_audios, padded_bird_audios), dim=0)\n",
        "X.shape"
      ],
      "metadata": {
        "colab": {
          "base_uri": "https://localhost:8080/"
        },
        "id": "zvpUm6nztNYY",
        "outputId": "50cb6df1-be01-493a-e966-d54530e1308a"
      },
      "execution_count": 9,
      "outputs": [
        {
          "output_type": "execute_result",
          "data": {
            "text/plain": [
              "torch.Size([610, 32, 60])"
            ]
          },
          "metadata": {},
          "execution_count": 9
        }
      ]
    },
    {
      "cell_type": "code",
      "source": [
        "Y = torch.from_numpy(np.array(Y))\n",
        "Y.shape"
      ],
      "metadata": {
        "colab": {
          "base_uri": "https://localhost:8080/"
        },
        "id": "m4U3KZfCwaE5",
        "outputId": "c4282985-0f18-47ce-a6fd-ce4c4f35b862"
      },
      "execution_count": 10,
      "outputs": [
        {
          "output_type": "execute_result",
          "data": {
            "text/plain": [
              "torch.Size([610])"
            ]
          },
          "metadata": {},
          "execution_count": 10
        }
      ]
    },
    {
      "cell_type": "markdown",
      "source": [
        "## Splitting the train and test data"
      ],
      "metadata": {
        "id": "do5iLj-JHgua"
      }
    },
    {
      "cell_type": "code",
      "source": [
        "from sklearn.model_selection import train_test_split"
      ],
      "metadata": {
        "id": "Cvaf9J52ynNY"
      },
      "execution_count": 11,
      "outputs": []
    },
    {
      "cell_type": "code",
      "source": [
        "X_train, X_test, y_train, y_test = train_test_split(X, Y, test_size=0.1, train_size=0.9)"
      ],
      "metadata": {
        "id": "uJGDZSlyyvyi"
      },
      "execution_count": 111,
      "outputs": []
    },
    {
      "cell_type": "markdown",
      "source": [
        "## Network Definition"
      ],
      "metadata": {
        "id": "0zSIohg3HeeP"
      }
    },
    {
      "cell_type": "code",
      "source": [
        "class AudioClassifierNetwork(nn.Module):\n",
        "\n",
        "  def __init__(self, input_size, num_classes):\n",
        "    super(AudioClassifierNetwork, self).__init__()\n",
        "    self.conv_layer = nn.Sequential(\n",
        "        # using 1D convolutions for 2D feature vectors\n",
        "        nn.Conv1d(in_channels=32, out_channels=64, kernel_size=2, stride=1, padding=1),\n",
        "        nn.MaxPool1d(kernel_size=3, stride=1, padding=1),\n",
        "        nn.LeakyReLU(),\n",
        "        nn.Conv1d(in_channels=64, out_channels=128, kernel_size=2, stride=1, padding=1),\n",
        "        nn.MaxPool1d(kernel_size=3, stride=1, padding=1),\n",
        "        nn.LeakyReLU(),\n",
        "    )\n",
        "    self.linear_layer = nn.Sequential(\n",
        "        nn.Linear(in_features=7936, out_features=4096),\n",
        "        nn.LeakyReLU(),\n",
        "        nn.Linear(in_features=4096, out_features=2048),\n",
        "        nn.LeakyReLU(),\n",
        "        nn.Linear(in_features=2048, out_features=1024),\n",
        "        nn.LeakyReLU(),\n",
        "        nn.Linear(in_features=1024, out_features=256),\n",
        "        nn.LeakyReLU(),\n",
        "        nn.Linear(in_features=256, out_features=num_classes),\n",
        "        nn.Softmax(dim=-1)\n",
        "    )\n",
        "\n",
        "  def forward(self, x):\n",
        "    batch_size = x.shape[0]\n",
        "    # print(x.shape)\n",
        "    x = self.conv_layer(x)\n",
        "    # print(x.shape)\n",
        "    x = x.reshape(batch_size, -1)\n",
        "    # print(x.shape)\n",
        "    x = self.linear_layer(x.view(batch_size, -1))\n",
        "    return x"
      ],
      "metadata": {
        "id": "ZRKNIY9QzC3O"
      },
      "execution_count": 112,
      "outputs": []
    },
    {
      "cell_type": "code",
      "source": [
        "acn = AudioClassifierNetwork(input_size=32, num_classes=3)"
      ],
      "metadata": {
        "id": "BBzQKZWQzDhM"
      },
      "execution_count": 113,
      "outputs": []
    },
    {
      "cell_type": "code",
      "source": [
        "loss_fn = nn.CrossEntropyLoss()\n",
        "optimizer = torch.optim.Adam(acn.parameters(), lr=6e-6) # lr is a little more than what karpathy would've wanted"
      ],
      "metadata": {
        "id": "vKgWZMwKBup8"
      },
      "execution_count": 114,
      "outputs": []
    },
    {
      "cell_type": "code",
      "source": [
        "import tqdm\n",
        "\n",
        "# loss = loss_fn(acn(X_train), y_train)\n",
        "# print(f'Initial loss : {loss}')\n",
        "\n",
        "epochs = 1000\n",
        "for epoch in tqdm.tqdm(range(epochs)):\n",
        "  optimizer.zero_grad()\n",
        "  loss = loss_fn(acn(X_train), y_train)\n",
        "  print(f'Epoch {epoch + 1}, loss {loss}')\n",
        "  loss.backward()\n",
        "  optimizer.step()\n",
        "\n",
        "\n",
        "\n",
        "# loss = loss_fn(acn(X_train), y_train)\n",
        "# print(f'Final loss : {loss}')\n"
      ],
      "metadata": {
        "colab": {
          "base_uri": "https://localhost:8080/"
        },
        "id": "5fMe0O4UzDWz",
        "outputId": "af21a3ce-f2ae-477b-9830-081e100bbe85"
      },
      "execution_count": 115,
      "outputs": [
        {
          "output_type": "stream",
          "name": "stderr",
          "text": [
            "  0%|          | 1/1000 [00:00<04:22,  3.81it/s]"
          ]
        },
        {
          "output_type": "stream",
          "name": "stdout",
          "text": [
            "Epoch 1, loss 1.1039432287216187\n"
          ]
        },
        {
          "output_type": "stream",
          "name": "stderr",
          "text": [
            "\r  0%|          | 2/1000 [00:00<03:50,  4.33it/s]"
          ]
        },
        {
          "output_type": "stream",
          "name": "stdout",
          "text": [
            "Epoch 2, loss 1.0958234071731567\n"
          ]
        },
        {
          "output_type": "stream",
          "name": "stderr",
          "text": [
            "\r  0%|          | 3/1000 [00:00<03:37,  4.58it/s]"
          ]
        },
        {
          "output_type": "stream",
          "name": "stdout",
          "text": [
            "Epoch 3, loss 1.0887463092803955\n"
          ]
        },
        {
          "output_type": "stream",
          "name": "stderr",
          "text": [
            "\r  0%|          | 4/1000 [00:00<03:38,  4.55it/s]"
          ]
        },
        {
          "output_type": "stream",
          "name": "stdout",
          "text": [
            "Epoch 4, loss 1.083052635192871\n"
          ]
        },
        {
          "output_type": "stream",
          "name": "stderr",
          "text": [
            "\r  0%|          | 5/1000 [00:01<03:39,  4.54it/s]"
          ]
        },
        {
          "output_type": "stream",
          "name": "stdout",
          "text": [
            "Epoch 5, loss 1.078503966331482\n"
          ]
        },
        {
          "output_type": "stream",
          "name": "stderr",
          "text": [
            "\r  1%|          | 6/1000 [00:01<03:36,  4.58it/s]"
          ]
        },
        {
          "output_type": "stream",
          "name": "stdout",
          "text": [
            "Epoch 6, loss 1.0740102529525757\n"
          ]
        },
        {
          "output_type": "stream",
          "name": "stderr",
          "text": [
            "\r  1%|          | 7/1000 [00:01<03:32,  4.66it/s]"
          ]
        },
        {
          "output_type": "stream",
          "name": "stdout",
          "text": [
            "Epoch 7, loss 1.069252371788025\n"
          ]
        },
        {
          "output_type": "stream",
          "name": "stderr",
          "text": [
            "\r  1%|          | 8/1000 [00:01<03:25,  4.82it/s]"
          ]
        },
        {
          "output_type": "stream",
          "name": "stdout",
          "text": [
            "Epoch 8, loss 1.064478874206543\n",
            "Epoch 9, loss 1.0598609447479248\n"
          ]
        },
        {
          "output_type": "stream",
          "name": "stderr",
          "text": [
            "  1%|          | 10/1000 [00:02<03:35,  4.59it/s]"
          ]
        },
        {
          "output_type": "stream",
          "name": "stdout",
          "text": [
            "Epoch 10, loss 1.0552008152008057\n"
          ]
        },
        {
          "output_type": "stream",
          "name": "stderr",
          "text": [
            "\r  1%|          | 11/1000 [00:02<03:38,  4.52it/s]"
          ]
        },
        {
          "output_type": "stream",
          "name": "stdout",
          "text": [
            "Epoch 11, loss 1.0503120422363281\n"
          ]
        },
        {
          "output_type": "stream",
          "name": "stderr",
          "text": [
            "\r  1%|          | 12/1000 [00:02<03:35,  4.58it/s]"
          ]
        },
        {
          "output_type": "stream",
          "name": "stdout",
          "text": [
            "Epoch 12, loss 1.0452936887741089\n"
          ]
        },
        {
          "output_type": "stream",
          "name": "stderr",
          "text": [
            "\r  1%|▏         | 13/1000 [00:02<03:30,  4.70it/s]"
          ]
        },
        {
          "output_type": "stream",
          "name": "stdout",
          "text": [
            "Epoch 13, loss 1.0402398109436035\n",
            "Epoch 14, loss 1.0351977348327637\n"
          ]
        },
        {
          "output_type": "stream",
          "name": "stderr",
          "text": [
            "  2%|▏         | 15/1000 [00:03<03:33,  4.60it/s]"
          ]
        },
        {
          "output_type": "stream",
          "name": "stdout",
          "text": [
            "Epoch 15, loss 1.030083417892456\n",
            "Epoch 16, loss 1.0247727632522583\n"
          ]
        },
        {
          "output_type": "stream",
          "name": "stderr",
          "text": [
            "  2%|▏         | 17/1000 [00:03<03:18,  4.94it/s]"
          ]
        },
        {
          "output_type": "stream",
          "name": "stdout",
          "text": [
            "Epoch 17, loss 1.0193604230880737\n",
            "Epoch 18, loss 1.0138541460037231\n"
          ]
        },
        {
          "output_type": "stream",
          "name": "stderr",
          "text": [
            "  2%|▏         | 19/1000 [00:04<03:18,  4.94it/s]"
          ]
        },
        {
          "output_type": "stream",
          "name": "stdout",
          "text": [
            "Epoch 19, loss 1.0082651376724243\n"
          ]
        },
        {
          "output_type": "stream",
          "name": "stderr",
          "text": [
            "\r  2%|▏         | 20/1000 [00:04<03:23,  4.81it/s]"
          ]
        },
        {
          "output_type": "stream",
          "name": "stdout",
          "text": [
            "Epoch 20, loss 1.0026196241378784\n"
          ]
        },
        {
          "output_type": "stream",
          "name": "stderr",
          "text": [
            "\r  2%|▏         | 21/1000 [00:04<03:20,  4.87it/s]"
          ]
        },
        {
          "output_type": "stream",
          "name": "stdout",
          "text": [
            "Epoch 21, loss 0.9969404339790344\n",
            "Epoch 22, loss 0.9911726117134094\n"
          ]
        },
        {
          "output_type": "stream",
          "name": "stderr",
          "text": [
            "  2%|▏         | 23/1000 [00:04<03:16,  4.97it/s]"
          ]
        },
        {
          "output_type": "stream",
          "name": "stdout",
          "text": [
            "Epoch 23, loss 0.9853127598762512\n"
          ]
        },
        {
          "output_type": "stream",
          "name": "stderr",
          "text": [
            "\r  2%|▏         | 24/1000 [00:05<03:27,  4.70it/s]"
          ]
        },
        {
          "output_type": "stream",
          "name": "stdout",
          "text": [
            "Epoch 24, loss 0.9794420599937439\n"
          ]
        },
        {
          "output_type": "stream",
          "name": "stderr",
          "text": [
            "\r  2%|▎         | 25/1000 [00:05<03:26,  4.72it/s]"
          ]
        },
        {
          "output_type": "stream",
          "name": "stdout",
          "text": [
            "Epoch 25, loss 0.9735003113746643\n",
            "Epoch 26, loss 0.9674410223960876\n"
          ]
        },
        {
          "output_type": "stream",
          "name": "stderr",
          "text": [
            "  3%|▎         | 27/1000 [00:05<03:20,  4.84it/s]"
          ]
        },
        {
          "output_type": "stream",
          "name": "stdout",
          "text": [
            "Epoch 27, loss 0.9613035917282104\n"
          ]
        },
        {
          "output_type": "stream",
          "name": "stderr",
          "text": [
            "\r  3%|▎         | 28/1000 [00:05<03:19,  4.88it/s]"
          ]
        },
        {
          "output_type": "stream",
          "name": "stdout",
          "text": [
            "Epoch 28, loss 0.9550766944885254\n"
          ]
        },
        {
          "output_type": "stream",
          "name": "stderr",
          "text": [
            "\r  3%|▎         | 29/1000 [00:06<03:24,  4.76it/s]"
          ]
        },
        {
          "output_type": "stream",
          "name": "stdout",
          "text": [
            "Epoch 29, loss 0.9487987160682678\n"
          ]
        },
        {
          "output_type": "stream",
          "name": "stderr",
          "text": [
            "\r  3%|▎         | 30/1000 [00:06<03:31,  4.59it/s]"
          ]
        },
        {
          "output_type": "stream",
          "name": "stdout",
          "text": [
            "Epoch 30, loss 0.9424475431442261\n"
          ]
        },
        {
          "output_type": "stream",
          "name": "stderr",
          "text": [
            "\r  3%|▎         | 31/1000 [00:06<03:32,  4.55it/s]"
          ]
        },
        {
          "output_type": "stream",
          "name": "stdout",
          "text": [
            "Epoch 31, loss 0.9360060095787048\n"
          ]
        },
        {
          "output_type": "stream",
          "name": "stderr",
          "text": [
            "\r  3%|▎         | 32/1000 [00:06<03:32,  4.56it/s]"
          ]
        },
        {
          "output_type": "stream",
          "name": "stdout",
          "text": [
            "Epoch 32, loss 0.9294614195823669\n",
            "Epoch 33, loss 0.9229488968849182\n"
          ]
        },
        {
          "output_type": "stream",
          "name": "stderr",
          "text": [
            "  3%|▎         | 34/1000 [00:07<03:21,  4.78it/s]"
          ]
        },
        {
          "output_type": "stream",
          "name": "stdout",
          "text": [
            "Epoch 34, loss 0.9165195226669312\n",
            "Epoch 35, loss 0.9100351333618164\n"
          ]
        },
        {
          "output_type": "stream",
          "name": "stderr",
          "text": [
            "  4%|▎         | 36/1000 [00:07<03:35,  4.47it/s]"
          ]
        },
        {
          "output_type": "stream",
          "name": "stdout",
          "text": [
            "Epoch 36, loss 0.9034619927406311\n"
          ]
        },
        {
          "output_type": "stream",
          "name": "stderr",
          "text": [
            "\r  4%|▎         | 37/1000 [00:07<03:40,  4.36it/s]"
          ]
        },
        {
          "output_type": "stream",
          "name": "stdout",
          "text": [
            "Epoch 37, loss 0.8968026041984558\n"
          ]
        },
        {
          "output_type": "stream",
          "name": "stderr",
          "text": [
            "\r  4%|▍         | 38/1000 [00:08<03:33,  4.51it/s]"
          ]
        },
        {
          "output_type": "stream",
          "name": "stdout",
          "text": [
            "Epoch 38, loss 0.8901268839836121\n"
          ]
        },
        {
          "output_type": "stream",
          "name": "stderr",
          "text": [
            "\r  4%|▍         | 39/1000 [00:08<03:34,  4.49it/s]"
          ]
        },
        {
          "output_type": "stream",
          "name": "stdout",
          "text": [
            "Epoch 39, loss 0.8834140300750732\n"
          ]
        },
        {
          "output_type": "stream",
          "name": "stderr",
          "text": [
            "\r  4%|▍         | 40/1000 [00:08<03:40,  4.36it/s]"
          ]
        },
        {
          "output_type": "stream",
          "name": "stdout",
          "text": [
            "Epoch 40, loss 0.8767348527908325\n"
          ]
        },
        {
          "output_type": "stream",
          "name": "stderr",
          "text": [
            "\r  4%|▍         | 41/1000 [00:08<03:36,  4.43it/s]"
          ]
        },
        {
          "output_type": "stream",
          "name": "stdout",
          "text": [
            "Epoch 41, loss 0.8700859546661377\n"
          ]
        },
        {
          "output_type": "stream",
          "name": "stderr",
          "text": [
            "\r  4%|▍         | 42/1000 [00:09<03:34,  4.47it/s]"
          ]
        },
        {
          "output_type": "stream",
          "name": "stdout",
          "text": [
            "Epoch 42, loss 0.8634309768676758\n"
          ]
        },
        {
          "output_type": "stream",
          "name": "stderr",
          "text": [
            "\r  4%|▍         | 43/1000 [00:09<03:45,  4.24it/s]"
          ]
        },
        {
          "output_type": "stream",
          "name": "stdout",
          "text": [
            "Epoch 43, loss 0.8567940592765808\n"
          ]
        },
        {
          "output_type": "stream",
          "name": "stderr",
          "text": [
            "\r  4%|▍         | 44/1000 [00:09<03:41,  4.31it/s]"
          ]
        },
        {
          "output_type": "stream",
          "name": "stdout",
          "text": [
            "Epoch 44, loss 0.8501755595207214\n"
          ]
        },
        {
          "output_type": "stream",
          "name": "stderr",
          "text": [
            "\r  4%|▍         | 45/1000 [00:09<03:37,  4.38it/s]"
          ]
        },
        {
          "output_type": "stream",
          "name": "stdout",
          "text": [
            "Epoch 45, loss 0.8436976075172424\n"
          ]
        },
        {
          "output_type": "stream",
          "name": "stderr",
          "text": [
            "\r  5%|▍         | 46/1000 [00:09<03:36,  4.41it/s]"
          ]
        },
        {
          "output_type": "stream",
          "name": "stdout",
          "text": [
            "Epoch 46, loss 0.8374419808387756\n"
          ]
        },
        {
          "output_type": "stream",
          "name": "stderr",
          "text": [
            "\r  5%|▍         | 47/1000 [00:10<03:40,  4.32it/s]"
          ]
        },
        {
          "output_type": "stream",
          "name": "stdout",
          "text": [
            "Epoch 47, loss 0.831250011920929\n"
          ]
        },
        {
          "output_type": "stream",
          "name": "stderr",
          "text": [
            "\r  5%|▍         | 48/1000 [00:10<03:40,  4.33it/s]"
          ]
        },
        {
          "output_type": "stream",
          "name": "stdout",
          "text": [
            "Epoch 48, loss 0.82508385181427\n"
          ]
        },
        {
          "output_type": "stream",
          "name": "stderr",
          "text": [
            "\r  5%|▍         | 49/1000 [00:10<03:45,  4.21it/s]"
          ]
        },
        {
          "output_type": "stream",
          "name": "stdout",
          "text": [
            "Epoch 49, loss 0.8189500570297241\n"
          ]
        },
        {
          "output_type": "stream",
          "name": "stderr",
          "text": [
            "\r  5%|▌         | 50/1000 [00:10<03:46,  4.19it/s]"
          ]
        },
        {
          "output_type": "stream",
          "name": "stdout",
          "text": [
            "Epoch 50, loss 0.8128252625465393\n"
          ]
        },
        {
          "output_type": "stream",
          "name": "stderr",
          "text": [
            "\r  5%|▌         | 51/1000 [00:11<03:41,  4.29it/s]"
          ]
        },
        {
          "output_type": "stream",
          "name": "stdout",
          "text": [
            "Epoch 51, loss 0.8067210912704468\n"
          ]
        },
        {
          "output_type": "stream",
          "name": "stderr",
          "text": [
            "\r  5%|▌         | 52/1000 [00:11<03:37,  4.36it/s]"
          ]
        },
        {
          "output_type": "stream",
          "name": "stdout",
          "text": [
            "Epoch 52, loss 0.8007732629776001\n"
          ]
        },
        {
          "output_type": "stream",
          "name": "stderr",
          "text": [
            "\r  5%|▌         | 53/1000 [00:11<03:32,  4.46it/s]"
          ]
        },
        {
          "output_type": "stream",
          "name": "stdout",
          "text": [
            "Epoch 53, loss 0.7950276732444763\n",
            "Epoch 54, loss 0.7894139289855957\n"
          ]
        },
        {
          "output_type": "stream",
          "name": "stderr",
          "text": [
            "  6%|▌         | 55/1000 [00:12<03:34,  4.40it/s]"
          ]
        },
        {
          "output_type": "stream",
          "name": "stdout",
          "text": [
            "Epoch 55, loss 0.7839089632034302\n"
          ]
        },
        {
          "output_type": "stream",
          "name": "stderr",
          "text": [
            "\r  6%|▌         | 56/1000 [00:12<03:30,  4.48it/s]"
          ]
        },
        {
          "output_type": "stream",
          "name": "stdout",
          "text": [
            "Epoch 56, loss 0.7785124778747559\n"
          ]
        },
        {
          "output_type": "stream",
          "name": "stderr",
          "text": [
            "\r  6%|▌         | 57/1000 [00:12<03:30,  4.48it/s]"
          ]
        },
        {
          "output_type": "stream",
          "name": "stdout",
          "text": [
            "Epoch 57, loss 0.7732142210006714\n"
          ]
        },
        {
          "output_type": "stream",
          "name": "stderr",
          "text": [
            "\r  6%|▌         | 58/1000 [00:12<03:29,  4.49it/s]"
          ]
        },
        {
          "output_type": "stream",
          "name": "stdout",
          "text": [
            "Epoch 58, loss 0.7680380940437317\n"
          ]
        },
        {
          "output_type": "stream",
          "name": "stderr",
          "text": [
            "\r  6%|▌         | 59/1000 [00:12<03:31,  4.45it/s]"
          ]
        },
        {
          "output_type": "stream",
          "name": "stdout",
          "text": [
            "Epoch 59, loss 0.7629764080047607\n"
          ]
        },
        {
          "output_type": "stream",
          "name": "stderr",
          "text": [
            "\r  6%|▌         | 60/1000 [00:13<03:30,  4.46it/s]"
          ]
        },
        {
          "output_type": "stream",
          "name": "stdout",
          "text": [
            "Epoch 60, loss 0.7580273747444153\n"
          ]
        },
        {
          "output_type": "stream",
          "name": "stderr",
          "text": [
            "\r  6%|▌         | 61/1000 [00:13<03:26,  4.54it/s]"
          ]
        },
        {
          "output_type": "stream",
          "name": "stdout",
          "text": [
            "Epoch 61, loss 0.7532342076301575\n"
          ]
        },
        {
          "output_type": "stream",
          "name": "stderr",
          "text": [
            "\r  6%|▌         | 62/1000 [00:13<03:31,  4.43it/s]"
          ]
        },
        {
          "output_type": "stream",
          "name": "stdout",
          "text": [
            "Epoch 62, loss 0.7485591769218445\n"
          ]
        },
        {
          "output_type": "stream",
          "name": "stderr",
          "text": [
            "\r  6%|▋         | 63/1000 [00:13<03:26,  4.54it/s]"
          ]
        },
        {
          "output_type": "stream",
          "name": "stdout",
          "text": [
            "Epoch 63, loss 0.7440503239631653\n"
          ]
        },
        {
          "output_type": "stream",
          "name": "stderr",
          "text": [
            "\r  6%|▋         | 64/1000 [00:14<03:20,  4.66it/s]"
          ]
        },
        {
          "output_type": "stream",
          "name": "stdout",
          "text": [
            "Epoch 64, loss 0.7397866249084473\n",
            "Epoch 65, loss 0.7358369827270508\n"
          ]
        },
        {
          "output_type": "stream",
          "name": "stderr",
          "text": [
            "  7%|▋         | 66/1000 [00:14<03:17,  4.74it/s]"
          ]
        },
        {
          "output_type": "stream",
          "name": "stdout",
          "text": [
            "Epoch 66, loss 0.7318798899650574\n",
            "Epoch 67, loss 0.7276254892349243\n"
          ]
        },
        {
          "output_type": "stream",
          "name": "stderr",
          "text": [
            "  7%|▋         | 68/1000 [00:14<03:12,  4.85it/s]"
          ]
        },
        {
          "output_type": "stream",
          "name": "stdout",
          "text": [
            "Epoch 68, loss 0.7234402298927307\n",
            "Epoch 69, loss 0.7199782729148865\n"
          ]
        },
        {
          "output_type": "stream",
          "name": "stderr",
          "text": [
            "  7%|▋         | 70/1000 [00:15<03:13,  4.80it/s]"
          ]
        },
        {
          "output_type": "stream",
          "name": "stdout",
          "text": [
            "Epoch 70, loss 0.7166906595230103\n",
            "Epoch 71, loss 0.7129824161529541\n"
          ]
        },
        {
          "output_type": "stream",
          "name": "stderr",
          "text": [
            "  7%|▋         | 72/1000 [00:15<03:19,  4.66it/s]"
          ]
        },
        {
          "output_type": "stream",
          "name": "stdout",
          "text": [
            "Epoch 72, loss 0.7094033360481262\n"
          ]
        },
        {
          "output_type": "stream",
          "name": "stderr",
          "text": [
            "\r  7%|▋         | 73/1000 [00:15<03:19,  4.65it/s]"
          ]
        },
        {
          "output_type": "stream",
          "name": "stdout",
          "text": [
            "Epoch 73, loss 0.7062856554985046\n"
          ]
        },
        {
          "output_type": "stream",
          "name": "stderr",
          "text": [
            "\r  7%|▋         | 74/1000 [00:16<03:19,  4.63it/s]"
          ]
        },
        {
          "output_type": "stream",
          "name": "stdout",
          "text": [
            "Epoch 74, loss 0.7031255960464478\n"
          ]
        },
        {
          "output_type": "stream",
          "name": "stderr",
          "text": [
            "\r  8%|▊         | 75/1000 [00:16<03:18,  4.67it/s]"
          ]
        },
        {
          "output_type": "stream",
          "name": "stdout",
          "text": [
            "Epoch 75, loss 0.6997381448745728\n"
          ]
        },
        {
          "output_type": "stream",
          "name": "stderr",
          "text": [
            "\r  8%|▊         | 76/1000 [00:16<03:15,  4.73it/s]"
          ]
        },
        {
          "output_type": "stream",
          "name": "stdout",
          "text": [
            "Epoch 76, loss 0.6964854001998901\n"
          ]
        },
        {
          "output_type": "stream",
          "name": "stderr",
          "text": [
            "\r  8%|▊         | 77/1000 [00:16<03:12,  4.80it/s]"
          ]
        },
        {
          "output_type": "stream",
          "name": "stdout",
          "text": [
            "Epoch 77, loss 0.6935322880744934\n"
          ]
        },
        {
          "output_type": "stream",
          "name": "stderr",
          "text": [
            "\r  8%|▊         | 78/1000 [00:16<03:17,  4.68it/s]"
          ]
        },
        {
          "output_type": "stream",
          "name": "stdout",
          "text": [
            "Epoch 78, loss 0.6906325817108154\n"
          ]
        },
        {
          "output_type": "stream",
          "name": "stderr",
          "text": [
            "\r  8%|▊         | 79/1000 [00:17<03:21,  4.58it/s]"
          ]
        },
        {
          "output_type": "stream",
          "name": "stdout",
          "text": [
            "Epoch 79, loss 0.6875997185707092\n"
          ]
        },
        {
          "output_type": "stream",
          "name": "stderr",
          "text": [
            "\r  8%|▊         | 80/1000 [00:17<03:22,  4.54it/s]"
          ]
        },
        {
          "output_type": "stream",
          "name": "stdout",
          "text": [
            "Epoch 80, loss 0.6845880150794983\n"
          ]
        },
        {
          "output_type": "stream",
          "name": "stderr",
          "text": [
            "\r  8%|▊         | 81/1000 [00:17<03:17,  4.65it/s]"
          ]
        },
        {
          "output_type": "stream",
          "name": "stdout",
          "text": [
            "Epoch 81, loss 0.6817761659622192\n"
          ]
        },
        {
          "output_type": "stream",
          "name": "stderr",
          "text": [
            "\r  8%|▊         | 82/1000 [00:17<03:16,  4.68it/s]"
          ]
        },
        {
          "output_type": "stream",
          "name": "stdout",
          "text": [
            "Epoch 82, loss 0.6790997385978699\n"
          ]
        },
        {
          "output_type": "stream",
          "name": "stderr",
          "text": [
            "\r  8%|▊         | 83/1000 [00:18<03:15,  4.69it/s]"
          ]
        },
        {
          "output_type": "stream",
          "name": "stdout",
          "text": [
            "Epoch 83, loss 0.6763668656349182\n"
          ]
        },
        {
          "output_type": "stream",
          "name": "stderr",
          "text": [
            "\r  8%|▊         | 84/1000 [00:18<03:17,  4.63it/s]"
          ]
        },
        {
          "output_type": "stream",
          "name": "stdout",
          "text": [
            "Epoch 84, loss 0.6735458970069885\n"
          ]
        },
        {
          "output_type": "stream",
          "name": "stderr",
          "text": [
            "\r  8%|▊         | 85/1000 [00:18<03:13,  4.73it/s]"
          ]
        },
        {
          "output_type": "stream",
          "name": "stdout",
          "text": [
            "Epoch 85, loss 0.6708335280418396\n",
            "Epoch 86, loss 0.6682735085487366\n"
          ]
        },
        {
          "output_type": "stream",
          "name": "stderr",
          "text": [
            "  9%|▊         | 87/1000 [00:18<03:18,  4.60it/s]"
          ]
        },
        {
          "output_type": "stream",
          "name": "stdout",
          "text": [
            "Epoch 87, loss 0.6657538414001465\n"
          ]
        },
        {
          "output_type": "stream",
          "name": "stderr",
          "text": [
            "\r  9%|▉         | 88/1000 [00:19<03:12,  4.73it/s]"
          ]
        },
        {
          "output_type": "stream",
          "name": "stdout",
          "text": [
            "Epoch 88, loss 0.6631865501403809\n",
            "Epoch 89, loss 0.6605921387672424\n"
          ]
        },
        {
          "output_type": "stream",
          "name": "stderr",
          "text": [
            "  9%|▉         | 90/1000 [00:19<03:15,  4.67it/s]"
          ]
        },
        {
          "output_type": "stream",
          "name": "stdout",
          "text": [
            "Epoch 90, loss 0.6580079197883606\n"
          ]
        },
        {
          "output_type": "stream",
          "name": "stderr",
          "text": [
            "\r  9%|▉         | 91/1000 [00:19<03:17,  4.61it/s]"
          ]
        },
        {
          "output_type": "stream",
          "name": "stdout",
          "text": [
            "Epoch 91, loss 0.6554834842681885\n"
          ]
        },
        {
          "output_type": "stream",
          "name": "stderr",
          "text": [
            "\r  9%|▉         | 92/1000 [00:19<03:18,  4.57it/s]"
          ]
        },
        {
          "output_type": "stream",
          "name": "stdout",
          "text": [
            "Epoch 92, loss 0.6529879570007324\n"
          ]
        },
        {
          "output_type": "stream",
          "name": "stderr",
          "text": [
            "\r  9%|▉         | 93/1000 [00:20<03:15,  4.63it/s]"
          ]
        },
        {
          "output_type": "stream",
          "name": "stdout",
          "text": [
            "Epoch 93, loss 0.6505930423736572\n"
          ]
        },
        {
          "output_type": "stream",
          "name": "stderr",
          "text": [
            "\r  9%|▉         | 94/1000 [00:20<03:10,  4.74it/s]"
          ]
        },
        {
          "output_type": "stream",
          "name": "stdout",
          "text": [
            "Epoch 94, loss 0.6483017206192017\n",
            "Epoch 95, loss 0.6460866928100586\n"
          ]
        },
        {
          "output_type": "stream",
          "name": "stderr",
          "text": [
            " 10%|▉         | 96/1000 [00:20<03:09,  4.78it/s]"
          ]
        },
        {
          "output_type": "stream",
          "name": "stdout",
          "text": [
            "Epoch 96, loss 0.6438910365104675\n"
          ]
        },
        {
          "output_type": "stream",
          "name": "stderr",
          "text": [
            "\r 10%|▉         | 97/1000 [00:21<03:06,  4.85it/s]"
          ]
        },
        {
          "output_type": "stream",
          "name": "stdout",
          "text": [
            "Epoch 97, loss 0.6416868567466736\n",
            "Epoch 98, loss 0.639477014541626\n"
          ]
        },
        {
          "output_type": "stream",
          "name": "stderr",
          "text": [
            " 10%|▉         | 99/1000 [00:21<03:24,  4.41it/s]"
          ]
        },
        {
          "output_type": "stream",
          "name": "stdout",
          "text": [
            "Epoch 99, loss 0.637278139591217\n"
          ]
        },
        {
          "output_type": "stream",
          "name": "stderr",
          "text": [
            "\r 10%|█         | 100/1000 [00:21<03:28,  4.32it/s]"
          ]
        },
        {
          "output_type": "stream",
          "name": "stdout",
          "text": [
            "Epoch 100, loss 0.6351215839385986\n"
          ]
        },
        {
          "output_type": "stream",
          "name": "stderr",
          "text": [
            "\r 10%|█         | 101/1000 [00:21<03:28,  4.32it/s]"
          ]
        },
        {
          "output_type": "stream",
          "name": "stdout",
          "text": [
            "Epoch 101, loss 0.6330272555351257\n"
          ]
        },
        {
          "output_type": "stream",
          "name": "stderr",
          "text": [
            "\r 10%|█         | 102/1000 [00:22<03:26,  4.34it/s]"
          ]
        },
        {
          "output_type": "stream",
          "name": "stdout",
          "text": [
            "Epoch 102, loss 0.6309816837310791\n"
          ]
        },
        {
          "output_type": "stream",
          "name": "stderr",
          "text": [
            "\r 10%|█         | 103/1000 [00:22<03:24,  4.39it/s]"
          ]
        },
        {
          "output_type": "stream",
          "name": "stdout",
          "text": [
            "Epoch 103, loss 0.6289961338043213\n"
          ]
        },
        {
          "output_type": "stream",
          "name": "stderr",
          "text": [
            "\r 10%|█         | 104/1000 [00:22<03:28,  4.30it/s]"
          ]
        },
        {
          "output_type": "stream",
          "name": "stdout",
          "text": [
            "Epoch 104, loss 0.6270782351493835\n"
          ]
        },
        {
          "output_type": "stream",
          "name": "stderr",
          "text": [
            "\r 10%|█         | 105/1000 [00:22<03:24,  4.39it/s]"
          ]
        },
        {
          "output_type": "stream",
          "name": "stdout",
          "text": [
            "Epoch 105, loss 0.6252415776252747\n"
          ]
        },
        {
          "output_type": "stream",
          "name": "stderr",
          "text": [
            "\r 11%|█         | 106/1000 [00:23<03:21,  4.44it/s]"
          ]
        },
        {
          "output_type": "stream",
          "name": "stdout",
          "text": [
            "Epoch 106, loss 0.6235042810440063\n"
          ]
        },
        {
          "output_type": "stream",
          "name": "stderr",
          "text": [
            "\r 11%|█         | 107/1000 [00:23<03:26,  4.33it/s]"
          ]
        },
        {
          "output_type": "stream",
          "name": "stdout",
          "text": [
            "Epoch 107, loss 0.6218241453170776\n"
          ]
        },
        {
          "output_type": "stream",
          "name": "stderr",
          "text": [
            "\r 11%|█         | 108/1000 [00:23<03:23,  4.37it/s]"
          ]
        },
        {
          "output_type": "stream",
          "name": "stdout",
          "text": [
            "Epoch 108, loss 0.6201305389404297\n"
          ]
        },
        {
          "output_type": "stream",
          "name": "stderr",
          "text": [
            "\r 11%|█         | 109/1000 [00:23<03:22,  4.40it/s]"
          ]
        },
        {
          "output_type": "stream",
          "name": "stdout",
          "text": [
            "Epoch 109, loss 0.6182677149772644\n"
          ]
        },
        {
          "output_type": "stream",
          "name": "stderr",
          "text": [
            "\r 11%|█         | 110/1000 [00:24<03:21,  4.41it/s]"
          ]
        },
        {
          "output_type": "stream",
          "name": "stdout",
          "text": [
            "Epoch 110, loss 0.6163300275802612\n"
          ]
        },
        {
          "output_type": "stream",
          "name": "stderr",
          "text": [
            "\r 11%|█         | 111/1000 [00:24<03:25,  4.32it/s]"
          ]
        },
        {
          "output_type": "stream",
          "name": "stdout",
          "text": [
            "Epoch 111, loss 0.614522397518158\n"
          ]
        },
        {
          "output_type": "stream",
          "name": "stderr",
          "text": [
            "\r 11%|█         | 112/1000 [00:24<03:27,  4.29it/s]"
          ]
        },
        {
          "output_type": "stream",
          "name": "stdout",
          "text": [
            "Epoch 112, loss 0.6129673719406128\n"
          ]
        },
        {
          "output_type": "stream",
          "name": "stderr",
          "text": [
            "\r 11%|█▏        | 113/1000 [00:24<03:28,  4.26it/s]"
          ]
        },
        {
          "output_type": "stream",
          "name": "stdout",
          "text": [
            "Epoch 113, loss 0.6115663051605225\n"
          ]
        },
        {
          "output_type": "stream",
          "name": "stderr",
          "text": [
            "\r 11%|█▏        | 114/1000 [00:24<03:23,  4.35it/s]"
          ]
        },
        {
          "output_type": "stream",
          "name": "stdout",
          "text": [
            "Epoch 114, loss 0.6101198792457581\n"
          ]
        },
        {
          "output_type": "stream",
          "name": "stderr",
          "text": [
            "\r 12%|█▏        | 115/1000 [00:25<03:23,  4.35it/s]"
          ]
        },
        {
          "output_type": "stream",
          "name": "stdout",
          "text": [
            "Epoch 115, loss 0.6085338592529297\n"
          ]
        },
        {
          "output_type": "stream",
          "name": "stderr",
          "text": [
            "\r 12%|█▏        | 116/1000 [00:25<03:23,  4.35it/s]"
          ]
        },
        {
          "output_type": "stream",
          "name": "stdout",
          "text": [
            "Epoch 116, loss 0.6069172620773315\n"
          ]
        },
        {
          "output_type": "stream",
          "name": "stderr",
          "text": [
            "\r 12%|█▏        | 117/1000 [00:25<03:23,  4.33it/s]"
          ]
        },
        {
          "output_type": "stream",
          "name": "stdout",
          "text": [
            "Epoch 117, loss 0.60545814037323\n"
          ]
        },
        {
          "output_type": "stream",
          "name": "stderr",
          "text": [
            "\r 12%|█▏        | 118/1000 [00:25<03:21,  4.39it/s]"
          ]
        },
        {
          "output_type": "stream",
          "name": "stdout",
          "text": [
            "Epoch 118, loss 0.6041573882102966\n"
          ]
        },
        {
          "output_type": "stream",
          "name": "stderr",
          "text": [
            "\r 12%|█▏        | 119/1000 [00:26<03:17,  4.46it/s]"
          ]
        },
        {
          "output_type": "stream",
          "name": "stdout",
          "text": [
            "Epoch 119, loss 0.6028799414634705\n",
            "Epoch 120, loss 0.6015331149101257\n"
          ]
        },
        {
          "output_type": "stream",
          "name": "stderr",
          "text": [
            " 12%|█▏        | 121/1000 [00:26<03:16,  4.47it/s]"
          ]
        },
        {
          "output_type": "stream",
          "name": "stdout",
          "text": [
            "Epoch 121, loss 0.6001508235931396\n"
          ]
        },
        {
          "output_type": "stream",
          "name": "stderr",
          "text": [
            "\r 12%|█▏        | 122/1000 [00:26<03:18,  4.43it/s]"
          ]
        },
        {
          "output_type": "stream",
          "name": "stdout",
          "text": [
            "Epoch 122, loss 0.5988540649414062\n"
          ]
        },
        {
          "output_type": "stream",
          "name": "stderr",
          "text": [
            "\r 12%|█▏        | 123/1000 [00:27<03:17,  4.44it/s]"
          ]
        },
        {
          "output_type": "stream",
          "name": "stdout",
          "text": [
            "Epoch 123, loss 0.597690999507904\n"
          ]
        },
        {
          "output_type": "stream",
          "name": "stderr",
          "text": [
            "\r 12%|█▏        | 124/1000 [00:27<03:11,  4.58it/s]"
          ]
        },
        {
          "output_type": "stream",
          "name": "stdout",
          "text": [
            "Epoch 124, loss 0.5965644717216492\n",
            "Epoch 125, loss 0.5953889489173889\n"
          ]
        },
        {
          "output_type": "stream",
          "name": "stderr",
          "text": [
            " 13%|█▎        | 126/1000 [00:27<03:06,  4.69it/s]"
          ]
        },
        {
          "output_type": "stream",
          "name": "stdout",
          "text": [
            "Epoch 126, loss 0.5942122936248779\n",
            "Epoch 127, loss 0.5931211113929749\n"
          ]
        },
        {
          "output_type": "stream",
          "name": "stderr",
          "text": [
            " 13%|█▎        | 128/1000 [00:28<03:05,  4.71it/s]"
          ]
        },
        {
          "output_type": "stream",
          "name": "stdout",
          "text": [
            "Epoch 128, loss 0.5920990109443665\n"
          ]
        },
        {
          "output_type": "stream",
          "name": "stderr",
          "text": [
            "\r 13%|█▎        | 129/1000 [00:28<03:09,  4.59it/s]"
          ]
        },
        {
          "output_type": "stream",
          "name": "stdout",
          "text": [
            "Epoch 129, loss 0.5910728573799133\n"
          ]
        },
        {
          "output_type": "stream",
          "name": "stderr",
          "text": [
            "\r 13%|█▎        | 130/1000 [00:28<03:10,  4.56it/s]"
          ]
        },
        {
          "output_type": "stream",
          "name": "stdout",
          "text": [
            "Epoch 130, loss 0.5900293588638306\n"
          ]
        },
        {
          "output_type": "stream",
          "name": "stderr",
          "text": [
            "\r 13%|█▎        | 131/1000 [00:28<03:08,  4.61it/s]"
          ]
        },
        {
          "output_type": "stream",
          "name": "stdout",
          "text": [
            "Epoch 131, loss 0.5890311002731323\n"
          ]
        },
        {
          "output_type": "stream",
          "name": "stderr",
          "text": [
            "\r 13%|█▎        | 132/1000 [00:28<03:04,  4.72it/s]"
          ]
        },
        {
          "output_type": "stream",
          "name": "stdout",
          "text": [
            "Epoch 132, loss 0.5881079435348511\n"
          ]
        },
        {
          "output_type": "stream",
          "name": "stderr",
          "text": [
            "\r 13%|█▎        | 133/1000 [00:29<03:09,  4.57it/s]"
          ]
        },
        {
          "output_type": "stream",
          "name": "stdout",
          "text": [
            "Epoch 133, loss 0.5872079133987427\n"
          ]
        },
        {
          "output_type": "stream",
          "name": "stderr",
          "text": [
            "\r 13%|█▎        | 134/1000 [00:29<03:08,  4.60it/s]"
          ]
        },
        {
          "output_type": "stream",
          "name": "stdout",
          "text": [
            "Epoch 134, loss 0.586305558681488\n"
          ]
        },
        {
          "output_type": "stream",
          "name": "stderr",
          "text": [
            "\r 14%|█▎        | 135/1000 [00:29<03:05,  4.67it/s]"
          ]
        },
        {
          "output_type": "stream",
          "name": "stdout",
          "text": [
            "Epoch 135, loss 0.5854161381721497\n"
          ]
        },
        {
          "output_type": "stream",
          "name": "stderr",
          "text": [
            "\r 14%|█▎        | 136/1000 [00:29<03:04,  4.68it/s]"
          ]
        },
        {
          "output_type": "stream",
          "name": "stdout",
          "text": [
            "Epoch 136, loss 0.5845745205879211\n"
          ]
        },
        {
          "output_type": "stream",
          "name": "stderr",
          "text": [
            "\r 14%|█▎        | 137/1000 [00:29<03:02,  4.72it/s]"
          ]
        },
        {
          "output_type": "stream",
          "name": "stdout",
          "text": [
            "Epoch 137, loss 0.5837912559509277\n"
          ]
        },
        {
          "output_type": "stream",
          "name": "stderr",
          "text": [
            "\r 14%|█▍        | 138/1000 [00:30<03:05,  4.65it/s]"
          ]
        },
        {
          "output_type": "stream",
          "name": "stdout",
          "text": [
            "Epoch 138, loss 0.5830435156822205\n"
          ]
        },
        {
          "output_type": "stream",
          "name": "stderr",
          "text": [
            "\r 14%|█▍        | 139/1000 [00:30<03:08,  4.57it/s]"
          ]
        },
        {
          "output_type": "stream",
          "name": "stdout",
          "text": [
            "Epoch 139, loss 0.5823113322257996\n"
          ]
        },
        {
          "output_type": "stream",
          "name": "stderr",
          "text": [
            "\r 14%|█▍        | 140/1000 [00:30<03:03,  4.69it/s]"
          ]
        },
        {
          "output_type": "stream",
          "name": "stdout",
          "text": [
            "Epoch 140, loss 0.5815989375114441\n"
          ]
        },
        {
          "output_type": "stream",
          "name": "stderr",
          "text": [
            "\r 14%|█▍        | 141/1000 [00:30<03:05,  4.63it/s]"
          ]
        },
        {
          "output_type": "stream",
          "name": "stdout",
          "text": [
            "Epoch 141, loss 0.5809226036071777\n"
          ]
        },
        {
          "output_type": "stream",
          "name": "stderr",
          "text": [
            "\r 14%|█▍        | 142/1000 [00:31<03:02,  4.70it/s]"
          ]
        },
        {
          "output_type": "stream",
          "name": "stdout",
          "text": [
            "Epoch 142, loss 0.5802852511405945\n",
            "Epoch 143, loss 0.5796791315078735\n"
          ]
        },
        {
          "output_type": "stream",
          "name": "stderr",
          "text": [
            " 14%|█▍        | 144/1000 [00:31<02:56,  4.84it/s]"
          ]
        },
        {
          "output_type": "stream",
          "name": "stdout",
          "text": [
            "Epoch 144, loss 0.5790949463844299\n"
          ]
        },
        {
          "output_type": "stream",
          "name": "stderr",
          "text": [
            "\r 14%|█▍        | 145/1000 [00:31<03:05,  4.62it/s]"
          ]
        },
        {
          "output_type": "stream",
          "name": "stdout",
          "text": [
            "Epoch 145, loss 0.5785329937934875\n"
          ]
        },
        {
          "output_type": "stream",
          "name": "stderr",
          "text": [
            "\r 15%|█▍        | 146/1000 [00:31<03:06,  4.57it/s]"
          ]
        },
        {
          "output_type": "stream",
          "name": "stdout",
          "text": [
            "Epoch 146, loss 0.5780017971992493\n"
          ]
        },
        {
          "output_type": "stream",
          "name": "stderr",
          "text": [
            "\r 15%|█▍        | 147/1000 [00:32<03:06,  4.57it/s]"
          ]
        },
        {
          "output_type": "stream",
          "name": "stdout",
          "text": [
            "Epoch 147, loss 0.5774904489517212\n"
          ]
        },
        {
          "output_type": "stream",
          "name": "stderr",
          "text": [
            "\r 15%|█▍        | 148/1000 [00:32<03:03,  4.65it/s]"
          ]
        },
        {
          "output_type": "stream",
          "name": "stdout",
          "text": [
            "Epoch 148, loss 0.5769934058189392\n"
          ]
        },
        {
          "output_type": "stream",
          "name": "stderr",
          "text": [
            "\r 15%|█▍        | 149/1000 [00:32<03:05,  4.58it/s]"
          ]
        },
        {
          "output_type": "stream",
          "name": "stdout",
          "text": [
            "Epoch 149, loss 0.5765151381492615\n"
          ]
        },
        {
          "output_type": "stream",
          "name": "stderr",
          "text": [
            "\r 15%|█▌        | 150/1000 [00:32<03:09,  4.48it/s]"
          ]
        },
        {
          "output_type": "stream",
          "name": "stdout",
          "text": [
            "Epoch 150, loss 0.5760582089424133\n"
          ]
        },
        {
          "output_type": "stream",
          "name": "stderr",
          "text": [
            "\r 15%|█▌        | 151/1000 [00:33<03:10,  4.45it/s]"
          ]
        },
        {
          "output_type": "stream",
          "name": "stdout",
          "text": [
            "Epoch 151, loss 0.575614869594574\n"
          ]
        },
        {
          "output_type": "stream",
          "name": "stderr",
          "text": [
            "\r 15%|█▌        | 152/1000 [00:33<03:04,  4.59it/s]"
          ]
        },
        {
          "output_type": "stream",
          "name": "stdout",
          "text": [
            "Epoch 152, loss 0.5751857757568359\n",
            "Epoch 153, loss 0.5747774839401245\n"
          ]
        },
        {
          "output_type": "stream",
          "name": "stderr",
          "text": [
            " 15%|█▌        | 154/1000 [00:33<03:08,  4.49it/s]"
          ]
        },
        {
          "output_type": "stream",
          "name": "stdout",
          "text": [
            "Epoch 154, loss 0.5743832588195801\n"
          ]
        },
        {
          "output_type": "stream",
          "name": "stderr",
          "text": [
            "\r 16%|█▌        | 155/1000 [00:33<03:08,  4.48it/s]"
          ]
        },
        {
          "output_type": "stream",
          "name": "stdout",
          "text": [
            "Epoch 155, loss 0.5740034580230713\n"
          ]
        },
        {
          "output_type": "stream",
          "name": "stderr",
          "text": [
            "\r 16%|█▌        | 156/1000 [00:34<03:04,  4.56it/s]"
          ]
        },
        {
          "output_type": "stream",
          "name": "stdout",
          "text": [
            "Epoch 156, loss 0.5736476182937622\n"
          ]
        },
        {
          "output_type": "stream",
          "name": "stderr",
          "text": [
            "\r 16%|█▌        | 157/1000 [00:34<03:06,  4.51it/s]"
          ]
        },
        {
          "output_type": "stream",
          "name": "stdout",
          "text": [
            "Epoch 157, loss 0.5733064413070679\n"
          ]
        },
        {
          "output_type": "stream",
          "name": "stderr",
          "text": [
            "\r 16%|█▌        | 158/1000 [00:34<03:00,  4.67it/s]"
          ]
        },
        {
          "output_type": "stream",
          "name": "stdout",
          "text": [
            "Epoch 158, loss 0.5729731917381287\n",
            "Epoch 159, loss 0.5726541876792908\n"
          ]
        },
        {
          "output_type": "stream",
          "name": "stderr",
          "text": [
            " 16%|█▌        | 160/1000 [00:35<03:10,  4.41it/s]"
          ]
        },
        {
          "output_type": "stream",
          "name": "stdout",
          "text": [
            "Epoch 160, loss 0.5723459124565125\n"
          ]
        },
        {
          "output_type": "stream",
          "name": "stderr",
          "text": [
            "\r 16%|█▌        | 161/1000 [00:35<03:10,  4.40it/s]"
          ]
        },
        {
          "output_type": "stream",
          "name": "stdout",
          "text": [
            "Epoch 161, loss 0.5720468163490295\n"
          ]
        },
        {
          "output_type": "stream",
          "name": "stderr",
          "text": [
            "\r 16%|█▌        | 162/1000 [00:35<03:10,  4.40it/s]"
          ]
        },
        {
          "output_type": "stream",
          "name": "stdout",
          "text": [
            "Epoch 162, loss 0.5717567205429077\n"
          ]
        },
        {
          "output_type": "stream",
          "name": "stderr",
          "text": [
            "\r 16%|█▋        | 163/1000 [00:35<03:14,  4.31it/s]"
          ]
        },
        {
          "output_type": "stream",
          "name": "stdout",
          "text": [
            "Epoch 163, loss 0.5714751482009888\n"
          ]
        },
        {
          "output_type": "stream",
          "name": "stderr",
          "text": [
            "\r 16%|█▋        | 164/1000 [00:35<03:10,  4.39it/s]"
          ]
        },
        {
          "output_type": "stream",
          "name": "stdout",
          "text": [
            "Epoch 164, loss 0.5712037086486816\n"
          ]
        },
        {
          "output_type": "stream",
          "name": "stderr",
          "text": [
            "\r 16%|█▋        | 165/1000 [00:36<03:14,  4.28it/s]"
          ]
        },
        {
          "output_type": "stream",
          "name": "stdout",
          "text": [
            "Epoch 165, loss 0.5709440112113953\n"
          ]
        },
        {
          "output_type": "stream",
          "name": "stderr",
          "text": [
            "\r 17%|█▋        | 166/1000 [00:36<03:14,  4.28it/s]"
          ]
        },
        {
          "output_type": "stream",
          "name": "stdout",
          "text": [
            "Epoch 166, loss 0.5706929564476013\n"
          ]
        },
        {
          "output_type": "stream",
          "name": "stderr",
          "text": [
            "\r 17%|█▋        | 167/1000 [00:36<03:19,  4.18it/s]"
          ]
        },
        {
          "output_type": "stream",
          "name": "stdout",
          "text": [
            "Epoch 167, loss 0.5704495310783386\n"
          ]
        },
        {
          "output_type": "stream",
          "name": "stderr",
          "text": [
            "\r 17%|█▋        | 168/1000 [00:36<03:17,  4.21it/s]"
          ]
        },
        {
          "output_type": "stream",
          "name": "stdout",
          "text": [
            "Epoch 168, loss 0.5702123045921326\n"
          ]
        },
        {
          "output_type": "stream",
          "name": "stderr",
          "text": [
            "\r 17%|█▋        | 169/1000 [00:37<03:14,  4.26it/s]"
          ]
        },
        {
          "output_type": "stream",
          "name": "stdout",
          "text": [
            "Epoch 169, loss 0.5699828863143921\n"
          ]
        },
        {
          "output_type": "stream",
          "name": "stderr",
          "text": [
            "\r 17%|█▋        | 170/1000 [00:37<03:18,  4.19it/s]"
          ]
        },
        {
          "output_type": "stream",
          "name": "stdout",
          "text": [
            "Epoch 170, loss 0.5697622299194336\n"
          ]
        },
        {
          "output_type": "stream",
          "name": "stderr",
          "text": [
            "\r 17%|█▋        | 171/1000 [00:37<03:16,  4.23it/s]"
          ]
        },
        {
          "output_type": "stream",
          "name": "stdout",
          "text": [
            "Epoch 171, loss 0.5695474743843079\n"
          ]
        },
        {
          "output_type": "stream",
          "name": "stderr",
          "text": [
            "\r 17%|█▋        | 172/1000 [00:37<03:16,  4.22it/s]"
          ]
        },
        {
          "output_type": "stream",
          "name": "stdout",
          "text": [
            "Epoch 172, loss 0.5693389177322388\n"
          ]
        },
        {
          "output_type": "stream",
          "name": "stderr",
          "text": [
            "\r 17%|█▋        | 173/1000 [00:38<03:14,  4.26it/s]"
          ]
        },
        {
          "output_type": "stream",
          "name": "stdout",
          "text": [
            "Epoch 173, loss 0.5691362619400024\n"
          ]
        },
        {
          "output_type": "stream",
          "name": "stderr",
          "text": [
            "\r 17%|█▋        | 174/1000 [00:38<03:12,  4.29it/s]"
          ]
        },
        {
          "output_type": "stream",
          "name": "stdout",
          "text": [
            "Epoch 174, loss 0.5689385533332825\n"
          ]
        },
        {
          "output_type": "stream",
          "name": "stderr",
          "text": [
            "\r 18%|█▊        | 175/1000 [00:38<03:09,  4.36it/s]"
          ]
        },
        {
          "output_type": "stream",
          "name": "stdout",
          "text": [
            "Epoch 175, loss 0.5687452554702759\n"
          ]
        },
        {
          "output_type": "stream",
          "name": "stderr",
          "text": [
            "\r 18%|█▊        | 176/1000 [00:38<03:03,  4.50it/s]"
          ]
        },
        {
          "output_type": "stream",
          "name": "stdout",
          "text": [
            "Epoch 176, loss 0.5685551166534424\n"
          ]
        },
        {
          "output_type": "stream",
          "name": "stderr",
          "text": [
            "\r 18%|█▊        | 177/1000 [00:38<03:05,  4.45it/s]"
          ]
        },
        {
          "output_type": "stream",
          "name": "stdout",
          "text": [
            "Epoch 177, loss 0.5683727860450745\n"
          ]
        },
        {
          "output_type": "stream",
          "name": "stderr",
          "text": [
            "\r 18%|█▊        | 178/1000 [00:39<03:06,  4.40it/s]"
          ]
        },
        {
          "output_type": "stream",
          "name": "stdout",
          "text": [
            "Epoch 178, loss 0.5681952238082886\n"
          ]
        },
        {
          "output_type": "stream",
          "name": "stderr",
          "text": [
            "\r 18%|█▊        | 179/1000 [00:39<03:04,  4.45it/s]"
          ]
        },
        {
          "output_type": "stream",
          "name": "stdout",
          "text": [
            "Epoch 179, loss 0.5680232644081116\n"
          ]
        },
        {
          "output_type": "stream",
          "name": "stderr",
          "text": [
            "\r 18%|█▊        | 180/1000 [00:39<03:03,  4.46it/s]"
          ]
        },
        {
          "output_type": "stream",
          "name": "stdout",
          "text": [
            "Epoch 180, loss 0.567855954170227\n"
          ]
        },
        {
          "output_type": "stream",
          "name": "stderr",
          "text": [
            "\r 18%|█▊        | 181/1000 [00:39<03:11,  4.28it/s]"
          ]
        },
        {
          "output_type": "stream",
          "name": "stdout",
          "text": [
            "Epoch 181, loss 0.5676918625831604\n"
          ]
        },
        {
          "output_type": "stream",
          "name": "stderr",
          "text": [
            "\r 18%|█▊        | 182/1000 [00:40<03:08,  4.34it/s]"
          ]
        },
        {
          "output_type": "stream",
          "name": "stdout",
          "text": [
            "Epoch 182, loss 0.5675325393676758\n"
          ]
        },
        {
          "output_type": "stream",
          "name": "stderr",
          "text": [
            "\r 18%|█▊        | 183/1000 [00:40<03:07,  4.37it/s]"
          ]
        },
        {
          "output_type": "stream",
          "name": "stdout",
          "text": [
            "Epoch 183, loss 0.5673801302909851\n"
          ]
        },
        {
          "output_type": "stream",
          "name": "stderr",
          "text": [
            "\r 18%|█▊        | 184/1000 [00:40<03:13,  4.21it/s]"
          ]
        },
        {
          "output_type": "stream",
          "name": "stdout",
          "text": [
            "Epoch 184, loss 0.567229688167572\n"
          ]
        },
        {
          "output_type": "stream",
          "name": "stderr",
          "text": [
            "\r 18%|█▊        | 185/1000 [00:40<03:06,  4.37it/s]"
          ]
        },
        {
          "output_type": "stream",
          "name": "stdout",
          "text": [
            "Epoch 185, loss 0.5670815706253052\n",
            "Epoch 186, loss 0.5669376254081726\n"
          ]
        },
        {
          "output_type": "stream",
          "name": "stderr",
          "text": [
            " 19%|█▊        | 187/1000 [00:41<02:58,  4.55it/s]"
          ]
        },
        {
          "output_type": "stream",
          "name": "stdout",
          "text": [
            "Epoch 187, loss 0.5667981505393982\n"
          ]
        },
        {
          "output_type": "stream",
          "name": "stderr",
          "text": [
            "\r 19%|█▉        | 188/1000 [00:41<02:52,  4.71it/s]"
          ]
        },
        {
          "output_type": "stream",
          "name": "stdout",
          "text": [
            "Epoch 188, loss 0.5666631460189819\n",
            "Epoch 189, loss 0.5665326714515686\n"
          ]
        },
        {
          "output_type": "stream",
          "name": "stderr",
          "text": [
            " 19%|█▉        | 190/1000 [00:41<02:52,  4.70it/s]"
          ]
        },
        {
          "output_type": "stream",
          "name": "stdout",
          "text": [
            "Epoch 190, loss 0.5664061307907104\n"
          ]
        },
        {
          "output_type": "stream",
          "name": "stderr",
          "text": [
            "\r 19%|█▉        | 191/1000 [00:42<02:51,  4.73it/s]"
          ]
        },
        {
          "output_type": "stream",
          "name": "stdout",
          "text": [
            "Epoch 191, loss 0.5662829279899597\n"
          ]
        },
        {
          "output_type": "stream",
          "name": "stderr",
          "text": [
            "\r 19%|█▉        | 192/1000 [00:42<02:48,  4.80it/s]"
          ]
        },
        {
          "output_type": "stream",
          "name": "stdout",
          "text": [
            "Epoch 192, loss 0.5661610960960388\n"
          ]
        },
        {
          "output_type": "stream",
          "name": "stderr",
          "text": [
            "\r 19%|█▉        | 193/1000 [00:42<02:55,  4.60it/s]"
          ]
        },
        {
          "output_type": "stream",
          "name": "stdout",
          "text": [
            "Epoch 193, loss 0.566043496131897\n"
          ]
        },
        {
          "output_type": "stream",
          "name": "stderr",
          "text": [
            "\r 19%|█▉        | 194/1000 [00:42<02:56,  4.58it/s]"
          ]
        },
        {
          "output_type": "stream",
          "name": "stdout",
          "text": [
            "Epoch 194, loss 0.5659286975860596\n"
          ]
        },
        {
          "output_type": "stream",
          "name": "stderr",
          "text": [
            "\r 20%|█▉        | 195/1000 [00:42<02:55,  4.58it/s]"
          ]
        },
        {
          "output_type": "stream",
          "name": "stdout",
          "text": [
            "Epoch 195, loss 0.565815269947052\n"
          ]
        },
        {
          "output_type": "stream",
          "name": "stderr",
          "text": [
            "\r 20%|█▉        | 196/1000 [00:43<02:57,  4.54it/s]"
          ]
        },
        {
          "output_type": "stream",
          "name": "stdout",
          "text": [
            "Epoch 196, loss 0.5657057166099548\n"
          ]
        },
        {
          "output_type": "stream",
          "name": "stderr",
          "text": [
            "\r 20%|█▉        | 197/1000 [00:43<02:53,  4.62it/s]"
          ]
        },
        {
          "output_type": "stream",
          "name": "stdout",
          "text": [
            "Epoch 197, loss 0.5655996799468994\n"
          ]
        },
        {
          "output_type": "stream",
          "name": "stderr",
          "text": [
            "\r 20%|█▉        | 198/1000 [00:43<02:54,  4.59it/s]"
          ]
        },
        {
          "output_type": "stream",
          "name": "stdout",
          "text": [
            "Epoch 198, loss 0.5654945969581604\n"
          ]
        },
        {
          "output_type": "stream",
          "name": "stderr",
          "text": [
            "\r 20%|█▉        | 199/1000 [00:43<02:52,  4.65it/s]"
          ]
        },
        {
          "output_type": "stream",
          "name": "stdout",
          "text": [
            "Epoch 199, loss 0.5653916001319885\n"
          ]
        },
        {
          "output_type": "stream",
          "name": "stderr",
          "text": [
            "\r 20%|██        | 200/1000 [00:44<02:58,  4.49it/s]"
          ]
        },
        {
          "output_type": "stream",
          "name": "stdout",
          "text": [
            "Epoch 200, loss 0.565291166305542\n"
          ]
        },
        {
          "output_type": "stream",
          "name": "stderr",
          "text": [
            "\r 20%|██        | 201/1000 [00:44<02:56,  4.52it/s]"
          ]
        },
        {
          "output_type": "stream",
          "name": "stdout",
          "text": [
            "Epoch 201, loss 0.5651926398277283\n"
          ]
        },
        {
          "output_type": "stream",
          "name": "stderr",
          "text": [
            "\r 20%|██        | 202/1000 [00:44<02:49,  4.70it/s]"
          ]
        },
        {
          "output_type": "stream",
          "name": "stdout",
          "text": [
            "Epoch 202, loss 0.5650959014892578\n",
            "Epoch 203, loss 0.5650011897087097\n"
          ]
        },
        {
          "output_type": "stream",
          "name": "stderr",
          "text": [
            " 20%|██        | 204/1000 [00:44<02:46,  4.78it/s]"
          ]
        },
        {
          "output_type": "stream",
          "name": "stdout",
          "text": [
            "Epoch 204, loss 0.5649089217185974\n"
          ]
        },
        {
          "output_type": "stream",
          "name": "stderr",
          "text": [
            "\r 20%|██        | 205/1000 [00:45<02:48,  4.72it/s]"
          ]
        },
        {
          "output_type": "stream",
          "name": "stdout",
          "text": [
            "Epoch 205, loss 0.5648189187049866\n"
          ]
        },
        {
          "output_type": "stream",
          "name": "stderr",
          "text": [
            "\r 21%|██        | 206/1000 [00:45<02:50,  4.66it/s]"
          ]
        },
        {
          "output_type": "stream",
          "name": "stdout",
          "text": [
            "Epoch 206, loss 0.5647314190864563\n"
          ]
        },
        {
          "output_type": "stream",
          "name": "stderr",
          "text": [
            "\r 21%|██        | 207/1000 [00:45<02:47,  4.75it/s]"
          ]
        },
        {
          "output_type": "stream",
          "name": "stdout",
          "text": [
            "Epoch 207, loss 0.5646454095840454\n"
          ]
        },
        {
          "output_type": "stream",
          "name": "stderr",
          "text": [
            "\r 21%|██        | 208/1000 [00:45<02:54,  4.54it/s]"
          ]
        },
        {
          "output_type": "stream",
          "name": "stdout",
          "text": [
            "Epoch 208, loss 0.5645602345466614\n"
          ]
        },
        {
          "output_type": "stream",
          "name": "stderr",
          "text": [
            "\r 21%|██        | 209/1000 [00:45<02:54,  4.54it/s]"
          ]
        },
        {
          "output_type": "stream",
          "name": "stdout",
          "text": [
            "Epoch 209, loss 0.5644786357879639\n"
          ]
        },
        {
          "output_type": "stream",
          "name": "stderr",
          "text": [
            "\r 21%|██        | 210/1000 [00:46<02:53,  4.56it/s]"
          ]
        },
        {
          "output_type": "stream",
          "name": "stdout",
          "text": [
            "Epoch 210, loss 0.5643962025642395\n"
          ]
        },
        {
          "output_type": "stream",
          "name": "stderr",
          "text": [
            "\r 21%|██        | 211/1000 [00:46<02:49,  4.65it/s]"
          ]
        },
        {
          "output_type": "stream",
          "name": "stdout",
          "text": [
            "Epoch 211, loss 0.5643153786659241\n"
          ]
        },
        {
          "output_type": "stream",
          "name": "stderr",
          "text": [
            "\r 21%|██        | 212/1000 [00:46<02:45,  4.76it/s]"
          ]
        },
        {
          "output_type": "stream",
          "name": "stdout",
          "text": [
            "Epoch 212, loss 0.5642354488372803\n",
            "Epoch 213, loss 0.5641555190086365\n"
          ]
        },
        {
          "output_type": "stream",
          "name": "stderr",
          "text": [
            " 21%|██▏       | 214/1000 [00:47<02:49,  4.63it/s]"
          ]
        },
        {
          "output_type": "stream",
          "name": "stdout",
          "text": [
            "Epoch 214, loss 0.5640748143196106\n"
          ]
        },
        {
          "output_type": "stream",
          "name": "stderr",
          "text": [
            "\r 22%|██▏       | 215/1000 [00:47<02:50,  4.61it/s]"
          ]
        },
        {
          "output_type": "stream",
          "name": "stdout",
          "text": [
            "Epoch 215, loss 0.5639927983283997\n"
          ]
        },
        {
          "output_type": "stream",
          "name": "stderr",
          "text": [
            "\r 22%|██▏       | 216/1000 [00:47<02:46,  4.72it/s]"
          ]
        },
        {
          "output_type": "stream",
          "name": "stdout",
          "text": [
            "Epoch 216, loss 0.5639085173606873\n"
          ]
        },
        {
          "output_type": "stream",
          "name": "stderr",
          "text": [
            "\r 22%|██▏       | 217/1000 [00:47<02:46,  4.71it/s]"
          ]
        },
        {
          "output_type": "stream",
          "name": "stdout",
          "text": [
            "Epoch 217, loss 0.5638203620910645\n"
          ]
        },
        {
          "output_type": "stream",
          "name": "stderr",
          "text": [
            "\r 22%|██▏       | 218/1000 [00:47<02:46,  4.69it/s]"
          ]
        },
        {
          "output_type": "stream",
          "name": "stdout",
          "text": [
            "Epoch 218, loss 0.563728392124176\n"
          ]
        },
        {
          "output_type": "stream",
          "name": "stderr",
          "text": [
            "\r 22%|██▏       | 219/1000 [00:48<02:45,  4.71it/s]"
          ]
        },
        {
          "output_type": "stream",
          "name": "stdout",
          "text": [
            "Epoch 219, loss 0.5636306405067444\n"
          ]
        },
        {
          "output_type": "stream",
          "name": "stderr",
          "text": [
            "\r 22%|██▏       | 220/1000 [00:48<02:49,  4.60it/s]"
          ]
        },
        {
          "output_type": "stream",
          "name": "stdout",
          "text": [
            "Epoch 220, loss 0.5635240077972412\n"
          ]
        },
        {
          "output_type": "stream",
          "name": "stderr",
          "text": [
            "\r 22%|██▏       | 221/1000 [00:48<02:57,  4.40it/s]"
          ]
        },
        {
          "output_type": "stream",
          "name": "stdout",
          "text": [
            "Epoch 221, loss 0.5634059309959412\n"
          ]
        },
        {
          "output_type": "stream",
          "name": "stderr",
          "text": [
            "\r 22%|██▏       | 222/1000 [00:48<02:57,  4.38it/s]"
          ]
        },
        {
          "output_type": "stream",
          "name": "stdout",
          "text": [
            "Epoch 222, loss 0.5632736682891846\n"
          ]
        },
        {
          "output_type": "stream",
          "name": "stderr",
          "text": [
            "\r 22%|██▏       | 223/1000 [00:49<02:58,  4.36it/s]"
          ]
        },
        {
          "output_type": "stream",
          "name": "stdout",
          "text": [
            "Epoch 223, loss 0.5631330609321594\n"
          ]
        },
        {
          "output_type": "stream",
          "name": "stderr",
          "text": [
            "\r 22%|██▏       | 224/1000 [00:49<03:07,  4.14it/s]"
          ]
        },
        {
          "output_type": "stream",
          "name": "stdout",
          "text": [
            "Epoch 224, loss 0.5629860758781433\n"
          ]
        },
        {
          "output_type": "stream",
          "name": "stderr",
          "text": [
            "\r 22%|██▎       | 225/1000 [00:49<03:06,  4.15it/s]"
          ]
        },
        {
          "output_type": "stream",
          "name": "stdout",
          "text": [
            "Epoch 225, loss 0.5628407597541809\n"
          ]
        },
        {
          "output_type": "stream",
          "name": "stderr",
          "text": [
            "\r 23%|██▎       | 226/1000 [00:49<03:03,  4.23it/s]"
          ]
        },
        {
          "output_type": "stream",
          "name": "stdout",
          "text": [
            "Epoch 226, loss 0.5626994967460632\n"
          ]
        },
        {
          "output_type": "stream",
          "name": "stderr",
          "text": [
            "\r 23%|██▎       | 227/1000 [00:50<03:01,  4.27it/s]"
          ]
        },
        {
          "output_type": "stream",
          "name": "stdout",
          "text": [
            "Epoch 227, loss 0.5625718832015991\n"
          ]
        },
        {
          "output_type": "stream",
          "name": "stderr",
          "text": [
            "\r 23%|██▎       | 228/1000 [00:50<03:02,  4.23it/s]"
          ]
        },
        {
          "output_type": "stream",
          "name": "stdout",
          "text": [
            "Epoch 228, loss 0.562450647354126\n"
          ]
        },
        {
          "output_type": "stream",
          "name": "stderr",
          "text": [
            "\r 23%|██▎       | 229/1000 [00:50<02:59,  4.30it/s]"
          ]
        },
        {
          "output_type": "stream",
          "name": "stdout",
          "text": [
            "Epoch 229, loss 0.5623379945755005\n"
          ]
        },
        {
          "output_type": "stream",
          "name": "stderr",
          "text": [
            "\r 23%|██▎       | 230/1000 [00:50<02:56,  4.37it/s]"
          ]
        },
        {
          "output_type": "stream",
          "name": "stdout",
          "text": [
            "Epoch 230, loss 0.5622344017028809\n"
          ]
        },
        {
          "output_type": "stream",
          "name": "stderr",
          "text": [
            "\r 23%|██▎       | 231/1000 [00:50<02:55,  4.37it/s]"
          ]
        },
        {
          "output_type": "stream",
          "name": "stdout",
          "text": [
            "Epoch 231, loss 0.5621387958526611\n"
          ]
        },
        {
          "output_type": "stream",
          "name": "stderr",
          "text": [
            "\r 23%|██▎       | 232/1000 [00:51<02:54,  4.39it/s]"
          ]
        },
        {
          "output_type": "stream",
          "name": "stdout",
          "text": [
            "Epoch 232, loss 0.5620476007461548\n"
          ]
        },
        {
          "output_type": "stream",
          "name": "stderr",
          "text": [
            "\r 23%|██▎       | 233/1000 [00:51<02:54,  4.40it/s]"
          ]
        },
        {
          "output_type": "stream",
          "name": "stdout",
          "text": [
            "Epoch 233, loss 0.5619608759880066\n"
          ]
        },
        {
          "output_type": "stream",
          "name": "stderr",
          "text": [
            "\r 23%|██▎       | 234/1000 [00:51<02:54,  4.38it/s]"
          ]
        },
        {
          "output_type": "stream",
          "name": "stdout",
          "text": [
            "Epoch 234, loss 0.5618785619735718\n"
          ]
        },
        {
          "output_type": "stream",
          "name": "stderr",
          "text": [
            "\r 24%|██▎       | 235/1000 [00:51<02:53,  4.41it/s]"
          ]
        },
        {
          "output_type": "stream",
          "name": "stdout",
          "text": [
            "Epoch 235, loss 0.5618013739585876\n"
          ]
        },
        {
          "output_type": "stream",
          "name": "stderr",
          "text": [
            "\r 24%|██▎       | 236/1000 [00:52<02:52,  4.43it/s]"
          ]
        },
        {
          "output_type": "stream",
          "name": "stdout",
          "text": [
            "Epoch 236, loss 0.5617284178733826\n"
          ]
        },
        {
          "output_type": "stream",
          "name": "stderr",
          "text": [
            "\r 24%|██▎       | 237/1000 [00:52<02:51,  4.45it/s]"
          ]
        },
        {
          "output_type": "stream",
          "name": "stdout",
          "text": [
            "Epoch 237, loss 0.5616570711135864\n"
          ]
        },
        {
          "output_type": "stream",
          "name": "stderr",
          "text": [
            "\r 24%|██▍       | 238/1000 [00:52<02:47,  4.56it/s]"
          ]
        },
        {
          "output_type": "stream",
          "name": "stdout",
          "text": [
            "Epoch 238, loss 0.5615888237953186\n"
          ]
        },
        {
          "output_type": "stream",
          "name": "stderr",
          "text": [
            "\r 24%|██▍       | 239/1000 [00:52<02:54,  4.36it/s]"
          ]
        },
        {
          "output_type": "stream",
          "name": "stdout",
          "text": [
            "Epoch 239, loss 0.561521589756012\n"
          ]
        },
        {
          "output_type": "stream",
          "name": "stderr",
          "text": [
            "\r 24%|██▍       | 240/1000 [00:52<02:49,  4.49it/s]"
          ]
        },
        {
          "output_type": "stream",
          "name": "stdout",
          "text": [
            "Epoch 240, loss 0.5614568591117859\n",
            "Epoch 241, loss 0.5613940954208374\n"
          ]
        },
        {
          "output_type": "stream",
          "name": "stderr",
          "text": [
            " 24%|██▍       | 242/1000 [00:53<02:42,  4.67it/s]"
          ]
        },
        {
          "output_type": "stream",
          "name": "stdout",
          "text": [
            "Epoch 242, loss 0.5613331198692322\n"
          ]
        },
        {
          "output_type": "stream",
          "name": "stderr",
          "text": [
            "\r 24%|██▍       | 243/1000 [00:53<02:43,  4.64it/s]"
          ]
        },
        {
          "output_type": "stream",
          "name": "stdout",
          "text": [
            "Epoch 243, loss 0.5612746477127075\n"
          ]
        },
        {
          "output_type": "stream",
          "name": "stderr",
          "text": [
            "\r 24%|██▍       | 244/1000 [00:53<02:41,  4.67it/s]"
          ]
        },
        {
          "output_type": "stream",
          "name": "stdout",
          "text": [
            "Epoch 244, loss 0.5612177848815918\n"
          ]
        },
        {
          "output_type": "stream",
          "name": "stderr",
          "text": [
            "\r 24%|██▍       | 245/1000 [00:54<02:46,  4.54it/s]"
          ]
        },
        {
          "output_type": "stream",
          "name": "stdout",
          "text": [
            "Epoch 245, loss 0.5611621737480164\n"
          ]
        },
        {
          "output_type": "stream",
          "name": "stderr",
          "text": [
            "\r 25%|██▍       | 246/1000 [00:54<02:47,  4.50it/s]"
          ]
        },
        {
          "output_type": "stream",
          "name": "stdout",
          "text": [
            "Epoch 246, loss 0.5611096620559692\n"
          ]
        },
        {
          "output_type": "stream",
          "name": "stderr",
          "text": [
            "\r 25%|██▍       | 247/1000 [00:54<02:51,  4.38it/s]"
          ]
        },
        {
          "output_type": "stream",
          "name": "stdout",
          "text": [
            "Epoch 247, loss 0.5610596537590027\n"
          ]
        },
        {
          "output_type": "stream",
          "name": "stderr",
          "text": [
            "\r 25%|██▍       | 248/1000 [00:54<02:47,  4.50it/s]"
          ]
        },
        {
          "output_type": "stream",
          "name": "stdout",
          "text": [
            "Epoch 248, loss 0.5610108375549316\n",
            "Epoch 249, loss 0.5609627366065979\n"
          ]
        },
        {
          "output_type": "stream",
          "name": "stderr",
          "text": [
            " 25%|██▌       | 250/1000 [00:55<02:47,  4.47it/s]"
          ]
        },
        {
          "output_type": "stream",
          "name": "stdout",
          "text": [
            "Epoch 250, loss 0.5609156489372253\n"
          ]
        },
        {
          "output_type": "stream",
          "name": "stderr",
          "text": [
            "\r 25%|██▌       | 251/1000 [00:55<02:44,  4.55it/s]"
          ]
        },
        {
          "output_type": "stream",
          "name": "stdout",
          "text": [
            "Epoch 251, loss 0.5608700513839722\n"
          ]
        },
        {
          "output_type": "stream",
          "name": "stderr",
          "text": [
            "\r 25%|██▌       | 252/1000 [00:55<02:47,  4.45it/s]"
          ]
        },
        {
          "output_type": "stream",
          "name": "stdout",
          "text": [
            "Epoch 252, loss 0.5608254671096802\n"
          ]
        },
        {
          "output_type": "stream",
          "name": "stderr",
          "text": [
            "\r 25%|██▌       | 253/1000 [00:55<02:46,  4.48it/s]"
          ]
        },
        {
          "output_type": "stream",
          "name": "stdout",
          "text": [
            "Epoch 253, loss 0.560782253742218\n"
          ]
        },
        {
          "output_type": "stream",
          "name": "stderr",
          "text": [
            "\r 25%|██▌       | 254/1000 [00:56<02:44,  4.53it/s]"
          ]
        },
        {
          "output_type": "stream",
          "name": "stdout",
          "text": [
            "Epoch 254, loss 0.560740053653717\n"
          ]
        },
        {
          "output_type": "stream",
          "name": "stderr",
          "text": [
            "\r 26%|██▌       | 255/1000 [00:56<02:41,  4.61it/s]"
          ]
        },
        {
          "output_type": "stream",
          "name": "stdout",
          "text": [
            "Epoch 255, loss 0.5606999397277832\n"
          ]
        },
        {
          "output_type": "stream",
          "name": "stderr",
          "text": [
            "\r 26%|██▌       | 256/1000 [00:56<02:37,  4.73it/s]"
          ]
        },
        {
          "output_type": "stream",
          "name": "stdout",
          "text": [
            "Epoch 256, loss 0.5606613159179688\n"
          ]
        },
        {
          "output_type": "stream",
          "name": "stderr",
          "text": [
            "\r 26%|██▌       | 257/1000 [00:56<02:40,  4.64it/s]"
          ]
        },
        {
          "output_type": "stream",
          "name": "stdout",
          "text": [
            "Epoch 257, loss 0.5606236457824707\n"
          ]
        },
        {
          "output_type": "stream",
          "name": "stderr",
          "text": [
            "\r 26%|██▌       | 258/1000 [00:56<02:36,  4.75it/s]"
          ]
        },
        {
          "output_type": "stream",
          "name": "stdout",
          "text": [
            "Epoch 258, loss 0.5605875849723816\n"
          ]
        },
        {
          "output_type": "stream",
          "name": "stderr",
          "text": [
            "\r 26%|██▌       | 259/1000 [00:57<02:38,  4.69it/s]"
          ]
        },
        {
          "output_type": "stream",
          "name": "stdout",
          "text": [
            "Epoch 259, loss 0.5605530738830566\n"
          ]
        },
        {
          "output_type": "stream",
          "name": "stderr",
          "text": [
            "\r 26%|██▌       | 260/1000 [00:57<02:33,  4.81it/s]"
          ]
        },
        {
          "output_type": "stream",
          "name": "stdout",
          "text": [
            "Epoch 260, loss 0.5605195164680481\n"
          ]
        },
        {
          "output_type": "stream",
          "name": "stderr",
          "text": [
            "\r 26%|██▌       | 261/1000 [00:57<02:34,  4.77it/s]"
          ]
        },
        {
          "output_type": "stream",
          "name": "stdout",
          "text": [
            "Epoch 261, loss 0.5604865550994873\n"
          ]
        },
        {
          "output_type": "stream",
          "name": "stderr",
          "text": [
            "\r 26%|██▌       | 262/1000 [00:57<02:33,  4.79it/s]"
          ]
        },
        {
          "output_type": "stream",
          "name": "stdout",
          "text": [
            "Epoch 262, loss 0.5604541897773743\n"
          ]
        },
        {
          "output_type": "stream",
          "name": "stderr",
          "text": [
            "\r 26%|██▋       | 263/1000 [00:57<02:35,  4.73it/s]"
          ]
        },
        {
          "output_type": "stream",
          "name": "stdout",
          "text": [
            "Epoch 263, loss 0.560422956943512\n"
          ]
        },
        {
          "output_type": "stream",
          "name": "stderr",
          "text": [
            "\r 26%|██▋       | 264/1000 [00:58<02:36,  4.70it/s]"
          ]
        },
        {
          "output_type": "stream",
          "name": "stdout",
          "text": [
            "Epoch 264, loss 0.5603928565979004\n"
          ]
        },
        {
          "output_type": "stream",
          "name": "stderr",
          "text": [
            "\r 26%|██▋       | 265/1000 [00:58<02:35,  4.73it/s]"
          ]
        },
        {
          "output_type": "stream",
          "name": "stdout",
          "text": [
            "Epoch 265, loss 0.5603635311126709\n"
          ]
        },
        {
          "output_type": "stream",
          "name": "stderr",
          "text": [
            "\r 27%|██▋       | 266/1000 [00:58<02:37,  4.67it/s]"
          ]
        },
        {
          "output_type": "stream",
          "name": "stdout",
          "text": [
            "Epoch 266, loss 0.5603348016738892\n"
          ]
        },
        {
          "output_type": "stream",
          "name": "stderr",
          "text": [
            "\r 27%|██▋       | 267/1000 [00:58<02:34,  4.75it/s]"
          ]
        },
        {
          "output_type": "stream",
          "name": "stdout",
          "text": [
            "Epoch 267, loss 0.5603070259094238\n"
          ]
        },
        {
          "output_type": "stream",
          "name": "stderr",
          "text": [
            "\r 27%|██▋       | 268/1000 [00:58<02:35,  4.70it/s]"
          ]
        },
        {
          "output_type": "stream",
          "name": "stdout",
          "text": [
            "Epoch 268, loss 0.560279905796051\n"
          ]
        },
        {
          "output_type": "stream",
          "name": "stderr",
          "text": [
            "\r 27%|██▋       | 269/1000 [00:59<02:36,  4.68it/s]"
          ]
        },
        {
          "output_type": "stream",
          "name": "stdout",
          "text": [
            "Epoch 269, loss 0.5602535605430603\n"
          ]
        },
        {
          "output_type": "stream",
          "name": "stderr",
          "text": [
            "\r 27%|██▋       | 270/1000 [00:59<02:32,  4.80it/s]"
          ]
        },
        {
          "output_type": "stream",
          "name": "stdout",
          "text": [
            "Epoch 270, loss 0.5602278709411621\n",
            "Epoch 271, loss 0.5602026581764221\n"
          ]
        },
        {
          "output_type": "stream",
          "name": "stderr",
          "text": [
            " 27%|██▋       | 272/1000 [00:59<02:40,  4.53it/s]"
          ]
        },
        {
          "output_type": "stream",
          "name": "stdout",
          "text": [
            "Epoch 272, loss 0.5601779818534851\n"
          ]
        },
        {
          "output_type": "stream",
          "name": "stderr",
          "text": [
            "\r 27%|██▋       | 273/1000 [01:00<02:37,  4.61it/s]"
          ]
        },
        {
          "output_type": "stream",
          "name": "stdout",
          "text": [
            "Epoch 273, loss 0.560153603553772\n"
          ]
        },
        {
          "output_type": "stream",
          "name": "stderr",
          "text": [
            "\r 27%|██▋       | 274/1000 [01:00<02:40,  4.52it/s]"
          ]
        },
        {
          "output_type": "stream",
          "name": "stdout",
          "text": [
            "Epoch 274, loss 0.56013023853302\n"
          ]
        },
        {
          "output_type": "stream",
          "name": "stderr",
          "text": [
            "\r 28%|██▊       | 275/1000 [01:00<02:38,  4.56it/s]"
          ]
        },
        {
          "output_type": "stream",
          "name": "stdout",
          "text": [
            "Epoch 275, loss 0.5601072907447815\n"
          ]
        },
        {
          "output_type": "stream",
          "name": "stderr",
          "text": [
            "\r 28%|██▊       | 276/1000 [01:00<02:37,  4.59it/s]"
          ]
        },
        {
          "output_type": "stream",
          "name": "stdout",
          "text": [
            "Epoch 276, loss 0.5600849986076355\n"
          ]
        },
        {
          "output_type": "stream",
          "name": "stderr",
          "text": [
            "\r 28%|██▊       | 277/1000 [01:00<02:34,  4.68it/s]"
          ]
        },
        {
          "output_type": "stream",
          "name": "stdout",
          "text": [
            "Epoch 277, loss 0.5600634217262268\n"
          ]
        },
        {
          "output_type": "stream",
          "name": "stderr",
          "text": [
            "\r 28%|██▊       | 278/1000 [01:01<02:28,  4.85it/s]"
          ]
        },
        {
          "output_type": "stream",
          "name": "stdout",
          "text": [
            "Epoch 278, loss 0.5600422024726868\n",
            "Epoch 279, loss 0.5600214600563049\n"
          ]
        },
        {
          "output_type": "stream",
          "name": "stderr",
          "text": [
            " 28%|██▊       | 280/1000 [01:01<02:32,  4.72it/s]"
          ]
        },
        {
          "output_type": "stream",
          "name": "stdout",
          "text": [
            "Epoch 280, loss 0.5600011348724365\n"
          ]
        },
        {
          "output_type": "stream",
          "name": "stderr",
          "text": [
            "\r 28%|██▊       | 281/1000 [01:01<02:35,  4.64it/s]"
          ]
        },
        {
          "output_type": "stream",
          "name": "stdout",
          "text": [
            "Epoch 281, loss 0.5599814057350159\n"
          ]
        },
        {
          "output_type": "stream",
          "name": "stderr",
          "text": [
            "\r 28%|██▊       | 282/1000 [01:02<02:43,  4.39it/s]"
          ]
        },
        {
          "output_type": "stream",
          "name": "stdout",
          "text": [
            "Epoch 282, loss 0.5599618554115295\n"
          ]
        },
        {
          "output_type": "stream",
          "name": "stderr",
          "text": [
            "\r 28%|██▊       | 283/1000 [01:02<02:46,  4.31it/s]"
          ]
        },
        {
          "output_type": "stream",
          "name": "stdout",
          "text": [
            "Epoch 283, loss 0.5599427819252014\n"
          ]
        },
        {
          "output_type": "stream",
          "name": "stderr",
          "text": [
            "\r 28%|██▊       | 284/1000 [01:02<02:47,  4.28it/s]"
          ]
        },
        {
          "output_type": "stream",
          "name": "stdout",
          "text": [
            "Epoch 284, loss 0.5599239468574524\n"
          ]
        },
        {
          "output_type": "stream",
          "name": "stderr",
          "text": [
            "\r 28%|██▊       | 285/1000 [01:02<02:44,  4.35it/s]"
          ]
        },
        {
          "output_type": "stream",
          "name": "stdout",
          "text": [
            "Epoch 285, loss 0.5599054098129272\n"
          ]
        },
        {
          "output_type": "stream",
          "name": "stderr",
          "text": [
            "\r 29%|██▊       | 286/1000 [01:02<02:47,  4.27it/s]"
          ]
        },
        {
          "output_type": "stream",
          "name": "stdout",
          "text": [
            "Epoch 286, loss 0.5598874092102051\n"
          ]
        },
        {
          "output_type": "stream",
          "name": "stderr",
          "text": [
            "\r 29%|██▊       | 287/1000 [01:03<02:46,  4.27it/s]"
          ]
        },
        {
          "output_type": "stream",
          "name": "stdout",
          "text": [
            "Epoch 287, loss 0.5598697066307068\n"
          ]
        },
        {
          "output_type": "stream",
          "name": "stderr",
          "text": [
            "\r 29%|██▉       | 288/1000 [01:03<02:44,  4.33it/s]"
          ]
        },
        {
          "output_type": "stream",
          "name": "stdout",
          "text": [
            "Epoch 288, loss 0.5598523616790771\n"
          ]
        },
        {
          "output_type": "stream",
          "name": "stderr",
          "text": [
            "\r 29%|██▉       | 289/1000 [01:03<02:45,  4.30it/s]"
          ]
        },
        {
          "output_type": "stream",
          "name": "stdout",
          "text": [
            "Epoch 289, loss 0.5598349571228027\n"
          ]
        },
        {
          "output_type": "stream",
          "name": "stderr",
          "text": [
            "\r 29%|██▉       | 290/1000 [01:03<02:49,  4.19it/s]"
          ]
        },
        {
          "output_type": "stream",
          "name": "stdout",
          "text": [
            "Epoch 290, loss 0.5598180890083313\n"
          ]
        },
        {
          "output_type": "stream",
          "name": "stderr",
          "text": [
            "\r 29%|██▉       | 291/1000 [01:04<02:46,  4.26it/s]"
          ]
        },
        {
          "output_type": "stream",
          "name": "stdout",
          "text": [
            "Epoch 291, loss 0.5598013997077942\n"
          ]
        },
        {
          "output_type": "stream",
          "name": "stderr",
          "text": [
            "\r 29%|██▉       | 292/1000 [01:04<02:43,  4.34it/s]"
          ]
        },
        {
          "output_type": "stream",
          "name": "stdout",
          "text": [
            "Epoch 292, loss 0.559785008430481\n"
          ]
        },
        {
          "output_type": "stream",
          "name": "stderr",
          "text": [
            "\r 29%|██▉       | 293/1000 [01:04<02:44,  4.31it/s]"
          ]
        },
        {
          "output_type": "stream",
          "name": "stdout",
          "text": [
            "Epoch 293, loss 0.5597690939903259\n"
          ]
        },
        {
          "output_type": "stream",
          "name": "stderr",
          "text": [
            "\r 29%|██▉       | 294/1000 [01:04<02:45,  4.26it/s]"
          ]
        },
        {
          "output_type": "stream",
          "name": "stdout",
          "text": [
            "Epoch 294, loss 0.5597531795501709\n"
          ]
        },
        {
          "output_type": "stream",
          "name": "stderr",
          "text": [
            "\r 30%|██▉       | 295/1000 [01:05<02:44,  4.29it/s]"
          ]
        },
        {
          "output_type": "stream",
          "name": "stdout",
          "text": [
            "Epoch 295, loss 0.5597373247146606\n"
          ]
        },
        {
          "output_type": "stream",
          "name": "stderr",
          "text": [
            "\r 30%|██▉       | 296/1000 [01:05<02:43,  4.31it/s]"
          ]
        },
        {
          "output_type": "stream",
          "name": "stdout",
          "text": [
            "Epoch 296, loss 0.5597217679023743\n"
          ]
        },
        {
          "output_type": "stream",
          "name": "stderr",
          "text": [
            "\r 30%|██▉       | 297/1000 [01:05<02:41,  4.36it/s]"
          ]
        },
        {
          "output_type": "stream",
          "name": "stdout",
          "text": [
            "Epoch 297, loss 0.5597068071365356\n"
          ]
        },
        {
          "output_type": "stream",
          "name": "stderr",
          "text": [
            "\r 30%|██▉       | 298/1000 [01:05<02:41,  4.34it/s]"
          ]
        },
        {
          "output_type": "stream",
          "name": "stdout",
          "text": [
            "Epoch 298, loss 0.5596917271614075\n"
          ]
        },
        {
          "output_type": "stream",
          "name": "stderr",
          "text": [
            "\r 30%|██▉       | 299/1000 [01:05<02:39,  4.40it/s]"
          ]
        },
        {
          "output_type": "stream",
          "name": "stdout",
          "text": [
            "Epoch 299, loss 0.5596773028373718\n"
          ]
        },
        {
          "output_type": "stream",
          "name": "stderr",
          "text": [
            "\r 30%|███       | 300/1000 [01:06<02:44,  4.27it/s]"
          ]
        },
        {
          "output_type": "stream",
          "name": "stdout",
          "text": [
            "Epoch 300, loss 0.5596631169319153\n"
          ]
        },
        {
          "output_type": "stream",
          "name": "stderr",
          "text": [
            "\r 30%|███       | 301/1000 [01:06<02:45,  4.23it/s]"
          ]
        },
        {
          "output_type": "stream",
          "name": "stdout",
          "text": [
            "Epoch 301, loss 0.5596493482589722\n"
          ]
        },
        {
          "output_type": "stream",
          "name": "stderr",
          "text": [
            "\r 30%|███       | 302/1000 [01:06<02:43,  4.28it/s]"
          ]
        },
        {
          "output_type": "stream",
          "name": "stdout",
          "text": [
            "Epoch 302, loss 0.5596356987953186\n"
          ]
        },
        {
          "output_type": "stream",
          "name": "stderr",
          "text": [
            "\r 30%|███       | 303/1000 [01:06<02:46,  4.19it/s]"
          ]
        },
        {
          "output_type": "stream",
          "name": "stdout",
          "text": [
            "Epoch 303, loss 0.5596221089363098\n"
          ]
        },
        {
          "output_type": "stream",
          "name": "stderr",
          "text": [
            "\r 30%|███       | 304/1000 [01:07<02:43,  4.25it/s]"
          ]
        },
        {
          "output_type": "stream",
          "name": "stdout",
          "text": [
            "Epoch 304, loss 0.5596087574958801\n"
          ]
        },
        {
          "output_type": "stream",
          "name": "stderr",
          "text": [
            "\r 30%|███       | 305/1000 [01:07<02:37,  4.42it/s]"
          ]
        },
        {
          "output_type": "stream",
          "name": "stdout",
          "text": [
            "Epoch 305, loss 0.5595955848693848\n"
          ]
        },
        {
          "output_type": "stream",
          "name": "stderr",
          "text": [
            "\r 31%|███       | 306/1000 [01:07<02:38,  4.37it/s]"
          ]
        },
        {
          "output_type": "stream",
          "name": "stdout",
          "text": [
            "Epoch 306, loss 0.5595827698707581\n"
          ]
        },
        {
          "output_type": "stream",
          "name": "stderr",
          "text": [
            "\r 31%|███       | 307/1000 [01:07<02:35,  4.45it/s]"
          ]
        },
        {
          "output_type": "stream",
          "name": "stdout",
          "text": [
            "Epoch 307, loss 0.5595700144767761\n"
          ]
        },
        {
          "output_type": "stream",
          "name": "stderr",
          "text": [
            "\r 31%|███       | 308/1000 [01:08<02:35,  4.46it/s]"
          ]
        },
        {
          "output_type": "stream",
          "name": "stdout",
          "text": [
            "Epoch 308, loss 0.5595574378967285\n"
          ]
        },
        {
          "output_type": "stream",
          "name": "stderr",
          "text": [
            "\r 31%|███       | 309/1000 [01:08<02:31,  4.57it/s]"
          ]
        },
        {
          "output_type": "stream",
          "name": "stdout",
          "text": [
            "Epoch 309, loss 0.5595449805259705\n",
            "Epoch 310, loss 0.5595325827598572\n"
          ]
        },
        {
          "output_type": "stream",
          "name": "stderr",
          "text": [
            " 31%|███       | 311/1000 [01:08<02:29,  4.61it/s]"
          ]
        },
        {
          "output_type": "stream",
          "name": "stdout",
          "text": [
            "Epoch 311, loss 0.5595203638076782\n"
          ]
        },
        {
          "output_type": "stream",
          "name": "stderr",
          "text": [
            "\r 31%|███       | 312/1000 [01:08<02:25,  4.73it/s]"
          ]
        },
        {
          "output_type": "stream",
          "name": "stdout",
          "text": [
            "Epoch 312, loss 0.5595083236694336\n",
            "Epoch 313, loss 0.559496283531189\n"
          ]
        },
        {
          "output_type": "stream",
          "name": "stderr",
          "text": [
            " 31%|███▏      | 314/1000 [01:09<02:29,  4.58it/s]"
          ]
        },
        {
          "output_type": "stream",
          "name": "stdout",
          "text": [
            "Epoch 314, loss 0.5594841837882996\n"
          ]
        },
        {
          "output_type": "stream",
          "name": "stderr",
          "text": [
            "\r 32%|███▏      | 315/1000 [01:09<02:25,  4.71it/s]"
          ]
        },
        {
          "output_type": "stream",
          "name": "stdout",
          "text": [
            "Epoch 315, loss 0.5594721436500549\n",
            "Epoch 316, loss 0.5594602823257446\n"
          ]
        },
        {
          "output_type": "stream",
          "name": "stderr",
          "text": [
            " 32%|███▏      | 317/1000 [01:09<02:29,  4.58it/s]"
          ]
        },
        {
          "output_type": "stream",
          "name": "stdout",
          "text": [
            "Epoch 317, loss 0.5594483613967896\n"
          ]
        },
        {
          "output_type": "stream",
          "name": "stderr",
          "text": [
            "\r 32%|███▏      | 318/1000 [01:10<02:30,  4.53it/s]"
          ]
        },
        {
          "output_type": "stream",
          "name": "stdout",
          "text": [
            "Epoch 318, loss 0.5594363212585449\n"
          ]
        },
        {
          "output_type": "stream",
          "name": "stderr",
          "text": [
            "\r 32%|███▏      | 319/1000 [01:10<02:25,  4.69it/s]"
          ]
        },
        {
          "output_type": "stream",
          "name": "stdout",
          "text": [
            "Epoch 319, loss 0.5594244003295898\n",
            "Epoch 320, loss 0.5594123601913452\n"
          ]
        },
        {
          "output_type": "stream",
          "name": "stderr",
          "text": [
            " 32%|███▏      | 321/1000 [01:10<02:22,  4.76it/s]"
          ]
        },
        {
          "output_type": "stream",
          "name": "stdout",
          "text": [
            "Epoch 321, loss 0.5593998432159424\n"
          ]
        },
        {
          "output_type": "stream",
          "name": "stderr",
          "text": [
            "\r 32%|███▏      | 322/1000 [01:11<02:24,  4.69it/s]"
          ]
        },
        {
          "output_type": "stream",
          "name": "stdout",
          "text": [
            "Epoch 322, loss 0.5593873262405396\n"
          ]
        },
        {
          "output_type": "stream",
          "name": "stderr",
          "text": [
            "\r 32%|███▏      | 323/1000 [01:11<02:31,  4.48it/s]"
          ]
        },
        {
          "output_type": "stream",
          "name": "stdout",
          "text": [
            "Epoch 323, loss 0.5593745708465576\n"
          ]
        },
        {
          "output_type": "stream",
          "name": "stderr",
          "text": [
            "\r 32%|███▏      | 324/1000 [01:11<02:28,  4.55it/s]"
          ]
        },
        {
          "output_type": "stream",
          "name": "stdout",
          "text": [
            "Epoch 324, loss 0.5593618750572205\n",
            "Epoch 325, loss 0.5593485236167908\n"
          ]
        },
        {
          "output_type": "stream",
          "name": "stderr",
          "text": [
            " 33%|███▎      | 326/1000 [01:11<02:22,  4.73it/s]"
          ]
        },
        {
          "output_type": "stream",
          "name": "stdout",
          "text": [
            "Epoch 326, loss 0.5593348145484924\n"
          ]
        },
        {
          "output_type": "stream",
          "name": "stderr",
          "text": [
            "\r 33%|███▎      | 327/1000 [01:12<02:28,  4.53it/s]"
          ]
        },
        {
          "output_type": "stream",
          "name": "stdout",
          "text": [
            "Epoch 327, loss 0.5593207478523254\n"
          ]
        },
        {
          "output_type": "stream",
          "name": "stderr",
          "text": [
            "\r 33%|███▎      | 328/1000 [01:12<02:28,  4.53it/s]"
          ]
        },
        {
          "output_type": "stream",
          "name": "stdout",
          "text": [
            "Epoch 328, loss 0.5593059659004211\n"
          ]
        },
        {
          "output_type": "stream",
          "name": "stderr",
          "text": [
            "\r 33%|███▎      | 329/1000 [01:12<02:26,  4.58it/s]"
          ]
        },
        {
          "output_type": "stream",
          "name": "stdout",
          "text": [
            "Epoch 329, loss 0.5592900514602661\n"
          ]
        },
        {
          "output_type": "stream",
          "name": "stderr",
          "text": [
            "\r 33%|███▎      | 330/1000 [01:12<02:24,  4.64it/s]"
          ]
        },
        {
          "output_type": "stream",
          "name": "stdout",
          "text": [
            "Epoch 330, loss 0.5592726469039917\n",
            "Epoch 331, loss 0.5592535138130188\n"
          ]
        },
        {
          "output_type": "stream",
          "name": "stderr",
          "text": [
            " 33%|███▎      | 332/1000 [01:13<02:22,  4.69it/s]"
          ]
        },
        {
          "output_type": "stream",
          "name": "stdout",
          "text": [
            "Epoch 332, loss 0.5592318177223206\n",
            "Epoch 333, loss 0.5592065453529358\n"
          ]
        },
        {
          "output_type": "stream",
          "name": "stderr",
          "text": [
            " 33%|███▎      | 334/1000 [01:13<02:17,  4.83it/s]"
          ]
        },
        {
          "output_type": "stream",
          "name": "stdout",
          "text": [
            "Epoch 334, loss 0.5591763854026794\n",
            "Epoch 335, loss 0.5591384172439575\n"
          ]
        },
        {
          "output_type": "stream",
          "name": "stderr",
          "text": [
            " 34%|███▎      | 336/1000 [01:14<02:21,  4.69it/s]"
          ]
        },
        {
          "output_type": "stream",
          "name": "stdout",
          "text": [
            "Epoch 336, loss 0.5590892434120178\n"
          ]
        },
        {
          "output_type": "stream",
          "name": "stderr",
          "text": [
            "\r 34%|███▎      | 337/1000 [01:14<02:25,  4.56it/s]"
          ]
        },
        {
          "output_type": "stream",
          "name": "stdout",
          "text": [
            "Epoch 337, loss 0.5590224862098694\n"
          ]
        },
        {
          "output_type": "stream",
          "name": "stderr",
          "text": [
            "\r 34%|███▍      | 338/1000 [01:14<02:24,  4.59it/s]"
          ]
        },
        {
          "output_type": "stream",
          "name": "stdout",
          "text": [
            "Epoch 338, loss 0.5589314103126526\n"
          ]
        },
        {
          "output_type": "stream",
          "name": "stderr",
          "text": [
            "\r 34%|███▍      | 339/1000 [01:14<02:24,  4.56it/s]"
          ]
        },
        {
          "output_type": "stream",
          "name": "stdout",
          "text": [
            "Epoch 339, loss 0.5588046908378601\n"
          ]
        },
        {
          "output_type": "stream",
          "name": "stderr",
          "text": [
            "\r 34%|███▍      | 340/1000 [01:14<02:24,  4.56it/s]"
          ]
        },
        {
          "output_type": "stream",
          "name": "stdout",
          "text": [
            "Epoch 340, loss 0.5586389899253845\n"
          ]
        },
        {
          "output_type": "stream",
          "name": "stderr",
          "text": [
            "\r 34%|███▍      | 341/1000 [01:15<02:31,  4.36it/s]"
          ]
        },
        {
          "output_type": "stream",
          "name": "stdout",
          "text": [
            "Epoch 341, loss 0.5584530830383301\n"
          ]
        },
        {
          "output_type": "stream",
          "name": "stderr",
          "text": [
            "\r 34%|███▍      | 342/1000 [01:15<02:29,  4.40it/s]"
          ]
        },
        {
          "output_type": "stream",
          "name": "stdout",
          "text": [
            "Epoch 342, loss 0.5582823157310486\n"
          ]
        },
        {
          "output_type": "stream",
          "name": "stderr",
          "text": [
            "\r 34%|███▍      | 343/1000 [01:15<02:29,  4.40it/s]"
          ]
        },
        {
          "output_type": "stream",
          "name": "stdout",
          "text": [
            "Epoch 343, loss 0.5581454634666443\n"
          ]
        },
        {
          "output_type": "stream",
          "name": "stderr",
          "text": [
            "\r 34%|███▍      | 344/1000 [01:15<02:28,  4.42it/s]"
          ]
        },
        {
          "output_type": "stream",
          "name": "stdout",
          "text": [
            "Epoch 344, loss 0.558055579662323\n"
          ]
        },
        {
          "output_type": "stream",
          "name": "stderr",
          "text": [
            "\r 34%|███▍      | 345/1000 [01:16<02:31,  4.31it/s]"
          ]
        },
        {
          "output_type": "stream",
          "name": "stdout",
          "text": [
            "Epoch 345, loss 0.5579932332038879\n"
          ]
        },
        {
          "output_type": "stream",
          "name": "stderr",
          "text": [
            "\r 35%|███▍      | 346/1000 [01:16<02:32,  4.29it/s]"
          ]
        },
        {
          "output_type": "stream",
          "name": "stdout",
          "text": [
            "Epoch 346, loss 0.557945966720581\n"
          ]
        },
        {
          "output_type": "stream",
          "name": "stderr",
          "text": [
            "\r 35%|███▍      | 347/1000 [01:16<02:35,  4.19it/s]"
          ]
        },
        {
          "output_type": "stream",
          "name": "stdout",
          "text": [
            "Epoch 347, loss 0.5579004883766174\n"
          ]
        },
        {
          "output_type": "stream",
          "name": "stderr",
          "text": [
            "\r 35%|███▍      | 348/1000 [01:16<02:35,  4.19it/s]"
          ]
        },
        {
          "output_type": "stream",
          "name": "stdout",
          "text": [
            "Epoch 348, loss 0.5578563809394836\n"
          ]
        },
        {
          "output_type": "stream",
          "name": "stderr",
          "text": [
            "\r 35%|███▍      | 349/1000 [01:17<02:39,  4.07it/s]"
          ]
        },
        {
          "output_type": "stream",
          "name": "stdout",
          "text": [
            "Epoch 349, loss 0.5578149557113647\n"
          ]
        },
        {
          "output_type": "stream",
          "name": "stderr",
          "text": [
            "\r 35%|███▌      | 350/1000 [01:17<02:37,  4.14it/s]"
          ]
        },
        {
          "output_type": "stream",
          "name": "stdout",
          "text": [
            "Epoch 350, loss 0.5577828288078308\n"
          ]
        },
        {
          "output_type": "stream",
          "name": "stderr",
          "text": [
            "\r 35%|███▌      | 351/1000 [01:17<02:33,  4.23it/s]"
          ]
        },
        {
          "output_type": "stream",
          "name": "stdout",
          "text": [
            "Epoch 351, loss 0.5577583909034729\n"
          ]
        },
        {
          "output_type": "stream",
          "name": "stderr",
          "text": [
            "\r 35%|███▌      | 352/1000 [01:17<02:34,  4.20it/s]"
          ]
        },
        {
          "output_type": "stream",
          "name": "stdout",
          "text": [
            "Epoch 352, loss 0.5577396154403687\n"
          ]
        },
        {
          "output_type": "stream",
          "name": "stderr",
          "text": [
            "\r 35%|███▌      | 353/1000 [01:17<02:31,  4.26it/s]"
          ]
        },
        {
          "output_type": "stream",
          "name": "stdout",
          "text": [
            "Epoch 353, loss 0.5577223896980286\n"
          ]
        },
        {
          "output_type": "stream",
          "name": "stderr",
          "text": [
            "\r 35%|███▌      | 354/1000 [01:18<02:28,  4.35it/s]"
          ]
        },
        {
          "output_type": "stream",
          "name": "stdout",
          "text": [
            "Epoch 354, loss 0.5577042698860168\n"
          ]
        },
        {
          "output_type": "stream",
          "name": "stderr",
          "text": [
            "\r 36%|███▌      | 355/1000 [01:18<02:25,  4.44it/s]"
          ]
        },
        {
          "output_type": "stream",
          "name": "stdout",
          "text": [
            "Epoch 355, loss 0.5576832890510559\n"
          ]
        },
        {
          "output_type": "stream",
          "name": "stderr",
          "text": [
            "\r 36%|███▌      | 356/1000 [01:18<02:25,  4.43it/s]"
          ]
        },
        {
          "output_type": "stream",
          "name": "stdout",
          "text": [
            "Epoch 356, loss 0.5576595664024353\n"
          ]
        },
        {
          "output_type": "stream",
          "name": "stderr",
          "text": [
            "\r 36%|███▌      | 357/1000 [01:18<02:23,  4.49it/s]"
          ]
        },
        {
          "output_type": "stream",
          "name": "stdout",
          "text": [
            "Epoch 357, loss 0.5576339364051819\n"
          ]
        },
        {
          "output_type": "stream",
          "name": "stderr",
          "text": [
            "\r 36%|███▌      | 358/1000 [01:19<02:25,  4.42it/s]"
          ]
        },
        {
          "output_type": "stream",
          "name": "stdout",
          "text": [
            "Epoch 358, loss 0.5576077103614807\n"
          ]
        },
        {
          "output_type": "stream",
          "name": "stderr",
          "text": [
            "\r 36%|███▌      | 359/1000 [01:19<02:21,  4.54it/s]"
          ]
        },
        {
          "output_type": "stream",
          "name": "stdout",
          "text": [
            "Epoch 359, loss 0.5575829148292542\n"
          ]
        },
        {
          "output_type": "stream",
          "name": "stderr",
          "text": [
            "\r 36%|███▌      | 360/1000 [01:19<02:21,  4.52it/s]"
          ]
        },
        {
          "output_type": "stream",
          "name": "stdout",
          "text": [
            "Epoch 360, loss 0.5575615167617798\n"
          ]
        },
        {
          "output_type": "stream",
          "name": "stderr",
          "text": [
            "\r 36%|███▌      | 361/1000 [01:19<02:20,  4.56it/s]"
          ]
        },
        {
          "output_type": "stream",
          "name": "stdout",
          "text": [
            "Epoch 361, loss 0.5575435757637024\n"
          ]
        },
        {
          "output_type": "stream",
          "name": "stderr",
          "text": [
            "\r 36%|███▌      | 362/1000 [01:19<02:16,  4.68it/s]"
          ]
        },
        {
          "output_type": "stream",
          "name": "stdout",
          "text": [
            "Epoch 362, loss 0.5575282573699951\n"
          ]
        },
        {
          "output_type": "stream",
          "name": "stderr",
          "text": [
            "\r 36%|███▋      | 363/1000 [01:20<02:17,  4.64it/s]"
          ]
        },
        {
          "output_type": "stream",
          "name": "stdout",
          "text": [
            "Epoch 363, loss 0.5575140714645386\n"
          ]
        },
        {
          "output_type": "stream",
          "name": "stderr",
          "text": [
            "\r 36%|███▋      | 364/1000 [01:20<02:12,  4.79it/s]"
          ]
        },
        {
          "output_type": "stream",
          "name": "stdout",
          "text": [
            "Epoch 364, loss 0.5575004816055298\n",
            "Epoch 365, loss 0.5574867129325867\n"
          ]
        },
        {
          "output_type": "stream",
          "name": "stderr",
          "text": [
            " 37%|███▋      | 366/1000 [01:20<02:14,  4.72it/s]"
          ]
        },
        {
          "output_type": "stream",
          "name": "stdout",
          "text": [
            "Epoch 366, loss 0.5574728846549988\n"
          ]
        },
        {
          "output_type": "stream",
          "name": "stderr",
          "text": [
            "\r 37%|███▋      | 367/1000 [01:21<02:15,  4.67it/s]"
          ]
        },
        {
          "output_type": "stream",
          "name": "stdout",
          "text": [
            "Epoch 367, loss 0.5574592351913452\n"
          ]
        },
        {
          "output_type": "stream",
          "name": "stderr",
          "text": [
            "\r 37%|███▋      | 368/1000 [01:21<02:20,  4.51it/s]"
          ]
        },
        {
          "output_type": "stream",
          "name": "stdout",
          "text": [
            "Epoch 368, loss 0.5574460625648499\n"
          ]
        },
        {
          "output_type": "stream",
          "name": "stderr",
          "text": [
            "\r 37%|███▋      | 369/1000 [01:21<02:18,  4.55it/s]"
          ]
        },
        {
          "output_type": "stream",
          "name": "stdout",
          "text": [
            "Epoch 369, loss 0.5574333667755127\n"
          ]
        },
        {
          "output_type": "stream",
          "name": "stderr",
          "text": [
            "\r 37%|███▋      | 370/1000 [01:21<02:18,  4.55it/s]"
          ]
        },
        {
          "output_type": "stream",
          "name": "stdout",
          "text": [
            "Epoch 370, loss 0.5574213266372681\n"
          ]
        },
        {
          "output_type": "stream",
          "name": "stderr",
          "text": [
            "\r 37%|███▋      | 371/1000 [01:21<02:24,  4.35it/s]"
          ]
        },
        {
          "output_type": "stream",
          "name": "stdout",
          "text": [
            "Epoch 371, loss 0.5574103593826294\n"
          ]
        },
        {
          "output_type": "stream",
          "name": "stderr",
          "text": [
            "\r 37%|███▋      | 372/1000 [01:22<02:22,  4.40it/s]"
          ]
        },
        {
          "output_type": "stream",
          "name": "stdout",
          "text": [
            "Epoch 372, loss 0.5573996305465698\n"
          ]
        },
        {
          "output_type": "stream",
          "name": "stderr",
          "text": [
            "\r 37%|███▋      | 373/1000 [01:22<02:22,  4.39it/s]"
          ]
        },
        {
          "output_type": "stream",
          "name": "stdout",
          "text": [
            "Epoch 373, loss 0.5573891401290894\n"
          ]
        },
        {
          "output_type": "stream",
          "name": "stderr",
          "text": [
            "\r 37%|███▋      | 374/1000 [01:22<02:16,  4.59it/s]"
          ]
        },
        {
          "output_type": "stream",
          "name": "stdout",
          "text": [
            "Epoch 374, loss 0.5573791265487671\n",
            "Epoch 375, loss 0.5573692917823792\n"
          ]
        },
        {
          "output_type": "stream",
          "name": "stderr",
          "text": [
            " 38%|███▊      | 376/1000 [01:23<02:15,  4.59it/s]"
          ]
        },
        {
          "output_type": "stream",
          "name": "stdout",
          "text": [
            "Epoch 376, loss 0.5573598742485046\n"
          ]
        },
        {
          "output_type": "stream",
          "name": "stderr",
          "text": [
            "\r 38%|███▊      | 377/1000 [01:23<02:18,  4.49it/s]"
          ]
        },
        {
          "output_type": "stream",
          "name": "stdout",
          "text": [
            "Epoch 377, loss 0.557350754737854\n"
          ]
        },
        {
          "output_type": "stream",
          "name": "stderr",
          "text": [
            "\r 38%|███▊      | 378/1000 [01:23<02:14,  4.63it/s]"
          ]
        },
        {
          "output_type": "stream",
          "name": "stdout",
          "text": [
            "Epoch 378, loss 0.557341992855072\n"
          ]
        },
        {
          "output_type": "stream",
          "name": "stderr",
          "text": [
            "\r 38%|███▊      | 379/1000 [01:23<02:13,  4.65it/s]"
          ]
        },
        {
          "output_type": "stream",
          "name": "stdout",
          "text": [
            "Epoch 379, loss 0.5573334097862244\n"
          ]
        },
        {
          "output_type": "stream",
          "name": "stderr",
          "text": [
            "\r 38%|███▊      | 380/1000 [01:23<02:12,  4.69it/s]"
          ]
        },
        {
          "output_type": "stream",
          "name": "stdout",
          "text": [
            "Epoch 380, loss 0.5573251843452454\n"
          ]
        },
        {
          "output_type": "stream",
          "name": "stderr",
          "text": [
            "\r 38%|███▊      | 381/1000 [01:24<02:13,  4.63it/s]"
          ]
        },
        {
          "output_type": "stream",
          "name": "stdout",
          "text": [
            "Epoch 381, loss 0.5573173761367798\n"
          ]
        },
        {
          "output_type": "stream",
          "name": "stderr",
          "text": [
            "\r 38%|███▊      | 382/1000 [01:24<02:18,  4.47it/s]"
          ]
        },
        {
          "output_type": "stream",
          "name": "stdout",
          "text": [
            "Epoch 382, loss 0.5573097467422485\n"
          ]
        },
        {
          "output_type": "stream",
          "name": "stderr",
          "text": [
            "\r 38%|███▊      | 383/1000 [01:24<02:15,  4.54it/s]"
          ]
        },
        {
          "output_type": "stream",
          "name": "stdout",
          "text": [
            "Epoch 383, loss 0.5573024749755859\n",
            "Epoch 384, loss 0.5572951436042786\n"
          ]
        },
        {
          "output_type": "stream",
          "name": "stderr",
          "text": [
            " 38%|███▊      | 385/1000 [01:24<02:13,  4.62it/s]"
          ]
        },
        {
          "output_type": "stream",
          "name": "stdout",
          "text": [
            "Epoch 385, loss 0.5572881102561951\n"
          ]
        },
        {
          "output_type": "stream",
          "name": "stderr",
          "text": [
            "\r 39%|███▊      | 386/1000 [01:25<02:12,  4.62it/s]"
          ]
        },
        {
          "output_type": "stream",
          "name": "stdout",
          "text": [
            "Epoch 386, loss 0.5572813749313354\n"
          ]
        },
        {
          "output_type": "stream",
          "name": "stderr",
          "text": [
            "\r 39%|███▊      | 387/1000 [01:25<02:11,  4.64it/s]"
          ]
        },
        {
          "output_type": "stream",
          "name": "stdout",
          "text": [
            "Epoch 387, loss 0.5572750568389893\n"
          ]
        },
        {
          "output_type": "stream",
          "name": "stderr",
          "text": [
            "\r 39%|███▉      | 388/1000 [01:25<02:08,  4.76it/s]"
          ]
        },
        {
          "output_type": "stream",
          "name": "stdout",
          "text": [
            "Epoch 388, loss 0.5572687387466431\n",
            "Epoch 389, loss 0.5572625994682312\n"
          ]
        },
        {
          "output_type": "stream",
          "name": "stderr",
          "text": [
            " 39%|███▉      | 390/1000 [01:26<02:07,  4.79it/s]"
          ]
        },
        {
          "output_type": "stream",
          "name": "stdout",
          "text": [
            "Epoch 390, loss 0.5572565197944641\n"
          ]
        },
        {
          "output_type": "stream",
          "name": "stderr",
          "text": [
            "\r 39%|███▉      | 391/1000 [01:26<02:08,  4.73it/s]"
          ]
        },
        {
          "output_type": "stream",
          "name": "stdout",
          "text": [
            "Epoch 391, loss 0.5572506189346313\n"
          ]
        },
        {
          "output_type": "stream",
          "name": "stderr",
          "text": [
            "\r 39%|███▉      | 392/1000 [01:26<02:09,  4.71it/s]"
          ]
        },
        {
          "output_type": "stream",
          "name": "stdout",
          "text": [
            "Epoch 392, loss 0.5572447776794434\n"
          ]
        },
        {
          "output_type": "stream",
          "name": "stderr",
          "text": [
            "\r 39%|███▉      | 393/1000 [01:26<02:12,  4.58it/s]"
          ]
        },
        {
          "output_type": "stream",
          "name": "stdout",
          "text": [
            "Epoch 393, loss 0.5572391748428345\n"
          ]
        },
        {
          "output_type": "stream",
          "name": "stderr",
          "text": [
            "\r 39%|███▉      | 394/1000 [01:26<02:09,  4.69it/s]"
          ]
        },
        {
          "output_type": "stream",
          "name": "stdout",
          "text": [
            "Epoch 394, loss 0.5572335720062256\n",
            "Epoch 395, loss 0.5572280883789062\n"
          ]
        },
        {
          "output_type": "stream",
          "name": "stderr",
          "text": [
            " 40%|███▉      | 396/1000 [01:27<02:14,  4.50it/s]"
          ]
        },
        {
          "output_type": "stream",
          "name": "stdout",
          "text": [
            "Epoch 396, loss 0.5572227835655212\n"
          ]
        },
        {
          "output_type": "stream",
          "name": "stderr",
          "text": [
            "\r 40%|███▉      | 397/1000 [01:27<02:15,  4.45it/s]"
          ]
        },
        {
          "output_type": "stream",
          "name": "stdout",
          "text": [
            "Epoch 397, loss 0.5572175979614258\n"
          ]
        },
        {
          "output_type": "stream",
          "name": "stderr",
          "text": [
            "\r 40%|███▉      | 398/1000 [01:27<02:10,  4.61it/s]"
          ]
        },
        {
          "output_type": "stream",
          "name": "stdout",
          "text": [
            "Epoch 398, loss 0.5572125315666199\n",
            "Epoch 399, loss 0.557207465171814\n"
          ]
        },
        {
          "output_type": "stream",
          "name": "stderr",
          "text": [
            " 40%|████      | 400/1000 [01:28<02:10,  4.61it/s]"
          ]
        },
        {
          "output_type": "stream",
          "name": "stdout",
          "text": [
            "Epoch 400, loss 0.5572026371955872\n"
          ]
        },
        {
          "output_type": "stream",
          "name": "stderr",
          "text": [
            "\r 40%|████      | 401/1000 [01:28<02:13,  4.47it/s]"
          ]
        },
        {
          "output_type": "stream",
          "name": "stdout",
          "text": [
            "Epoch 401, loss 0.5571976900100708\n"
          ]
        },
        {
          "output_type": "stream",
          "name": "stderr",
          "text": [
            "\r 40%|████      | 402/1000 [01:28<02:14,  4.46it/s]"
          ]
        },
        {
          "output_type": "stream",
          "name": "stdout",
          "text": [
            "Epoch 402, loss 0.5571929216384888\n"
          ]
        },
        {
          "output_type": "stream",
          "name": "stderr",
          "text": [
            "\r 40%|████      | 403/1000 [01:28<02:16,  4.39it/s]"
          ]
        },
        {
          "output_type": "stream",
          "name": "stdout",
          "text": [
            "Epoch 403, loss 0.5571883320808411\n"
          ]
        },
        {
          "output_type": "stream",
          "name": "stderr",
          "text": [
            "\r 40%|████      | 404/1000 [01:29<02:15,  4.39it/s]"
          ]
        },
        {
          "output_type": "stream",
          "name": "stdout",
          "text": [
            "Epoch 404, loss 0.5571838617324829\n"
          ]
        },
        {
          "output_type": "stream",
          "name": "stderr",
          "text": [
            "\r 40%|████      | 405/1000 [01:29<02:13,  4.44it/s]"
          ]
        },
        {
          "output_type": "stream",
          "name": "stdout",
          "text": [
            "Epoch 405, loss 0.5571794509887695\n"
          ]
        },
        {
          "output_type": "stream",
          "name": "stderr",
          "text": [
            "\r 41%|████      | 406/1000 [01:29<02:14,  4.40it/s]"
          ]
        },
        {
          "output_type": "stream",
          "name": "stdout",
          "text": [
            "Epoch 406, loss 0.5571750402450562\n"
          ]
        },
        {
          "output_type": "stream",
          "name": "stderr",
          "text": [
            "\r 41%|████      | 407/1000 [01:29<02:17,  4.33it/s]"
          ]
        },
        {
          "output_type": "stream",
          "name": "stdout",
          "text": [
            "Epoch 407, loss 0.557170569896698\n"
          ]
        },
        {
          "output_type": "stream",
          "name": "stderr",
          "text": [
            "\r 41%|████      | 408/1000 [01:30<02:15,  4.37it/s]"
          ]
        },
        {
          "output_type": "stream",
          "name": "stdout",
          "text": [
            "Epoch 408, loss 0.5571661591529846\n"
          ]
        },
        {
          "output_type": "stream",
          "name": "stderr",
          "text": [
            "\r 41%|████      | 409/1000 [01:30<02:15,  4.38it/s]"
          ]
        },
        {
          "output_type": "stream",
          "name": "stdout",
          "text": [
            "Epoch 409, loss 0.5571619272232056\n"
          ]
        },
        {
          "output_type": "stream",
          "name": "stderr",
          "text": [
            "\r 41%|████      | 410/1000 [01:30<02:18,  4.27it/s]"
          ]
        },
        {
          "output_type": "stream",
          "name": "stdout",
          "text": [
            "Epoch 410, loss 0.557157576084137\n"
          ]
        },
        {
          "output_type": "stream",
          "name": "stderr",
          "text": [
            "\r 41%|████      | 411/1000 [01:30<02:16,  4.31it/s]"
          ]
        },
        {
          "output_type": "stream",
          "name": "stdout",
          "text": [
            "Epoch 411, loss 0.5571533441543579\n"
          ]
        },
        {
          "output_type": "stream",
          "name": "stderr",
          "text": [
            "\r 41%|████      | 412/1000 [01:30<02:15,  4.34it/s]"
          ]
        },
        {
          "output_type": "stream",
          "name": "stdout",
          "text": [
            "Epoch 412, loss 0.5571491122245789\n"
          ]
        },
        {
          "output_type": "stream",
          "name": "stderr",
          "text": [
            "\r 41%|████▏     | 413/1000 [01:31<02:15,  4.33it/s]"
          ]
        },
        {
          "output_type": "stream",
          "name": "stdout",
          "text": [
            "Epoch 413, loss 0.5571451187133789\n"
          ]
        },
        {
          "output_type": "stream",
          "name": "stderr",
          "text": [
            "\r 41%|████▏     | 414/1000 [01:31<02:19,  4.20it/s]"
          ]
        },
        {
          "output_type": "stream",
          "name": "stdout",
          "text": [
            "Epoch 414, loss 0.5571413040161133\n"
          ]
        },
        {
          "output_type": "stream",
          "name": "stderr",
          "text": [
            "\r 42%|████▏     | 415/1000 [01:31<02:17,  4.25it/s]"
          ]
        },
        {
          "output_type": "stream",
          "name": "stdout",
          "text": [
            "Epoch 415, loss 0.5571375489234924\n"
          ]
        },
        {
          "output_type": "stream",
          "name": "stderr",
          "text": [
            "\r 42%|████▏     | 416/1000 [01:31<02:13,  4.38it/s]"
          ]
        },
        {
          "output_type": "stream",
          "name": "stdout",
          "text": [
            "Epoch 416, loss 0.5571338534355164\n",
            "Epoch 417, loss 0.5571303963661194\n"
          ]
        },
        {
          "output_type": "stream",
          "name": "stderr",
          "text": [
            " 42%|████▏     | 418/1000 [01:32<02:15,  4.31it/s]"
          ]
        },
        {
          "output_type": "stream",
          "name": "stdout",
          "text": [
            "Epoch 418, loss 0.5571268796920776\n"
          ]
        },
        {
          "output_type": "stream",
          "name": "stderr",
          "text": [
            "\r 42%|████▏     | 419/1000 [01:32<02:11,  4.42it/s]"
          ]
        },
        {
          "output_type": "stream",
          "name": "stdout",
          "text": [
            "Epoch 419, loss 0.5571235418319702\n"
          ]
        },
        {
          "output_type": "stream",
          "name": "stderr",
          "text": [
            "\r 42%|████▏     | 420/1000 [01:32<02:13,  4.33it/s]"
          ]
        },
        {
          "output_type": "stream",
          "name": "stdout",
          "text": [
            "Epoch 420, loss 0.557120144367218\n"
          ]
        },
        {
          "output_type": "stream",
          "name": "stderr",
          "text": [
            "\r 42%|████▏     | 421/1000 [01:33<02:11,  4.40it/s]"
          ]
        },
        {
          "output_type": "stream",
          "name": "stdout",
          "text": [
            "Epoch 421, loss 0.5571168065071106\n"
          ]
        },
        {
          "output_type": "stream",
          "name": "stderr",
          "text": [
            "\r 42%|████▏     | 422/1000 [01:33<02:17,  4.19it/s]"
          ]
        },
        {
          "output_type": "stream",
          "name": "stdout",
          "text": [
            "Epoch 422, loss 0.5571136474609375\n"
          ]
        },
        {
          "output_type": "stream",
          "name": "stderr",
          "text": [
            "\r 42%|████▏     | 423/1000 [01:33<02:16,  4.24it/s]"
          ]
        },
        {
          "output_type": "stream",
          "name": "stdout",
          "text": [
            "Epoch 423, loss 0.5571104288101196\n"
          ]
        },
        {
          "output_type": "stream",
          "name": "stderr",
          "text": [
            "\r 42%|████▏     | 424/1000 [01:33<02:12,  4.35it/s]"
          ]
        },
        {
          "output_type": "stream",
          "name": "stdout",
          "text": [
            "Epoch 424, loss 0.5571073293685913\n"
          ]
        },
        {
          "output_type": "stream",
          "name": "stderr",
          "text": [
            "\r 42%|████▎     | 425/1000 [01:33<02:08,  4.46it/s]"
          ]
        },
        {
          "output_type": "stream",
          "name": "stdout",
          "text": [
            "Epoch 425, loss 0.557104229927063\n"
          ]
        },
        {
          "output_type": "stream",
          "name": "stderr",
          "text": [
            "\r 43%|████▎     | 426/1000 [01:34<02:06,  4.55it/s]"
          ]
        },
        {
          "output_type": "stream",
          "name": "stdout",
          "text": [
            "Epoch 426, loss 0.5571011304855347\n"
          ]
        },
        {
          "output_type": "stream",
          "name": "stderr",
          "text": [
            "\r 43%|████▎     | 427/1000 [01:34<02:02,  4.69it/s]"
          ]
        },
        {
          "output_type": "stream",
          "name": "stdout",
          "text": [
            "Epoch 427, loss 0.5570980906486511\n",
            "Epoch 428, loss 0.5570951104164124\n"
          ]
        },
        {
          "output_type": "stream",
          "name": "stderr",
          "text": [
            " 43%|████▎     | 429/1000 [01:34<02:00,  4.73it/s]"
          ]
        },
        {
          "output_type": "stream",
          "name": "stdout",
          "text": [
            "Epoch 429, loss 0.5570922493934631\n"
          ]
        },
        {
          "output_type": "stream",
          "name": "stderr",
          "text": [
            "\r 43%|████▎     | 430/1000 [01:34<02:00,  4.73it/s]"
          ]
        },
        {
          "output_type": "stream",
          "name": "stdout",
          "text": [
            "Epoch 430, loss 0.5570892691612244\n"
          ]
        },
        {
          "output_type": "stream",
          "name": "stderr",
          "text": [
            "\r 43%|████▎     | 431/1000 [01:35<02:01,  4.67it/s]"
          ]
        },
        {
          "output_type": "stream",
          "name": "stdout",
          "text": [
            "Epoch 431, loss 0.5570864081382751\n"
          ]
        },
        {
          "output_type": "stream",
          "name": "stderr",
          "text": [
            "\r 43%|████▎     | 432/1000 [01:35<01:58,  4.78it/s]"
          ]
        },
        {
          "output_type": "stream",
          "name": "stdout",
          "text": [
            "Epoch 432, loss 0.5570836067199707\n",
            "Epoch 433, loss 0.5570808053016663\n"
          ]
        },
        {
          "output_type": "stream",
          "name": "stderr",
          "text": [
            " 43%|████▎     | 434/1000 [01:35<01:57,  4.83it/s]"
          ]
        },
        {
          "output_type": "stream",
          "name": "stdout",
          "text": [
            "Epoch 434, loss 0.5570780634880066\n"
          ]
        },
        {
          "output_type": "stream",
          "name": "stderr",
          "text": [
            "\r 44%|████▎     | 435/1000 [01:36<01:59,  4.73it/s]"
          ]
        },
        {
          "output_type": "stream",
          "name": "stdout",
          "text": [
            "Epoch 435, loss 0.5570752620697021\n"
          ]
        },
        {
          "output_type": "stream",
          "name": "stderr",
          "text": [
            "\r 44%|████▎     | 436/1000 [01:36<01:59,  4.72it/s]"
          ]
        },
        {
          "output_type": "stream",
          "name": "stdout",
          "text": [
            "Epoch 436, loss 0.5570725798606873\n",
            "Epoch 437, loss 0.5570699572563171\n"
          ]
        },
        {
          "output_type": "stream",
          "name": "stderr",
          "text": [
            " 44%|████▍     | 438/1000 [01:36<01:57,  4.80it/s]"
          ]
        },
        {
          "output_type": "stream",
          "name": "stdout",
          "text": [
            "Epoch 438, loss 0.5570674538612366\n",
            "Epoch 439, loss 0.5570648908615112\n"
          ]
        },
        {
          "output_type": "stream",
          "name": "stderr",
          "text": [
            " 44%|████▍     | 440/1000 [01:37<01:59,  4.69it/s]"
          ]
        },
        {
          "output_type": "stream",
          "name": "stdout",
          "text": [
            "Epoch 440, loss 0.5570622682571411\n"
          ]
        },
        {
          "output_type": "stream",
          "name": "stderr",
          "text": [
            "\r 44%|████▍     | 441/1000 [01:37<02:02,  4.57it/s]"
          ]
        },
        {
          "output_type": "stream",
          "name": "stdout",
          "text": [
            "Epoch 441, loss 0.5570597052574158\n"
          ]
        },
        {
          "output_type": "stream",
          "name": "stderr",
          "text": [
            "\r 44%|████▍     | 442/1000 [01:37<02:00,  4.65it/s]"
          ]
        },
        {
          "output_type": "stream",
          "name": "stdout",
          "text": [
            "Epoch 442, loss 0.55705726146698\n"
          ]
        },
        {
          "output_type": "stream",
          "name": "stderr",
          "text": [
            "\r 44%|████▍     | 443/1000 [01:37<01:59,  4.65it/s]"
          ]
        },
        {
          "output_type": "stream",
          "name": "stdout",
          "text": [
            "Epoch 443, loss 0.5570547580718994\n"
          ]
        },
        {
          "output_type": "stream",
          "name": "stderr",
          "text": [
            "\r 44%|████▍     | 444/1000 [01:37<02:02,  4.53it/s]"
          ]
        },
        {
          "output_type": "stream",
          "name": "stdout",
          "text": [
            "Epoch 444, loss 0.5570524334907532\n"
          ]
        },
        {
          "output_type": "stream",
          "name": "stderr",
          "text": [
            "\r 44%|████▍     | 445/1000 [01:38<02:04,  4.46it/s]"
          ]
        },
        {
          "output_type": "stream",
          "name": "stdout",
          "text": [
            "Epoch 445, loss 0.5570499897003174\n"
          ]
        },
        {
          "output_type": "stream",
          "name": "stderr",
          "text": [
            "\r 45%|████▍     | 446/1000 [01:38<02:05,  4.42it/s]"
          ]
        },
        {
          "output_type": "stream",
          "name": "stdout",
          "text": [
            "Epoch 446, loss 0.5570476055145264\n"
          ]
        },
        {
          "output_type": "stream",
          "name": "stderr",
          "text": [
            "\r 45%|████▍     | 447/1000 [01:38<02:06,  4.36it/s]"
          ]
        },
        {
          "output_type": "stream",
          "name": "stdout",
          "text": [
            "Epoch 447, loss 0.5570452213287354\n"
          ]
        },
        {
          "output_type": "stream",
          "name": "stderr",
          "text": [
            "\r 45%|████▍     | 448/1000 [01:38<02:02,  4.50it/s]"
          ]
        },
        {
          "output_type": "stream",
          "name": "stdout",
          "text": [
            "Epoch 448, loss 0.5570430159568787\n"
          ]
        },
        {
          "output_type": "stream",
          "name": "stderr",
          "text": [
            "\r 45%|████▍     | 449/1000 [01:39<02:02,  4.51it/s]"
          ]
        },
        {
          "output_type": "stream",
          "name": "stdout",
          "text": [
            "Epoch 449, loss 0.5570406317710876\n"
          ]
        },
        {
          "output_type": "stream",
          "name": "stderr",
          "text": [
            "\r 45%|████▌     | 450/1000 [01:39<02:01,  4.53it/s]"
          ]
        },
        {
          "output_type": "stream",
          "name": "stdout",
          "text": [
            "Epoch 450, loss 0.5570383667945862\n"
          ]
        },
        {
          "output_type": "stream",
          "name": "stderr",
          "text": [
            "\r 45%|████▌     | 451/1000 [01:39<02:01,  4.50it/s]"
          ]
        },
        {
          "output_type": "stream",
          "name": "stdout",
          "text": [
            "Epoch 451, loss 0.5570361614227295\n"
          ]
        },
        {
          "output_type": "stream",
          "name": "stderr",
          "text": [
            "\r 45%|████▌     | 452/1000 [01:39<01:58,  4.63it/s]"
          ]
        },
        {
          "output_type": "stream",
          "name": "stdout",
          "text": [
            "Epoch 452, loss 0.5570340156555176\n",
            "Epoch 453, loss 0.5570318698883057\n"
          ]
        },
        {
          "output_type": "stream",
          "name": "stderr",
          "text": [
            " 45%|████▌     | 454/1000 [01:40<02:00,  4.54it/s]"
          ]
        },
        {
          "output_type": "stream",
          "name": "stdout",
          "text": [
            "Epoch 454, loss 0.557029664516449\n"
          ]
        },
        {
          "output_type": "stream",
          "name": "stderr",
          "text": [
            "\r 46%|████▌     | 455/1000 [01:40<02:01,  4.49it/s]"
          ]
        },
        {
          "output_type": "stream",
          "name": "stdout",
          "text": [
            "Epoch 455, loss 0.5570275187492371\n"
          ]
        },
        {
          "output_type": "stream",
          "name": "stderr",
          "text": [
            "\r 46%|████▌     | 456/1000 [01:40<02:02,  4.45it/s]"
          ]
        },
        {
          "output_type": "stream",
          "name": "stdout",
          "text": [
            "Epoch 456, loss 0.5570253729820251\n"
          ]
        },
        {
          "output_type": "stream",
          "name": "stderr",
          "text": [
            "\r 46%|████▌     | 457/1000 [01:40<01:58,  4.60it/s]"
          ]
        },
        {
          "output_type": "stream",
          "name": "stdout",
          "text": [
            "Epoch 457, loss 0.5570233464241028\n",
            "Epoch 458, loss 0.5570212602615356\n"
          ]
        },
        {
          "output_type": "stream",
          "name": "stderr",
          "text": [
            " 46%|████▌     | 459/1000 [01:41<01:56,  4.63it/s]"
          ]
        },
        {
          "output_type": "stream",
          "name": "stdout",
          "text": [
            "Epoch 459, loss 0.5570192337036133\n"
          ]
        },
        {
          "output_type": "stream",
          "name": "stderr",
          "text": [
            "\r 46%|████▌     | 460/1000 [01:41<02:02,  4.42it/s]"
          ]
        },
        {
          "output_type": "stream",
          "name": "stdout",
          "text": [
            "Epoch 460, loss 0.5570171475410461\n"
          ]
        },
        {
          "output_type": "stream",
          "name": "stderr",
          "text": [
            "\r 46%|████▌     | 461/1000 [01:41<02:01,  4.45it/s]"
          ]
        },
        {
          "output_type": "stream",
          "name": "stdout",
          "text": [
            "Epoch 461, loss 0.5570152401924133\n"
          ]
        },
        {
          "output_type": "stream",
          "name": "stderr",
          "text": [
            "\r 46%|████▌     | 462/1000 [01:41<02:00,  4.46it/s]"
          ]
        },
        {
          "output_type": "stream",
          "name": "stdout",
          "text": [
            "Epoch 462, loss 0.5570132732391357\n"
          ]
        },
        {
          "output_type": "stream",
          "name": "stderr",
          "text": [
            "\r 46%|████▋     | 463/1000 [01:42<02:03,  4.35it/s]"
          ]
        },
        {
          "output_type": "stream",
          "name": "stdout",
          "text": [
            "Epoch 463, loss 0.5570113658905029\n"
          ]
        },
        {
          "output_type": "stream",
          "name": "stderr",
          "text": [
            "\r 46%|████▋     | 464/1000 [01:42<02:03,  4.35it/s]"
          ]
        },
        {
          "output_type": "stream",
          "name": "stdout",
          "text": [
            "Epoch 464, loss 0.5570093393325806\n"
          ]
        },
        {
          "output_type": "stream",
          "name": "stderr",
          "text": [
            "\r 46%|████▋     | 465/1000 [01:42<02:05,  4.25it/s]"
          ]
        },
        {
          "output_type": "stream",
          "name": "stdout",
          "text": [
            "Epoch 465, loss 0.557007372379303\n"
          ]
        },
        {
          "output_type": "stream",
          "name": "stderr",
          "text": [
            "\r 47%|████▋     | 466/1000 [01:42<02:06,  4.22it/s]"
          ]
        },
        {
          "output_type": "stream",
          "name": "stdout",
          "text": [
            "Epoch 466, loss 0.5570054054260254\n"
          ]
        },
        {
          "output_type": "stream",
          "name": "stderr",
          "text": [
            "\r 47%|████▋     | 467/1000 [01:43<02:06,  4.22it/s]"
          ]
        },
        {
          "output_type": "stream",
          "name": "stdout",
          "text": [
            "Epoch 467, loss 0.5570035576820374\n"
          ]
        },
        {
          "output_type": "stream",
          "name": "stderr",
          "text": [
            "\r 47%|████▋     | 468/1000 [01:43<02:09,  4.12it/s]"
          ]
        },
        {
          "output_type": "stream",
          "name": "stdout",
          "text": [
            "Epoch 468, loss 0.5570017099380493\n"
          ]
        },
        {
          "output_type": "stream",
          "name": "stderr",
          "text": [
            "\r 47%|████▋     | 469/1000 [01:43<02:09,  4.12it/s]"
          ]
        },
        {
          "output_type": "stream",
          "name": "stdout",
          "text": [
            "Epoch 469, loss 0.5569998621940613\n"
          ]
        },
        {
          "output_type": "stream",
          "name": "stderr",
          "text": [
            "\r 47%|████▋     | 470/1000 [01:43<02:07,  4.16it/s]"
          ]
        },
        {
          "output_type": "stream",
          "name": "stdout",
          "text": [
            "Epoch 470, loss 0.5569981336593628\n"
          ]
        },
        {
          "output_type": "stream",
          "name": "stderr",
          "text": [
            "\r 47%|████▋     | 471/1000 [01:44<02:04,  4.25it/s]"
          ]
        },
        {
          "output_type": "stream",
          "name": "stdout",
          "text": [
            "Epoch 471, loss 0.55699622631073\n"
          ]
        },
        {
          "output_type": "stream",
          "name": "stderr",
          "text": [
            "\r 47%|████▋     | 472/1000 [01:44<02:03,  4.29it/s]"
          ]
        },
        {
          "output_type": "stream",
          "name": "stdout",
          "text": [
            "Epoch 472, loss 0.5569944381713867\n"
          ]
        },
        {
          "output_type": "stream",
          "name": "stderr",
          "text": [
            "\r 47%|████▋     | 473/1000 [01:44<02:02,  4.30it/s]"
          ]
        },
        {
          "output_type": "stream",
          "name": "stdout",
          "text": [
            "Epoch 473, loss 0.5569926500320435\n"
          ]
        },
        {
          "output_type": "stream",
          "name": "stderr",
          "text": [
            "\r 47%|████▋     | 474/1000 [01:44<01:58,  4.46it/s]"
          ]
        },
        {
          "output_type": "stream",
          "name": "stdout",
          "text": [
            "Epoch 474, loss 0.5569908618927002\n",
            "Epoch 475, loss 0.5569890737533569\n"
          ]
        },
        {
          "output_type": "stream",
          "name": "stderr",
          "text": [
            " 48%|████▊     | 476/1000 [01:45<01:58,  4.43it/s]"
          ]
        },
        {
          "output_type": "stream",
          "name": "stdout",
          "text": [
            "Epoch 476, loss 0.5569873452186584\n"
          ]
        },
        {
          "output_type": "stream",
          "name": "stderr",
          "text": [
            "\r 48%|████▊     | 477/1000 [01:45<01:53,  4.60it/s]"
          ]
        },
        {
          "output_type": "stream",
          "name": "stdout",
          "text": [
            "Epoch 477, loss 0.5569856762886047\n",
            "Epoch 478, loss 0.5569839477539062\n"
          ]
        },
        {
          "output_type": "stream",
          "name": "stderr",
          "text": [
            " 48%|████▊     | 479/1000 [01:45<01:56,  4.47it/s]"
          ]
        },
        {
          "output_type": "stream",
          "name": "stdout",
          "text": [
            "Epoch 479, loss 0.5569822192192078\n"
          ]
        },
        {
          "output_type": "stream",
          "name": "stderr",
          "text": [
            "\r 48%|████▊     | 480/1000 [01:46<01:55,  4.50it/s]"
          ]
        },
        {
          "output_type": "stream",
          "name": "stdout",
          "text": [
            "Epoch 480, loss 0.5569806098937988\n"
          ]
        },
        {
          "output_type": "stream",
          "name": "stderr",
          "text": [
            "\r 48%|████▊     | 481/1000 [01:46<01:54,  4.52it/s]"
          ]
        },
        {
          "output_type": "stream",
          "name": "stdout",
          "text": [
            "Epoch 481, loss 0.5569788813591003\n"
          ]
        },
        {
          "output_type": "stream",
          "name": "stderr",
          "text": [
            "\r 48%|████▊     | 482/1000 [01:46<01:54,  4.52it/s]"
          ]
        },
        {
          "output_type": "stream",
          "name": "stdout",
          "text": [
            "Epoch 482, loss 0.5569771528244019\n"
          ]
        },
        {
          "output_type": "stream",
          "name": "stderr",
          "text": [
            "\r 48%|████▊     | 483/1000 [01:46<01:54,  4.52it/s]"
          ]
        },
        {
          "output_type": "stream",
          "name": "stdout",
          "text": [
            "Epoch 483, loss 0.5569755434989929\n"
          ]
        },
        {
          "output_type": "stream",
          "name": "stderr",
          "text": [
            "\r 48%|████▊     | 484/1000 [01:46<01:53,  4.54it/s]"
          ]
        },
        {
          "output_type": "stream",
          "name": "stdout",
          "text": [
            "Epoch 484, loss 0.5569739937782288\n"
          ]
        },
        {
          "output_type": "stream",
          "name": "stderr",
          "text": [
            "\r 48%|████▊     | 485/1000 [01:47<01:50,  4.66it/s]"
          ]
        },
        {
          "output_type": "stream",
          "name": "stdout",
          "text": [
            "Epoch 485, loss 0.5569723844528198\n"
          ]
        },
        {
          "output_type": "stream",
          "name": "stderr",
          "text": [
            "\r 49%|████▊     | 486/1000 [01:47<01:51,  4.62it/s]"
          ]
        },
        {
          "output_type": "stream",
          "name": "stdout",
          "text": [
            "Epoch 486, loss 0.5569707155227661\n"
          ]
        },
        {
          "output_type": "stream",
          "name": "stderr",
          "text": [
            "\r 49%|████▊     | 487/1000 [01:47<01:50,  4.66it/s]"
          ]
        },
        {
          "output_type": "stream",
          "name": "stdout",
          "text": [
            "Epoch 487, loss 0.556969165802002\n"
          ]
        },
        {
          "output_type": "stream",
          "name": "stderr",
          "text": [
            "\r 49%|████▉     | 488/1000 [01:47<01:47,  4.77it/s]"
          ]
        },
        {
          "output_type": "stream",
          "name": "stdout",
          "text": [
            "Epoch 488, loss 0.5569674968719482\n",
            "Epoch 489, loss 0.5569659471511841\n"
          ]
        },
        {
          "output_type": "stream",
          "name": "stderr",
          "text": [
            " 49%|████▉     | 490/1000 [01:48<01:47,  4.77it/s]"
          ]
        },
        {
          "output_type": "stream",
          "name": "stdout",
          "text": [
            "Epoch 490, loss 0.5569643974304199\n",
            "Epoch 491, loss 0.5569628477096558\n"
          ]
        },
        {
          "output_type": "stream",
          "name": "stderr",
          "text": [
            " 49%|████▉     | 492/1000 [01:48<01:49,  4.66it/s]"
          ]
        },
        {
          "output_type": "stream",
          "name": "stdout",
          "text": [
            "Epoch 492, loss 0.5569612979888916\n"
          ]
        },
        {
          "output_type": "stream",
          "name": "stderr",
          "text": [
            "\r 49%|████▉     | 493/1000 [01:48<01:52,  4.52it/s]"
          ]
        },
        {
          "output_type": "stream",
          "name": "stdout",
          "text": [
            "Epoch 493, loss 0.5569597482681274\n"
          ]
        },
        {
          "output_type": "stream",
          "name": "stderr",
          "text": [
            "\r 49%|████▉     | 494/1000 [01:49<01:49,  4.63it/s]"
          ]
        },
        {
          "output_type": "stream",
          "name": "stdout",
          "text": [
            "Epoch 494, loss 0.5569581985473633\n",
            "Epoch 495, loss 0.5569566488265991\n"
          ]
        },
        {
          "output_type": "stream",
          "name": "stderr",
          "text": [
            " 50%|████▉     | 496/1000 [01:49<01:51,  4.54it/s]"
          ]
        },
        {
          "output_type": "stream",
          "name": "stdout",
          "text": [
            "Epoch 496, loss 0.5569551587104797\n"
          ]
        },
        {
          "output_type": "stream",
          "name": "stderr",
          "text": [
            "\r 50%|████▉     | 497/1000 [01:49<01:50,  4.55it/s]"
          ]
        },
        {
          "output_type": "stream",
          "name": "stdout",
          "text": [
            "Epoch 497, loss 0.5569536089897156\n"
          ]
        },
        {
          "output_type": "stream",
          "name": "stderr",
          "text": [
            "\r 50%|████▉     | 498/1000 [01:50<01:50,  4.55it/s]"
          ]
        },
        {
          "output_type": "stream",
          "name": "stdout",
          "text": [
            "Epoch 498, loss 0.5569520592689514\n"
          ]
        },
        {
          "output_type": "stream",
          "name": "stderr",
          "text": [
            "\r 50%|████▉     | 499/1000 [01:50<01:51,  4.48it/s]"
          ]
        },
        {
          "output_type": "stream",
          "name": "stdout",
          "text": [
            "Epoch 499, loss 0.5569504499435425\n"
          ]
        },
        {
          "output_type": "stream",
          "name": "stderr",
          "text": [
            "\r 50%|█████     | 500/1000 [01:50<01:47,  4.64it/s]"
          ]
        },
        {
          "output_type": "stream",
          "name": "stdout",
          "text": [
            "Epoch 500, loss 0.5569489598274231\n",
            "Epoch 501, loss 0.5569473505020142\n"
          ]
        },
        {
          "output_type": "stream",
          "name": "stderr",
          "text": [
            " 50%|█████     | 502/1000 [01:50<01:46,  4.70it/s]"
          ]
        },
        {
          "output_type": "stream",
          "name": "stdout",
          "text": [
            "Epoch 502, loss 0.5569458603858948\n",
            "Epoch 503, loss 0.5569443106651306\n"
          ]
        },
        {
          "output_type": "stream",
          "name": "stderr",
          "text": [
            " 50%|█████     | 504/1000 [01:51<01:45,  4.70it/s]"
          ]
        },
        {
          "output_type": "stream",
          "name": "stdout",
          "text": [
            "Epoch 504, loss 0.5569426417350769\n",
            "Epoch 505, loss 0.5569411516189575\n"
          ]
        },
        {
          "output_type": "stream",
          "name": "stderr",
          "text": [
            " 51%|█████     | 506/1000 [01:51<01:45,  4.68it/s]"
          ]
        },
        {
          "output_type": "stream",
          "name": "stdout",
          "text": [
            "Epoch 506, loss 0.5569395422935486\n"
          ]
        },
        {
          "output_type": "stream",
          "name": "stderr",
          "text": [
            "\r 51%|█████     | 507/1000 [01:51<01:45,  4.67it/s]"
          ]
        },
        {
          "output_type": "stream",
          "name": "stdout",
          "text": [
            "Epoch 507, loss 0.5569379925727844\n"
          ]
        },
        {
          "output_type": "stream",
          "name": "stderr",
          "text": [
            "\r 51%|█████     | 508/1000 [01:52<01:43,  4.77it/s]"
          ]
        },
        {
          "output_type": "stream",
          "name": "stdout",
          "text": [
            "Epoch 508, loss 0.5569363236427307\n"
          ]
        },
        {
          "output_type": "stream",
          "name": "stderr",
          "text": [
            "\r 51%|█████     | 509/1000 [01:52<01:45,  4.67it/s]"
          ]
        },
        {
          "output_type": "stream",
          "name": "stdout",
          "text": [
            "Epoch 509, loss 0.5569348335266113\n"
          ]
        },
        {
          "output_type": "stream",
          "name": "stderr",
          "text": [
            "\r 51%|█████     | 510/1000 [01:52<01:43,  4.72it/s]"
          ]
        },
        {
          "output_type": "stream",
          "name": "stdout",
          "text": [
            "Epoch 510, loss 0.5569332242012024\n"
          ]
        },
        {
          "output_type": "stream",
          "name": "stderr",
          "text": [
            "\r 51%|█████     | 511/1000 [01:52<01:45,  4.65it/s]"
          ]
        },
        {
          "output_type": "stream",
          "name": "stdout",
          "text": [
            "Epoch 511, loss 0.5569314956665039\n"
          ]
        },
        {
          "output_type": "stream",
          "name": "stderr",
          "text": [
            "\r 51%|█████     | 512/1000 [01:52<01:43,  4.73it/s]"
          ]
        },
        {
          "output_type": "stream",
          "name": "stdout",
          "text": [
            "Epoch 512, loss 0.5569298267364502\n"
          ]
        },
        {
          "output_type": "stream",
          "name": "stderr",
          "text": [
            "\r 51%|█████▏    | 513/1000 [01:53<01:44,  4.68it/s]"
          ]
        },
        {
          "output_type": "stream",
          "name": "stdout",
          "text": [
            "Epoch 513, loss 0.5569281578063965\n"
          ]
        },
        {
          "output_type": "stream",
          "name": "stderr",
          "text": [
            "\r 51%|█████▏    | 514/1000 [01:53<01:44,  4.67it/s]"
          ]
        },
        {
          "output_type": "stream",
          "name": "stdout",
          "text": [
            "Epoch 514, loss 0.556926429271698\n"
          ]
        },
        {
          "output_type": "stream",
          "name": "stderr",
          "text": [
            "\r 52%|█████▏    | 515/1000 [01:53<01:46,  4.58it/s]"
          ]
        },
        {
          "output_type": "stream",
          "name": "stdout",
          "text": [
            "Epoch 515, loss 0.5569247603416443\n"
          ]
        },
        {
          "output_type": "stream",
          "name": "stderr",
          "text": [
            "\r 52%|█████▏    | 516/1000 [01:53<01:42,  4.72it/s]"
          ]
        },
        {
          "output_type": "stream",
          "name": "stdout",
          "text": [
            "Epoch 516, loss 0.556922972202301\n",
            "Epoch 517, loss 0.556921124458313\n"
          ]
        },
        {
          "output_type": "stream",
          "name": "stderr",
          "text": [
            " 52%|█████▏    | 518/1000 [01:54<01:43,  4.65it/s]"
          ]
        },
        {
          "output_type": "stream",
          "name": "stdout",
          "text": [
            "Epoch 518, loss 0.556919276714325\n"
          ]
        },
        {
          "output_type": "stream",
          "name": "stderr",
          "text": [
            "\r 52%|█████▏    | 519/1000 [01:54<01:47,  4.46it/s]"
          ]
        },
        {
          "output_type": "stream",
          "name": "stdout",
          "text": [
            "Epoch 519, loss 0.5569172501564026\n"
          ]
        },
        {
          "output_type": "stream",
          "name": "stderr",
          "text": [
            "\r 52%|█████▏    | 520/1000 [01:54<01:49,  4.38it/s]"
          ]
        },
        {
          "output_type": "stream",
          "name": "stdout",
          "text": [
            "Epoch 520, loss 0.5569151043891907\n"
          ]
        },
        {
          "output_type": "stream",
          "name": "stderr",
          "text": [
            "\r 52%|█████▏    | 521/1000 [01:54<01:47,  4.44it/s]"
          ]
        },
        {
          "output_type": "stream",
          "name": "stdout",
          "text": [
            "Epoch 521, loss 0.556912899017334\n"
          ]
        },
        {
          "output_type": "stream",
          "name": "stderr",
          "text": [
            "\r 52%|█████▏    | 522/1000 [01:55<01:47,  4.47it/s]"
          ]
        },
        {
          "output_type": "stream",
          "name": "stdout",
          "text": [
            "Epoch 522, loss 0.5569105744361877\n"
          ]
        },
        {
          "output_type": "stream",
          "name": "stderr",
          "text": [
            "\r 52%|█████▏    | 523/1000 [01:55<01:50,  4.32it/s]"
          ]
        },
        {
          "output_type": "stream",
          "name": "stdout",
          "text": [
            "Epoch 523, loss 0.5569078922271729\n"
          ]
        },
        {
          "output_type": "stream",
          "name": "stderr",
          "text": [
            "\r 52%|█████▏    | 524/1000 [01:55<01:49,  4.35it/s]"
          ]
        },
        {
          "output_type": "stream",
          "name": "stdout",
          "text": [
            "Epoch 524, loss 0.5569050908088684\n"
          ]
        },
        {
          "output_type": "stream",
          "name": "stderr",
          "text": [
            "\r 52%|█████▎    | 525/1000 [01:55<01:49,  4.33it/s]"
          ]
        },
        {
          "output_type": "stream",
          "name": "stdout",
          "text": [
            "Epoch 525, loss 0.5569019317626953\n"
          ]
        },
        {
          "output_type": "stream",
          "name": "stderr",
          "text": [
            "\r 53%|█████▎    | 526/1000 [01:56<01:52,  4.21it/s]"
          ]
        },
        {
          "output_type": "stream",
          "name": "stdout",
          "text": [
            "Epoch 526, loss 0.5568982362747192\n"
          ]
        },
        {
          "output_type": "stream",
          "name": "stderr",
          "text": [
            "\r 53%|█████▎    | 527/1000 [01:56<01:51,  4.24it/s]"
          ]
        },
        {
          "output_type": "stream",
          "name": "stdout",
          "text": [
            "Epoch 527, loss 0.5568940043449402\n"
          ]
        },
        {
          "output_type": "stream",
          "name": "stderr",
          "text": [
            "\r 53%|█████▎    | 528/1000 [01:56<01:50,  4.29it/s]"
          ]
        },
        {
          "output_type": "stream",
          "name": "stdout",
          "text": [
            "Epoch 528, loss 0.5568886399269104\n"
          ]
        },
        {
          "output_type": "stream",
          "name": "stderr",
          "text": [
            "\r 53%|█████▎    | 529/1000 [01:56<01:49,  4.30it/s]"
          ]
        },
        {
          "output_type": "stream",
          "name": "stdout",
          "text": [
            "Epoch 529, loss 0.5568820834159851\n"
          ]
        },
        {
          "output_type": "stream",
          "name": "stderr",
          "text": [
            "\r 53%|█████▎    | 530/1000 [01:57<01:52,  4.16it/s]"
          ]
        },
        {
          "output_type": "stream",
          "name": "stdout",
          "text": [
            "Epoch 530, loss 0.5568736791610718\n"
          ]
        },
        {
          "output_type": "stream",
          "name": "stderr",
          "text": [
            "\r 53%|█████▎    | 531/1000 [01:57<01:53,  4.13it/s]"
          ]
        },
        {
          "output_type": "stream",
          "name": "stdout",
          "text": [
            "Epoch 531, loss 0.5568620562553406\n"
          ]
        },
        {
          "output_type": "stream",
          "name": "stderr",
          "text": [
            "\r 53%|█████▎    | 532/1000 [01:57<01:51,  4.21it/s]"
          ]
        },
        {
          "output_type": "stream",
          "name": "stdout",
          "text": [
            "Epoch 532, loss 0.556845486164093\n"
          ]
        },
        {
          "output_type": "stream",
          "name": "stderr",
          "text": [
            "\r 53%|█████▎    | 533/1000 [01:57<01:49,  4.25it/s]"
          ]
        },
        {
          "output_type": "stream",
          "name": "stdout",
          "text": [
            "Epoch 533, loss 0.5568188428878784\n"
          ]
        },
        {
          "output_type": "stream",
          "name": "stderr",
          "text": [
            "\r 53%|█████▎    | 534/1000 [01:58<01:50,  4.21it/s]"
          ]
        },
        {
          "output_type": "stream",
          "name": "stdout",
          "text": [
            "Epoch 534, loss 0.5567730665206909\n"
          ]
        },
        {
          "output_type": "stream",
          "name": "stderr",
          "text": [
            "\r 54%|█████▎    | 535/1000 [01:58<01:47,  4.32it/s]"
          ]
        },
        {
          "output_type": "stream",
          "name": "stdout",
          "text": [
            "Epoch 535, loss 0.5566866397857666\n"
          ]
        },
        {
          "output_type": "stream",
          "name": "stderr",
          "text": [
            "\r 54%|█████▎    | 536/1000 [01:58<01:45,  4.40it/s]"
          ]
        },
        {
          "output_type": "stream",
          "name": "stdout",
          "text": [
            "Epoch 536, loss 0.5565241575241089\n"
          ]
        },
        {
          "output_type": "stream",
          "name": "stderr",
          "text": [
            "\r 54%|█████▎    | 537/1000 [01:58<01:41,  4.58it/s]"
          ]
        },
        {
          "output_type": "stream",
          "name": "stdout",
          "text": [
            "Epoch 537, loss 0.5562716126441956\n",
            "Epoch 538, loss 0.5559802055358887\n"
          ]
        },
        {
          "output_type": "stream",
          "name": "stderr",
          "text": [
            " 54%|█████▍    | 539/1000 [01:59<01:45,  4.39it/s]"
          ]
        },
        {
          "output_type": "stream",
          "name": "stdout",
          "text": [
            "Epoch 539, loss 0.555730938911438\n"
          ]
        },
        {
          "output_type": "stream",
          "name": "stderr",
          "text": [
            "\r 54%|█████▍    | 540/1000 [01:59<01:42,  4.48it/s]"
          ]
        },
        {
          "output_type": "stream",
          "name": "stdout",
          "text": [
            "Epoch 540, loss 0.5555667281150818\n"
          ]
        },
        {
          "output_type": "stream",
          "name": "stderr",
          "text": [
            "\r 54%|█████▍    | 541/1000 [01:59<01:41,  4.54it/s]"
          ]
        },
        {
          "output_type": "stream",
          "name": "stdout",
          "text": [
            "Epoch 541, loss 0.555497944355011\n"
          ]
        },
        {
          "output_type": "stream",
          "name": "stderr",
          "text": [
            "\r 54%|█████▍    | 542/1000 [01:59<01:38,  4.64it/s]"
          ]
        },
        {
          "output_type": "stream",
          "name": "stdout",
          "text": [
            "Epoch 542, loss 0.5554421544075012\n",
            "Epoch 543, loss 0.5553830862045288\n"
          ]
        },
        {
          "output_type": "stream",
          "name": "stderr",
          "text": [
            " 54%|█████▍    | 544/1000 [02:00<01:41,  4.50it/s]"
          ]
        },
        {
          "output_type": "stream",
          "name": "stdout",
          "text": [
            "Epoch 544, loss 0.555335283279419\n"
          ]
        },
        {
          "output_type": "stream",
          "name": "stderr",
          "text": [
            "\r 55%|█████▍    | 545/1000 [02:00<01:39,  4.56it/s]"
          ]
        },
        {
          "output_type": "stream",
          "name": "stdout",
          "text": [
            "Epoch 545, loss 0.5553072690963745\n"
          ]
        },
        {
          "output_type": "stream",
          "name": "stderr",
          "text": [
            "\r 55%|█████▍    | 546/1000 [02:00<01:37,  4.64it/s]"
          ]
        },
        {
          "output_type": "stream",
          "name": "stdout",
          "text": [
            "Epoch 546, loss 0.5552791357040405\n"
          ]
        },
        {
          "output_type": "stream",
          "name": "stderr",
          "text": [
            "\r 55%|█████▍    | 547/1000 [02:00<01:39,  4.57it/s]"
          ]
        },
        {
          "output_type": "stream",
          "name": "stdout",
          "text": [
            "Epoch 547, loss 0.555261492729187\n"
          ]
        },
        {
          "output_type": "stream",
          "name": "stderr",
          "text": [
            "\r 55%|█████▍    | 548/1000 [02:01<01:38,  4.57it/s]"
          ]
        },
        {
          "output_type": "stream",
          "name": "stdout",
          "text": [
            "Epoch 548, loss 0.5552570819854736\n"
          ]
        },
        {
          "output_type": "stream",
          "name": "stderr",
          "text": [
            "\r 55%|█████▍    | 549/1000 [02:01<01:42,  4.40it/s]"
          ]
        },
        {
          "output_type": "stream",
          "name": "stdout",
          "text": [
            "Epoch 549, loss 0.5552505850791931\n"
          ]
        },
        {
          "output_type": "stream",
          "name": "stderr",
          "text": [
            "\r 55%|█████▌    | 550/1000 [02:01<01:40,  4.49it/s]"
          ]
        },
        {
          "output_type": "stream",
          "name": "stdout",
          "text": [
            "Epoch 550, loss 0.5552434325218201\n",
            "Epoch 551, loss 0.5552363991737366\n"
          ]
        },
        {
          "output_type": "stream",
          "name": "stderr",
          "text": [
            " 55%|█████▌    | 552/1000 [02:01<01:37,  4.60it/s]"
          ]
        },
        {
          "output_type": "stream",
          "name": "stdout",
          "text": [
            "Epoch 552, loss 0.5552312731742859\n"
          ]
        },
        {
          "output_type": "stream",
          "name": "stderr",
          "text": [
            "\r 55%|█████▌    | 553/1000 [02:02<01:35,  4.66it/s]"
          ]
        },
        {
          "output_type": "stream",
          "name": "stdout",
          "text": [
            "Epoch 553, loss 0.5552205443382263\n"
          ]
        },
        {
          "output_type": "stream",
          "name": "stderr",
          "text": [
            "\r 55%|█████▌    | 554/1000 [02:02<01:37,  4.59it/s]"
          ]
        },
        {
          "output_type": "stream",
          "name": "stdout",
          "text": [
            "Epoch 554, loss 0.5552107095718384\n"
          ]
        },
        {
          "output_type": "stream",
          "name": "stderr",
          "text": [
            "\r 56%|█████▌    | 555/1000 [02:02<01:36,  4.63it/s]"
          ]
        },
        {
          "output_type": "stream",
          "name": "stdout",
          "text": [
            "Epoch 555, loss 0.5552032589912415\n"
          ]
        },
        {
          "output_type": "stream",
          "name": "stderr",
          "text": [
            "\r 56%|█████▌    | 556/1000 [02:02<01:33,  4.74it/s]"
          ]
        },
        {
          "output_type": "stream",
          "name": "stdout",
          "text": [
            "Epoch 556, loss 0.5551934838294983\n"
          ]
        },
        {
          "output_type": "stream",
          "name": "stderr",
          "text": [
            "\r 56%|█████▌    | 557/1000 [02:03<01:36,  4.60it/s]"
          ]
        },
        {
          "output_type": "stream",
          "name": "stdout",
          "text": [
            "Epoch 557, loss 0.5551840662956238\n"
          ]
        },
        {
          "output_type": "stream",
          "name": "stderr",
          "text": [
            "\r 56%|█████▌    | 558/1000 [02:03<01:35,  4.62it/s]"
          ]
        },
        {
          "output_type": "stream",
          "name": "stdout",
          "text": [
            "Epoch 558, loss 0.5551754832267761\n",
            "Epoch 559, loss 0.5551695227622986\n"
          ]
        },
        {
          "output_type": "stream",
          "name": "stderr",
          "text": [
            " 56%|█████▌    | 560/1000 [02:03<01:38,  4.45it/s]"
          ]
        },
        {
          "output_type": "stream",
          "name": "stdout",
          "text": [
            "Epoch 560, loss 0.5551629066467285\n"
          ]
        },
        {
          "output_type": "stream",
          "name": "stderr",
          "text": [
            "\r 56%|█████▌    | 561/1000 [02:03<01:38,  4.44it/s]"
          ]
        },
        {
          "output_type": "stream",
          "name": "stdout",
          "text": [
            "Epoch 561, loss 0.5551566481590271\n"
          ]
        },
        {
          "output_type": "stream",
          "name": "stderr",
          "text": [
            "\r 56%|█████▌    | 562/1000 [02:04<01:36,  4.55it/s]"
          ]
        },
        {
          "output_type": "stream",
          "name": "stdout",
          "text": [
            "Epoch 562, loss 0.5551531314849854\n"
          ]
        },
        {
          "output_type": "stream",
          "name": "stderr",
          "text": [
            "\r 56%|█████▋    | 563/1000 [02:04<01:39,  4.39it/s]"
          ]
        },
        {
          "output_type": "stream",
          "name": "stdout",
          "text": [
            "Epoch 563, loss 0.5551496744155884\n"
          ]
        },
        {
          "output_type": "stream",
          "name": "stderr",
          "text": [
            "\r 56%|█████▋    | 564/1000 [02:04<01:36,  4.50it/s]"
          ]
        },
        {
          "output_type": "stream",
          "name": "stdout",
          "text": [
            "Epoch 564, loss 0.5551460385322571\n",
            "Epoch 565, loss 0.555141806602478\n"
          ]
        },
        {
          "output_type": "stream",
          "name": "stderr",
          "text": [
            " 57%|█████▋    | 566/1000 [02:05<01:39,  4.38it/s]"
          ]
        },
        {
          "output_type": "stream",
          "name": "stdout",
          "text": [
            "Epoch 566, loss 0.5551379323005676\n"
          ]
        },
        {
          "output_type": "stream",
          "name": "stderr",
          "text": [
            "\r 57%|█████▋    | 567/1000 [02:05<01:35,  4.52it/s]"
          ]
        },
        {
          "output_type": "stream",
          "name": "stdout",
          "text": [
            "Epoch 567, loss 0.555134117603302\n",
            "Epoch 568, loss 0.5551291704177856\n"
          ]
        },
        {
          "output_type": "stream",
          "name": "stderr",
          "text": [
            " 57%|█████▋    | 569/1000 [02:05<01:35,  4.52it/s]"
          ]
        },
        {
          "output_type": "stream",
          "name": "stdout",
          "text": [
            "Epoch 569, loss 0.5551245212554932\n"
          ]
        },
        {
          "output_type": "stream",
          "name": "stderr",
          "text": [
            "\r 57%|█████▋    | 570/1000 [02:05<01:36,  4.47it/s]"
          ]
        },
        {
          "output_type": "stream",
          "name": "stdout",
          "text": [
            "Epoch 570, loss 0.5551202893257141\n"
          ]
        },
        {
          "output_type": "stream",
          "name": "stderr",
          "text": [
            "\r 57%|█████▋    | 571/1000 [02:06<01:34,  4.52it/s]"
          ]
        },
        {
          "output_type": "stream",
          "name": "stdout",
          "text": [
            "Epoch 571, loss 0.5551166534423828\n"
          ]
        },
        {
          "output_type": "stream",
          "name": "stderr",
          "text": [
            "\r 57%|█████▋    | 572/1000 [02:06<01:33,  4.56it/s]"
          ]
        },
        {
          "output_type": "stream",
          "name": "stdout",
          "text": [
            "Epoch 572, loss 0.5551133751869202\n"
          ]
        },
        {
          "output_type": "stream",
          "name": "stderr",
          "text": [
            "\r 57%|█████▋    | 573/1000 [02:06<01:33,  4.56it/s]"
          ]
        },
        {
          "output_type": "stream",
          "name": "stdout",
          "text": [
            "Epoch 573, loss 0.5551100373268127\n"
          ]
        },
        {
          "output_type": "stream",
          "name": "stderr",
          "text": [
            "\r 57%|█████▋    | 574/1000 [02:06<01:31,  4.66it/s]"
          ]
        },
        {
          "output_type": "stream",
          "name": "stdout",
          "text": [
            "Epoch 574, loss 0.5551074147224426\n",
            "Epoch 575, loss 0.5551051497459412\n"
          ]
        },
        {
          "output_type": "stream",
          "name": "stderr",
          "text": [
            " 58%|█████▊    | 576/1000 [02:07<01:29,  4.72it/s]"
          ]
        },
        {
          "output_type": "stream",
          "name": "stdout",
          "text": [
            "Epoch 576, loss 0.5551028251647949\n",
            "Epoch 577, loss 0.5551003217697144\n"
          ]
        },
        {
          "output_type": "stream",
          "name": "stderr",
          "text": [
            " 58%|█████▊    | 578/1000 [02:07<01:35,  4.44it/s]"
          ]
        },
        {
          "output_type": "stream",
          "name": "stdout",
          "text": [
            "Epoch 578, loss 0.5550978779792786\n"
          ]
        },
        {
          "output_type": "stream",
          "name": "stderr",
          "text": [
            "\r 58%|█████▊    | 579/1000 [02:07<01:35,  4.39it/s]"
          ]
        },
        {
          "output_type": "stream",
          "name": "stdout",
          "text": [
            "Epoch 579, loss 0.5550955533981323\n"
          ]
        },
        {
          "output_type": "stream",
          "name": "stderr",
          "text": [
            "\r 58%|█████▊    | 580/1000 [02:08<01:35,  4.38it/s]"
          ]
        },
        {
          "output_type": "stream",
          "name": "stdout",
          "text": [
            "Epoch 580, loss 0.5550932288169861\n"
          ]
        },
        {
          "output_type": "stream",
          "name": "stderr",
          "text": [
            "\r 58%|█████▊    | 581/1000 [02:08<01:36,  4.33it/s]"
          ]
        },
        {
          "output_type": "stream",
          "name": "stdout",
          "text": [
            "Epoch 581, loss 0.5550907850265503\n"
          ]
        },
        {
          "output_type": "stream",
          "name": "stderr",
          "text": [
            "\r 58%|█████▊    | 582/1000 [02:08<01:36,  4.32it/s]"
          ]
        },
        {
          "output_type": "stream",
          "name": "stdout",
          "text": [
            "Epoch 582, loss 0.5550885796546936\n"
          ]
        },
        {
          "output_type": "stream",
          "name": "stderr",
          "text": [
            "\r 58%|█████▊    | 583/1000 [02:08<01:36,  4.32it/s]"
          ]
        },
        {
          "output_type": "stream",
          "name": "stdout",
          "text": [
            "Epoch 583, loss 0.5550864338874817\n"
          ]
        },
        {
          "output_type": "stream",
          "name": "stderr",
          "text": [
            "\r 58%|█████▊    | 584/1000 [02:09<01:37,  4.26it/s]"
          ]
        },
        {
          "output_type": "stream",
          "name": "stdout",
          "text": [
            "Epoch 584, loss 0.5550845265388489\n"
          ]
        },
        {
          "output_type": "stream",
          "name": "stderr",
          "text": [
            "\r 58%|█████▊    | 585/1000 [02:09<01:37,  4.26it/s]"
          ]
        },
        {
          "output_type": "stream",
          "name": "stdout",
          "text": [
            "Epoch 585, loss 0.5550825595855713\n"
          ]
        },
        {
          "output_type": "stream",
          "name": "stderr",
          "text": [
            "\r 59%|█████▊    | 586/1000 [02:09<01:37,  4.24it/s]"
          ]
        },
        {
          "output_type": "stream",
          "name": "stdout",
          "text": [
            "Epoch 586, loss 0.5550805330276489\n"
          ]
        },
        {
          "output_type": "stream",
          "name": "stderr",
          "text": [
            "\r 59%|█████▊    | 587/1000 [02:09<01:36,  4.26it/s]"
          ]
        },
        {
          "output_type": "stream",
          "name": "stdout",
          "text": [
            "Epoch 587, loss 0.5550786256790161\n"
          ]
        },
        {
          "output_type": "stream",
          "name": "stderr",
          "text": [
            "\r 59%|█████▉    | 588/1000 [02:10<01:35,  4.30it/s]"
          ]
        },
        {
          "output_type": "stream",
          "name": "stdout",
          "text": [
            "Epoch 588, loss 0.5550767779350281\n"
          ]
        },
        {
          "output_type": "stream",
          "name": "stderr",
          "text": [
            "\r 59%|█████▉    | 589/1000 [02:10<01:37,  4.20it/s]"
          ]
        },
        {
          "output_type": "stream",
          "name": "stdout",
          "text": [
            "Epoch 589, loss 0.5550752282142639\n"
          ]
        },
        {
          "output_type": "stream",
          "name": "stderr",
          "text": [
            "\r 59%|█████▉    | 590/1000 [02:10<01:37,  4.22it/s]"
          ]
        },
        {
          "output_type": "stream",
          "name": "stdout",
          "text": [
            "Epoch 590, loss 0.5550735592842102\n"
          ]
        },
        {
          "output_type": "stream",
          "name": "stderr",
          "text": [
            "\r 59%|█████▉    | 591/1000 [02:10<01:37,  4.21it/s]"
          ]
        },
        {
          "output_type": "stream",
          "name": "stdout",
          "text": [
            "Epoch 591, loss 0.5550721287727356\n"
          ]
        },
        {
          "output_type": "stream",
          "name": "stderr",
          "text": [
            "\r 59%|█████▉    | 592/1000 [02:11<01:37,  4.19it/s]"
          ]
        },
        {
          "output_type": "stream",
          "name": "stdout",
          "text": [
            "Epoch 592, loss 0.5550706386566162\n"
          ]
        },
        {
          "output_type": "stream",
          "name": "stderr",
          "text": [
            "\r 59%|█████▉    | 593/1000 [02:11<01:36,  4.22it/s]"
          ]
        },
        {
          "output_type": "stream",
          "name": "stdout",
          "text": [
            "Epoch 593, loss 0.5550692081451416\n"
          ]
        },
        {
          "output_type": "stream",
          "name": "stderr",
          "text": [
            "\r 59%|█████▉    | 594/1000 [02:11<01:32,  4.37it/s]"
          ]
        },
        {
          "output_type": "stream",
          "name": "stdout",
          "text": [
            "Epoch 594, loss 0.5550679564476013\n",
            "Epoch 595, loss 0.5550666451454163\n"
          ]
        },
        {
          "output_type": "stream",
          "name": "stderr",
          "text": [
            " 60%|█████▉    | 596/1000 [02:11<01:34,  4.28it/s]"
          ]
        },
        {
          "output_type": "stream",
          "name": "stdout",
          "text": [
            "Epoch 596, loss 0.555065393447876\n"
          ]
        },
        {
          "output_type": "stream",
          "name": "stderr",
          "text": [
            "\r 60%|█████▉    | 597/1000 [02:12<01:33,  4.29it/s]"
          ]
        },
        {
          "output_type": "stream",
          "name": "stdout",
          "text": [
            "Epoch 597, loss 0.5550642609596252\n"
          ]
        },
        {
          "output_type": "stream",
          "name": "stderr",
          "text": [
            "\r 60%|█████▉    | 598/1000 [02:12<01:35,  4.20it/s]"
          ]
        },
        {
          "output_type": "stream",
          "name": "stdout",
          "text": [
            "Epoch 598, loss 0.5550631284713745\n"
          ]
        },
        {
          "output_type": "stream",
          "name": "stderr",
          "text": [
            "\r 60%|█████▉    | 599/1000 [02:12<01:35,  4.21it/s]"
          ]
        },
        {
          "output_type": "stream",
          "name": "stdout",
          "text": [
            "Epoch 599, loss 0.5550619959831238\n"
          ]
        },
        {
          "output_type": "stream",
          "name": "stderr",
          "text": [
            "\r 60%|██████    | 600/1000 [02:12<01:36,  4.15it/s]"
          ]
        },
        {
          "output_type": "stream",
          "name": "stdout",
          "text": [
            "Epoch 600, loss 0.5550609230995178\n"
          ]
        },
        {
          "output_type": "stream",
          "name": "stderr",
          "text": [
            "\r 60%|██████    | 601/1000 [02:13<01:35,  4.19it/s]"
          ]
        },
        {
          "output_type": "stream",
          "name": "stdout",
          "text": [
            "Epoch 601, loss 0.5550598502159119\n"
          ]
        },
        {
          "output_type": "stream",
          "name": "stderr",
          "text": [
            "\r 60%|██████    | 602/1000 [02:13<01:33,  4.26it/s]"
          ]
        },
        {
          "output_type": "stream",
          "name": "stdout",
          "text": [
            "Epoch 602, loss 0.5550586581230164\n"
          ]
        },
        {
          "output_type": "stream",
          "name": "stderr",
          "text": [
            "\r 60%|██████    | 603/1000 [02:13<01:31,  4.33it/s]"
          ]
        },
        {
          "output_type": "stream",
          "name": "stdout",
          "text": [
            "Epoch 603, loss 0.5550576448440552\n"
          ]
        },
        {
          "output_type": "stream",
          "name": "stderr",
          "text": [
            "\r 60%|██████    | 604/1000 [02:13<01:29,  4.43it/s]"
          ]
        },
        {
          "output_type": "stream",
          "name": "stdout",
          "text": [
            "Epoch 604, loss 0.555056631565094\n"
          ]
        },
        {
          "output_type": "stream",
          "name": "stderr",
          "text": [
            "\r 60%|██████    | 605/1000 [02:14<01:30,  4.38it/s]"
          ]
        },
        {
          "output_type": "stream",
          "name": "stdout",
          "text": [
            "Epoch 605, loss 0.5550556778907776\n"
          ]
        },
        {
          "output_type": "stream",
          "name": "stderr",
          "text": [
            "\r 61%|██████    | 606/1000 [02:14<01:30,  4.35it/s]"
          ]
        },
        {
          "output_type": "stream",
          "name": "stdout",
          "text": [
            "Epoch 606, loss 0.5550546050071716\n"
          ]
        },
        {
          "output_type": "stream",
          "name": "stderr",
          "text": [
            "\r 61%|██████    | 607/1000 [02:14<01:28,  4.43it/s]"
          ]
        },
        {
          "output_type": "stream",
          "name": "stdout",
          "text": [
            "Epoch 607, loss 0.5550536513328552\n"
          ]
        },
        {
          "output_type": "stream",
          "name": "stderr",
          "text": [
            "\r 61%|██████    | 608/1000 [02:14<01:29,  4.40it/s]"
          ]
        },
        {
          "output_type": "stream",
          "name": "stdout",
          "text": [
            "Epoch 608, loss 0.555052638053894\n"
          ]
        },
        {
          "output_type": "stream",
          "name": "stderr",
          "text": [
            "\r 61%|██████    | 609/1000 [02:14<01:28,  4.44it/s]"
          ]
        },
        {
          "output_type": "stream",
          "name": "stdout",
          "text": [
            "Epoch 609, loss 0.5550516843795776\n",
            "Epoch 610, loss 0.5550508499145508\n"
          ]
        },
        {
          "output_type": "stream",
          "name": "stderr",
          "text": [
            " 61%|██████    | 611/1000 [02:15<01:24,  4.60it/s]"
          ]
        },
        {
          "output_type": "stream",
          "name": "stdout",
          "text": [
            "Epoch 611, loss 0.5550499558448792\n"
          ]
        },
        {
          "output_type": "stream",
          "name": "stderr",
          "text": [
            "\r 61%|██████    | 612/1000 [02:15<01:24,  4.58it/s]"
          ]
        },
        {
          "output_type": "stream",
          "name": "stdout",
          "text": [
            "Epoch 612, loss 0.5550490617752075\n"
          ]
        },
        {
          "output_type": "stream",
          "name": "stderr",
          "text": [
            "\r 61%|██████▏   | 613/1000 [02:15<01:22,  4.68it/s]"
          ]
        },
        {
          "output_type": "stream",
          "name": "stdout",
          "text": [
            "Epoch 613, loss 0.5550481677055359\n"
          ]
        },
        {
          "output_type": "stream",
          "name": "stderr",
          "text": [
            "\r 61%|██████▏   | 614/1000 [02:15<01:20,  4.81it/s]"
          ]
        },
        {
          "output_type": "stream",
          "name": "stdout",
          "text": [
            "Epoch 614, loss 0.5550472140312195\n",
            "Epoch 615, loss 0.5550464391708374\n"
          ]
        },
        {
          "output_type": "stream",
          "name": "stderr",
          "text": [
            " 62%|██████▏   | 616/1000 [02:16<01:18,  4.91it/s]"
          ]
        },
        {
          "output_type": "stream",
          "name": "stdout",
          "text": [
            "Epoch 616, loss 0.5550456047058105\n",
            "Epoch 617, loss 0.5550447702407837\n"
          ]
        },
        {
          "output_type": "stream",
          "name": "stderr",
          "text": [
            " 62%|██████▏   | 618/1000 [02:16<01:20,  4.75it/s]"
          ]
        },
        {
          "output_type": "stream",
          "name": "stdout",
          "text": [
            "Epoch 618, loss 0.5550439953804016\n"
          ]
        },
        {
          "output_type": "stream",
          "name": "stderr",
          "text": [
            "\r 62%|██████▏   | 619/1000 [02:17<01:21,  4.70it/s]"
          ]
        },
        {
          "output_type": "stream",
          "name": "stdout",
          "text": [
            "Epoch 619, loss 0.5550432205200195\n"
          ]
        },
        {
          "output_type": "stream",
          "name": "stderr",
          "text": [
            "\r 62%|██████▏   | 620/1000 [02:17<01:20,  4.73it/s]"
          ]
        },
        {
          "output_type": "stream",
          "name": "stdout",
          "text": [
            "Epoch 620, loss 0.5550424456596375\n"
          ]
        },
        {
          "output_type": "stream",
          "name": "stderr",
          "text": [
            "\r 62%|██████▏   | 621/1000 [02:17<01:21,  4.65it/s]"
          ]
        },
        {
          "output_type": "stream",
          "name": "stdout",
          "text": [
            "Epoch 621, loss 0.5550416111946106\n"
          ]
        },
        {
          "output_type": "stream",
          "name": "stderr",
          "text": [
            "\r 62%|██████▏   | 622/1000 [02:17<01:21,  4.61it/s]"
          ]
        },
        {
          "output_type": "stream",
          "name": "stdout",
          "text": [
            "Epoch 622, loss 0.5550408363342285\n"
          ]
        },
        {
          "output_type": "stream",
          "name": "stderr",
          "text": [
            "\r 62%|██████▏   | 623/1000 [02:17<01:20,  4.67it/s]"
          ]
        },
        {
          "output_type": "stream",
          "name": "stdout",
          "text": [
            "Epoch 623, loss 0.5550401210784912\n"
          ]
        },
        {
          "output_type": "stream",
          "name": "stderr",
          "text": [
            "\r 62%|██████▏   | 624/1000 [02:18<01:24,  4.47it/s]"
          ]
        },
        {
          "output_type": "stream",
          "name": "stdout",
          "text": [
            "Epoch 624, loss 0.5550394058227539\n"
          ]
        },
        {
          "output_type": "stream",
          "name": "stderr",
          "text": [
            "\r 62%|██████▎   | 625/1000 [02:18<01:24,  4.43it/s]"
          ]
        },
        {
          "output_type": "stream",
          "name": "stdout",
          "text": [
            "Epoch 625, loss 0.5550386905670166\n"
          ]
        },
        {
          "output_type": "stream",
          "name": "stderr",
          "text": [
            "\r 63%|██████▎   | 626/1000 [02:18<01:25,  4.35it/s]"
          ]
        },
        {
          "output_type": "stream",
          "name": "stdout",
          "text": [
            "Epoch 626, loss 0.5550379753112793\n"
          ]
        },
        {
          "output_type": "stream",
          "name": "stderr",
          "text": [
            "\r 63%|██████▎   | 627/1000 [02:18<01:22,  4.51it/s]"
          ]
        },
        {
          "output_type": "stream",
          "name": "stdout",
          "text": [
            "Epoch 627, loss 0.5550373196601868\n",
            "Epoch 628, loss 0.5550365447998047\n"
          ]
        },
        {
          "output_type": "stream",
          "name": "stderr",
          "text": [
            " 63%|██████▎   | 629/1000 [02:19<01:22,  4.49it/s]"
          ]
        },
        {
          "output_type": "stream",
          "name": "stdout",
          "text": [
            "Epoch 629, loss 0.5550359487533569\n"
          ]
        },
        {
          "output_type": "stream",
          "name": "stderr",
          "text": [
            "\r 63%|██████▎   | 630/1000 [02:19<01:20,  4.61it/s]"
          ]
        },
        {
          "output_type": "stream",
          "name": "stdout",
          "text": [
            "Epoch 630, loss 0.5550352931022644\n"
          ]
        },
        {
          "output_type": "stream",
          "name": "stderr",
          "text": [
            "\r 63%|██████▎   | 631/1000 [02:19<01:20,  4.59it/s]"
          ]
        },
        {
          "output_type": "stream",
          "name": "stdout",
          "text": [
            "Epoch 631, loss 0.5550346374511719\n"
          ]
        },
        {
          "output_type": "stream",
          "name": "stderr",
          "text": [
            "\r 63%|██████▎   | 632/1000 [02:19<01:18,  4.69it/s]"
          ]
        },
        {
          "output_type": "stream",
          "name": "stdout",
          "text": [
            "Epoch 632, loss 0.5550338625907898\n"
          ]
        },
        {
          "output_type": "stream",
          "name": "stderr",
          "text": [
            "\r 63%|██████▎   | 633/1000 [02:20<01:16,  4.81it/s]"
          ]
        },
        {
          "output_type": "stream",
          "name": "stdout",
          "text": [
            "Epoch 633, loss 0.5550332069396973\n",
            "Epoch 634, loss 0.5550326108932495\n"
          ]
        },
        {
          "output_type": "stream",
          "name": "stderr",
          "text": [
            " 64%|██████▎   | 635/1000 [02:20<01:15,  4.81it/s]"
          ]
        },
        {
          "output_type": "stream",
          "name": "stdout",
          "text": [
            "Epoch 635, loss 0.555031955242157\n",
            "Epoch 636, loss 0.5550313591957092\n"
          ]
        },
        {
          "output_type": "stream",
          "name": "stderr",
          "text": [
            " 64%|██████▎   | 637/1000 [02:20<01:16,  4.73it/s]"
          ]
        },
        {
          "output_type": "stream",
          "name": "stdout",
          "text": [
            "Epoch 637, loss 0.5550307631492615\n",
            "Epoch 638, loss 0.5550301671028137\n"
          ]
        },
        {
          "output_type": "stream",
          "name": "stderr",
          "text": [
            " 64%|██████▍   | 639/1000 [02:21<01:22,  4.37it/s]"
          ]
        },
        {
          "output_type": "stream",
          "name": "stdout",
          "text": [
            "Epoch 639, loss 0.5550295114517212\n"
          ]
        },
        {
          "output_type": "stream",
          "name": "stderr",
          "text": [
            "\r 64%|██████▍   | 640/1000 [02:21<01:22,  4.37it/s]"
          ]
        },
        {
          "output_type": "stream",
          "name": "stdout",
          "text": [
            "Epoch 640, loss 0.5550288558006287\n"
          ]
        },
        {
          "output_type": "stream",
          "name": "stderr",
          "text": [
            "\r 64%|██████▍   | 641/1000 [02:21<01:22,  4.38it/s]"
          ]
        },
        {
          "output_type": "stream",
          "name": "stdout",
          "text": [
            "Epoch 641, loss 0.5550282597541809\n"
          ]
        },
        {
          "output_type": "stream",
          "name": "stderr",
          "text": [
            "\r 64%|██████▍   | 642/1000 [02:22<01:23,  4.31it/s]"
          ]
        },
        {
          "output_type": "stream",
          "name": "stdout",
          "text": [
            "Epoch 642, loss 0.5550277233123779\n"
          ]
        },
        {
          "output_type": "stream",
          "name": "stderr",
          "text": [
            "\r 64%|██████▍   | 643/1000 [02:22<01:21,  4.37it/s]"
          ]
        },
        {
          "output_type": "stream",
          "name": "stdout",
          "text": [
            "Epoch 643, loss 0.5550271272659302\n"
          ]
        },
        {
          "output_type": "stream",
          "name": "stderr",
          "text": [
            "\r 64%|██████▍   | 644/1000 [02:22<01:23,  4.29it/s]"
          ]
        },
        {
          "output_type": "stream",
          "name": "stdout",
          "text": [
            "Epoch 644, loss 0.5550265312194824\n"
          ]
        },
        {
          "output_type": "stream",
          "name": "stderr",
          "text": [
            "\r 64%|██████▍   | 645/1000 [02:22<01:23,  4.24it/s]"
          ]
        },
        {
          "output_type": "stream",
          "name": "stdout",
          "text": [
            "Epoch 645, loss 0.5550260543823242\n"
          ]
        },
        {
          "output_type": "stream",
          "name": "stderr",
          "text": [
            "\r 65%|██████▍   | 646/1000 [02:23<01:22,  4.28it/s]"
          ]
        },
        {
          "output_type": "stream",
          "name": "stdout",
          "text": [
            "Epoch 646, loss 0.5550253987312317\n"
          ]
        },
        {
          "output_type": "stream",
          "name": "stderr",
          "text": [
            "\r 65%|██████▍   | 647/1000 [02:23<01:21,  4.33it/s]"
          ]
        },
        {
          "output_type": "stream",
          "name": "stdout",
          "text": [
            "Epoch 647, loss 0.5550249218940735\n"
          ]
        },
        {
          "output_type": "stream",
          "name": "stderr",
          "text": [
            "\r 65%|██████▍   | 648/1000 [02:23<01:23,  4.23it/s]"
          ]
        },
        {
          "output_type": "stream",
          "name": "stdout",
          "text": [
            "Epoch 648, loss 0.5550243258476257\n"
          ]
        },
        {
          "output_type": "stream",
          "name": "stderr",
          "text": [
            "\r 65%|██████▍   | 649/1000 [02:23<01:25,  4.13it/s]"
          ]
        },
        {
          "output_type": "stream",
          "name": "stdout",
          "text": [
            "Epoch 649, loss 0.555023729801178\n"
          ]
        },
        {
          "output_type": "stream",
          "name": "stderr",
          "text": [
            "\r 65%|██████▌   | 650/1000 [02:24<01:24,  4.13it/s]"
          ]
        },
        {
          "output_type": "stream",
          "name": "stdout",
          "text": [
            "Epoch 650, loss 0.5550231337547302\n"
          ]
        },
        {
          "output_type": "stream",
          "name": "stderr",
          "text": [
            "\r 65%|██████▌   | 651/1000 [02:24<01:22,  4.22it/s]"
          ]
        },
        {
          "output_type": "stream",
          "name": "stdout",
          "text": [
            "Epoch 651, loss 0.555022656917572\n"
          ]
        },
        {
          "output_type": "stream",
          "name": "stderr",
          "text": [
            "\r 65%|██████▌   | 652/1000 [02:24<01:19,  4.36it/s]"
          ]
        },
        {
          "output_type": "stream",
          "name": "stdout",
          "text": [
            "Epoch 652, loss 0.5550220608711243\n"
          ]
        },
        {
          "output_type": "stream",
          "name": "stderr",
          "text": [
            "\r 65%|██████▌   | 653/1000 [02:24<01:17,  4.48it/s]"
          ]
        },
        {
          "output_type": "stream",
          "name": "stdout",
          "text": [
            "Epoch 653, loss 0.5550215244293213\n"
          ]
        },
        {
          "output_type": "stream",
          "name": "stderr",
          "text": [
            "\r 65%|██████▌   | 654/1000 [02:24<01:15,  4.56it/s]"
          ]
        },
        {
          "output_type": "stream",
          "name": "stdout",
          "text": [
            "Epoch 654, loss 0.5550209879875183\n",
            "Epoch 655, loss 0.5550205111503601\n"
          ]
        },
        {
          "output_type": "stream",
          "name": "stderr",
          "text": [
            " 66%|██████▌   | 656/1000 [02:25<01:15,  4.56it/s]"
          ]
        },
        {
          "output_type": "stream",
          "name": "stdout",
          "text": [
            "Epoch 656, loss 0.5550199747085571\n"
          ]
        },
        {
          "output_type": "stream",
          "name": "stderr",
          "text": [
            "\r 66%|██████▌   | 657/1000 [02:25<01:18,  4.38it/s]"
          ]
        },
        {
          "output_type": "stream",
          "name": "stdout",
          "text": [
            "Epoch 657, loss 0.5550194978713989\n"
          ]
        },
        {
          "output_type": "stream",
          "name": "stderr",
          "text": [
            "\r 66%|██████▌   | 658/1000 [02:25<01:16,  4.49it/s]"
          ]
        },
        {
          "output_type": "stream",
          "name": "stdout",
          "text": [
            "Epoch 658, loss 0.5550188422203064\n"
          ]
        },
        {
          "output_type": "stream",
          "name": "stderr",
          "text": [
            "\r 66%|██████▌   | 659/1000 [02:25<01:15,  4.53it/s]"
          ]
        },
        {
          "output_type": "stream",
          "name": "stdout",
          "text": [
            "Epoch 659, loss 0.555018424987793\n"
          ]
        },
        {
          "output_type": "stream",
          "name": "stderr",
          "text": [
            "\r 66%|██████▌   | 660/1000 [02:26<01:14,  4.56it/s]"
          ]
        },
        {
          "output_type": "stream",
          "name": "stdout",
          "text": [
            "Epoch 660, loss 0.5550178289413452\n"
          ]
        },
        {
          "output_type": "stream",
          "name": "stderr",
          "text": [
            "\r 66%|██████▌   | 661/1000 [02:26<01:12,  4.69it/s]"
          ]
        },
        {
          "output_type": "stream",
          "name": "stdout",
          "text": [
            "Epoch 661, loss 0.5550172924995422\n",
            "Epoch 662, loss 0.5550168752670288\n"
          ]
        },
        {
          "output_type": "stream",
          "name": "stderr",
          "text": [
            " 66%|██████▋   | 663/1000 [02:26<01:12,  4.67it/s]"
          ]
        },
        {
          "output_type": "stream",
          "name": "stdout",
          "text": [
            "Epoch 663, loss 0.5550163984298706\n"
          ]
        },
        {
          "output_type": "stream",
          "name": "stderr",
          "text": [
            "\r 66%|██████▋   | 664/1000 [02:27<01:12,  4.66it/s]"
          ]
        },
        {
          "output_type": "stream",
          "name": "stdout",
          "text": [
            "Epoch 664, loss 0.5550158619880676\n"
          ]
        },
        {
          "output_type": "stream",
          "name": "stderr",
          "text": [
            "\r 66%|██████▋   | 665/1000 [02:27<01:11,  4.66it/s]"
          ]
        },
        {
          "output_type": "stream",
          "name": "stdout",
          "text": [
            "Epoch 665, loss 0.5550154447555542\n"
          ]
        },
        {
          "output_type": "stream",
          "name": "stderr",
          "text": [
            "\r 67%|██████▋   | 666/1000 [02:27<01:12,  4.62it/s]"
          ]
        },
        {
          "output_type": "stream",
          "name": "stdout",
          "text": [
            "Epoch 666, loss 0.5550148487091064\n",
            "Epoch 667, loss 0.5550144910812378\n"
          ]
        },
        {
          "output_type": "stream",
          "name": "stderr",
          "text": [
            " 67%|██████▋   | 668/1000 [02:27<01:11,  4.61it/s]"
          ]
        },
        {
          "output_type": "stream",
          "name": "stdout",
          "text": [
            "Epoch 668, loss 0.5550139546394348\n"
          ]
        },
        {
          "output_type": "stream",
          "name": "stderr",
          "text": [
            "\r 67%|██████▋   | 669/1000 [02:28<01:10,  4.72it/s]"
          ]
        },
        {
          "output_type": "stream",
          "name": "stdout",
          "text": [
            "Epoch 669, loss 0.5550135374069214\n",
            "Epoch 670, loss 0.5550130605697632\n"
          ]
        },
        {
          "output_type": "stream",
          "name": "stderr",
          "text": [
            " 67%|██████▋   | 671/1000 [02:28<01:11,  4.58it/s]"
          ]
        },
        {
          "output_type": "stream",
          "name": "stdout",
          "text": [
            "Epoch 671, loss 0.5550126433372498\n"
          ]
        },
        {
          "output_type": "stream",
          "name": "stderr",
          "text": [
            "\r 67%|██████▋   | 672/1000 [02:28<01:09,  4.71it/s]"
          ]
        },
        {
          "output_type": "stream",
          "name": "stdout",
          "text": [
            "Epoch 672, loss 0.5550121068954468\n",
            "Epoch 673, loss 0.5550117492675781\n"
          ]
        },
        {
          "output_type": "stream",
          "name": "stderr",
          "text": [
            " 67%|██████▋   | 674/1000 [02:29<01:10,  4.60it/s]"
          ]
        },
        {
          "output_type": "stream",
          "name": "stdout",
          "text": [
            "Epoch 674, loss 0.5550112128257751\n"
          ]
        },
        {
          "output_type": "stream",
          "name": "stderr",
          "text": [
            "\r 68%|██████▊   | 675/1000 [02:29<01:10,  4.63it/s]"
          ]
        },
        {
          "output_type": "stream",
          "name": "stdout",
          "text": [
            "Epoch 675, loss 0.5550106763839722\n"
          ]
        },
        {
          "output_type": "stream",
          "name": "stderr",
          "text": [
            "\r 68%|██████▊   | 676/1000 [02:29<01:09,  4.69it/s]"
          ]
        },
        {
          "output_type": "stream",
          "name": "stdout",
          "text": [
            "Epoch 676, loss 0.5550103783607483\n",
            "Epoch 677, loss 0.5550099015235901\n"
          ]
        },
        {
          "output_type": "stream",
          "name": "stderr",
          "text": [
            " 68%|██████▊   | 678/1000 [02:30<01:07,  4.76it/s]"
          ]
        },
        {
          "output_type": "stream",
          "name": "stdout",
          "text": [
            "Epoch 678, loss 0.5550094246864319\n",
            "Epoch 679, loss 0.5550089478492737\n"
          ]
        },
        {
          "output_type": "stream",
          "name": "stderr",
          "text": [
            " 68%|██████▊   | 680/1000 [02:30<01:05,  4.92it/s]"
          ]
        },
        {
          "output_type": "stream",
          "name": "stdout",
          "text": [
            "Epoch 680, loss 0.5550085306167603\n"
          ]
        },
        {
          "output_type": "stream",
          "name": "stderr",
          "text": [
            "\r 68%|██████▊   | 681/1000 [02:30<01:06,  4.78it/s]"
          ]
        },
        {
          "output_type": "stream",
          "name": "stdout",
          "text": [
            "Epoch 681, loss 0.555008053779602\n"
          ]
        },
        {
          "output_type": "stream",
          "name": "stderr",
          "text": [
            "\r 68%|██████▊   | 682/1000 [02:30<01:06,  4.79it/s]"
          ]
        },
        {
          "output_type": "stream",
          "name": "stdout",
          "text": [
            "Epoch 682, loss 0.5550076365470886\n"
          ]
        },
        {
          "output_type": "stream",
          "name": "stderr",
          "text": [
            "\r 68%|██████▊   | 683/1000 [02:31<01:05,  4.81it/s]"
          ]
        },
        {
          "output_type": "stream",
          "name": "stdout",
          "text": [
            "Epoch 683, loss 0.5550072193145752\n"
          ]
        },
        {
          "output_type": "stream",
          "name": "stderr",
          "text": [
            "\r 68%|██████▊   | 684/1000 [02:31<01:06,  4.76it/s]"
          ]
        },
        {
          "output_type": "stream",
          "name": "stdout",
          "text": [
            "Epoch 684, loss 0.555006742477417\n"
          ]
        },
        {
          "output_type": "stream",
          "name": "stderr",
          "text": [
            "\r 68%|██████▊   | 685/1000 [02:31<01:08,  4.59it/s]"
          ]
        },
        {
          "output_type": "stream",
          "name": "stdout",
          "text": [
            "Epoch 685, loss 0.5550063252449036\n"
          ]
        },
        {
          "output_type": "stream",
          "name": "stderr",
          "text": [
            "\r 69%|██████▊   | 686/1000 [02:31<01:09,  4.51it/s]"
          ]
        },
        {
          "output_type": "stream",
          "name": "stdout",
          "text": [
            "Epoch 686, loss 0.5550059676170349\n"
          ]
        },
        {
          "output_type": "stream",
          "name": "stderr",
          "text": [
            "\r 69%|██████▊   | 687/1000 [02:31<01:08,  4.55it/s]"
          ]
        },
        {
          "output_type": "stream",
          "name": "stdout",
          "text": [
            "Epoch 687, loss 0.5550055503845215\n"
          ]
        },
        {
          "output_type": "stream",
          "name": "stderr",
          "text": [
            "\r 69%|██████▉   | 688/1000 [02:32<01:08,  4.53it/s]"
          ]
        },
        {
          "output_type": "stream",
          "name": "stdout",
          "text": [
            "Epoch 688, loss 0.5550051331520081\n"
          ]
        },
        {
          "output_type": "stream",
          "name": "stderr",
          "text": [
            "\r 69%|██████▉   | 689/1000 [02:32<01:06,  4.66it/s]"
          ]
        },
        {
          "output_type": "stream",
          "name": "stdout",
          "text": [
            "Epoch 689, loss 0.5550046563148499\n"
          ]
        },
        {
          "output_type": "stream",
          "name": "stderr",
          "text": [
            "\r 69%|██████▉   | 690/1000 [02:32<01:07,  4.62it/s]"
          ]
        },
        {
          "output_type": "stream",
          "name": "stdout",
          "text": [
            "Epoch 690, loss 0.555004358291626\n"
          ]
        },
        {
          "output_type": "stream",
          "name": "stderr",
          "text": [
            "\r 69%|██████▉   | 691/1000 [02:32<01:07,  4.56it/s]"
          ]
        },
        {
          "output_type": "stream",
          "name": "stdout",
          "text": [
            "Epoch 691, loss 0.5550038814544678\n"
          ]
        },
        {
          "output_type": "stream",
          "name": "stderr",
          "text": [
            "\r 69%|██████▉   | 692/1000 [02:33<01:08,  4.47it/s]"
          ]
        },
        {
          "output_type": "stream",
          "name": "stdout",
          "text": [
            "Epoch 692, loss 0.5550036430358887\n"
          ]
        },
        {
          "output_type": "stream",
          "name": "stderr",
          "text": [
            "\r 69%|██████▉   | 693/1000 [02:33<01:08,  4.45it/s]"
          ]
        },
        {
          "output_type": "stream",
          "name": "stdout",
          "text": [
            "Epoch 693, loss 0.5550031065940857\n"
          ]
        },
        {
          "output_type": "stream",
          "name": "stderr",
          "text": [
            "\r 69%|██████▉   | 694/1000 [02:33<01:07,  4.52it/s]"
          ]
        },
        {
          "output_type": "stream",
          "name": "stdout",
          "text": [
            "Epoch 694, loss 0.555002748966217\n"
          ]
        },
        {
          "output_type": "stream",
          "name": "stderr",
          "text": [
            "\r 70%|██████▉   | 695/1000 [02:33<01:07,  4.54it/s]"
          ]
        },
        {
          "output_type": "stream",
          "name": "stdout",
          "text": [
            "Epoch 695, loss 0.5550022721290588\n"
          ]
        },
        {
          "output_type": "stream",
          "name": "stderr",
          "text": [
            "\r 70%|██████▉   | 696/1000 [02:33<01:06,  4.58it/s]"
          ]
        },
        {
          "output_type": "stream",
          "name": "stdout",
          "text": [
            "Epoch 696, loss 0.555001974105835\n"
          ]
        },
        {
          "output_type": "stream",
          "name": "stderr",
          "text": [
            "\r 70%|██████▉   | 697/1000 [02:34<01:07,  4.50it/s]"
          ]
        },
        {
          "output_type": "stream",
          "name": "stdout",
          "text": [
            "Epoch 697, loss 0.5550015568733215\n"
          ]
        },
        {
          "output_type": "stream",
          "name": "stderr",
          "text": [
            "\r 70%|██████▉   | 698/1000 [02:34<01:08,  4.41it/s]"
          ]
        },
        {
          "output_type": "stream",
          "name": "stdout",
          "text": [
            "Epoch 698, loss 0.5550011992454529\n"
          ]
        },
        {
          "output_type": "stream",
          "name": "stderr",
          "text": [
            "\r 70%|██████▉   | 699/1000 [02:34<01:08,  4.39it/s]"
          ]
        },
        {
          "output_type": "stream",
          "name": "stdout",
          "text": [
            "Epoch 699, loss 0.5550007820129395\n"
          ]
        },
        {
          "output_type": "stream",
          "name": "stderr",
          "text": [
            "\r 70%|███████   | 700/1000 [02:34<01:08,  4.35it/s]"
          ]
        },
        {
          "output_type": "stream",
          "name": "stdout",
          "text": [
            "Epoch 700, loss 0.5550004243850708\n"
          ]
        },
        {
          "output_type": "stream",
          "name": "stderr",
          "text": [
            "\r 70%|███████   | 701/1000 [02:35<01:09,  4.31it/s]"
          ]
        },
        {
          "output_type": "stream",
          "name": "stdout",
          "text": [
            "Epoch 701, loss 0.5550000667572021\n"
          ]
        },
        {
          "output_type": "stream",
          "name": "stderr",
          "text": [
            "\r 70%|███████   | 702/1000 [02:35<01:09,  4.32it/s]"
          ]
        },
        {
          "output_type": "stream",
          "name": "stdout",
          "text": [
            "Epoch 702, loss 0.5549997091293335\n"
          ]
        },
        {
          "output_type": "stream",
          "name": "stderr",
          "text": [
            "\r 70%|███████   | 703/1000 [02:35<01:08,  4.34it/s]"
          ]
        },
        {
          "output_type": "stream",
          "name": "stdout",
          "text": [
            "Epoch 703, loss 0.5549992322921753\n"
          ]
        },
        {
          "output_type": "stream",
          "name": "stderr",
          "text": [
            "\r 70%|███████   | 704/1000 [02:35<01:08,  4.35it/s]"
          ]
        },
        {
          "output_type": "stream",
          "name": "stdout",
          "text": [
            "Epoch 704, loss 0.5549988746643066\n"
          ]
        },
        {
          "output_type": "stream",
          "name": "stderr",
          "text": [
            "\r 70%|███████   | 705/1000 [02:36<01:07,  4.37it/s]"
          ]
        },
        {
          "output_type": "stream",
          "name": "stdout",
          "text": [
            "Epoch 705, loss 0.554998517036438\n"
          ]
        },
        {
          "output_type": "stream",
          "name": "stderr",
          "text": [
            "\r 71%|███████   | 706/1000 [02:36<01:06,  4.42it/s]"
          ]
        },
        {
          "output_type": "stream",
          "name": "stdout",
          "text": [
            "Epoch 706, loss 0.5549981594085693\n"
          ]
        },
        {
          "output_type": "stream",
          "name": "stderr",
          "text": [
            "\r 71%|███████   | 707/1000 [02:36<01:08,  4.26it/s]"
          ]
        },
        {
          "output_type": "stream",
          "name": "stdout",
          "text": [
            "Epoch 707, loss 0.5549977421760559\n"
          ]
        },
        {
          "output_type": "stream",
          "name": "stderr",
          "text": [
            "\r 71%|███████   | 708/1000 [02:36<01:08,  4.28it/s]"
          ]
        },
        {
          "output_type": "stream",
          "name": "stdout",
          "text": [
            "Epoch 708, loss 0.5549973845481873\n"
          ]
        },
        {
          "output_type": "stream",
          "name": "stderr",
          "text": [
            "\r 71%|███████   | 709/1000 [02:36<01:06,  4.38it/s]"
          ]
        },
        {
          "output_type": "stream",
          "name": "stdout",
          "text": [
            "Epoch 709, loss 0.5549970269203186\n"
          ]
        },
        {
          "output_type": "stream",
          "name": "stderr",
          "text": [
            "\r 71%|███████   | 710/1000 [02:37<01:06,  4.37it/s]"
          ]
        },
        {
          "output_type": "stream",
          "name": "stdout",
          "text": [
            "Epoch 710, loss 0.5549966096878052\n"
          ]
        },
        {
          "output_type": "stream",
          "name": "stderr",
          "text": [
            "\r 71%|███████   | 711/1000 [02:37<01:06,  4.35it/s]"
          ]
        },
        {
          "output_type": "stream",
          "name": "stdout",
          "text": [
            "Epoch 711, loss 0.5549963116645813\n"
          ]
        },
        {
          "output_type": "stream",
          "name": "stderr",
          "text": [
            "\r 71%|███████   | 712/1000 [02:37<01:07,  4.28it/s]"
          ]
        },
        {
          "output_type": "stream",
          "name": "stdout",
          "text": [
            "Epoch 712, loss 0.5549959540367126\n"
          ]
        },
        {
          "output_type": "stream",
          "name": "stderr",
          "text": [
            "\r 71%|███████▏  | 713/1000 [02:37<01:06,  4.33it/s]"
          ]
        },
        {
          "output_type": "stream",
          "name": "stdout",
          "text": [
            "Epoch 713, loss 0.554995596408844\n"
          ]
        },
        {
          "output_type": "stream",
          "name": "stderr",
          "text": [
            "\r 71%|███████▏  | 714/1000 [02:38<01:06,  4.32it/s]"
          ]
        },
        {
          "output_type": "stream",
          "name": "stdout",
          "text": [
            "Epoch 714, loss 0.5549952983856201\n"
          ]
        },
        {
          "output_type": "stream",
          "name": "stderr",
          "text": [
            "\r 72%|███████▏  | 715/1000 [02:38<01:05,  4.34it/s]"
          ]
        },
        {
          "output_type": "stream",
          "name": "stdout",
          "text": [
            "Epoch 715, loss 0.5549947619438171\n"
          ]
        },
        {
          "output_type": "stream",
          "name": "stderr",
          "text": [
            "\r 72%|███████▏  | 716/1000 [02:38<01:03,  4.47it/s]"
          ]
        },
        {
          "output_type": "stream",
          "name": "stdout",
          "text": [
            "Epoch 716, loss 0.5549944043159485\n"
          ]
        },
        {
          "output_type": "stream",
          "name": "stderr",
          "text": [
            "\r 72%|███████▏  | 717/1000 [02:38<01:00,  4.64it/s]"
          ]
        },
        {
          "output_type": "stream",
          "name": "stdout",
          "text": [
            "Epoch 717, loss 0.5549941658973694\n",
            "Epoch 718, loss 0.5549938082695007\n"
          ]
        },
        {
          "output_type": "stream",
          "name": "stderr",
          "text": [
            " 72%|███████▏  | 719/1000 [02:39<00:58,  4.81it/s]"
          ]
        },
        {
          "output_type": "stream",
          "name": "stdout",
          "text": [
            "Epoch 719, loss 0.5549934506416321\n"
          ]
        },
        {
          "output_type": "stream",
          "name": "stderr",
          "text": [
            "\r 72%|███████▏  | 720/1000 [02:39<00:58,  4.77it/s]"
          ]
        },
        {
          "output_type": "stream",
          "name": "stdout",
          "text": [
            "Epoch 720, loss 0.5549930930137634\n"
          ]
        },
        {
          "output_type": "stream",
          "name": "stderr",
          "text": [
            "\r 72%|███████▏  | 721/1000 [02:39<00:59,  4.69it/s]"
          ]
        },
        {
          "output_type": "stream",
          "name": "stdout",
          "text": [
            "Epoch 721, loss 0.5549927949905396\n"
          ]
        },
        {
          "output_type": "stream",
          "name": "stderr",
          "text": [
            "\r 72%|███████▏  | 722/1000 [02:39<00:59,  4.64it/s]"
          ]
        },
        {
          "output_type": "stream",
          "name": "stdout",
          "text": [
            "Epoch 722, loss 0.5549924373626709\n"
          ]
        },
        {
          "output_type": "stream",
          "name": "stderr",
          "text": [
            "\r 72%|███████▏  | 723/1000 [02:40<01:02,  4.44it/s]"
          ]
        },
        {
          "output_type": "stream",
          "name": "stdout",
          "text": [
            "Epoch 723, loss 0.5549919605255127\n"
          ]
        },
        {
          "output_type": "stream",
          "name": "stderr",
          "text": [
            "\r 72%|███████▏  | 724/1000 [02:40<01:01,  4.52it/s]"
          ]
        },
        {
          "output_type": "stream",
          "name": "stdout",
          "text": [
            "Epoch 724, loss 0.5549917221069336\n"
          ]
        },
        {
          "output_type": "stream",
          "name": "stderr",
          "text": [
            "\r 72%|███████▎  | 725/1000 [02:40<01:01,  4.50it/s]"
          ]
        },
        {
          "output_type": "stream",
          "name": "stdout",
          "text": [
            "Epoch 725, loss 0.5549913644790649\n"
          ]
        },
        {
          "output_type": "stream",
          "name": "stderr",
          "text": [
            "\r 73%|███████▎  | 726/1000 [02:40<01:00,  4.51it/s]"
          ]
        },
        {
          "output_type": "stream",
          "name": "stdout",
          "text": [
            "Epoch 726, loss 0.5549909472465515\n"
          ]
        },
        {
          "output_type": "stream",
          "name": "stderr",
          "text": [
            "\r 73%|███████▎  | 727/1000 [02:40<01:01,  4.44it/s]"
          ]
        },
        {
          "output_type": "stream",
          "name": "stdout",
          "text": [
            "Epoch 727, loss 0.5549905896186829\n"
          ]
        },
        {
          "output_type": "stream",
          "name": "stderr",
          "text": [
            "\r 73%|███████▎  | 728/1000 [02:41<01:00,  4.48it/s]"
          ]
        },
        {
          "output_type": "stream",
          "name": "stdout",
          "text": [
            "Epoch 728, loss 0.5549902319908142\n"
          ]
        },
        {
          "output_type": "stream",
          "name": "stderr",
          "text": [
            "\r 73%|███████▎  | 729/1000 [02:41<00:59,  4.57it/s]"
          ]
        },
        {
          "output_type": "stream",
          "name": "stdout",
          "text": [
            "Epoch 729, loss 0.5549898147583008\n"
          ]
        },
        {
          "output_type": "stream",
          "name": "stderr",
          "text": [
            "\r 73%|███████▎  | 730/1000 [02:41<00:59,  4.58it/s]"
          ]
        },
        {
          "output_type": "stream",
          "name": "stdout",
          "text": [
            "Epoch 730, loss 0.5549895167350769\n"
          ]
        },
        {
          "output_type": "stream",
          "name": "stderr",
          "text": [
            "\r 73%|███████▎  | 731/1000 [02:41<00:57,  4.65it/s]"
          ]
        },
        {
          "output_type": "stream",
          "name": "stdout",
          "text": [
            "Epoch 731, loss 0.5549890995025635\n",
            "Epoch 732, loss 0.5549888014793396\n"
          ]
        },
        {
          "output_type": "stream",
          "name": "stderr",
          "text": [
            " 73%|███████▎  | 733/1000 [02:42<00:56,  4.73it/s]"
          ]
        },
        {
          "output_type": "stream",
          "name": "stdout",
          "text": [
            "Epoch 733, loss 0.5549883842468262\n",
            "Epoch 734, loss 0.5549881458282471\n"
          ]
        },
        {
          "output_type": "stream",
          "name": "stderr",
          "text": [
            " 74%|███████▎  | 735/1000 [02:42<00:58,  4.53it/s]"
          ]
        },
        {
          "output_type": "stream",
          "name": "stdout",
          "text": [
            "Epoch 735, loss 0.5549877285957336\n"
          ]
        },
        {
          "output_type": "stream",
          "name": "stderr",
          "text": [
            "\r 74%|███████▎  | 736/1000 [02:42<00:57,  4.57it/s]"
          ]
        },
        {
          "output_type": "stream",
          "name": "stdout",
          "text": [
            "Epoch 736, loss 0.554987370967865\n"
          ]
        },
        {
          "output_type": "stream",
          "name": "stderr",
          "text": [
            "\r 74%|███████▎  | 737/1000 [02:43<00:55,  4.70it/s]"
          ]
        },
        {
          "output_type": "stream",
          "name": "stdout",
          "text": [
            "Epoch 737, loss 0.5549870133399963\n",
            "Epoch 738, loss 0.5549867153167725\n"
          ]
        },
        {
          "output_type": "stream",
          "name": "stderr",
          "text": [
            " 74%|███████▍  | 739/1000 [02:43<00:56,  4.64it/s]"
          ]
        },
        {
          "output_type": "stream",
          "name": "stdout",
          "text": [
            "Epoch 739, loss 0.5549862384796143\n",
            "Epoch 740, loss 0.5549858808517456\n"
          ]
        },
        {
          "output_type": "stream",
          "name": "stderr",
          "text": [
            " 74%|███████▍  | 741/1000 [02:43<00:56,  4.58it/s]"
          ]
        },
        {
          "output_type": "stream",
          "name": "stdout",
          "text": [
            "Epoch 741, loss 0.5549855828285217\n"
          ]
        },
        {
          "output_type": "stream",
          "name": "stderr",
          "text": [
            "\r 74%|███████▍  | 742/1000 [02:44<00:57,  4.47it/s]"
          ]
        },
        {
          "output_type": "stream",
          "name": "stdout",
          "text": [
            "Epoch 742, loss 0.5549851655960083\n"
          ]
        },
        {
          "output_type": "stream",
          "name": "stderr",
          "text": [
            "\r 74%|███████▍  | 743/1000 [02:44<00:56,  4.51it/s]"
          ]
        },
        {
          "output_type": "stream",
          "name": "stdout",
          "text": [
            "Epoch 743, loss 0.5549848079681396\n"
          ]
        },
        {
          "output_type": "stream",
          "name": "stderr",
          "text": [
            "\r 74%|███████▍  | 744/1000 [02:44<00:55,  4.61it/s]"
          ]
        },
        {
          "output_type": "stream",
          "name": "stdout",
          "text": [
            "Epoch 744, loss 0.5549843907356262\n"
          ]
        },
        {
          "output_type": "stream",
          "name": "stderr",
          "text": [
            "\r 74%|███████▍  | 745/1000 [02:44<00:54,  4.67it/s]"
          ]
        },
        {
          "output_type": "stream",
          "name": "stdout",
          "text": [
            "Epoch 745, loss 0.5549840331077576\n"
          ]
        },
        {
          "output_type": "stream",
          "name": "stderr",
          "text": [
            "\r 75%|███████▍  | 746/1000 [02:45<00:53,  4.72it/s]"
          ]
        },
        {
          "output_type": "stream",
          "name": "stdout",
          "text": [
            "Epoch 746, loss 0.5549836754798889\n"
          ]
        },
        {
          "output_type": "stream",
          "name": "stderr",
          "text": [
            "\r 75%|███████▍  | 747/1000 [02:45<00:52,  4.78it/s]"
          ]
        },
        {
          "output_type": "stream",
          "name": "stdout",
          "text": [
            "Epoch 747, loss 0.5549832582473755\n",
            "Epoch 748, loss 0.5549828410148621\n"
          ]
        },
        {
          "output_type": "stream",
          "name": "stderr",
          "text": [
            " 75%|███████▍  | 749/1000 [02:45<00:55,  4.50it/s]"
          ]
        },
        {
          "output_type": "stream",
          "name": "stdout",
          "text": [
            "Epoch 749, loss 0.5549824237823486\n"
          ]
        },
        {
          "output_type": "stream",
          "name": "stderr",
          "text": [
            "\r 75%|███████▌  | 750/1000 [02:45<00:55,  4.48it/s]"
          ]
        },
        {
          "output_type": "stream",
          "name": "stdout",
          "text": [
            "Epoch 750, loss 0.5549821257591248\n"
          ]
        },
        {
          "output_type": "stream",
          "name": "stderr",
          "text": [
            "\r 75%|███████▌  | 751/1000 [02:46<00:55,  4.48it/s]"
          ]
        },
        {
          "output_type": "stream",
          "name": "stdout",
          "text": [
            "Epoch 751, loss 0.5549816489219666\n"
          ]
        },
        {
          "output_type": "stream",
          "name": "stderr",
          "text": [
            "\r 75%|███████▌  | 752/1000 [02:46<00:54,  4.53it/s]"
          ]
        },
        {
          "output_type": "stream",
          "name": "stdout",
          "text": [
            "Epoch 752, loss 0.5549812912940979\n",
            "Epoch 753, loss 0.5549806952476501\n"
          ]
        },
        {
          "output_type": "stream",
          "name": "stderr",
          "text": [
            " 75%|███████▌  | 754/1000 [02:46<00:55,  4.42it/s]"
          ]
        },
        {
          "output_type": "stream",
          "name": "stdout",
          "text": [
            "Epoch 754, loss 0.5549802780151367\n"
          ]
        },
        {
          "output_type": "stream",
          "name": "stderr",
          "text": [
            "\r 76%|███████▌  | 755/1000 [02:47<00:54,  4.52it/s]"
          ]
        },
        {
          "output_type": "stream",
          "name": "stdout",
          "text": [
            "Epoch 755, loss 0.5549798607826233\n",
            "Epoch 756, loss 0.5549793243408203\n"
          ]
        },
        {
          "output_type": "stream",
          "name": "stderr",
          "text": [
            " 76%|███████▌  | 757/1000 [02:47<00:54,  4.48it/s]"
          ]
        },
        {
          "output_type": "stream",
          "name": "stdout",
          "text": [
            "Epoch 757, loss 0.5549787282943726\n"
          ]
        },
        {
          "output_type": "stream",
          "name": "stderr",
          "text": [
            "\r 76%|███████▌  | 758/1000 [02:47<00:56,  4.31it/s]"
          ]
        },
        {
          "output_type": "stream",
          "name": "stdout",
          "text": [
            "Epoch 758, loss 0.5549781918525696\n"
          ]
        },
        {
          "output_type": "stream",
          "name": "stderr",
          "text": [
            "\r 76%|███████▌  | 759/1000 [02:47<00:57,  4.19it/s]"
          ]
        },
        {
          "output_type": "stream",
          "name": "stdout",
          "text": [
            "Epoch 759, loss 0.554977536201477\n"
          ]
        },
        {
          "output_type": "stream",
          "name": "stderr",
          "text": [
            "\r 76%|███████▌  | 760/1000 [02:48<00:57,  4.18it/s]"
          ]
        },
        {
          "output_type": "stream",
          "name": "stdout",
          "text": [
            "Epoch 760, loss 0.5549768805503845\n"
          ]
        },
        {
          "output_type": "stream",
          "name": "stderr",
          "text": [
            "\r 76%|███████▌  | 761/1000 [02:48<00:56,  4.23it/s]"
          ]
        },
        {
          "output_type": "stream",
          "name": "stdout",
          "text": [
            "Epoch 761, loss 0.5549759864807129\n"
          ]
        },
        {
          "output_type": "stream",
          "name": "stderr",
          "text": [
            "\r 76%|███████▌  | 762/1000 [02:48<00:57,  4.17it/s]"
          ]
        },
        {
          "output_type": "stream",
          "name": "stdout",
          "text": [
            "Epoch 762, loss 0.5549750924110413\n"
          ]
        },
        {
          "output_type": "stream",
          "name": "stderr",
          "text": [
            "\r 76%|███████▋  | 763/1000 [02:48<00:57,  4.15it/s]"
          ]
        },
        {
          "output_type": "stream",
          "name": "stdout",
          "text": [
            "Epoch 763, loss 0.5549740195274353\n"
          ]
        },
        {
          "output_type": "stream",
          "name": "stderr",
          "text": [
            "\r 76%|███████▋  | 764/1000 [02:49<00:56,  4.17it/s]"
          ]
        },
        {
          "output_type": "stream",
          "name": "stdout",
          "text": [
            "Epoch 764, loss 0.5549727082252502\n"
          ]
        },
        {
          "output_type": "stream",
          "name": "stderr",
          "text": [
            "\r 76%|███████▋  | 765/1000 [02:49<00:54,  4.29it/s]"
          ]
        },
        {
          "output_type": "stream",
          "name": "stdout",
          "text": [
            "Epoch 765, loss 0.554970920085907\n"
          ]
        },
        {
          "output_type": "stream",
          "name": "stderr",
          "text": [
            "\r 77%|███████▋  | 766/1000 [02:49<00:56,  4.15it/s]"
          ]
        },
        {
          "output_type": "stream",
          "name": "stdout",
          "text": [
            "Epoch 766, loss 0.554968535900116\n"
          ]
        },
        {
          "output_type": "stream",
          "name": "stderr",
          "text": [
            "\r 77%|███████▋  | 767/1000 [02:49<00:55,  4.22it/s]"
          ]
        },
        {
          "output_type": "stream",
          "name": "stdout",
          "text": [
            "Epoch 767, loss 0.5549651384353638\n"
          ]
        },
        {
          "output_type": "stream",
          "name": "stderr",
          "text": [
            "\r 77%|███████▋  | 768/1000 [02:50<00:54,  4.28it/s]"
          ]
        },
        {
          "output_type": "stream",
          "name": "stdout",
          "text": [
            "Epoch 768, loss 0.5549596548080444\n"
          ]
        },
        {
          "output_type": "stream",
          "name": "stderr",
          "text": [
            "\r 77%|███████▋  | 769/1000 [02:50<00:56,  4.12it/s]"
          ]
        },
        {
          "output_type": "stream",
          "name": "stdout",
          "text": [
            "Epoch 769, loss 0.5549494028091431\n"
          ]
        },
        {
          "output_type": "stream",
          "name": "stderr",
          "text": [
            "\r 77%|███████▋  | 770/1000 [02:50<00:55,  4.16it/s]"
          ]
        },
        {
          "output_type": "stream",
          "name": "stdout",
          "text": [
            "Epoch 770, loss 0.5549264550209045\n"
          ]
        },
        {
          "output_type": "stream",
          "name": "stderr",
          "text": [
            "\r 77%|███████▋  | 771/1000 [02:50<00:54,  4.24it/s]"
          ]
        },
        {
          "output_type": "stream",
          "name": "stdout",
          "text": [
            "Epoch 771, loss 0.5548534393310547\n"
          ]
        },
        {
          "output_type": "stream",
          "name": "stderr",
          "text": [
            "\r 77%|███████▋  | 772/1000 [02:51<00:52,  4.36it/s]"
          ]
        },
        {
          "output_type": "stream",
          "name": "stdout",
          "text": [
            "Epoch 772, loss 0.55451899766922\n"
          ]
        },
        {
          "output_type": "stream",
          "name": "stderr",
          "text": [
            "\r 77%|███████▋  | 773/1000 [02:51<00:51,  4.44it/s]"
          ]
        },
        {
          "output_type": "stream",
          "name": "stdout",
          "text": [
            "Epoch 773, loss 0.5555373430252075\n"
          ]
        },
        {
          "output_type": "stream",
          "name": "stderr",
          "text": [
            "\r 77%|███████▋  | 774/1000 [02:51<00:49,  4.55it/s]"
          ]
        },
        {
          "output_type": "stream",
          "name": "stdout",
          "text": [
            "Epoch 774, loss 0.5560338497161865\n"
          ]
        },
        {
          "output_type": "stream",
          "name": "stderr",
          "text": [
            "\r 78%|███████▊  | 775/1000 [02:51<00:49,  4.55it/s]"
          ]
        },
        {
          "output_type": "stream",
          "name": "stdout",
          "text": [
            "Epoch 775, loss 0.5585707426071167\n"
          ]
        },
        {
          "output_type": "stream",
          "name": "stderr",
          "text": [
            "\r 78%|███████▊  | 776/1000 [02:51<00:48,  4.60it/s]"
          ]
        },
        {
          "output_type": "stream",
          "name": "stdout",
          "text": [
            "Epoch 776, loss 0.5594563484191895\n"
          ]
        },
        {
          "output_type": "stream",
          "name": "stderr",
          "text": [
            "\r 78%|███████▊  | 777/1000 [02:52<00:49,  4.53it/s]"
          ]
        },
        {
          "output_type": "stream",
          "name": "stdout",
          "text": [
            "Epoch 777, loss 0.5562251210212708\n"
          ]
        },
        {
          "output_type": "stream",
          "name": "stderr",
          "text": [
            "\r 78%|███████▊  | 778/1000 [02:52<00:48,  4.55it/s]"
          ]
        },
        {
          "output_type": "stream",
          "name": "stdout",
          "text": [
            "Epoch 778, loss 0.5916560292243958\n"
          ]
        },
        {
          "output_type": "stream",
          "name": "stderr",
          "text": [
            "\r 78%|███████▊  | 779/1000 [02:52<00:47,  4.65it/s]"
          ]
        },
        {
          "output_type": "stream",
          "name": "stdout",
          "text": [
            "Epoch 779, loss 0.722100019454956\n"
          ]
        },
        {
          "output_type": "stream",
          "name": "stderr",
          "text": [
            "\r 78%|███████▊  | 780/1000 [02:52<00:47,  4.60it/s]"
          ]
        },
        {
          "output_type": "stream",
          "name": "stdout",
          "text": [
            "Epoch 780, loss 0.6674402952194214\n"
          ]
        },
        {
          "output_type": "stream",
          "name": "stderr",
          "text": [
            "\r 78%|███████▊  | 781/1000 [02:52<00:47,  4.58it/s]"
          ]
        },
        {
          "output_type": "stream",
          "name": "stdout",
          "text": [
            "Epoch 781, loss 0.563407301902771\n"
          ]
        },
        {
          "output_type": "stream",
          "name": "stderr",
          "text": [
            "\r 78%|███████▊  | 782/1000 [02:53<00:47,  4.60it/s]"
          ]
        },
        {
          "output_type": "stream",
          "name": "stdout",
          "text": [
            "Epoch 782, loss 0.7931827902793884\n"
          ]
        },
        {
          "output_type": "stream",
          "name": "stderr",
          "text": [
            "\r 78%|███████▊  | 783/1000 [02:53<00:47,  4.52it/s]"
          ]
        },
        {
          "output_type": "stream",
          "name": "stdout",
          "text": [
            "Epoch 783, loss 0.7114209532737732\n"
          ]
        },
        {
          "output_type": "stream",
          "name": "stderr",
          "text": [
            "\r 78%|███████▊  | 784/1000 [02:53<00:46,  4.67it/s]"
          ]
        },
        {
          "output_type": "stream",
          "name": "stdout",
          "text": [
            "Epoch 784, loss 0.5550268292427063\n",
            "Epoch 785, loss 0.8151549100875854\n"
          ]
        },
        {
          "output_type": "stream",
          "name": "stderr",
          "text": [
            " 79%|███████▊  | 786/1000 [02:54<00:45,  4.73it/s]"
          ]
        },
        {
          "output_type": "stream",
          "name": "stdout",
          "text": [
            "Epoch 786, loss 0.7586632966995239\n"
          ]
        },
        {
          "output_type": "stream",
          "name": "stderr",
          "text": [
            "\r 79%|███████▊  | 787/1000 [02:54<00:46,  4.60it/s]"
          ]
        },
        {
          "output_type": "stream",
          "name": "stdout",
          "text": [
            "Epoch 787, loss 0.6976202726364136\n"
          ]
        },
        {
          "output_type": "stream",
          "name": "stderr",
          "text": [
            "\r 79%|███████▉  | 788/1000 [02:54<00:47,  4.49it/s]"
          ]
        },
        {
          "output_type": "stream",
          "name": "stdout",
          "text": [
            "Epoch 788, loss 0.5561680197715759\n"
          ]
        },
        {
          "output_type": "stream",
          "name": "stderr",
          "text": [
            "\r 79%|███████▉  | 789/1000 [02:54<00:46,  4.57it/s]"
          ]
        },
        {
          "output_type": "stream",
          "name": "stdout",
          "text": [
            "Epoch 789, loss 0.712714433670044\n"
          ]
        },
        {
          "output_type": "stream",
          "name": "stderr",
          "text": [
            "\r 79%|███████▉  | 790/1000 [02:54<00:44,  4.71it/s]"
          ]
        },
        {
          "output_type": "stream",
          "name": "stdout",
          "text": [
            "Epoch 790, loss 0.6755290031433105\n",
            "Epoch 791, loss 0.555989146232605\n"
          ]
        },
        {
          "output_type": "stream",
          "name": "stderr",
          "text": [
            " 79%|███████▉  | 792/1000 [02:55<00:43,  4.75it/s]"
          ]
        },
        {
          "output_type": "stream",
          "name": "stdout",
          "text": [
            "Epoch 792, loss 0.5670721530914307\n"
          ]
        },
        {
          "output_type": "stream",
          "name": "stderr",
          "text": [
            "\r 79%|███████▉  | 793/1000 [02:55<00:44,  4.70it/s]"
          ]
        },
        {
          "output_type": "stream",
          "name": "stdout",
          "text": [
            "Epoch 793, loss 0.6553502678871155\n"
          ]
        },
        {
          "output_type": "stream",
          "name": "stderr",
          "text": [
            "\r 79%|███████▉  | 794/1000 [02:55<00:46,  4.47it/s]"
          ]
        },
        {
          "output_type": "stream",
          "name": "stdout",
          "text": [
            "Epoch 794, loss 0.6279681921005249\n"
          ]
        },
        {
          "output_type": "stream",
          "name": "stderr",
          "text": [
            "\r 80%|███████▉  | 795/1000 [02:56<00:45,  4.47it/s]"
          ]
        },
        {
          "output_type": "stream",
          "name": "stdout",
          "text": [
            "Epoch 795, loss 0.5674614906311035\n"
          ]
        },
        {
          "output_type": "stream",
          "name": "stderr",
          "text": [
            "\r 80%|███████▉  | 796/1000 [02:56<00:45,  4.47it/s]"
          ]
        },
        {
          "output_type": "stream",
          "name": "stdout",
          "text": [
            "Epoch 796, loss 0.5593417882919312\n"
          ]
        },
        {
          "output_type": "stream",
          "name": "stderr",
          "text": [
            "\r 80%|███████▉  | 797/1000 [02:56<00:44,  4.61it/s]"
          ]
        },
        {
          "output_type": "stream",
          "name": "stdout",
          "text": [
            "Epoch 797, loss 0.5871315598487854\n",
            "Epoch 798, loss 0.6164478659629822\n"
          ]
        },
        {
          "output_type": "stream",
          "name": "stderr",
          "text": [
            " 80%|███████▉  | 799/1000 [02:56<00:44,  4.48it/s]"
          ]
        },
        {
          "output_type": "stream",
          "name": "stdout",
          "text": [
            "Epoch 799, loss 0.5851092338562012\n"
          ]
        },
        {
          "output_type": "stream",
          "name": "stderr",
          "text": [
            "\r 80%|████████  | 800/1000 [02:57<00:44,  4.46it/s]"
          ]
        },
        {
          "output_type": "stream",
          "name": "stdout",
          "text": [
            "Epoch 800, loss 0.5591523051261902\n"
          ]
        },
        {
          "output_type": "stream",
          "name": "stderr",
          "text": [
            "\r 80%|████████  | 801/1000 [02:57<00:44,  4.45it/s]"
          ]
        },
        {
          "output_type": "stream",
          "name": "stdout",
          "text": [
            "Epoch 801, loss 0.558303952217102\n"
          ]
        },
        {
          "output_type": "stream",
          "name": "stderr",
          "text": [
            "\r 80%|████████  | 802/1000 [02:57<00:43,  4.53it/s]"
          ]
        },
        {
          "output_type": "stream",
          "name": "stdout",
          "text": [
            "Epoch 802, loss 0.5780463218688965\n"
          ]
        },
        {
          "output_type": "stream",
          "name": "stderr",
          "text": [
            "\r 80%|████████  | 803/1000 [02:57<00:42,  4.67it/s]"
          ]
        },
        {
          "output_type": "stream",
          "name": "stdout",
          "text": [
            "Epoch 803, loss 0.583750307559967\n"
          ]
        },
        {
          "output_type": "stream",
          "name": "stderr",
          "text": [
            "\r 80%|████████  | 804/1000 [02:58<00:42,  4.59it/s]"
          ]
        },
        {
          "output_type": "stream",
          "name": "stdout",
          "text": [
            "Epoch 804, loss 0.5657945871353149\n"
          ]
        },
        {
          "output_type": "stream",
          "name": "stderr",
          "text": [
            "\r 80%|████████  | 805/1000 [02:58<00:41,  4.71it/s]"
          ]
        },
        {
          "output_type": "stream",
          "name": "stdout",
          "text": [
            "Epoch 805, loss 0.5593878626823425\n"
          ]
        },
        {
          "output_type": "stream",
          "name": "stderr",
          "text": [
            "\r 81%|████████  | 806/1000 [02:58<00:41,  4.69it/s]"
          ]
        },
        {
          "output_type": "stream",
          "name": "stdout",
          "text": [
            "Epoch 806, loss 0.5629618763923645\n"
          ]
        },
        {
          "output_type": "stream",
          "name": "stderr",
          "text": [
            "\r 81%|████████  | 807/1000 [02:58<00:42,  4.55it/s]"
          ]
        },
        {
          "output_type": "stream",
          "name": "stdout",
          "text": [
            "Epoch 807, loss 0.5634739995002747\n"
          ]
        },
        {
          "output_type": "stream",
          "name": "stderr",
          "text": [
            "\r 81%|████████  | 808/1000 [02:58<00:41,  4.67it/s]"
          ]
        },
        {
          "output_type": "stream",
          "name": "stdout",
          "text": [
            "Epoch 808, loss 0.5593203902244568\n"
          ]
        },
        {
          "output_type": "stream",
          "name": "stderr",
          "text": [
            "\r 81%|████████  | 809/1000 [02:59<00:40,  4.66it/s]"
          ]
        },
        {
          "output_type": "stream",
          "name": "stdout",
          "text": [
            "Epoch 809, loss 0.5592674016952515\n"
          ]
        },
        {
          "output_type": "stream",
          "name": "stderr",
          "text": [
            "\r 81%|████████  | 810/1000 [02:59<00:41,  4.58it/s]"
          ]
        },
        {
          "output_type": "stream",
          "name": "stdout",
          "text": [
            "Epoch 810, loss 0.5589865446090698\n"
          ]
        },
        {
          "output_type": "stream",
          "name": "stderr",
          "text": [
            "\r 81%|████████  | 811/1000 [02:59<00:40,  4.64it/s]"
          ]
        },
        {
          "output_type": "stream",
          "name": "stdout",
          "text": [
            "Epoch 811, loss 0.559764564037323\n"
          ]
        },
        {
          "output_type": "stream",
          "name": "stderr",
          "text": [
            "\r 81%|████████  | 812/1000 [02:59<00:40,  4.63it/s]"
          ]
        },
        {
          "output_type": "stream",
          "name": "stdout",
          "text": [
            "Epoch 812, loss 0.5608934760093689\n"
          ]
        },
        {
          "output_type": "stream",
          "name": "stderr",
          "text": [
            "\r 81%|████████▏ | 813/1000 [02:59<00:40,  4.59it/s]"
          ]
        },
        {
          "output_type": "stream",
          "name": "stdout",
          "text": [
            "Epoch 813, loss 0.5587137937545776\n"
          ]
        },
        {
          "output_type": "stream",
          "name": "stderr",
          "text": [
            "\r 81%|████████▏ | 814/1000 [03:00<00:39,  4.66it/s]"
          ]
        },
        {
          "output_type": "stream",
          "name": "stdout",
          "text": [
            "Epoch 814, loss 0.5560594201087952\n",
            "Epoch 815, loss 0.5551953911781311\n"
          ]
        },
        {
          "output_type": "stream",
          "name": "stderr",
          "text": [
            " 82%|████████▏ | 816/1000 [03:00<00:39,  4.69it/s]"
          ]
        },
        {
          "output_type": "stream",
          "name": "stdout",
          "text": [
            "Epoch 816, loss 0.5552847385406494\n"
          ]
        },
        {
          "output_type": "stream",
          "name": "stderr",
          "text": [
            "\r 82%|████████▏ | 817/1000 [03:00<00:40,  4.51it/s]"
          ]
        },
        {
          "output_type": "stream",
          "name": "stdout",
          "text": [
            "Epoch 817, loss 0.5557887554168701\n"
          ]
        },
        {
          "output_type": "stream",
          "name": "stderr",
          "text": [
            "\r 82%|████████▏ | 818/1000 [03:01<00:40,  4.48it/s]"
          ]
        },
        {
          "output_type": "stream",
          "name": "stdout",
          "text": [
            "Epoch 818, loss 0.5565289258956909\n"
          ]
        },
        {
          "output_type": "stream",
          "name": "stderr",
          "text": [
            "\r 82%|████████▏ | 819/1000 [03:01<00:40,  4.46it/s]"
          ]
        },
        {
          "output_type": "stream",
          "name": "stdout",
          "text": [
            "Epoch 819, loss 0.5571544170379639\n"
          ]
        },
        {
          "output_type": "stream",
          "name": "stderr",
          "text": [
            "\r 82%|████████▏ | 820/1000 [03:01<00:41,  4.38it/s]"
          ]
        },
        {
          "output_type": "stream",
          "name": "stdout",
          "text": [
            "Epoch 820, loss 0.5574709177017212\n"
          ]
        },
        {
          "output_type": "stream",
          "name": "stderr",
          "text": [
            "\r 82%|████████▏ | 821/1000 [03:01<00:40,  4.43it/s]"
          ]
        },
        {
          "output_type": "stream",
          "name": "stdout",
          "text": [
            "Epoch 821, loss 0.5575330853462219\n"
          ]
        },
        {
          "output_type": "stream",
          "name": "stderr",
          "text": [
            "\r 82%|████████▏ | 822/1000 [03:01<00:40,  4.34it/s]"
          ]
        },
        {
          "output_type": "stream",
          "name": "stdout",
          "text": [
            "Epoch 822, loss 0.5573997497558594\n"
          ]
        },
        {
          "output_type": "stream",
          "name": "stderr",
          "text": [
            "\r 82%|████████▏ | 823/1000 [03:02<00:41,  4.31it/s]"
          ]
        },
        {
          "output_type": "stream",
          "name": "stdout",
          "text": [
            "Epoch 823, loss 0.5571143627166748\n"
          ]
        },
        {
          "output_type": "stream",
          "name": "stderr",
          "text": [
            "\r 82%|████████▏ | 824/1000 [03:02<00:41,  4.26it/s]"
          ]
        },
        {
          "output_type": "stream",
          "name": "stdout",
          "text": [
            "Epoch 824, loss 0.5566740036010742\n"
          ]
        },
        {
          "output_type": "stream",
          "name": "stderr",
          "text": [
            "\r 82%|████████▎ | 825/1000 [03:02<00:40,  4.28it/s]"
          ]
        },
        {
          "output_type": "stream",
          "name": "stdout",
          "text": [
            "Epoch 825, loss 0.5560588240623474\n"
          ]
        },
        {
          "output_type": "stream",
          "name": "stderr",
          "text": [
            "\r 83%|████████▎ | 826/1000 [03:02<00:41,  4.18it/s]"
          ]
        },
        {
          "output_type": "stream",
          "name": "stdout",
          "text": [
            "Epoch 826, loss 0.5554947257041931\n"
          ]
        },
        {
          "output_type": "stream",
          "name": "stderr",
          "text": [
            "\r 83%|████████▎ | 827/1000 [03:03<00:41,  4.19it/s]"
          ]
        },
        {
          "output_type": "stream",
          "name": "stdout",
          "text": [
            "Epoch 827, loss 0.5551984906196594\n"
          ]
        },
        {
          "output_type": "stream",
          "name": "stderr",
          "text": [
            "\r 83%|████████▎ | 828/1000 [03:03<00:41,  4.11it/s]"
          ]
        },
        {
          "output_type": "stream",
          "name": "stdout",
          "text": [
            "Epoch 828, loss 0.5550508499145508\n"
          ]
        },
        {
          "output_type": "stream",
          "name": "stderr",
          "text": [
            "\r 83%|████████▎ | 829/1000 [03:03<00:41,  4.11it/s]"
          ]
        },
        {
          "output_type": "stream",
          "name": "stdout",
          "text": [
            "Epoch 829, loss 0.5550088286399841\n"
          ]
        },
        {
          "output_type": "stream",
          "name": "stderr",
          "text": [
            "\r 83%|████████▎ | 830/1000 [03:03<00:44,  3.79it/s]"
          ]
        },
        {
          "output_type": "stream",
          "name": "stdout",
          "text": [
            "Epoch 830, loss 0.5550644397735596\n"
          ]
        },
        {
          "output_type": "stream",
          "name": "stderr",
          "text": [
            "\r 83%|████████▎ | 831/1000 [03:04<00:43,  3.91it/s]"
          ]
        },
        {
          "output_type": "stream",
          "name": "stdout",
          "text": [
            "Epoch 831, loss 0.5551530718803406\n"
          ]
        },
        {
          "output_type": "stream",
          "name": "stderr",
          "text": [
            "\r 83%|████████▎ | 832/1000 [03:04<00:41,  4.01it/s]"
          ]
        },
        {
          "output_type": "stream",
          "name": "stdout",
          "text": [
            "Epoch 832, loss 0.5552434921264648\n"
          ]
        },
        {
          "output_type": "stream",
          "name": "stderr",
          "text": [
            "\r 83%|████████▎ | 833/1000 [03:04<00:40,  4.13it/s]"
          ]
        },
        {
          "output_type": "stream",
          "name": "stdout",
          "text": [
            "Epoch 833, loss 0.5553313493728638\n"
          ]
        },
        {
          "output_type": "stream",
          "name": "stderr",
          "text": [
            "\r 83%|████████▎ | 834/1000 [03:04<00:38,  4.27it/s]"
          ]
        },
        {
          "output_type": "stream",
          "name": "stdout",
          "text": [
            "Epoch 834, loss 0.5554108023643494\n"
          ]
        },
        {
          "output_type": "stream",
          "name": "stderr",
          "text": [
            "\r 84%|████████▎ | 835/1000 [03:05<00:39,  4.18it/s]"
          ]
        },
        {
          "output_type": "stream",
          "name": "stdout",
          "text": [
            "Epoch 835, loss 0.555465817451477\n"
          ]
        },
        {
          "output_type": "stream",
          "name": "stderr",
          "text": [
            "\r 84%|████████▎ | 836/1000 [03:05<00:38,  4.31it/s]"
          ]
        },
        {
          "output_type": "stream",
          "name": "stdout",
          "text": [
            "Epoch 836, loss 0.5554810166358948\n"
          ]
        },
        {
          "output_type": "stream",
          "name": "stderr",
          "text": [
            "\r 84%|████████▎ | 837/1000 [03:05<00:37,  4.38it/s]"
          ]
        },
        {
          "output_type": "stream",
          "name": "stdout",
          "text": [
            "Epoch 837, loss 0.555453896522522\n"
          ]
        },
        {
          "output_type": "stream",
          "name": "stderr",
          "text": [
            "\r 84%|████████▍ | 838/1000 [03:05<00:36,  4.47it/s]"
          ]
        },
        {
          "output_type": "stream",
          "name": "stdout",
          "text": [
            "Epoch 838, loss 0.5553972721099854\n",
            "Epoch 839, loss 0.5553285479545593\n"
          ]
        },
        {
          "output_type": "stream",
          "name": "stderr",
          "text": [
            " 84%|████████▍ | 840/1000 [03:06<00:35,  4.49it/s]"
          ]
        },
        {
          "output_type": "stream",
          "name": "stdout",
          "text": [
            "Epoch 840, loss 0.5552591681480408\n"
          ]
        },
        {
          "output_type": "stream",
          "name": "stderr",
          "text": [
            "\r 84%|████████▍ | 841/1000 [03:06<00:34,  4.55it/s]"
          ]
        },
        {
          "output_type": "stream",
          "name": "stdout",
          "text": [
            "Epoch 841, loss 0.5551936030387878\n"
          ]
        },
        {
          "output_type": "stream",
          "name": "stderr",
          "text": [
            "\r 84%|████████▍ | 842/1000 [03:06<00:34,  4.57it/s]"
          ]
        },
        {
          "output_type": "stream",
          "name": "stdout",
          "text": [
            "Epoch 842, loss 0.5551322102546692\n"
          ]
        },
        {
          "output_type": "stream",
          "name": "stderr",
          "text": [
            "\r 84%|████████▍ | 843/1000 [03:06<00:33,  4.71it/s]"
          ]
        },
        {
          "output_type": "stream",
          "name": "stdout",
          "text": [
            "Epoch 843, loss 0.5550760626792908\n"
          ]
        },
        {
          "output_type": "stream",
          "name": "stderr",
          "text": [
            "\r 84%|████████▍ | 844/1000 [03:07<00:33,  4.65it/s]"
          ]
        },
        {
          "output_type": "stream",
          "name": "stdout",
          "text": [
            "Epoch 844, loss 0.5550294518470764\n"
          ]
        },
        {
          "output_type": "stream",
          "name": "stderr",
          "text": [
            "\r 84%|████████▍ | 845/1000 [03:07<00:32,  4.76it/s]"
          ]
        },
        {
          "output_type": "stream",
          "name": "stdout",
          "text": [
            "Epoch 845, loss 0.5550004839897156\n",
            "Epoch 846, loss 0.5549927949905396\n"
          ]
        },
        {
          "output_type": "stream",
          "name": "stderr",
          "text": [
            " 85%|████████▍ | 847/1000 [03:07<00:33,  4.58it/s]"
          ]
        },
        {
          "output_type": "stream",
          "name": "stdout",
          "text": [
            "Epoch 847, loss 0.5550013780593872\n"
          ]
        },
        {
          "output_type": "stream",
          "name": "stderr",
          "text": [
            "\r 85%|████████▍ | 848/1000 [03:07<00:32,  4.64it/s]"
          ]
        },
        {
          "output_type": "stream",
          "name": "stdout",
          "text": [
            "Epoch 848, loss 0.5550171136856079\n",
            "Epoch 849, loss 0.55503249168396\n"
          ]
        },
        {
          "output_type": "stream",
          "name": "stderr",
          "text": [
            " 85%|████████▌ | 850/1000 [03:08<00:31,  4.77it/s]"
          ]
        },
        {
          "output_type": "stream",
          "name": "stdout",
          "text": [
            "Epoch 850, loss 0.5550433993339539\n"
          ]
        },
        {
          "output_type": "stream",
          "name": "stderr",
          "text": [
            "\r 85%|████████▌ | 851/1000 [03:08<00:31,  4.69it/s]"
          ]
        },
        {
          "output_type": "stream",
          "name": "stdout",
          "text": [
            "Epoch 851, loss 0.5550485253334045\n"
          ]
        },
        {
          "output_type": "stream",
          "name": "stderr",
          "text": [
            "\r 85%|████████▌ | 852/1000 [03:08<00:31,  4.65it/s]"
          ]
        },
        {
          "output_type": "stream",
          "name": "stdout",
          "text": [
            "Epoch 852, loss 0.5550472140312195\n"
          ]
        },
        {
          "output_type": "stream",
          "name": "stderr",
          "text": [
            "\r 85%|████████▌ | 853/1000 [03:08<00:30,  4.78it/s]"
          ]
        },
        {
          "output_type": "stream",
          "name": "stdout",
          "text": [
            "Epoch 853, loss 0.5550394654273987\n"
          ]
        },
        {
          "output_type": "stream",
          "name": "stderr",
          "text": [
            "\r 85%|████████▌ | 854/1000 [03:09<00:30,  4.71it/s]"
          ]
        },
        {
          "output_type": "stream",
          "name": "stdout",
          "text": [
            "Epoch 854, loss 0.5550255179405212\n"
          ]
        },
        {
          "output_type": "stream",
          "name": "stderr",
          "text": [
            "\r 86%|████████▌ | 855/1000 [03:09<00:30,  4.79it/s]"
          ]
        },
        {
          "output_type": "stream",
          "name": "stdout",
          "text": [
            "Epoch 855, loss 0.555006206035614\n"
          ]
        },
        {
          "output_type": "stream",
          "name": "stderr",
          "text": [
            "\r 86%|████████▌ | 856/1000 [03:09<00:30,  4.66it/s]"
          ]
        },
        {
          "output_type": "stream",
          "name": "stdout",
          "text": [
            "Epoch 856, loss 0.5549822449684143\n"
          ]
        },
        {
          "output_type": "stream",
          "name": "stderr",
          "text": [
            "\r 86%|████████▌ | 857/1000 [03:09<00:30,  4.68it/s]"
          ]
        },
        {
          "output_type": "stream",
          "name": "stdout",
          "text": [
            "Epoch 857, loss 0.5549559593200684\n"
          ]
        },
        {
          "output_type": "stream",
          "name": "stderr",
          "text": [
            "\r 86%|████████▌ | 858/1000 [03:10<00:30,  4.72it/s]"
          ]
        },
        {
          "output_type": "stream",
          "name": "stdout",
          "text": [
            "Epoch 858, loss 0.5549293756484985\n",
            "Epoch 859, loss 0.5549048185348511\n"
          ]
        },
        {
          "output_type": "stream",
          "name": "stderr",
          "text": [
            " 86%|████████▌ | 860/1000 [03:10<00:29,  4.75it/s]"
          ]
        },
        {
          "output_type": "stream",
          "name": "stdout",
          "text": [
            "Epoch 860, loss 0.5548818111419678\n",
            "Epoch 861, loss 0.5548580288887024\n"
          ]
        },
        {
          "output_type": "stream",
          "name": "stderr",
          "text": [
            " 86%|████████▌ | 862/1000 [03:10<00:28,  4.81it/s]"
          ]
        },
        {
          "output_type": "stream",
          "name": "stdout",
          "text": [
            "Epoch 862, loss 0.554828405380249\n"
          ]
        },
        {
          "output_type": "stream",
          "name": "stderr",
          "text": [
            "\r 86%|████████▋ | 863/1000 [03:11<00:28,  4.85it/s]"
          ]
        },
        {
          "output_type": "stream",
          "name": "stdout",
          "text": [
            "Epoch 863, loss 0.5547858476638794\n",
            "Epoch 864, loss 0.554722249507904\n"
          ]
        },
        {
          "output_type": "stream",
          "name": "stderr",
          "text": [
            " 86%|████████▋ | 865/1000 [03:11<00:29,  4.63it/s]"
          ]
        },
        {
          "output_type": "stream",
          "name": "stdout",
          "text": [
            "Epoch 865, loss 0.5546265840530396\n"
          ]
        },
        {
          "output_type": "stream",
          "name": "stderr",
          "text": [
            "\r 87%|████████▋ | 866/1000 [03:11<00:28,  4.73it/s]"
          ]
        },
        {
          "output_type": "stream",
          "name": "stdout",
          "text": [
            "Epoch 866, loss 0.5544899702072144\n",
            "Epoch 867, loss 0.5543234348297119\n"
          ]
        },
        {
          "output_type": "stream",
          "name": "stderr",
          "text": [
            " 87%|████████▋ | 868/1000 [03:12<00:29,  4.42it/s]"
          ]
        },
        {
          "output_type": "stream",
          "name": "stdout",
          "text": [
            "Epoch 868, loss 0.5541738271713257\n"
          ]
        },
        {
          "output_type": "stream",
          "name": "stderr",
          "text": [
            "\r 87%|████████▋ | 869/1000 [03:12<00:28,  4.53it/s]"
          ]
        },
        {
          "output_type": "stream",
          "name": "stdout",
          "text": [
            "Epoch 869, loss 0.5541041493415833\n",
            "Epoch 870, loss 0.5541085600852966\n"
          ]
        },
        {
          "output_type": "stream",
          "name": "stderr",
          "text": [
            " 87%|████████▋ | 871/1000 [03:12<00:28,  4.53it/s]"
          ]
        },
        {
          "output_type": "stream",
          "name": "stdout",
          "text": [
            "Epoch 871, loss 0.5541132092475891\n"
          ]
        },
        {
          "output_type": "stream",
          "name": "stderr",
          "text": [
            "\r 87%|████████▋ | 872/1000 [03:13<00:27,  4.58it/s]"
          ]
        },
        {
          "output_type": "stream",
          "name": "stdout",
          "text": [
            "Epoch 872, loss 0.554058849811554\n"
          ]
        },
        {
          "output_type": "stream",
          "name": "stderr",
          "text": [
            "\r 87%|████████▋ | 873/1000 [03:13<00:27,  4.54it/s]"
          ]
        },
        {
          "output_type": "stream",
          "name": "stdout",
          "text": [
            "Epoch 873, loss 0.5539552569389343\n"
          ]
        },
        {
          "output_type": "stream",
          "name": "stderr",
          "text": [
            "\r 87%|████████▋ | 874/1000 [03:13<00:27,  4.62it/s]"
          ]
        },
        {
          "output_type": "stream",
          "name": "stdout",
          "text": [
            "Epoch 874, loss 0.5538468956947327\n"
          ]
        },
        {
          "output_type": "stream",
          "name": "stderr",
          "text": [
            "\r 88%|████████▊ | 875/1000 [03:13<00:27,  4.48it/s]"
          ]
        },
        {
          "output_type": "stream",
          "name": "stdout",
          "text": [
            "Epoch 875, loss 0.5537654757499695\n"
          ]
        },
        {
          "output_type": "stream",
          "name": "stderr",
          "text": [
            "\r 88%|████████▊ | 876/1000 [03:13<00:28,  4.37it/s]"
          ]
        },
        {
          "output_type": "stream",
          "name": "stdout",
          "text": [
            "Epoch 876, loss 0.5537176728248596\n"
          ]
        },
        {
          "output_type": "stream",
          "name": "stderr",
          "text": [
            "\r 88%|████████▊ | 877/1000 [03:14<00:28,  4.39it/s]"
          ]
        },
        {
          "output_type": "stream",
          "name": "stdout",
          "text": [
            "Epoch 877, loss 0.5536940097808838\n"
          ]
        },
        {
          "output_type": "stream",
          "name": "stderr",
          "text": [
            "\r 88%|████████▊ | 878/1000 [03:14<00:28,  4.27it/s]"
          ]
        },
        {
          "output_type": "stream",
          "name": "stdout",
          "text": [
            "Epoch 878, loss 0.5536800026893616\n"
          ]
        },
        {
          "output_type": "stream",
          "name": "stderr",
          "text": [
            "\r 88%|████████▊ | 879/1000 [03:14<00:28,  4.18it/s]"
          ]
        },
        {
          "output_type": "stream",
          "name": "stdout",
          "text": [
            "Epoch 879, loss 0.5536640286445618\n"
          ]
        },
        {
          "output_type": "stream",
          "name": "stderr",
          "text": [
            "\r 88%|████████▊ | 880/1000 [03:14<00:27,  4.30it/s]"
          ]
        },
        {
          "output_type": "stream",
          "name": "stdout",
          "text": [
            "Epoch 880, loss 0.5536408424377441\n"
          ]
        },
        {
          "output_type": "stream",
          "name": "stderr",
          "text": [
            "\r 88%|████████▊ | 881/1000 [03:15<00:28,  4.24it/s]"
          ]
        },
        {
          "output_type": "stream",
          "name": "stdout",
          "text": [
            "Epoch 881, loss 0.5536120533943176\n"
          ]
        },
        {
          "output_type": "stream",
          "name": "stderr",
          "text": [
            "\r 88%|████████▊ | 882/1000 [03:15<00:27,  4.24it/s]"
          ]
        },
        {
          "output_type": "stream",
          "name": "stdout",
          "text": [
            "Epoch 882, loss 0.5535817742347717\n"
          ]
        },
        {
          "output_type": "stream",
          "name": "stderr",
          "text": [
            "\r 88%|████████▊ | 883/1000 [03:15<00:26,  4.35it/s]"
          ]
        },
        {
          "output_type": "stream",
          "name": "stdout",
          "text": [
            "Epoch 883, loss 0.553554356098175\n"
          ]
        },
        {
          "output_type": "stream",
          "name": "stderr",
          "text": [
            "\r 88%|████████▊ | 884/1000 [03:15<00:27,  4.27it/s]"
          ]
        },
        {
          "output_type": "stream",
          "name": "stdout",
          "text": [
            "Epoch 884, loss 0.5535319447517395\n"
          ]
        },
        {
          "output_type": "stream",
          "name": "stderr",
          "text": [
            "\r 88%|████████▊ | 885/1000 [03:16<00:27,  4.19it/s]"
          ]
        },
        {
          "output_type": "stream",
          "name": "stdout",
          "text": [
            "Epoch 885, loss 0.5535155534744263\n"
          ]
        },
        {
          "output_type": "stream",
          "name": "stderr",
          "text": [
            "\r 89%|████████▊ | 886/1000 [03:16<00:26,  4.25it/s]"
          ]
        },
        {
          "output_type": "stream",
          "name": "stdout",
          "text": [
            "Epoch 886, loss 0.5535045862197876\n"
          ]
        },
        {
          "output_type": "stream",
          "name": "stderr",
          "text": [
            "\r 89%|████████▊ | 887/1000 [03:16<00:26,  4.32it/s]"
          ]
        },
        {
          "output_type": "stream",
          "name": "stdout",
          "text": [
            "Epoch 887, loss 0.5534975528717041\n"
          ]
        },
        {
          "output_type": "stream",
          "name": "stderr",
          "text": [
            "\r 89%|████████▉ | 888/1000 [03:16<00:25,  4.34it/s]"
          ]
        },
        {
          "output_type": "stream",
          "name": "stdout",
          "text": [
            "Epoch 888, loss 0.5534927845001221\n"
          ]
        },
        {
          "output_type": "stream",
          "name": "stderr",
          "text": [
            "\r 89%|████████▉ | 889/1000 [03:17<00:25,  4.35it/s]"
          ]
        },
        {
          "output_type": "stream",
          "name": "stdout",
          "text": [
            "Epoch 889, loss 0.5534886717796326\n"
          ]
        },
        {
          "output_type": "stream",
          "name": "stderr",
          "text": [
            "\r 89%|████████▉ | 890/1000 [03:17<00:24,  4.48it/s]"
          ]
        },
        {
          "output_type": "stream",
          "name": "stdout",
          "text": [
            "Epoch 890, loss 0.5534845590591431\n"
          ]
        },
        {
          "output_type": "stream",
          "name": "stderr",
          "text": [
            "\r 89%|████████▉ | 891/1000 [03:17<00:24,  4.51it/s]"
          ]
        },
        {
          "output_type": "stream",
          "name": "stdout",
          "text": [
            "Epoch 891, loss 0.5534795522689819\n"
          ]
        },
        {
          "output_type": "stream",
          "name": "stderr",
          "text": [
            "\r 89%|████████▉ | 892/1000 [03:17<00:24,  4.49it/s]"
          ]
        },
        {
          "output_type": "stream",
          "name": "stdout",
          "text": [
            "Epoch 892, loss 0.553473711013794\n"
          ]
        },
        {
          "output_type": "stream",
          "name": "stderr",
          "text": [
            "\r 89%|████████▉ | 893/1000 [03:17<00:23,  4.47it/s]"
          ]
        },
        {
          "output_type": "stream",
          "name": "stdout",
          "text": [
            "Epoch 893, loss 0.553467333316803\n"
          ]
        },
        {
          "output_type": "stream",
          "name": "stderr",
          "text": [
            "\r 89%|████████▉ | 894/1000 [03:18<00:24,  4.39it/s]"
          ]
        },
        {
          "output_type": "stream",
          "name": "stdout",
          "text": [
            "Epoch 894, loss 0.5534607172012329\n"
          ]
        },
        {
          "output_type": "stream",
          "name": "stderr",
          "text": [
            "\r 90%|████████▉ | 895/1000 [03:18<00:23,  4.53it/s]"
          ]
        },
        {
          "output_type": "stream",
          "name": "stdout",
          "text": [
            "Epoch 895, loss 0.553454577922821\n",
            "Epoch 896, loss 0.5534490346908569\n"
          ]
        },
        {
          "output_type": "stream",
          "name": "stderr",
          "text": [
            " 90%|████████▉ | 897/1000 [03:18<00:22,  4.58it/s]"
          ]
        },
        {
          "output_type": "stream",
          "name": "stdout",
          "text": [
            "Epoch 897, loss 0.5534443855285645\n"
          ]
        },
        {
          "output_type": "stream",
          "name": "stderr",
          "text": [
            "\r 90%|████████▉ | 898/1000 [03:18<00:22,  4.48it/s]"
          ]
        },
        {
          "output_type": "stream",
          "name": "stdout",
          "text": [
            "Epoch 898, loss 0.5534407496452332\n"
          ]
        },
        {
          "output_type": "stream",
          "name": "stderr",
          "text": [
            "\r 90%|████████▉ | 899/1000 [03:19<00:22,  4.57it/s]"
          ]
        },
        {
          "output_type": "stream",
          "name": "stdout",
          "text": [
            "Epoch 899, loss 0.5534378886222839\n"
          ]
        },
        {
          "output_type": "stream",
          "name": "stderr",
          "text": [
            "\r 90%|█████████ | 900/1000 [03:19<00:21,  4.66it/s]"
          ]
        },
        {
          "output_type": "stream",
          "name": "stdout",
          "text": [
            "Epoch 900, loss 0.553435742855072\n"
          ]
        },
        {
          "output_type": "stream",
          "name": "stderr",
          "text": [
            "\r 90%|█████████ | 901/1000 [03:19<00:21,  4.67it/s]"
          ]
        },
        {
          "output_type": "stream",
          "name": "stdout",
          "text": [
            "Epoch 901, loss 0.553433895111084\n"
          ]
        },
        {
          "output_type": "stream",
          "name": "stderr",
          "text": [
            "\r 90%|█████████ | 902/1000 [03:19<00:20,  4.69it/s]"
          ]
        },
        {
          "output_type": "stream",
          "name": "stdout",
          "text": [
            "Epoch 902, loss 0.5534324049949646\n"
          ]
        },
        {
          "output_type": "stream",
          "name": "stderr",
          "text": [
            "\r 90%|█████████ | 903/1000 [03:20<00:21,  4.49it/s]"
          ]
        },
        {
          "output_type": "stream",
          "name": "stdout",
          "text": [
            "Epoch 903, loss 0.5534310340881348\n"
          ]
        },
        {
          "output_type": "stream",
          "name": "stderr",
          "text": [
            "\r 90%|█████████ | 904/1000 [03:20<00:21,  4.56it/s]"
          ]
        },
        {
          "output_type": "stream",
          "name": "stdout",
          "text": [
            "Epoch 904, loss 0.5534296035766602\n",
            "Epoch 905, loss 0.553428053855896\n"
          ]
        },
        {
          "output_type": "stream",
          "name": "stderr",
          "text": [
            " 91%|█████████ | 906/1000 [03:20<00:20,  4.58it/s]"
          ]
        },
        {
          "output_type": "stream",
          "name": "stdout",
          "text": [
            "Epoch 906, loss 0.5534263849258423\n"
          ]
        },
        {
          "output_type": "stream",
          "name": "stderr",
          "text": [
            "\r 91%|█████████ | 907/1000 [03:20<00:20,  4.45it/s]"
          ]
        },
        {
          "output_type": "stream",
          "name": "stdout",
          "text": [
            "Epoch 907, loss 0.5534246563911438\n"
          ]
        },
        {
          "output_type": "stream",
          "name": "stderr",
          "text": [
            "\r 91%|█████████ | 908/1000 [03:21<00:20,  4.49it/s]"
          ]
        },
        {
          "output_type": "stream",
          "name": "stdout",
          "text": [
            "Epoch 908, loss 0.5534228086471558\n"
          ]
        },
        {
          "output_type": "stream",
          "name": "stderr",
          "text": [
            "\r 91%|█████████ | 909/1000 [03:21<00:19,  4.63it/s]"
          ]
        },
        {
          "output_type": "stream",
          "name": "stdout",
          "text": [
            "Epoch 909, loss 0.553421139717102\n"
          ]
        },
        {
          "output_type": "stream",
          "name": "stderr",
          "text": [
            "\r 91%|█████████ | 910/1000 [03:21<00:19,  4.61it/s]"
          ]
        },
        {
          "output_type": "stream",
          "name": "stdout",
          "text": [
            "Epoch 910, loss 0.5534194707870483\n"
          ]
        },
        {
          "output_type": "stream",
          "name": "stderr",
          "text": [
            "\r 91%|█████████ | 911/1000 [03:21<00:19,  4.68it/s]"
          ]
        },
        {
          "output_type": "stream",
          "name": "stdout",
          "text": [
            "Epoch 911, loss 0.5534178614616394\n"
          ]
        },
        {
          "output_type": "stream",
          "name": "stderr",
          "text": [
            "\r 91%|█████████ | 912/1000 [03:22<00:18,  4.77it/s]"
          ]
        },
        {
          "output_type": "stream",
          "name": "stdout",
          "text": [
            "Epoch 912, loss 0.5534165501594543\n",
            "Epoch 913, loss 0.5534152388572693\n"
          ]
        },
        {
          "output_type": "stream",
          "name": "stderr",
          "text": [
            " 91%|█████████▏| 914/1000 [03:22<00:17,  4.83it/s]"
          ]
        },
        {
          "output_type": "stream",
          "name": "stdout",
          "text": [
            "Epoch 914, loss 0.5534141659736633\n",
            "Epoch 915, loss 0.5534132719039917\n"
          ]
        },
        {
          "output_type": "stream",
          "name": "stderr",
          "text": [
            " 92%|█████████▏| 916/1000 [03:22<00:17,  4.72it/s]"
          ]
        },
        {
          "output_type": "stream",
          "name": "stdout",
          "text": [
            "Epoch 916, loss 0.5534123778343201\n",
            "Epoch 917, loss 0.5534115433692932\n"
          ]
        },
        {
          "output_type": "stream",
          "name": "stderr",
          "text": [
            " 92%|█████████▏| 918/1000 [03:23<00:17,  4.79it/s]"
          ]
        },
        {
          "output_type": "stream",
          "name": "stdout",
          "text": [
            "Epoch 918, loss 0.5534107089042664\n",
            "Epoch 919, loss 0.5534099340438843\n"
          ]
        },
        {
          "output_type": "stream",
          "name": "stderr",
          "text": [
            " 92%|█████████▏| 920/1000 [03:23<00:16,  4.73it/s]"
          ]
        },
        {
          "output_type": "stream",
          "name": "stdout",
          "text": [
            "Epoch 920, loss 0.5534090995788574\n"
          ]
        },
        {
          "output_type": "stream",
          "name": "stderr",
          "text": [
            "\r 92%|█████████▏| 921/1000 [03:23<00:16,  4.73it/s]"
          ]
        },
        {
          "output_type": "stream",
          "name": "stdout",
          "text": [
            "Epoch 921, loss 0.5534083843231201\n",
            "Epoch 922, loss 0.5534075498580933\n"
          ]
        },
        {
          "output_type": "stream",
          "name": "stderr",
          "text": [
            " 92%|█████████▏| 923/1000 [03:24<00:17,  4.43it/s]"
          ]
        },
        {
          "output_type": "stream",
          "name": "stdout",
          "text": [
            "Epoch 923, loss 0.5534067749977112\n"
          ]
        },
        {
          "output_type": "stream",
          "name": "stderr",
          "text": [
            "\r 92%|█████████▏| 924/1000 [03:24<00:17,  4.40it/s]"
          ]
        },
        {
          "output_type": "stream",
          "name": "stdout",
          "text": [
            "Epoch 924, loss 0.5534059405326843\n"
          ]
        },
        {
          "output_type": "stream",
          "name": "stderr",
          "text": [
            "\r 92%|█████████▎| 925/1000 [03:24<00:16,  4.55it/s]"
          ]
        },
        {
          "output_type": "stream",
          "name": "stdout",
          "text": [
            "Epoch 925, loss 0.5534051656723022\n",
            "Epoch 926, loss 0.5534043908119202\n"
          ]
        },
        {
          "output_type": "stream",
          "name": "stderr",
          "text": [
            " 93%|█████████▎| 927/1000 [03:25<00:15,  4.64it/s]"
          ]
        },
        {
          "output_type": "stream",
          "name": "stdout",
          "text": [
            "Epoch 927, loss 0.5534036159515381\n"
          ]
        },
        {
          "output_type": "stream",
          "name": "stderr",
          "text": [
            "\r 93%|█████████▎| 928/1000 [03:25<00:15,  4.63it/s]"
          ]
        },
        {
          "output_type": "stream",
          "name": "stdout",
          "text": [
            "Epoch 928, loss 0.5534029006958008\n"
          ]
        },
        {
          "output_type": "stream",
          "name": "stderr",
          "text": [
            "\r 93%|█████████▎| 929/1000 [03:25<00:15,  4.62it/s]"
          ]
        },
        {
          "output_type": "stream",
          "name": "stdout",
          "text": [
            "Epoch 929, loss 0.5534022450447083\n",
            "Epoch 930, loss 0.5534015893936157\n"
          ]
        },
        {
          "output_type": "stream",
          "name": "stderr",
          "text": [
            " 93%|█████████▎| 931/1000 [03:26<00:14,  4.63it/s]"
          ]
        },
        {
          "output_type": "stream",
          "name": "stdout",
          "text": [
            "Epoch 931, loss 0.553400993347168\n"
          ]
        },
        {
          "output_type": "stream",
          "name": "stderr",
          "text": [
            "\r 93%|█████████▎| 932/1000 [03:26<00:15,  4.46it/s]"
          ]
        },
        {
          "output_type": "stream",
          "name": "stdout",
          "text": [
            "Epoch 932, loss 0.5534002780914307\n"
          ]
        },
        {
          "output_type": "stream",
          "name": "stderr",
          "text": [
            "\r 93%|█████████▎| 933/1000 [03:26<00:14,  4.48it/s]"
          ]
        },
        {
          "output_type": "stream",
          "name": "stdout",
          "text": [
            "Epoch 933, loss 0.5533996820449829\n"
          ]
        },
        {
          "output_type": "stream",
          "name": "stderr",
          "text": [
            "\r 93%|█████████▎| 934/1000 [03:26<00:14,  4.59it/s]"
          ]
        },
        {
          "output_type": "stream",
          "name": "stdout",
          "text": [
            "Epoch 934, loss 0.5533990859985352\n"
          ]
        },
        {
          "output_type": "stream",
          "name": "stderr",
          "text": [
            "\r 94%|█████████▎| 935/1000 [03:27<00:14,  4.55it/s]"
          ]
        },
        {
          "output_type": "stream",
          "name": "stdout",
          "text": [
            "Epoch 935, loss 0.5533985495567322\n"
          ]
        },
        {
          "output_type": "stream",
          "name": "stderr",
          "text": [
            "\r 94%|█████████▎| 936/1000 [03:27<00:14,  4.43it/s]"
          ]
        },
        {
          "output_type": "stream",
          "name": "stdout",
          "text": [
            "Epoch 936, loss 0.5533979535102844\n"
          ]
        },
        {
          "output_type": "stream",
          "name": "stderr",
          "text": [
            "\r 94%|█████████▎| 937/1000 [03:27<00:14,  4.26it/s]"
          ]
        },
        {
          "output_type": "stream",
          "name": "stdout",
          "text": [
            "Epoch 937, loss 0.5533973574638367\n"
          ]
        },
        {
          "output_type": "stream",
          "name": "stderr",
          "text": [
            "\r 94%|█████████▍| 938/1000 [03:27<00:14,  4.22it/s]"
          ]
        },
        {
          "output_type": "stream",
          "name": "stdout",
          "text": [
            "Epoch 938, loss 0.5533967614173889\n"
          ]
        },
        {
          "output_type": "stream",
          "name": "stderr",
          "text": [
            "\r 94%|█████████▍| 939/1000 [03:27<00:14,  4.28it/s]"
          ]
        },
        {
          "output_type": "stream",
          "name": "stdout",
          "text": [
            "Epoch 939, loss 0.5533962249755859\n"
          ]
        },
        {
          "output_type": "stream",
          "name": "stderr",
          "text": [
            "\r 94%|█████████▍| 940/1000 [03:28<00:13,  4.33it/s]"
          ]
        },
        {
          "output_type": "stream",
          "name": "stdout",
          "text": [
            "Epoch 940, loss 0.553395688533783\n"
          ]
        },
        {
          "output_type": "stream",
          "name": "stderr",
          "text": [
            "\r 94%|█████████▍| 941/1000 [03:28<00:14,  4.17it/s]"
          ]
        },
        {
          "output_type": "stream",
          "name": "stdout",
          "text": [
            "Epoch 941, loss 0.55339515209198\n"
          ]
        },
        {
          "output_type": "stream",
          "name": "stderr",
          "text": [
            "\r 94%|█████████▍| 942/1000 [03:28<00:13,  4.19it/s]"
          ]
        },
        {
          "output_type": "stream",
          "name": "stdout",
          "text": [
            "Epoch 942, loss 0.553394615650177\n"
          ]
        },
        {
          "output_type": "stream",
          "name": "stderr",
          "text": [
            "\r 94%|█████████▍| 943/1000 [03:28<00:13,  4.23it/s]"
          ]
        },
        {
          "output_type": "stream",
          "name": "stdout",
          "text": [
            "Epoch 943, loss 0.5533940196037292\n"
          ]
        },
        {
          "output_type": "stream",
          "name": "stderr",
          "text": [
            "\r 94%|█████████▍| 944/1000 [03:29<00:13,  4.20it/s]"
          ]
        },
        {
          "output_type": "stream",
          "name": "stdout",
          "text": [
            "Epoch 944, loss 0.5533936023712158\n"
          ]
        },
        {
          "output_type": "stream",
          "name": "stderr",
          "text": [
            "\r 94%|█████████▍| 945/1000 [03:29<00:13,  4.22it/s]"
          ]
        },
        {
          "output_type": "stream",
          "name": "stdout",
          "text": [
            "Epoch 945, loss 0.5533930063247681\n"
          ]
        },
        {
          "output_type": "stream",
          "name": "stderr",
          "text": [
            "\r 95%|█████████▍| 946/1000 [03:29<00:12,  4.26it/s]"
          ]
        },
        {
          "output_type": "stream",
          "name": "stdout",
          "text": [
            "Epoch 946, loss 0.5533924698829651\n"
          ]
        },
        {
          "output_type": "stream",
          "name": "stderr",
          "text": [
            "\r 95%|█████████▍| 947/1000 [03:29<00:12,  4.29it/s]"
          ]
        },
        {
          "output_type": "stream",
          "name": "stdout",
          "text": [
            "Epoch 947, loss 0.5533919930458069\n"
          ]
        },
        {
          "output_type": "stream",
          "name": "stderr",
          "text": [
            "\r 95%|█████████▍| 948/1000 [03:30<00:11,  4.36it/s]"
          ]
        },
        {
          "output_type": "stream",
          "name": "stdout",
          "text": [
            "Epoch 948, loss 0.5533914566040039\n"
          ]
        },
        {
          "output_type": "stream",
          "name": "stderr",
          "text": [
            "\r 95%|█████████▍| 949/1000 [03:30<00:11,  4.50it/s]"
          ]
        },
        {
          "output_type": "stream",
          "name": "stdout",
          "text": [
            "Epoch 949, loss 0.5533910393714905\n"
          ]
        },
        {
          "output_type": "stream",
          "name": "stderr",
          "text": [
            "\r 95%|█████████▌| 950/1000 [03:30<00:11,  4.48it/s]"
          ]
        },
        {
          "output_type": "stream",
          "name": "stdout",
          "text": [
            "Epoch 950, loss 0.5533905625343323\n"
          ]
        },
        {
          "output_type": "stream",
          "name": "stderr",
          "text": [
            "\r 95%|█████████▌| 951/1000 [03:30<00:11,  4.43it/s]"
          ]
        },
        {
          "output_type": "stream",
          "name": "stdout",
          "text": [
            "Epoch 951, loss 0.5533901453018188\n"
          ]
        },
        {
          "output_type": "stream",
          "name": "stderr",
          "text": [
            "\r 95%|█████████▌| 952/1000 [03:30<00:10,  4.56it/s]"
          ]
        },
        {
          "output_type": "stream",
          "name": "stdout",
          "text": [
            "Epoch 952, loss 0.5533896088600159\n"
          ]
        },
        {
          "output_type": "stream",
          "name": "stderr",
          "text": [
            "\r 95%|█████████▌| 953/1000 [03:31<00:10,  4.66it/s]"
          ]
        },
        {
          "output_type": "stream",
          "name": "stdout",
          "text": [
            "Epoch 953, loss 0.5533891320228577\n"
          ]
        },
        {
          "output_type": "stream",
          "name": "stderr",
          "text": [
            "\r 95%|█████████▌| 954/1000 [03:31<00:10,  4.50it/s]"
          ]
        },
        {
          "output_type": "stream",
          "name": "stdout",
          "text": [
            "Epoch 954, loss 0.5533887147903442\n"
          ]
        },
        {
          "output_type": "stream",
          "name": "stderr",
          "text": [
            "\r 96%|█████████▌| 955/1000 [03:31<00:09,  4.53it/s]"
          ]
        },
        {
          "output_type": "stream",
          "name": "stdout",
          "text": [
            "Epoch 955, loss 0.5533882975578308\n"
          ]
        },
        {
          "output_type": "stream",
          "name": "stderr",
          "text": [
            "\r 96%|█████████▌| 956/1000 [03:31<00:09,  4.51it/s]"
          ]
        },
        {
          "output_type": "stream",
          "name": "stdout",
          "text": [
            "Epoch 956, loss 0.5533878803253174\n"
          ]
        },
        {
          "output_type": "stream",
          "name": "stderr",
          "text": [
            "\r 96%|█████████▌| 957/1000 [03:32<00:09,  4.58it/s]"
          ]
        },
        {
          "output_type": "stream",
          "name": "stdout",
          "text": [
            "Epoch 957, loss 0.5533874034881592\n"
          ]
        },
        {
          "output_type": "stream",
          "name": "stderr",
          "text": [
            "\r 96%|█████████▌| 958/1000 [03:32<00:09,  4.56it/s]"
          ]
        },
        {
          "output_type": "stream",
          "name": "stdout",
          "text": [
            "Epoch 958, loss 0.553386926651001\n"
          ]
        },
        {
          "output_type": "stream",
          "name": "stderr",
          "text": [
            "\r 96%|█████████▌| 959/1000 [03:32<00:08,  4.57it/s]"
          ]
        },
        {
          "output_type": "stream",
          "name": "stdout",
          "text": [
            "Epoch 959, loss 0.5533865690231323\n"
          ]
        },
        {
          "output_type": "stream",
          "name": "stderr",
          "text": [
            "\r 96%|█████████▌| 960/1000 [03:32<00:08,  4.51it/s]"
          ]
        },
        {
          "output_type": "stream",
          "name": "stdout",
          "text": [
            "Epoch 960, loss 0.5533861517906189\n"
          ]
        },
        {
          "output_type": "stream",
          "name": "stderr",
          "text": [
            "\r 96%|█████████▌| 961/1000 [03:32<00:08,  4.41it/s]"
          ]
        },
        {
          "output_type": "stream",
          "name": "stdout",
          "text": [
            "Epoch 961, loss 0.5533856153488159\n"
          ]
        },
        {
          "output_type": "stream",
          "name": "stderr",
          "text": [
            "\r 96%|█████████▌| 962/1000 [03:33<00:08,  4.33it/s]"
          ]
        },
        {
          "output_type": "stream",
          "name": "stdout",
          "text": [
            "Epoch 962, loss 0.553385317325592\n"
          ]
        },
        {
          "output_type": "stream",
          "name": "stderr",
          "text": [
            "\r 96%|█████████▋| 963/1000 [03:33<00:08,  4.45it/s]"
          ]
        },
        {
          "output_type": "stream",
          "name": "stdout",
          "text": [
            "Epoch 963, loss 0.5533848404884338\n"
          ]
        },
        {
          "output_type": "stream",
          "name": "stderr",
          "text": [
            "\r 96%|█████████▋| 964/1000 [03:33<00:07,  4.58it/s]"
          ]
        },
        {
          "output_type": "stream",
          "name": "stdout",
          "text": [
            "Epoch 964, loss 0.5533844828605652\n",
            "Epoch 965, loss 0.5533840656280518\n"
          ]
        },
        {
          "output_type": "stream",
          "name": "stderr",
          "text": [
            " 97%|█████████▋| 966/1000 [03:34<00:07,  4.45it/s]"
          ]
        },
        {
          "output_type": "stream",
          "name": "stdout",
          "text": [
            "Epoch 966, loss 0.5533837080001831\n"
          ]
        },
        {
          "output_type": "stream",
          "name": "stderr",
          "text": [
            "\r 97%|█████████▋| 967/1000 [03:34<00:07,  4.57it/s]"
          ]
        },
        {
          "output_type": "stream",
          "name": "stdout",
          "text": [
            "Epoch 967, loss 0.5533832311630249\n"
          ]
        },
        {
          "output_type": "stream",
          "name": "stderr",
          "text": [
            "\r 97%|█████████▋| 968/1000 [03:34<00:06,  4.60it/s]"
          ]
        },
        {
          "output_type": "stream",
          "name": "stdout",
          "text": [
            "Epoch 968, loss 0.5533828735351562\n"
          ]
        },
        {
          "output_type": "stream",
          "name": "stderr",
          "text": [
            "\r 97%|█████████▋| 969/1000 [03:34<00:06,  4.56it/s]"
          ]
        },
        {
          "output_type": "stream",
          "name": "stdout",
          "text": [
            "Epoch 969, loss 0.5533825159072876\n"
          ]
        },
        {
          "output_type": "stream",
          "name": "stderr",
          "text": [
            "\r 97%|█████████▋| 970/1000 [03:34<00:06,  4.44it/s]"
          ]
        },
        {
          "output_type": "stream",
          "name": "stdout",
          "text": [
            "Epoch 970, loss 0.553382158279419\n"
          ]
        },
        {
          "output_type": "stream",
          "name": "stderr",
          "text": [
            "\r 97%|█████████▋| 971/1000 [03:35<00:06,  4.46it/s]"
          ]
        },
        {
          "output_type": "stream",
          "name": "stdout",
          "text": [
            "Epoch 971, loss 0.5533817410469055\n"
          ]
        },
        {
          "output_type": "stream",
          "name": "stderr",
          "text": [
            "\r 97%|█████████▋| 972/1000 [03:35<00:06,  4.48it/s]"
          ]
        },
        {
          "output_type": "stream",
          "name": "stdout",
          "text": [
            "Epoch 972, loss 0.5533813834190369\n"
          ]
        },
        {
          "output_type": "stream",
          "name": "stderr",
          "text": [
            "\r 97%|█████████▋| 973/1000 [03:35<00:05,  4.55it/s]"
          ]
        },
        {
          "output_type": "stream",
          "name": "stdout",
          "text": [
            "Epoch 973, loss 0.5533809661865234\n"
          ]
        },
        {
          "output_type": "stream",
          "name": "stderr",
          "text": [
            "\r 97%|█████████▋| 974/1000 [03:35<00:05,  4.55it/s]"
          ]
        },
        {
          "output_type": "stream",
          "name": "stdout",
          "text": [
            "Epoch 974, loss 0.5533806085586548\n"
          ]
        },
        {
          "output_type": "stream",
          "name": "stderr",
          "text": [
            "\r 98%|█████████▊| 975/1000 [03:36<00:05,  4.45it/s]"
          ]
        },
        {
          "output_type": "stream",
          "name": "stdout",
          "text": [
            "Epoch 975, loss 0.5533803105354309\n"
          ]
        },
        {
          "output_type": "stream",
          "name": "stderr",
          "text": [
            "\r 98%|█████████▊| 976/1000 [03:36<00:05,  4.51it/s]"
          ]
        },
        {
          "output_type": "stream",
          "name": "stdout",
          "text": [
            "Epoch 976, loss 0.5533798933029175\n",
            "Epoch 977, loss 0.5533795952796936\n"
          ]
        },
        {
          "output_type": "stream",
          "name": "stderr",
          "text": [
            " 98%|█████████▊| 978/1000 [03:36<00:04,  4.48it/s]"
          ]
        },
        {
          "output_type": "stream",
          "name": "stdout",
          "text": [
            "Epoch 978, loss 0.553379237651825\n"
          ]
        },
        {
          "output_type": "stream",
          "name": "stderr",
          "text": [
            "\r 98%|█████████▊| 979/1000 [03:36<00:04,  4.52it/s]"
          ]
        },
        {
          "output_type": "stream",
          "name": "stdout",
          "text": [
            "Epoch 979, loss 0.5533789396286011\n"
          ]
        },
        {
          "output_type": "stream",
          "name": "stderr",
          "text": [
            "\r 98%|█████████▊| 980/1000 [03:37<00:04,  4.38it/s]"
          ]
        },
        {
          "output_type": "stream",
          "name": "stdout",
          "text": [
            "Epoch 980, loss 0.5533785223960876\n"
          ]
        },
        {
          "output_type": "stream",
          "name": "stderr",
          "text": [
            "\r 98%|█████████▊| 981/1000 [03:37<00:04,  4.46it/s]"
          ]
        },
        {
          "output_type": "stream",
          "name": "stdout",
          "text": [
            "Epoch 981, loss 0.553378164768219\n"
          ]
        },
        {
          "output_type": "stream",
          "name": "stderr",
          "text": [
            "\r 98%|█████████▊| 982/1000 [03:37<00:04,  4.37it/s]"
          ]
        },
        {
          "output_type": "stream",
          "name": "stdout",
          "text": [
            "Epoch 982, loss 0.5533779263496399\n"
          ]
        },
        {
          "output_type": "stream",
          "name": "stderr",
          "text": [
            "\r 98%|█████████▊| 983/1000 [03:37<00:03,  4.53it/s]"
          ]
        },
        {
          "output_type": "stream",
          "name": "stdout",
          "text": [
            "Epoch 983, loss 0.5533775091171265\n"
          ]
        },
        {
          "output_type": "stream",
          "name": "stderr",
          "text": [
            "\r 98%|█████████▊| 984/1000 [03:38<00:03,  4.36it/s]"
          ]
        },
        {
          "output_type": "stream",
          "name": "stdout",
          "text": [
            "Epoch 984, loss 0.5533772706985474\n"
          ]
        },
        {
          "output_type": "stream",
          "name": "stderr",
          "text": [
            "\r 98%|█████████▊| 985/1000 [03:38<00:03,  4.42it/s]"
          ]
        },
        {
          "output_type": "stream",
          "name": "stdout",
          "text": [
            "Epoch 985, loss 0.5533769130706787\n"
          ]
        },
        {
          "output_type": "stream",
          "name": "stderr",
          "text": [
            "\r 99%|█████████▊| 986/1000 [03:38<00:03,  4.61it/s]"
          ]
        },
        {
          "output_type": "stream",
          "name": "stdout",
          "text": [
            "Epoch 986, loss 0.5533765554428101\n"
          ]
        },
        {
          "output_type": "stream",
          "name": "stderr",
          "text": [
            "\r 99%|█████████▊| 987/1000 [03:38<00:02,  4.62it/s]"
          ]
        },
        {
          "output_type": "stream",
          "name": "stdout",
          "text": [
            "Epoch 987, loss 0.5533762574195862\n"
          ]
        },
        {
          "output_type": "stream",
          "name": "stderr",
          "text": [
            "\r 99%|█████████▉| 988/1000 [03:38<00:02,  4.64it/s]"
          ]
        },
        {
          "output_type": "stream",
          "name": "stdout",
          "text": [
            "Epoch 988, loss 0.5533759593963623\n"
          ]
        },
        {
          "output_type": "stream",
          "name": "stderr",
          "text": [
            "\r 99%|█████████▉| 989/1000 [03:39<00:02,  4.70it/s]"
          ]
        },
        {
          "output_type": "stream",
          "name": "stdout",
          "text": [
            "Epoch 989, loss 0.5533756613731384\n",
            "Epoch 990, loss 0.5533753037452698\n"
          ]
        },
        {
          "output_type": "stream",
          "name": "stderr",
          "text": [
            " 99%|█████████▉| 991/1000 [03:39<00:02,  4.48it/s]"
          ]
        },
        {
          "output_type": "stream",
          "name": "stdout",
          "text": [
            "Epoch 991, loss 0.5533750057220459\n"
          ]
        },
        {
          "output_type": "stream",
          "name": "stderr",
          "text": [
            "\r 99%|█████████▉| 992/1000 [03:39<00:01,  4.48it/s]"
          ]
        },
        {
          "output_type": "stream",
          "name": "stdout",
          "text": [
            "Epoch 992, loss 0.553374707698822\n"
          ]
        },
        {
          "output_type": "stream",
          "name": "stderr",
          "text": [
            "\r 99%|█████████▉| 993/1000 [03:40<00:01,  4.50it/s]"
          ]
        },
        {
          "output_type": "stream",
          "name": "stdout",
          "text": [
            "Epoch 993, loss 0.5533744692802429\n"
          ]
        },
        {
          "output_type": "stream",
          "name": "stderr",
          "text": [
            "\r 99%|█████████▉| 994/1000 [03:40<00:01,  4.35it/s]"
          ]
        },
        {
          "output_type": "stream",
          "name": "stdout",
          "text": [
            "Epoch 994, loss 0.5533741116523743\n"
          ]
        },
        {
          "output_type": "stream",
          "name": "stderr",
          "text": [
            "\r100%|█████████▉| 995/1000 [03:40<00:01,  4.34it/s]"
          ]
        },
        {
          "output_type": "stream",
          "name": "stdout",
          "text": [
            "Epoch 995, loss 0.5533738136291504\n"
          ]
        },
        {
          "output_type": "stream",
          "name": "stderr",
          "text": [
            "\r100%|█████████▉| 996/1000 [03:40<00:00,  4.40it/s]"
          ]
        },
        {
          "output_type": "stream",
          "name": "stdout",
          "text": [
            "Epoch 996, loss 0.5533735156059265\n"
          ]
        },
        {
          "output_type": "stream",
          "name": "stderr",
          "text": [
            "\r100%|█████████▉| 997/1000 [03:40<00:00,  4.38it/s]"
          ]
        },
        {
          "output_type": "stream",
          "name": "stdout",
          "text": [
            "Epoch 997, loss 0.5533732771873474\n"
          ]
        },
        {
          "output_type": "stream",
          "name": "stderr",
          "text": [
            "\r100%|█████████▉| 998/1000 [03:41<00:00,  4.34it/s]"
          ]
        },
        {
          "output_type": "stream",
          "name": "stdout",
          "text": [
            "Epoch 998, loss 0.5533729791641235\n"
          ]
        },
        {
          "output_type": "stream",
          "name": "stderr",
          "text": [
            "\r100%|█████████▉| 999/1000 [03:41<00:00,  4.37it/s]"
          ]
        },
        {
          "output_type": "stream",
          "name": "stdout",
          "text": [
            "Epoch 999, loss 0.5533726215362549\n"
          ]
        },
        {
          "output_type": "stream",
          "name": "stderr",
          "text": [
            "100%|██████████| 1000/1000 [03:41<00:00,  4.51it/s]"
          ]
        },
        {
          "output_type": "stream",
          "name": "stdout",
          "text": [
            "Epoch 1000, loss 0.5533723831176758\n"
          ]
        },
        {
          "output_type": "stream",
          "name": "stderr",
          "text": [
            "\n"
          ]
        }
      ]
    },
    {
      "cell_type": "code",
      "source": [
        "def calculate_accuracy(predictions, targets):\n",
        "    \"\"\"\n",
        "    Calculate the accuracy for multi-class classification.\n",
        "\n",
        "    Args:\n",
        "    predictions (torch.Tensor): The model predictions (logits or probabilities) with shape (batch_size, num_classes).\n",
        "    targets (torch.Tensor): The true labels with shape (batch_size).\n",
        "\n",
        "    Returns:\n",
        "    float: The accuracy as a percentage.\n",
        "    \"\"\"\n",
        "    # Get the predicted class by finding the index of the maximum value in each row\n",
        "    predicted_classes = torch.argmax(predictions, dim=1)\n",
        "\n",
        "    # Calculate the number of correct predictions\n",
        "    correct_predictions = (predicted_classes == targets).sum().item()\n",
        "\n",
        "    # Calculate the accuracy\n",
        "    accuracy = correct_predictions / targets.size(0) * 100.0\n",
        "\n",
        "    return accuracy\n",
        "\n",
        "# Example usage\n",
        "# Assuming batch_size = 5, num_classes = 3\n"
      ],
      "metadata": {
        "id": "ehTyEYuQCb5_"
      },
      "execution_count": 116,
      "outputs": []
    },
    {
      "cell_type": "markdown",
      "source": [
        "## Test accuracy"
      ],
      "metadata": {
        "id": "2IqtmI2YHzWY"
      }
    },
    {
      "cell_type": "code",
      "source": [
        "calculate_accuracy(acn(X_test), y_test)"
      ],
      "metadata": {
        "colab": {
          "base_uri": "https://localhost:8080/"
        },
        "id": "LizfeuMsCm1l",
        "outputId": "80963735-669c-44a4-9ad4-39e16c3f2f44"
      },
      "execution_count": 117,
      "outputs": [
        {
          "output_type": "execute_result",
          "data": {
            "text/plain": [
              "85.24590163934425"
            ]
          },
          "metadata": {},
          "execution_count": 117
        }
      ]
    },
    {
      "cell_type": "markdown",
      "source": [
        "## Train accuracy"
      ],
      "metadata": {
        "id": "k84R5t4ZH06J"
      }
    },
    {
      "cell_type": "code",
      "source": [
        "calculate_accuracy(acn(X_train), y_train)"
      ],
      "metadata": {
        "colab": {
          "base_uri": "https://localhost:8080/"
        },
        "id": "eXruXyjnCqKi",
        "outputId": "61b0eac6-f3bc-4904-912f-df00b50b9dde"
      },
      "execution_count": 118,
      "outputs": [
        {
          "output_type": "execute_result",
          "data": {
            "text/plain": [
              "99.81785063752277"
            ]
          },
          "metadata": {},
          "execution_count": 118
        }
      ]
    },
    {
      "cell_type": "code",
      "source": [],
      "metadata": {
        "id": "OGF7KrXWDB5J"
      },
      "execution_count": 118,
      "outputs": []
    }
  ]
}